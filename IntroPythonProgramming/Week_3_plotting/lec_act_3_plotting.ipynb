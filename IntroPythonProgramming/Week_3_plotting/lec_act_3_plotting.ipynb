{
 "cells": [
  {
   "cell_type": "code",
   "execution_count": null,
   "metadata": {
    "deletable": false,
    "editable": false
   },
   "outputs": [],
   "source": [
    "# Initialize Otter\n",
    "import otter\n",
    "grader = otter.Notebook(\"lec_act_3_plotting.ipynb\")"
   ]
  },
  {
   "cell_type": "markdown",
   "metadata": {},
   "source": [
    "# Lecture goals\n",
    "\n",
    "1. Understand the difference between a figure/window and a plotting area/subplot/axes\n",
    "2. Be able to create a figure with subplots in it\n",
    "3. Plot something in the subplot and label it\n",
    "4. Pass parameters to functions by both position and name\n",
    "\n",
    "Note: To see what the correct result should look like, see slides https://docs.google.com/presentation/d/1IiGGUNet-4Nj07x2cTXU6IOYXy9TSdAF5OUWCCKIYEM/edit?usp=sharing\n"
   ]
  },
  {
   "cell_type": "code",
   "execution_count": null,
   "metadata": {},
   "outputs": [],
   "source": [
    "# Install a pip package in the current Jupyter kernel\n",
    "# Note: this is a safety check in case your JN install was not in the same place as your libraries\n",
    "import sys\n",
    "!{sys.executable} -m pip install matplotlib"
   ]
  },
  {
   "cell_type": "code",
   "execution_count": null,
   "metadata": {},
   "outputs": [],
   "source": [
    "# Access all numpy functions as np.\n",
    "import numpy as np\n",
    "\n",
    "# Everything matplotlib-y will be plt.\n",
    "import matplotlib.pyplot as plt\n",
    "%matplotlib inline\n"
   ]
  },
  {
   "cell_type": "markdown",
   "metadata": {},
   "source": [
    "# Practice plotting data\n",
    "\n",
    "You're going to make two plots, one with the sine/cosine (like the tutorial), and a second \"fun\" plot. See Slides https://docs.google.com/presentation/d/1IiGGUNet-4Nj07x2cTXU6IOYXy9TSdAF5OUWCCKIYEM/edit?usp=sharing for what the first plot looks like (and a very boring plot for the second one)"
   ]
  },
  {
   "cell_type": "markdown",
   "metadata": {},
   "source": [
    "## Make circle data\n",
    "\n",
    "Plot a cosine, sine, and then a circle, but also practice creating and putting data in a numpy array and getting it back out again. And yet more practice with functions.\n",
    "\n",
    "TODO: Make a 3 x n matrix that has t values in the first row, cos(t) values in the second row, and sin(t) values in the third row"
   ]
  },
  {
   "cell_type": "code",
   "execution_count": null,
   "metadata": {
    "tags": []
   },
   "outputs": [],
   "source": [
    "# TODO Write a function that takes in how many samples to create, and outputs a 3xn_samples matrix\n",
    "#  with t-values in the first row, cos(t) in the second row, and sin(t) in the third\n",
    "#  The t samples should go from 0 to 2 pi\n",
    "#\n",
    "# If you're stuck\n",
    "#   1a) Look at the tutorial for making t and cos(t) values\n",
    "#   1b) Do it first NOT in a function\n",
    "#   2a) Make a 3xn_samples array using np.zeros\n",
    "#   2b) Fill in each row in turn\n",
    "\n",
    "\n"
   ]
  },
  {
   "cell_type": "code",
   "execution_count": null,
   "metadata": {
    "tags": []
   },
   "outputs": [],
   "source": [
    "# TODO Now call that function to create the data. \n",
    "\n",
    "n_samples = 4\n",
    "\n",
    "# TODO Call your function here. Make sure to use n_samples and put the data in my_sortofa_circle_data\n",
    "my_sortofa_circle_data = ...   \n"
   ]
  },
  {
   "cell_type": "code",
   "execution_count": null,
   "metadata": {
    "tags": []
   },
   "outputs": [],
   "source": [
    "# TODO: Write a function that creates the three plots\n",
    "def plot_one_row(axs, data):\n",
    "    \"\"\" Plot cosine, sine, circle. See slides for what this should look like\n",
    "    @param axs the axes for the row (created by matplotlib)\n",
    "    @param data - the data you created in the make_circle_data method\n",
    "    @returns: nothing\"\"\"\n",
    "\n",
    "    ..."
   ]
  },
  {
   "cell_type": "code",
   "execution_count": null,
   "metadata": {
    "tags": []
   },
   "outputs": [],
   "source": [
    "# TODO 1) Create two sets of data, one with a small number of samples (< 10) and the other with more samples (> 20)\n",
    "#   Do this by calling your function for making data\n",
    "\n",
    "\n",
    "# TODO Call your function here; use the names given\n",
    "my_lowdim_data = ...\n",
    "my_highdim_data = ...\n",
    "\n",
    "# TODO: Use subplots to make a 2 x 3 sized set of plots\n",
    "#   Plot the low dimensional data in the top row, the high dimensional data in the bottom row\n",
    "#   you must use your plot function for full credit\n",
    "\n",
    "\n",
    "# TODO Call subplots to make fig and axs, then call your plot function. \n",
    "#    axs should have size 2x3 (2 rows, 3 columns)\n",
    "fig, axs = ...\n"
   ]
  },
  {
   "cell_type": "code",
   "execution_count": null,
   "metadata": {
    "deletable": false,
    "editable": false
   },
   "outputs": [],
   "source": [
    "grader.check(\"plot_circle\")"
   ]
  },
  {
   "cell_type": "markdown",
   "metadata": {
    "deletable": false,
    "editable": false
   },
   "source": [
    "## Plot something fun\n",
    "\n",
    "TODO: Create a plot of a shape. Use a couple colors. Add text in the plot somewhere using text (see https://matplotlib.org/stable/api/_as_gen/matplotlib.axes.Axes.text.html#matplotlib.axes.Axes.text). Use markers and lines.\n"
   ]
  },
  {
   "cell_type": "code",
   "execution_count": null,
   "metadata": {
    "tags": []
   },
   "outputs": [],
   "source": [
    "fig2, axs2 = plt.subplots(1, 1)\n"
   ]
  },
  {
   "cell_type": "code",
   "execution_count": null,
   "metadata": {
    "deletable": false,
    "editable": false
   },
   "outputs": [],
   "source": [
    "grader.check(\"fun_shape\")"
   ]
  },
  {
   "cell_type": "markdown",
   "metadata": {
    "deletable": false,
    "editable": false
   },
   "source": [
    "## Hours and collaborators\n",
    "Required for every assignment - fill out before you hand-in.\n",
    "\n",
    "Listing names and websites helps you to document who you worked with and what internet help you received in the case of any plagiarism issues. You should list names of anyone (in class or not) who has substantially helped you with an assignment - or anyone you have *helped*. You do not need to list TAs.\n",
    "\n",
    "Listing hours helps us track if the assignments are too long."
   ]
  },
  {
   "cell_type": "code",
   "execution_count": null,
   "metadata": {
    "tags": []
   },
   "outputs": [],
   "source": [
    "\n",
    "# List of names (creates a set)\n",
    "worked_with_names = {\"not filled out\"}\n",
    "# List of URLS I25 (creates a set)\n",
    "websites = {\"not filled out\"}\n",
    "# Approximate number of hours, including lab/in-class time\n",
    "hours = -1.5"
   ]
  },
  {
   "cell_type": "code",
   "execution_count": null,
   "metadata": {
    "deletable": false,
    "editable": false
   },
   "outputs": [],
   "source": [
    "grader.check(\"hours_collaborators\")"
   ]
  },
  {
   "cell_type": "markdown",
   "metadata": {},
   "source": [
    "### To submit\n",
    "\n",
    "- Do a restart then run all to make sure everything runs ok\n",
    "- Save the file\n",
    "- Submit just this .ipynb file through gradescope, Lecture activity 3, plotting\n",
    "- You do NOT need to submit the data files - we will supply those\n",
    "- Where there are given variable/file names (eg, foo = ...) DON'T change those, or the autograder will fail\n",
    "\n",
    "If the Gradescope autograder fails, please check here first for common reasons for it to fail\n",
    "    https://docs.google.com/presentation/d/1tYa5oycUiG4YhXUq5vHvPOpWJ4k_xUPp2rUNIL7Q9RI/edit?usp=sharing\n",
    "\n",
    "Most likely failure for this assignment is not naming the data directory and files correctly; capitalization matters for the Gradescope grader. \n",
    "\n",
    "Second most likely cause for failure is reading in any file but ./Data/Wrist_torque_data.csv \n",
    "\n",
    "RUN YOUR FILE AND SAVE SO THE PLOTS SHOW"
   ]
  }
 ],
 "metadata": {
  "kernelspec": {
   "display_name": "base",
   "language": "python",
   "name": "python3"
  },
  "language_info": {
   "codemirror_mode": {
    "name": "ipython",
    "version": 3
   },
   "file_extension": ".py",
   "mimetype": "text/x-python",
   "name": "python",
   "nbconvert_exporter": "python",
   "pygments_lexer": "ipython3",
   "version": "3.12.4"
  },
  "otter": {
   "OK_FORMAT": true,
   "tests": {
    "fun_shape": {
     "name": "fun_shape",
     "points": 1,
     "suites": [
      {
       "cases": [
        {
         "code": ">>> assert not axs2.get_title() == ''\n",
         "hidden": false,
         "locked": false
        },
        {
         "code": ">>> assert axs2.lines[0]\n",
         "hidden": false,
         "locked": false
        }
       ],
       "scored": true,
       "setup": "",
       "teardown": "",
       "type": "doctest"
      }
     ]
    },
    "hours_collaborators": {
     "name": "hours_collaborators",
     "points": 1,
     "suites": [
      {
       "cases": [
        {
         "code": ">>> assert not 'not filled out' in worked_with_names\n",
         "hidden": false,
         "locked": false
        },
        {
         "code": ">>> assert not 'not filled out' in websites\n",
         "hidden": false,
         "locked": false
        },
        {
         "code": ">>> assert hours > 0\n",
         "hidden": false,
         "locked": false
        }
       ],
       "scored": true,
       "setup": "",
       "teardown": "",
       "type": "doctest"
      }
     ]
    },
    "plot_circle": {
     "name": "plot_circle",
     "points": 3,
     "suites": [
      {
       "cases": [
        {
         "code": ">>> assert my_sortofa_circle_data.shape == (3, 4)\n",
         "hidden": false,
         "locked": false
        },
        {
         "code": ">>> assert my_lowdim_data.shape[0] == 3\n>>> assert my_lowdim_data.shape[1] <= 10\n",
         "hidden": false,
         "locked": false
        },
        {
         "code": ">>> assert my_highdim_data.shape[0] == 3\n>>> assert my_highdim_data.shape[1] >= 20\n",
         "hidden": false,
         "locked": false
        },
        {
         "code": ">>> assert axs.shape == (2, 3)\n",
         "hidden": false,
         "locked": false
        },
        {
         "code": ">>> for ax in axs:\n...     for a in ax:\n...         assert not a.get_title() == ''\n",
         "hidden": false,
         "locked": false
        },
        {
         "code": ">>> assert axs[0, 2].get_aspect() == 1.0\n>>> assert axs[1, 2].get_aspect() == 1.0\n",
         "hidden": false,
         "locked": false
        }
       ],
       "scored": true,
       "setup": "",
       "teardown": "",
       "type": "doctest"
      }
     ]
    }
   }
  }
 },
 "nbformat": 4,
 "nbformat_minor": 2
}
