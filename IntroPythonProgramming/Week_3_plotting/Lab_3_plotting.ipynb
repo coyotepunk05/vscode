{
 "cells": [
  {
   "cell_type": "code",
   "execution_count": null,
   "metadata": {
    "deletable": false,
    "editable": false
   },
   "outputs": [],
   "source": [
    "# Initialize Otter\n",
    "import otter\n",
    "grader = otter.Notebook(\"Lab_3_plotting.ipynb\")"
   ]
  },
  {
   "cell_type": "markdown",
   "metadata": {},
   "source": [
    "## Lab 3: Plotting data\n",
    "\n",
    "Read in the right hand accelerometer data for subject 1's first clap and plot it for each of the x, y, and z channels. I recommend doing this in the following order:\n",
    "\n",
    "- Write plotting code for a single dimension. Make sure it's working and the titles/labels etc are correct \n",
    "- Once that's working, add a **for** loop to loop over x, y, z\n",
    "- If doing a **for** loop is confusing, then start with just copying the code over, once, and changing the dimension you're using in the copy. Then go back and put the for loop in\n",
    "\n",
    "[optional] Do nicer colors than the default ones.\n",
    "\n",
    "For setting the colors and the data labels, you can either do it by hand, or setup a list of color names and use that.\n",
    "\n",
    "Slides: https://docs.google.com/presentation/d/1IiGGUNet-4Nj07x2cTXU6IOYXy9TSdAF5OUWCCKIYEM/edit?usp=sharing\n"
   ]
  },
  {
   "cell_type": "code",
   "execution_count": null,
   "metadata": {},
   "outputs": [],
   "source": [
    "# Install a pip package in the current Jupyter kernel\n",
    "# Note: this is a safety check in case your JN install was not in the same place as your libraries\n",
    "import sys\n",
    "!{sys.executable} -m pip install matplotlib"
   ]
  },
  {
   "cell_type": "code",
   "execution_count": null,
   "metadata": {},
   "outputs": [],
   "source": [
    "# Libraries that we need to import - numpy and json (for loading the description file)\n",
    "import numpy as np\n",
    "import json as json\n",
    "import os\n",
    "import matplotlib.pyplot as plt\n",
    "%matplotlib inline"
   ]
  },
  {
   "cell_type": "code",
   "execution_count": null,
   "metadata": {
    "tags": []
   },
   "outputs": [],
   "source": [
    "# Numeric ids to indicate hand motion type from Lab 1\n",
    "clap_id = 1\n",
    "high_five_id = 2\n",
    "snap_id = 3"
   ]
  },
  {
   "cell_type": "code",
   "execution_count": null,
   "metadata": {
    "tags": []
   },
   "outputs": [],
   "source": [
    "# TODO: Copy get_descriptor, get_file_info, get_data, get_data_from_files, get_channel_data from lab 2.\n",
    "#  Put each function in its own cell\n"
   ]
  },
  {
   "cell_type": "code",
   "execution_count": null,
   "metadata": {
    "tags": []
   },
   "outputs": [],
   "source": [
    "# Read in one data file and the data description.\n",
    "all_data = get_data_from_files([\n",
    "    get_file_info(\"Data/S01C01.csv\"),\n",
    "])\n",
    "\n",
    "try:\n",
    "    with open(\"Data/data_description.json\", \"r\") as fp:\n",
    "        data_description = json.load(fp)\n",
    "except FileNotFoundError:\n",
    "    print(f\"The file was not found; check that the data directory is in the current one and the file is in that directory\")\n"
   ]
  },
  {
   "cell_type": "code",
   "execution_count": null,
   "metadata": {
    "tags": []
   },
   "outputs": [],
   "source": [
    "rh_accelerometer_descriptor = ...\n",
    "rh_accelerometer_data = ...\n",
    "\n",
    "ts_descriptor = ...\n",
    "ts = ..."
   ]
  },
  {
   "cell_type": "code",
   "execution_count": null,
   "metadata": {
    "tags": []
   },
   "outputs": [],
   "source": [
    "nrows = 1\n",
    "ncols = 1\n",
    "_, axs_wf = plt.subplots(nrows, ncols, figsize=(6, 4))\n",
    "\n",
    "# Useful for labeling the channels with x,y,z instead of 0, 1, 2\n",
    "channel_labels = ['x', 'y', 'z']\n",
    "\n",
    "# TODO: Graph the right hand accelerometer data.\n"
   ]
  },
  {
   "cell_type": "code",
   "execution_count": null,
   "metadata": {
    "deletable": false,
    "editable": false
   },
   "outputs": [],
   "source": [
    "grader.check(\"plot_one\")"
   ]
  },
  {
   "cell_type": "markdown",
   "metadata": {
    "deletable": false,
    "editable": false
   },
   "source": [
    "## Part 2 - plot both the right hand gyroscope and right hand accelerometer in the same figure\n",
    "Gyroscope on the left, Accelerometer on the right. Don't forget labels and titles.\n",
    "\n",
    "You can do this one of two ways; note that in the homework you'll need to do the 2nd option (with some help), but if you want to try it now, feel free.\n",
    "- Option 1: Copy and paste the code from above (twice) and change the relevant data/lines of code (axs[], names/titles, start index) in the second copy\n",
    "- Option 2: Encapsulate the plotting part in a function then call that function twice\n",
    "  - pass in the axes to plot in, along with t values (or create them within the function)\n",
    "  - do the x,y,z loop inside of the plot"
   ]
  },
  {
   "cell_type": "code",
   "execution_count": null,
   "metadata": {
    "tags": []
   },
   "outputs": [],
   "source": [
    "# Reading the right hand gyroscope data for you\n",
    "rh_gyroscope_descriptor = get_descriptor(data_description, \"Right hand gyroscope\")\n",
    "rh_gyroscope_data = get_channel_data(all_data, index_offset=rh_gyroscope_descriptor[\"index_offset\"], n_dims=rh_gyroscope_descriptor[\"dimensions\"])"
   ]
  },
  {
   "cell_type": "code",
   "execution_count": null,
   "metadata": {
    "tags": []
   },
   "outputs": [],
   "source": [
    "def plot_function(axs, ts, data, channel_info, dimension_labels):\n",
    "    \"\"\" Plot all of the dimensions for a given channel\n",
    "    @param axs - the place to plot in\n",
    "    @param ts - the time steps to use\n",
    "    @param data - the numpy array from the csv file\n",
    "    @param channel_info - a dictionary with the channel info, e.g. \"name\" and \"units\"\n",
    "    @param n_total_dims - total number of columns per one time step\n",
    "    @returns - nothing\"\"\"\n",
    "    pass"
   ]
  },
  {
   "cell_type": "code",
   "execution_count": null,
   "metadata": {
    "tags": []
   },
   "outputs": [],
   "source": [
    "nrows = ...\n",
    "ncols = ...\n",
    "fig, axs_two = ...\n",
    "\n",
    "# Call plot function here, once with the gyroscope data, once with the accelerometer data\n",
    "\n",
    "fig.tight_layout()"
   ]
  },
  {
   "cell_type": "code",
   "execution_count": null,
   "metadata": {
    "deletable": false,
    "editable": false
   },
   "outputs": [],
   "source": [
    "grader.check(\"plot_gyroscope_and_accelerometer\")"
   ]
  },
  {
   "cell_type": "markdown",
   "metadata": {
    "deletable": false,
    "editable": false
   },
   "source": [
    "### Plotting all data channels\n",
    "\n",
    "In the previous step, you made plots for the right hand accelerometer and gyroscope. Now, let's make plots for every data channel (except for \"Timestamp\").\n",
    "\n",
    "The first column should be the left hand data channels, and the second column should be the right hand data channels. The first row should be the accelerometers, and the second row should be the gyroscopes."
   ]
  },
  {
   "cell_type": "code",
   "execution_count": null,
   "metadata": {
    "tags": []
   },
   "outputs": [],
   "source": [
    "lh_accelerometer_descriptor = ...\n",
    "lh_accelerometer_data = ...\n",
    "\n",
    "lh_gyroscope_descriptor = ...\n",
    "lh_gyroscope_data = ...\n",
    "\n",
    "nrows = ...\n",
    "ncols = ...\n",
    "_, axs_all = plt.subplots(nrows, ncols, figsize=(10, 8))\n",
    "\n",
    "# TODO: Call plot_function for each data channel.\n",
    "fig.tight_layout()"
   ]
  },
  {
   "cell_type": "code",
   "execution_count": null,
   "metadata": {
    "deletable": false,
    "editable": false
   },
   "outputs": [],
   "source": [
    "grader.check(\"plot_all\")"
   ]
  },
  {
   "cell_type": "markdown",
   "metadata": {
    "deletable": false,
    "editable": false
   },
   "source": [
    "## Hours and collaborators\n",
    "Required for every assignment - fill out before you hand-in.\n",
    "\n",
    "Listing names and websites helps you to document who you worked with and what internet help you received in the case of any plagiarism issues. You should list names of anyone (in class or not) who has substantially helped you with an assignment - or anyone you have *helped*. You do not need to list TAs.\n",
    "\n",
    "Listing hours helps us track if the assignments are too long."
   ]
  },
  {
   "cell_type": "code",
   "execution_count": null,
   "metadata": {
    "tags": []
   },
   "outputs": [],
   "source": [
    "\n",
    "# List of names (creates a set)\n",
    "worked_with_names = {\"not filled out\"}\n",
    "# List of URLS I25 (creates a set)\n",
    "websites = {\"not filled out\"}\n",
    "# Approximate number of hours, including lab/in-class time\n",
    "hours = -1.5"
   ]
  },
  {
   "cell_type": "code",
   "execution_count": null,
   "metadata": {
    "deletable": false,
    "editable": false
   },
   "outputs": [],
   "source": [
    "grader.check(\"hours_collaborators\")"
   ]
  },
  {
   "cell_type": "markdown",
   "metadata": {},
   "source": [
    "### To submit\n",
    "\n",
    "- Make sure your plots are visible and there aren't pages of print outs the TAs have to look through to find them\n",
    "- Save the file\n",
    "- Submit just this .ipynb file through gradescope, Lab 3, plotting\n",
    "- You do NOT need to submit the data files - we will supply those\n",
    "- Where there are given variable/file names (eg, foo = ...) DON'T change those, or the autograder will fail\n",
    "\n",
    "If the Gradescope autograder fails, please check here first for common reasons for it to fail\n",
    "    https://docs.google.com/presentation/d/1tYa5oycUiG4YhXUq5vHvPOpWJ4k_xUPp2rUNIL7Q9RI/edit?usp=sharing\n",
    "\n",
    "Most likely failure for this assignment is not naming the data directory and files correctly; capitalization matters for the Gradescope grader. \n",
    "\n",
    "Second most likely cause for failure is reading in any files but `data/S01C01.csv` (make sure when you copied your code over you didn't accidentally include code that reads in other files)\n",
    "\n",
    "Several of these problems are manually graded by looking at the plots. If we can't see the plots, we can't grade them."
   ]
  }
 ],
 "metadata": {
  "kernelspec": {
   "display_name": "base",
   "language": "python",
   "name": "python3"
  },
  "language_info": {
   "codemirror_mode": {
    "name": "ipython",
    "version": 3
   },
   "file_extension": ".py",
   "mimetype": "text/x-python",
   "name": "python",
   "nbconvert_exporter": "python",
   "pygments_lexer": "ipython3",
   "version": "3.11.7"
  },
  "otter": {
   "OK_FORMAT": true,
   "tests": {
    "hours_collaborators": {
     "name": "hours_collaborators",
     "points": 1,
     "suites": [
      {
       "cases": [
        {
         "code": ">>> assert not 'not filled out' in worked_with_names\n",
         "hidden": false,
         "locked": false
        },
        {
         "code": ">>> assert not 'not filled out' in websites\n",
         "hidden": false,
         "locked": false
        },
        {
         "code": ">>> assert hours > 0\n",
         "hidden": false,
         "locked": false
        }
       ],
       "scored": true,
       "setup": "",
       "teardown": "",
       "type": "doctest"
      }
     ]
    },
    "plot_all": {
     "name": "plot_all",
     "points": 5,
     "suites": [
      {
       "cases": [
        {
         "code": ">>> assert 'eft hand accelerometer' in axs_all[0, 0].get_title()\n",
         "hidden": false,
         "locked": false
        },
        {
         "code": ">>> assert 'eft hand gyroscope' in axs_all[1, 0].get_title()\n",
         "hidden": false,
         "locked": false
        },
        {
         "code": ">>> assert 'ight hand accelerometer' in axs_all[0, 1].get_title()\n",
         "hidden": false,
         "locked": false
        },
        {
         "code": ">>> assert 'ight hand gyroscope' in axs_all[1, 1].get_title()\n",
         "hidden": false,
         "locked": false
        },
        {
         "code": ">>> assert len(axs_all[0, 0].lines) == 3\n",
         "hidden": false,
         "locked": false
        },
        {
         "code": ">>> assert len(axs_all[0, 1].lines) == 3\n",
         "hidden": false,
         "locked": false
        },
        {
         "code": ">>> assert len(axs_all[1, 0].lines) == 3\n",
         "hidden": false,
         "locked": false
        },
        {
         "code": ">>> assert len(axs_all[1, 1].lines) == 3\n",
         "hidden": false,
         "locked": false
        }
       ],
       "scored": true,
       "setup": "",
       "teardown": "",
       "type": "doctest"
      }
     ]
    },
    "plot_gyroscope_and_accelerometer": {
     "name": "plot_gyroscope_and_accelerometer",
     "points": 5,
     "suites": [
      {
       "cases": [
        {
         "code": ">>> assert axs_two.size == 2\n",
         "hidden": false,
         "locked": false
        },
        {
         "code": ">>> assert 'ight hand gyroscope' in axs_two[0].get_title()\n",
         "hidden": false,
         "locked": false
        },
        {
         "code": ">>> assert 'ight hand accelerometer' in axs_two[1].get_title()\n",
         "hidden": false,
         "locked": false
        },
        {
         "code": ">>> assert len(axs_two[0].lines) >= 3\n",
         "hidden": false,
         "locked": false
        },
        {
         "code": ">>> assert len(axs_two[1].lines) >= 3\n",
         "hidden": false,
         "locked": false
        }
       ],
       "scored": true,
       "setup": "",
       "teardown": "",
       "type": "doctest"
      }
     ]
    },
    "plot_one": {
     "name": "plot_one",
     "points": 5,
     "suites": [
      {
       "cases": [
        {
         "code": ">>> assert 'ight hand accelerometer' in axs_wf.get_title()\n",
         "hidden": false,
         "locked": false
        },
        {
         "code": ">>> assert len(axs_wf.lines) == 3\n",
         "hidden": false,
         "locked": false
        }
       ],
       "scored": true,
       "setup": "",
       "teardown": "",
       "type": "doctest"
      }
     ]
    }
   }
  }
 },
 "nbformat": 4,
 "nbformat_minor": 2
}
