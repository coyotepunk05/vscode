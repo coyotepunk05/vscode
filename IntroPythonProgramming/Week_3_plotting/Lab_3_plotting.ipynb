{
 "cells": [
  {
   "cell_type": "code",
   "execution_count": 1,
   "metadata": {
    "deletable": false,
    "editable": false
   },
   "outputs": [],
   "source": [
    "# Initialize Otter\n",
    "import otter\n",
    "grader = otter.Notebook(\"Lab_3_plotting.ipynb\")"
   ]
  },
  {
   "cell_type": "markdown",
   "metadata": {},
   "source": [
    "## Lab 3: Plotting data\n",
    "\n",
    "Read in the right hand accelerometer data for subject 1's first clap and plot it for each of the x, y, and z channels. I recommend doing this in the following order:\n",
    "\n",
    "- Write plotting code for a single dimension. Make sure it's working and the titles/labels etc are correct \n",
    "- Once that's working, add a **for** loop to loop over x, y, z\n",
    "- If doing a **for** loop is confusing, then start with just copying the code over, once, and changing the dimension you're using in the copy. Then go back and put the for loop in\n",
    "\n",
    "[optional] Do nicer colors than the default ones.\n",
    "\n",
    "For setting the colors and the data labels, you can either do it by hand, or setup a list of color names and use that.\n",
    "\n",
    "Slides: https://docs.google.com/presentation/d/1IiGGUNet-4Nj07x2cTXU6IOYXy9TSdAF5OUWCCKIYEM/edit?usp=sharing\n"
   ]
  },
  {
   "cell_type": "code",
   "execution_count": 2,
   "metadata": {},
   "outputs": [
    {
     "name": "stdout",
     "output_type": "stream",
     "text": [
      "Requirement already satisfied: matplotlib in c:\\users\\cody\\anaconda3\\lib\\site-packages (3.9.2)\n",
      "Requirement already satisfied: contourpy>=1.0.1 in c:\\users\\cody\\anaconda3\\lib\\site-packages (from matplotlib) (1.2.0)\n",
      "Requirement already satisfied: cycler>=0.10 in c:\\users\\cody\\anaconda3\\lib\\site-packages (from matplotlib) (0.11.0)\n",
      "Requirement already satisfied: fonttools>=4.22.0 in c:\\users\\cody\\anaconda3\\lib\\site-packages (from matplotlib) (4.51.0)\n",
      "Requirement already satisfied: kiwisolver>=1.3.1 in c:\\users\\cody\\anaconda3\\lib\\site-packages (from matplotlib) (1.4.4)\n",
      "Requirement already satisfied: numpy>=1.23 in c:\\users\\cody\\anaconda3\\lib\\site-packages (from matplotlib) (1.26.4)\n",
      "Requirement already satisfied: packaging>=20.0 in c:\\users\\cody\\anaconda3\\lib\\site-packages (from matplotlib) (24.1)\n",
      "Requirement already satisfied: pillow>=8 in c:\\users\\cody\\anaconda3\\lib\\site-packages (from matplotlib) (10.4.0)\n",
      "Requirement already satisfied: pyparsing>=2.3.1 in c:\\users\\cody\\anaconda3\\lib\\site-packages (from matplotlib) (3.1.2)\n",
      "Requirement already satisfied: python-dateutil>=2.7 in c:\\users\\cody\\anaconda3\\lib\\site-packages (from matplotlib) (2.9.0.post0)\n",
      "Requirement already satisfied: six>=1.5 in c:\\users\\cody\\anaconda3\\lib\\site-packages (from python-dateutil>=2.7->matplotlib) (1.16.0)\n"
     ]
    }
   ],
   "source": [
    "# Install a pip package in the current Jupyter kernel\n",
    "# Note: this is a safety check in case your JN install was not in the same place as your libraries\n",
    "import sys\n",
    "!{sys.executable} -m pip install matplotlib"
   ]
  },
  {
   "cell_type": "code",
   "execution_count": 3,
   "metadata": {},
   "outputs": [],
   "source": [
    "# Libraries that we need to import - numpy and json (for loading the description file)\n",
    "import numpy as np\n",
    "import json as json\n",
    "import os\n",
    "import matplotlib.pyplot as plt\n",
    "%matplotlib inline"
   ]
  },
  {
   "cell_type": "code",
   "execution_count": 4,
   "metadata": {
    "tags": []
   },
   "outputs": [],
   "source": [
    "# Numeric ids to indicate hand motion type from Lab 1\n",
    "clap_id = 1\n",
    "high_five_id = 2\n",
    "snap_id = 3"
   ]
  },
  {
   "cell_type": "code",
   "execution_count": 5,
   "metadata": {
    "tags": []
   },
   "outputs": [],
   "source": [
    "# TODO: Copy get_descriptor, get_file_info, get_data, get_data_from_files, get_channel_data from lab 2.\n",
    "#  Put each function in its own cell\n",
    "def get_descriptor(data_description, name):\n",
    "    \"\"\" Returns the descriptor for the given data channel.\n",
    "    @param name - The name of the data channel to look for. \"\"\"\n",
    "\n",
    "# check if item in data description is desired\n",
    "    for item in data_description[\"data_channels\"]:\n",
    "        if item[\"name\"] == name:\n",
    "            descriptor_dict = item\n",
    "            break\n",
    "\n",
    "    return descriptor_dict\n",
    "\n",
    "    pass\n",
    "\n",
    "def get_file_info(csv_path):\n",
    "    \"\"\"Function that returns a file_info dictionary for a given filepath.\n",
    "    @param csv_path - path to a CSV file containing a hand motion\n",
    "    @return A dictionary with key \"csv_path\", containing csv_path, and \"motion_id\", containing the type of motion encoded in the file.\"\"\"\n",
    "\n",
    "    # get file name from path and find 4th letter\n",
    "    filename = os.path.basename(csv_path)\n",
    "    data_letter = filename[3]\n",
    "\n",
    "    # determine motion_id based on 4th letter\n",
    "    if data_letter == \"C\":\n",
    "        motion_id = clap_id\n",
    "    elif data_letter == \"F\":\n",
    "        motion_id = high_five_id\n",
    "    elif data_letter == \"S\":\n",
    "        motion_id = snap_id\n",
    "\n",
    "    # create dictionary based on path and motion_id\n",
    "    data_info = {\"csv_path\":csv_path, \"motion_id\":motion_id}\n",
    "\n",
    "    return data_info\n",
    "\n",
    "    # data_letter = filename\n",
    "\n",
    "    # The base file path is of the form S##[C|F|S]##.csv.\n",
    "    pass\n",
    "\n",
    "def get_data(file_info):\n",
    "    \"\"\" Function that returns the data from the given CSV file.\n",
    "    @param file_info - a dictionary with keys \"csv_path\" and \"motion_id\"\n",
    "    @return Return array should contain data in file with an extra column at the end containing the motion_id.\"\"\"\n",
    "\n",
    "    # import csv as file_data\n",
    "    file_data = np.loadtxt(file_info[\"csv_path\"], dtype=\"float\", delimiter=\",\")\n",
    "\n",
    "    # get motion id\n",
    "    motion_id = file_info[\"motion_id\"]\n",
    "\n",
    "    # create numpy array, add file_data and append motion_id\n",
    "    file_data_motion = np.zeros((file_data.shape[0], file_data.shape[1]+1))\n",
    "    file_data_motion[:, 0:-1] = file_data\n",
    "    file_data_motion[:, -1] = motion_id\n",
    "\n",
    "    return file_data_motion\n",
    "\n",
    "    pass\n",
    "\n",
    "def get_data_from_files(file_list):\n",
    "    \"\"\" Function that returns data from a list of files.\n",
    "    @param file_list - a list of dictionaries, where each dictionary contains `csv_path` and `motion_id`.\n",
    "    @return A single return array containing the data from all of the given input files.\"\"\"\n",
    "\n",
    "    # create empty list :)\n",
    "    file_list_list = []\n",
    "\n",
    "    # based on input list run previous function, concatinate\n",
    "    for item in file_list:\n",
    "\n",
    "        data = get_data(item)\n",
    "        file_list_list.append(data)\n",
    "\n",
    "    return np.concatenate(file_list_list)\n",
    "\n",
    "\n",
    "    # Hint: Use np.concatenate to combine multiple numpy arrays.\n",
    "    pass\n",
    "\n",
    "def get_channel_data(all_data, index_offset, n_dims):\n",
    "    \"\"\" Get the data for just one channel (e.g., right hand accelerometer)\n",
    "    @param all_data - numpy array containing data from one or more files\n",
    "    @param index_offset - the column to begin getting data from\n",
    "    @param n_dims - number of dimensions for the data channel\n",
    "    @return Return array should be number of rows in all_data X n_dims\"\"\"\n",
    "\n",
    "    # create array with shape of data and desired dimensions\n",
    "    channel_data = np.zeros((all_data.shape[0], n_dims))\n",
    "    # insert desired data into array\n",
    "    channel_data = all_data[:, index_offset:index_offset + n_dims]\n",
    "\n",
    "    return channel_data\n",
    "\n",
    "    pass\n"
   ]
  },
  {
   "cell_type": "code",
   "execution_count": 6,
   "metadata": {
    "tags": []
   },
   "outputs": [],
   "source": [
    "# Read in one data file and the data description.\n",
    "all_data = get_data_from_files([\n",
    "    get_file_info(\"Data/S01C01.csv\"),\n",
    "])\n",
    "\n",
    "try:\n",
    "    with open(\"Data/data_description.json\", \"r\") as fp:\n",
    "        data_description = json.load(fp)\n",
    "except FileNotFoundError:\n",
    "    print(f\"The file was not found; check that the data directory is in the current one and the file is in that directory\")\n"
   ]
  },
  {
   "cell_type": "code",
   "execution_count": 7,
   "metadata": {
    "tags": []
   },
   "outputs": [],
   "source": [
    "# import data_description file\n",
    "try:\n",
    "    with open(\"Data/data_description.json\", \"r\") as fp:\n",
    "        data_description = json.load(fp)\n",
    "except FileNotFoundError:\n",
    "    print(f\"The file was not found; check that the data directory is in the current one and the file is in that directory\")\n",
    "\n",
    "# get rh_accel descriptor & data\n",
    "rh_accelerometer_descriptor = get_descriptor(data_description, 'Right hand accelerometer')\n",
    "rh_accelerometer_data = get_channel_data(all_data, rh_accelerometer_descriptor['index_offset'], rh_accelerometer_descriptor['dimensions'])\n",
    "\n",
    "# get ts descriptor & data\n",
    "ts_descriptor = get_descriptor(data_description, 'Timestamp')\n",
    "ts = get_channel_data(all_data, ts_descriptor['index_offset'], ts_descriptor['dimensions'])"
   ]
  },
  {
   "cell_type": "code",
   "execution_count": 8,
   "metadata": {
    "tags": []
   },
   "outputs": [
    {
     "data": {
      "text/plain": [
       "<matplotlib.legend.Legend at 0x1cd098b9fa0>"
      ]
     },
     "execution_count": 8,
     "metadata": {},
     "output_type": "execute_result"
    }
   ],
   "source": [
    "nrows = 1\n",
    "ncols = 1\n",
    "_, axs_wf = plt.subplots(nrows, ncols, figsize=(6, 4))\n",
    "\n",
    "# Useful for labeling the channels with x,y,z instead of 0, 1, 2\n",
    "channel_labels = ['x', 'y', 'z']\n",
    "\n",
    "# TODO: Graph the right hand accelerometer data.\n",
    "# plot data\n",
    "axs_wf.plot(ts, rh_accelerometer_data[:, 0], label=f'{channel_labels[0]}')\n",
    "axs_wf.plot(ts, rh_accelerometer_data[:, 1], label=f'{channel_labels[1]}')\n",
    "axs_wf.plot(ts, rh_accelerometer_data[:, 2], label=f'{channel_labels[2]}')\n",
    "# set labels\n",
    "axs_wf.set_title('Right hand accelerometer Data')\n",
    "axs_wf.set_xlabel('Timestamp (milliseconds)')\n",
    "axs_wf.set_ylabel('RH Accel Data (gravity units)')\n",
    "axs_wf.legend(loc='upper right')\n",
    "\n"
   ]
  },
  {
   "cell_type": "code",
   "execution_count": 9,
   "metadata": {
    "deletable": false,
    "editable": false
   },
   "outputs": [
    {
     "data": {
      "text/html": [
       "<p><strong><pre style='display: inline;'>plot_one</pre></strong> passed! 🎉</p>"
      ],
      "text/plain": [
       "plot_one results: All test cases passed!"
      ]
     },
     "execution_count": 9,
     "metadata": {},
     "output_type": "execute_result"
    }
   ],
   "source": [
    "grader.check(\"plot_one\")"
   ]
  },
  {
   "cell_type": "markdown",
   "metadata": {
    "deletable": false,
    "editable": false
   },
   "source": [
    "## Part 2 - plot both the right hand gyroscope and right hand accelerometer in the same figure\n",
    "Gyroscope on the left, Accelerometer on the right. Don't forget labels and titles.\n",
    "\n",
    "You can do this one of two ways; note that in the homework you'll need to do the 2nd option (with some help), but if you want to try it now, feel free.\n",
    "- Option 1: Copy and paste the code from above (twice) and change the relevant data/lines of code (axs[], names/titles, start index) in the second copy\n",
    "- Option 2: Encapsulate the plotting part in a function then call that function twice\n",
    "  - pass in the axes to plot in, along with t values (or create them within the function)\n",
    "  - do the x,y,z loop inside of the plot"
   ]
  },
  {
   "cell_type": "code",
   "execution_count": 10,
   "metadata": {
    "tags": []
   },
   "outputs": [],
   "source": [
    "# Reading the right hand gyroscope data for you\n",
    "rh_gyroscope_descriptor = get_descriptor(data_description, \"Right hand gyroscope\")\n",
    "rh_gyroscope_data = get_channel_data(all_data, index_offset=rh_gyroscope_descriptor[\"index_offset\"], n_dims=rh_gyroscope_descriptor[\"dimensions\"])"
   ]
  },
  {
   "cell_type": "code",
   "execution_count": 11,
   "metadata": {
    "tags": []
   },
   "outputs": [],
   "source": [
    "def plot_function(axs, ts, data, channel_info, dimension_labels):\n",
    "    \"\"\" Plot all of the dimensions for a given channel\n",
    "    @param axs - the place to plot in\n",
    "    @param ts - the time steps to use\n",
    "    @param data - the numpy array from the csv file\n",
    "    @param channel_info - a dictionary with the channel info, e.g. \"name\" and \"units\"\n",
    "    @param n_total_dims - total number of columns per one time step\n",
    "    @returns - nothing\"\"\"\n",
    "\n",
    "    # for each dimension in dataset plot, and set labels\n",
    "    for r in range(channel_info['dimensions']):\n",
    "        axs.plot(ts, data[:, r], label=f\"{dimension_labels[r]}\")\n",
    "        axs.legend(loc='upper right')\n",
    "        axs.set_title(f'{channel_info['name']}')\n",
    "        axs.set_xlabel('Timestamp (milliseconds)')\n",
    "        axs.set_ylabel(f'{channel_info['name']} ({channel_info['units']})')\n",
    "\n",
    "    pass"
   ]
  },
  {
   "cell_type": "code",
   "execution_count": 12,
   "metadata": {
    "tags": []
   },
   "outputs": [],
   "source": [
    "nrows = 1\n",
    "ncols = 2\n",
    "fig, axs_two = plt.subplots(nrows, ncols, figsize=(12, 4))\n",
    "\n",
    "# Call plot function here, once with the gyroscope data, once with the accelerometer data\n",
    "plot_function(axs = axs_two[1], ts = ts, data = rh_accelerometer_data, channel_info = rh_accelerometer_descriptor, dimension_labels = channel_labels)\n",
    "plot_function(axs = axs_two[0], ts = ts, data = rh_gyroscope_data, channel_info = rh_gyroscope_descriptor, dimension_labels = channel_labels)\n",
    "\n",
    "fig.tight_layout()"
   ]
  },
  {
   "cell_type": "code",
   "execution_count": 13,
   "metadata": {
    "deletable": false,
    "editable": false
   },
   "outputs": [
    {
     "data": {
      "text/html": [
       "<p><strong><pre style='display: inline;'>plot_gyroscope_and_accelerometer</pre></strong> passed! 🍀</p>"
      ],
      "text/plain": [
       "plot_gyroscope_and_accelerometer results: All test cases passed!"
      ]
     },
     "execution_count": 13,
     "metadata": {},
     "output_type": "execute_result"
    }
   ],
   "source": [
    "grader.check(\"plot_gyroscope_and_accelerometer\")"
   ]
  },
  {
   "cell_type": "markdown",
   "metadata": {
    "deletable": false,
    "editable": false
   },
   "source": [
    "### Plotting all data channels\n",
    "\n",
    "In the previous step, you made plots for the right hand accelerometer and gyroscope. Now, let's make plots for every data channel (except for \"Timestamp\").\n",
    "\n",
    "The first column should be the left hand data channels, and the second column should be the right hand data channels. The first row should be the accelerometers, and the second row should be the gyroscopes."
   ]
  },
  {
   "cell_type": "code",
   "execution_count": 14,
   "metadata": {
    "tags": []
   },
   "outputs": [],
   "source": [
    "# get description for lh accel, get channel data\n",
    "lh_accelerometer_descriptor = get_descriptor(data_description, \"Left hand accelerometer\")\n",
    "lh_accelerometer_data = get_channel_data(all_data, index_offset=lh_accelerometer_descriptor[\"index_offset\"], n_dims=lh_accelerometer_descriptor[\"dimensions\"])\n",
    "# get description for lhg, get channel data\n",
    "lh_gyroscope_descriptor = get_descriptor(data_description, \"Left hand gyroscope\")\n",
    "lh_gyroscope_data = get_channel_data(all_data, index_offset=lh_gyroscope_descriptor[\"index_offset\"], n_dims=lh_gyroscope_descriptor[\"dimensions\"])\n",
    "\n",
    "nrows = 2\n",
    "ncols = 2\n",
    "_, axs_all = plt.subplots(nrows, ncols, figsize=(15, 12))\n",
    "\n",
    "# TODO: Call plot_function for each data channel.\n",
    "plot_function(axs = axs_all[0, 1], ts = ts, data = rh_accelerometer_data, channel_info = rh_accelerometer_descriptor, dimension_labels = channel_labels)\n",
    "plot_function(axs = axs_all[1, 1], ts = ts, data = rh_gyroscope_data, channel_info = rh_gyroscope_descriptor, dimension_labels = channel_labels)\n",
    "\n",
    "plot_function(axs = axs_all[0, 0], ts = ts, data = lh_accelerometer_data, channel_info = lh_accelerometer_descriptor, dimension_labels = channel_labels)\n",
    "plot_function(axs = axs_all[1, 0], ts = ts, data = lh_gyroscope_data, channel_info = lh_gyroscope_descriptor, dimension_labels = channel_labels)\n",
    "\n",
    "\n",
    "fig.tight_layout()"
   ]
  },
  {
   "cell_type": "code",
   "execution_count": 15,
   "metadata": {
    "deletable": false,
    "editable": false
   },
   "outputs": [
    {
     "data": {
      "text/html": [
       "<p><strong><pre style='display: inline;'>plot_all</pre></strong> passed! 🙌</p>"
      ],
      "text/plain": [
       "plot_all results: All test cases passed!"
      ]
     },
     "execution_count": 15,
     "metadata": {},
     "output_type": "execute_result"
    }
   ],
   "source": [
    "grader.check(\"plot_all\")"
   ]
  },
  {
   "cell_type": "markdown",
   "metadata": {
    "deletable": false,
    "editable": false
   },
   "source": [
    "## Hours and collaborators\n",
    "Required for every assignment - fill out before you hand-in.\n",
    "\n",
    "Listing names and websites helps you to document who you worked with and what internet help you received in the case of any plagiarism issues. You should list names of anyone (in class or not) who has substantially helped you with an assignment - or anyone you have *helped*. You do not need to list TAs.\n",
    "\n",
    "Listing hours helps us track if the assignments are too long."
   ]
  },
  {
   "cell_type": "code",
   "execution_count": 16,
   "metadata": {
    "tags": []
   },
   "outputs": [],
   "source": [
    "\n",
    "# List of names (creates a set)\n",
    "worked_with_names = {\"N/A\"}\n",
    "# List of URLS I25 (creates a set)\n",
    "websites = {\"N/A\"}\n",
    "# Approximate number of hours, including lab/in-class time\n",
    "hours = 1"
   ]
  },
  {
   "cell_type": "code",
   "execution_count": 17,
   "metadata": {
    "deletable": false,
    "editable": false
   },
   "outputs": [
    {
     "data": {
      "text/html": [
       "<p><strong><pre style='display: inline;'>hours_collaborators</pre></strong> passed! ✨</p>"
      ],
      "text/plain": [
       "hours_collaborators results: All test cases passed!"
      ]
     },
     "execution_count": 17,
     "metadata": {},
     "output_type": "execute_result"
    }
   ],
   "source": [
    "grader.check(\"hours_collaborators\")"
   ]
  },
  {
   "cell_type": "markdown",
   "metadata": {},
   "source": [
    "### To submit\n",
    "\n",
    "- Make sure your plots are visible and there aren't pages of print outs the TAs have to look through to find them\n",
    "- Save the file\n",
    "- Submit just this .ipynb file through gradescope, Lab 3, plotting\n",
    "- You do NOT need to submit the data files - we will supply those\n",
    "- Where there are given variable/file names (eg, foo = ...) DON'T change those, or the autograder will fail\n",
    "\n",
    "If the Gradescope autograder fails, please check here first for common reasons for it to fail\n",
    "    https://docs.google.com/presentation/d/1tYa5oycUiG4YhXUq5vHvPOpWJ4k_xUPp2rUNIL7Q9RI/edit?usp=sharing\n",
    "\n",
    "Most likely failure for this assignment is not naming the data directory and files correctly; capitalization matters for the Gradescope grader. \n",
    "\n",
    "Second most likely cause for failure is reading in any files but `data/S01C01.csv` (make sure when you copied your code over you didn't accidentally include code that reads in other files)\n",
    "\n",
    "Several of these problems are manually graded by looking at the plots. If we can't see the plots, we can't grade them."
   ]
  }
 ],
 "metadata": {
  "kernelspec": {
   "display_name": "base",
   "language": "python",
   "name": "python3"
  },
  "language_info": {
   "codemirror_mode": {
    "name": "ipython",
    "version": 3
   },
   "file_extension": ".py",
   "mimetype": "text/x-python",
   "name": "python",
   "nbconvert_exporter": "python",
   "pygments_lexer": "ipython3",
   "version": "3.12.7"
  },
  "otter": {
   "OK_FORMAT": true,
   "tests": {
    "hours_collaborators": {
     "name": "hours_collaborators",
     "points": 1,
     "suites": [
      {
       "cases": [
        {
         "code": ">>> assert not 'not filled out' in worked_with_names\n",
         "hidden": false,
         "locked": false
        },
        {
         "code": ">>> assert not 'not filled out' in websites\n",
         "hidden": false,
         "locked": false
        },
        {
         "code": ">>> assert hours > 0\n",
         "hidden": false,
         "locked": false
        }
       ],
       "scored": true,
       "setup": "",
       "teardown": "",
       "type": "doctest"
      }
     ]
    },
    "plot_all": {
     "name": "plot_all",
     "points": 5,
     "suites": [
      {
       "cases": [
        {
         "code": ">>> assert 'eft hand accelerometer' in axs_all[0, 0].get_title()\n",
         "hidden": false,
         "locked": false
        },
        {
         "code": ">>> assert 'eft hand gyroscope' in axs_all[1, 0].get_title()\n",
         "hidden": false,
         "locked": false
        },
        {
         "code": ">>> assert 'ight hand accelerometer' in axs_all[0, 1].get_title()\n",
         "hidden": false,
         "locked": false
        },
        {
         "code": ">>> assert 'ight hand gyroscope' in axs_all[1, 1].get_title()\n",
         "hidden": false,
         "locked": false
        },
        {
         "code": ">>> assert len(axs_all[0, 0].lines) == 3\n",
         "hidden": false,
         "locked": false
        },
        {
         "code": ">>> assert len(axs_all[0, 1].lines) == 3\n",
         "hidden": false,
         "locked": false
        },
        {
         "code": ">>> assert len(axs_all[1, 0].lines) == 3\n",
         "hidden": false,
         "locked": false
        },
        {
         "code": ">>> assert len(axs_all[1, 1].lines) == 3\n",
         "hidden": false,
         "locked": false
        }
       ],
       "scored": true,
       "setup": "",
       "teardown": "",
       "type": "doctest"
      }
     ]
    },
    "plot_gyroscope_and_accelerometer": {
     "name": "plot_gyroscope_and_accelerometer",
     "points": 5,
     "suites": [
      {
       "cases": [
        {
         "code": ">>> assert axs_two.size == 2\n",
         "hidden": false,
         "locked": false
        },
        {
         "code": ">>> assert 'ight hand gyroscope' in axs_two[0].get_title()\n",
         "hidden": false,
         "locked": false
        },
        {
         "code": ">>> assert 'ight hand accelerometer' in axs_two[1].get_title()\n",
         "hidden": false,
         "locked": false
        },
        {
         "code": ">>> assert len(axs_two[0].lines) >= 3\n",
         "hidden": false,
         "locked": false
        },
        {
         "code": ">>> assert len(axs_two[1].lines) >= 3\n",
         "hidden": false,
         "locked": false
        }
       ],
       "scored": true,
       "setup": "",
       "teardown": "",
       "type": "doctest"
      }
     ]
    },
    "plot_one": {
     "name": "plot_one",
     "points": 5,
     "suites": [
      {
       "cases": [
        {
         "code": ">>> assert 'ight hand accelerometer' in axs_wf.get_title()\n",
         "hidden": false,
         "locked": false
        },
        {
         "code": ">>> assert len(axs_wf.lines) == 3\n",
         "hidden": false,
         "locked": false
        }
       ],
       "scored": true,
       "setup": "",
       "teardown": "",
       "type": "doctest"
      }
     ]
    }
   }
  }
 },
 "nbformat": 4,
 "nbformat_minor": 2
}
