{
 "cells": [
  {
   "cell_type": "code",
   "execution_count": 73,
   "metadata": {
    "deletable": false,
    "editable": false
   },
   "outputs": [],
   "source": [
    "# Initialize Otter\n",
    "import otter\n",
    "grader = otter.Notebook(\"HW_1_numpy_and_plotting.ipynb\")"
   ]
  },
  {
   "cell_type": "markdown",
   "metadata": {},
   "source": [
    "# HW 1: Statistical analysis of data using numpy and matplotlib\n",
    "\n",
    "Slides: (https://docs.google.com/presentation/d/1ef0msC9XIT37_Yg94Cf4TL9VBgbIIfkKik8jgshskjE/edit?usp=sharing)\n",
    "\n",
    "Please do lab 1 before starting the first part of this homework, lab 2 before the second part, and lab 3 before tackling the last problem (the plotting part).\n",
    "\n",
    "In this homework the focus is on code *design*. Most of the functionality of the code will be what you did in the labs. I don't expect you to do the code design; I've provided that. Just pay attention to how a couple of code structuring tools (functions, dictionaries) can make your code a little more re-usable, cleaner, and less prone to error. \n",
    "\n",
    "Learning to *read* code is also as important as *writing* code. This is (hopefully) a gentle introduction to using/interacting with more advanced concepts/syntax/semantics. \n",
    "\n",
    "By the end of the homework assignment, you will have written a method for categorizing the type of a given motion (snap, high five, or clap) and determined its accuracy on the provided dataset."
   ]
  },
  {
   "cell_type": "markdown",
   "metadata": {
    "deletable": false,
    "editable": false
   },
   "source": [
    "## Week 1, problem 0: Setting up libraries\n",
    "\n",
    "TODO: Import the libraries that you will need (numpy, json, matplotlib, os)"
   ]
  },
  {
   "cell_type": "code",
   "execution_count": 74,
   "metadata": {
    "tags": []
   },
   "outputs": [],
   "source": [
    "# TODO: put the numpy, os, json, and matplotlib imports here so you can use those libraries (see the tops of Labs 1-3)\n",
    "#  Parts 1 and 2 only need numpy, os and json. Part 3 needs matplotlib; you can either look at lab 3 and copy the import now or do\n",
    "#  it later\n",
    "import numpy as np\n",
    "import json as json\n",
    "import os\n",
    "import matplotlib.pyplot as plt\n",
    "%matplotlib inline"
   ]
  },
  {
   "cell_type": "code",
   "execution_count": 75,
   "metadata": {
    "deletable": false,
    "editable": false
   },
   "outputs": [
    {
     "data": {
      "text/html": [
       "<p><strong><pre style='display: inline;'>libraries</pre></strong> passed! 🌈</p>"
      ],
      "text/plain": [
       "libraries results: All test cases passed!"
      ]
     },
     "execution_count": 75,
     "metadata": {},
     "output_type": "execute_result"
    }
   ],
   "source": [
    "grader.check(\"libraries\")"
   ]
  },
  {
   "cell_type": "markdown",
   "metadata": {
    "deletable": false,
    "editable": false
   },
   "source": [
    "## Week 1, problem 1: Read data set and description\n",
    "\n",
    "In Lab 1, you read in a few CSV files, where each contained the data from a single motion from a single person. In this problem, you will read in a single CSV file that contains a full dataset containing multiple types of motions from multiple people (\"subjects\") done multiple times.\n",
    "\n",
    "The data is stored in `Data/full_dataset.csv`, and is described in `Data/full_dataset_data_description.json`. Note how `full_dataset_data_description.json` is different from `data_description.json`; there are three new data channels:\n",
    "\n",
    "* Subject number: Identifies the person (\"human subject\") performing the motion. There are 10 different people in the data set.\n",
    "* Run number: Each person did each motion 10 times, and this number identifies each unique run of the motion.\n",
    "* Motion type: Contains the motion ID of the motion performed, corresponding to a high five, snap, or clap.\n",
    "\n",
    "Almost all of this homework involves copying the code you wrote in Lab 1 but reading these two different files."
   ]
  },
  {
   "cell_type": "code",
   "execution_count": 76,
   "metadata": {
    "tags": []
   },
   "outputs": [],
   "source": [
    "# TODO: Read in `Data/full_dataset.csv` into `full_dataset`, and `Data/full_dataset_data_description.json` into `data_description`.\n",
    "\n",
    "full_dataset = np.loadtxt('Data/full_dataset.csv', dtype='float', delimiter=',')\n",
    "\n",
    "with open(\"Data/full_dataset_data_description.json\", \"r\") as fp:\n",
    "    data_description = json.load(fp)"
   ]
  },
  {
   "cell_type": "code",
   "execution_count": 77,
   "metadata": {
    "deletable": false,
    "editable": false
   },
   "outputs": [
    {
     "data": {
      "text/html": [
       "<p><strong><pre style='display: inline;'>read_data</pre></strong> passed! 💯</p>"
      ],
      "text/plain": [
       "read_data results: All test cases passed!"
      ]
     },
     "execution_count": 77,
     "metadata": {},
     "output_type": "execute_result"
    }
   ],
   "source": [
    "grader.check(\"read_data\")"
   ]
  },
  {
   "cell_type": "markdown",
   "metadata": {
    "deletable": false,
    "editable": false
   },
   "source": [
    "## Week 1, problem 2: Filtering data set\n",
    "\n",
    "In this homework, you will need to perform operations on individual motions identified by a specific subject, motion type, and run number. For this part, write code to extract the fourth snap performed by subject three. We will later turn this into a function."
   ]
  },
  {
   "cell_type": "code",
   "execution_count": 78,
   "metadata": {
    "tags": []
   },
   "outputs": [],
   "source": [
    "# Numeric ids to indicate hand motion type from Lab 1\n",
    "clap_id = 1\n",
    "high_five_id = 2\n",
    "snap_id = 3\n",
    "\n",
    "# Hardcoded column numbers for this data to make the code easier; normally, you would extract this from\n",
    "# full_dataset_data_description.json.\n",
    "timestamp_col = 0\n",
    "subject_number_col = 13\n",
    "run_number_col = 14\n",
    "motion_id_col = 15"
   ]
  },
  {
   "cell_type": "code",
   "execution_count": 79,
   "metadata": {
    "tags": []
   },
   "outputs": [],
   "source": [
    "# TODO: Extract a numpy array containing the rows for the fourth snap performed by subject three.\n",
    "# Hint: You can apply three different boolean filters to whittle down the data set, \n",
    "#  use np.all() to combine the filters into one filter, or use logical and.\n",
    "\n",
    "# Filter data using given columns and desired values\n",
    "motion_filter = full_dataset[:, motion_id_col] == snap_id\n",
    "column_filter = full_dataset[:, subject_number_col] == 3\n",
    "run_filter = full_dataset[:, run_number_col] == 4\n",
    "\n",
    "# Combine filters using np.all function\n",
    "full_filter = np.all([motion_filter, column_filter, run_filter], axis=0)\n",
    "\n",
    "# Apply filter to dataset\n",
    "s3s4_snap_data = full_dataset[full_filter]"
   ]
  },
  {
   "cell_type": "code",
   "execution_count": 80,
   "metadata": {
    "deletable": false,
    "editable": false
   },
   "outputs": [
    {
     "data": {
      "text/html": [
       "<p><strong><pre style='display: inline;'>filter_data_set</pre></strong> passed! 💯</p>"
      ],
      "text/plain": [
       "filter_data_set results: All test cases passed!"
      ]
     },
     "execution_count": 80,
     "metadata": {},
     "output_type": "execute_result"
    }
   ],
   "source": [
    "grader.check(\"filter_data_set\")"
   ]
  },
  {
   "cell_type": "markdown",
   "metadata": {
    "deletable": false,
    "editable": false
   },
   "source": [
    "## Week 2, problem 1: Calculate RMS\n",
    "\n",
    "In this homework, you will be writing code to determine which motion a person is performing. One common way to differentiate between different motion types is with well chosen summary statistics of the data. This can include statistics on individual axes, as well as statistics that combine multi-dimensional data (e.g., the x, y, and z data from accelerometers).\n",
    "\n",
    "We will use the root mean square (RMS) of the accelerometer data as one such summary statistic. RMS is particularly useful to us here since it is an excellent information stream for detecting contact (such as impact between hands, collisions between fingers as you snap), even if hand orientation is not perfectly consistent.\n",
    "\n",
    "For this problem, you will write a function to calculate the RMS of each row in an array, and use it to calculate the RMS of two specific data channels for the entire data set."
   ]
  },
  {
   "cell_type": "code",
   "execution_count": 81,
   "metadata": {
    "tags": []
   },
   "outputs": [],
   "source": [
    "# TODO: Copy get_descriptor and get_channel_data from lab 2.\n",
    "def get_descriptor(data_description, name):\n",
    "    \"\"\" Returns the descriptor for the given data channel.\n",
    "    @param name - The name of the data channel to look for. \"\"\"\n",
    "\n",
    "# check if item in data description is desired\n",
    "    for item in data_description[\"data_channels\"]:\n",
    "        if item[\"name\"] == name:\n",
    "            descriptor_dict = item\n",
    "            break\n",
    "\n",
    "    return descriptor_dict\n",
    "\n",
    "    pass\n",
    "\n",
    "def get_channel_data(all_data, index_offset, n_dims):\n",
    "    \"\"\" Get the data for just one channel (e.g., right hand accelerometer)\n",
    "    @param all_data - numpy array containing data from one or more files\n",
    "    @param index_offset - the column to begin getting data from\n",
    "    @param n_dims - number of dimensions for the data channel\n",
    "    @return Return array should be number of rows in all_data X n_dims\"\"\"\n",
    "\n",
    "    # create array with shape of data and desired dimensions\n",
    "    channel_data = np.zeros((all_data.shape[0], n_dims))\n",
    "    # insert desired data into array\n",
    "    channel_data = all_data[:, index_offset:index_offset + n_dims]\n",
    "\n",
    "    return channel_data\n",
    "\n",
    "    pass\n"
   ]
  },
  {
   "cell_type": "code",
   "execution_count": 82,
   "metadata": {
    "tags": []
   },
   "outputs": [],
   "source": [
    "# RMS: sqrt(sum_x x^2)\n",
    "def rms(array):\n",
    "   \"\"\" Calculate the root mean square of each row in array.\n",
    "   @param array - A 2-dimensional numpy array\n",
    "   @return A 1-dimensional numpy array containing the RMS of each row in the array.\n",
    "   \"\"\"\n",
    "   # TODO: Write this function.\n",
    "   # Hint: Use numpy functions to operate on the entire array at once rather than\n",
    "   # iterate through each row.\n",
    "\n",
    "   RMS = np.sqrt(np.mean(array**2, axis=1))\n",
    "\n",
    "   return RMS\n",
    "\n",
    "   pass"
   ]
  },
  {
   "cell_type": "code",
   "execution_count": 83,
   "metadata": {
    "tags": []
   },
   "outputs": [],
   "source": [
    "# Check that the rms function works as expected\n",
    "test_array = np.array([[1,2,3], [4,5,6]])\n",
    "test_array_rms = rms(test_array)\n",
    "assert(np.isclose(test_array_rms[0], 2.1602469))\n",
    "assert(np.isclose(test_array_rms[1], 5.06622805))"
   ]
  },
  {
   "cell_type": "code",
   "execution_count": 84,
   "metadata": {
    "tags": []
   },
   "outputs": [],
   "source": [
    "# TODO: Use rms, full_dataset, get_descriptor, and get_channel_data to calculate the RMS of left hand accelerometer and right hand accelerometer for the entire data set.\n",
    "\n",
    "lh_accelerometer_descriptor = get_descriptor(data_description, 'Left hand accelerometer')\n",
    "lh_accelerometer_rms_check = rms(get_channel_data(full_dataset, lh_accelerometer_descriptor['index_offset'], lh_accelerometer_descriptor['dimensions']))\n",
    "\n",
    "rh_accelerometer_descriptor = get_descriptor(data_description, 'Right hand accelerometer')\n",
    "rh_accelerometer_rms_check = rms(get_channel_data(full_dataset, rh_accelerometer_descriptor['index_offset'], rh_accelerometer_descriptor['dimensions']))"
   ]
  },
  {
   "cell_type": "code",
   "execution_count": 85,
   "metadata": {
    "deletable": false,
    "editable": false
   },
   "outputs": [
    {
     "data": {
      "text/html": [
       "<p><strong><pre style='display: inline;'>calculate_rms</pre></strong> passed! 💯</p>"
      ],
      "text/plain": [
       "calculate_rms results: All test cases passed!"
      ]
     },
     "execution_count": 85,
     "metadata": {},
     "output_type": "execute_result"
    }
   ],
   "source": [
    "grader.check(\"calculate_rms\")"
   ]
  },
  {
   "cell_type": "markdown",
   "metadata": {
    "deletable": false,
    "editable": false
   },
   "source": [
    "## Week 2, problem 2: Function for filtering data set\n",
    "\n",
    "Take the code from Week 1 problem 2 and turn it into a re-usable function."
   ]
  },
  {
   "cell_type": "code",
   "execution_count": 86,
   "metadata": {
    "tags": []
   },
   "outputs": [],
   "source": [
    "def filter_data_set(data, subject_number, run_number, motion_id):\n",
    "    \"\"\" Filters a data set to a specific run of a specific motion type from a specific subject.\n",
    "    @param data - The full dataset, containing multiple motion runs from multiple people.\n",
    "    @return Just the rows for the given subject number, run number, and motion id.\n",
    "    \"\"\"\n",
    "\n",
    "    subject_filter = full_dataset[:, subject_number_col] == subject_number\n",
    "    run_filter = full_dataset[:, run_number_col] == run_number\n",
    "    motion_id_filter = full_dataset[:, motion_id_col] == motion_id\n",
    "    \n",
    "\n",
    "    # Combine filters using np.all function\n",
    "    full_filter = np.all([subject_filter, motion_id_filter, run_filter], axis = 0)\n",
    "\n",
    "    # Apply filter to dataset\n",
    "    filtered_data = full_dataset[full_filter]\n",
    "\n",
    "    return filtered_data\n",
    "    pass"
   ]
  },
  {
   "cell_type": "code",
   "execution_count": 87,
   "metadata": {
    "deletable": false,
    "editable": false
   },
   "outputs": [
    {
     "data": {
      "text/html": [
       "<p><strong><pre style='display: inline;'>filter_function</pre></strong> passed! 💯</p>"
      ],
      "text/plain": [
       "filter_function results: All test cases passed!"
      ]
     },
     "execution_count": 87,
     "metadata": {},
     "output_type": "execute_result"
    }
   ],
   "source": [
    "grader.check(\"filter_function\")"
   ]
  },
  {
   "cell_type": "markdown",
   "metadata": {
    "deletable": false,
    "editable": false
   },
   "source": [
    "## Week 2, problem 3: Finding peak and valley of a data channel\n",
    "\n",
    "Often, the maximum and minimum value of a data channel are informative as further summary statistics, in addition to being helpful for pinpointing the occurrence of key events such as moments of hand contact in the recorded data. The difference between these maximum and minimum values can be helpful, too, as you try to understand the range of your data. \n",
    "\n",
    "For this problem, you will write a function that locates the first row containing a specific value, and then use it to find the peak and valley of a data channel. The function will be very similar to the optional section of lab 2.\n",
    "\n",
    "While data can have multiple peaks and valleys, for simplicity we will only look at the first location with the maximum and minimum value for the data channel."
   ]
  },
  {
   "cell_type": "code",
   "execution_count": 88,
   "metadata": {
    "tags": []
   },
   "outputs": [],
   "source": [
    "def find_row_with_value(data, value):\n",
    "    \"\"\" Locates the first index of data containing value.\n",
    "    @param data - A 1-d array containing data.\n",
    "    @param value - A specific value to look for in data.\n",
    "    @return The index of value within data, or -1 if value is not found.\n",
    "    \"\"\"\n",
    "    # TODO: Write this function. See the optional section of lab 2 for hints on how to do this.\n",
    "    all_rows_with_min = []\n",
    "\n",
    "    all_indices_from_where = np.where(np.isclose(data, value))\n",
    "\n",
    "    for r in all_indices_from_where[0]:\n",
    "        all_rows_with_min.append(r)\n",
    "\n",
    "    return all_rows_with_min[0]\n",
    "\n",
    "    pass\n"
   ]
  },
  {
   "cell_type": "code",
   "execution_count": 89,
   "metadata": {
    "tags": []
   },
   "outputs": [],
   "source": [
    "# Simple test code for your function to help debug issues.\n",
    "find_row_with_value_test_array = np.array([6, 7, 8, 7, 5])\n",
    "\n",
    "assert(find_row_with_value(find_row_with_value_test_array, 6) == 0)\n",
    "assert(find_row_with_value(find_row_with_value_test_array, 7) == 1)\n",
    "assert(find_row_with_value(find_row_with_value_test_array, 5) == 4)"
   ]
  },
  {
   "cell_type": "code",
   "execution_count": 90,
   "metadata": {
    "tags": []
   },
   "outputs": [],
   "source": [
    "# Find peak and valley of z axis of the right hand accelerometer in s3s4_snap_data\n",
    "# Hint: You can use get_channel_data to extract just the rh accelerometer channel from s3s4_snap_data.\n",
    "\n",
    "rh_accelerometer_descriptor = get_descriptor(data_description, 'Right hand accelerometer')\n",
    "s3s4_snap_rh_accelerometer_data = get_channel_data(s3s4_snap_data, rh_accelerometer_descriptor['index_offset'], rh_accelerometer_descriptor['dimensions'])\n",
    "s3s4_snap_rh_accelerometer_z_min = np.min(s3s4_snap_rh_accelerometer_data[:, 2])\n",
    "s3s4_snap_rh_accelerometer_z_max = np.max(s3s4_snap_rh_accelerometer_data[:, 2])\n",
    "\n",
    "s3s4_snap_rh_accelerometer_z_min_index = find_row_with_value(s3s4_snap_rh_accelerometer_data[:, 2], s3s4_snap_rh_accelerometer_z_min)\n",
    "s3s4_snap_rh_accelerometer_z_max_index = find_row_with_value(s3s4_snap_rh_accelerometer_data[:, 2], s3s4_snap_rh_accelerometer_z_max)\n"
   ]
  },
  {
   "cell_type": "code",
   "execution_count": 91,
   "metadata": {
    "deletable": false,
    "editable": false
   },
   "outputs": [
    {
     "data": {
      "text/html": [
       "<p><strong><pre style='display: inline;'>peak_and_valley</pre></strong> passed! 🌟</p>"
      ],
      "text/plain": [
       "peak_and_valley results: All test cases passed!"
      ]
     },
     "execution_count": 91,
     "metadata": {},
     "output_type": "execute_result"
    }
   ],
   "source": [
    "grader.check(\"peak_and_valley\")"
   ]
  },
  {
   "cell_type": "markdown",
   "metadata": {
    "deletable": false,
    "editable": false
   },
   "source": [
    "<!-- BEGIN QUESTION -->\n",
    "\n",
    "## Week 3, problem 1: Graph RMS for each motion type\n",
    "\n",
    "We have the full data set, a way to filter it, and the ability to calculate RMS for a given data channel. Let's combine these abilities and graph the left hand and right hand accelerometer RMS for a single clap, snap, and high five. After that, we can take a step back and observe how the graph differs between motion types."
   ]
  },
  {
   "cell_type": "code",
   "execution_count": 92,
   "metadata": {
    "tags": []
   },
   "outputs": [],
   "source": [
    "# TODO: Copy plot_function from Lab 3.\n",
    "\n",
    "def plot_function(axs, ts, data, channel_info, dimension_labels):\n",
    "    \"\"\" Plot all of the dimensions for a given channel\n",
    "    @param axs - the place to plot in\n",
    "    @param ts - the time steps to use\n",
    "    @param data - the numpy array from the csv file\n",
    "    @param channel_info - a dictionary with the channel info, e.g. \"name\" and \"units\"\n",
    "    @param n_total_dims - total number of columns per one time step\n",
    "    @returns - nothing\"\"\"\n",
    "\n",
    "    for r in range(channel_info['dimensions']):\n",
    "        axs.plot(ts/1000, data[:, r], label=f\"{dimension_labels[r]}\")\n",
    "        axs.legend(loc='upper right')\n",
    "        axs.set_title(f'{channel_info['name']}')\n",
    "        axs.set_xlabel('Timestamp (seconds)')\n",
    "        axs.set_ylabel(f'{channel_info['name']} ({channel_info['units']})')\n",
    "\n",
    "    pass"
   ]
  },
  {
   "cell_type": "code",
   "execution_count": 93,
   "metadata": {
    "tags": []
   },
   "outputs": [],
   "source": [
    "# TODO: Create a plot with 3 rows and 2 columns. Plots in the left column contain the RMS of the left hand accelerometer,\n",
    "# and plots in the right column contain the RMS of the right hand accelerometer. The first row contains graphs for a snap,\n",
    "# the second row a clap, and the third row a high five. You can plot any single snap, clap, or high five in the data set.\n",
    "\n",
    "# Use the variables below when filtering the data.\n",
    "# For the final submitted graph, please use subject 6 run 3.\n",
    "# But prior to submission, feel free to explore the data\n",
    "# by looking at graphs for other subjects/runs!\n",
    "snap_subject_number = 6\n",
    "snap_run_number = 3\n",
    "\n",
    "clap_subject_number = 6\n",
    "clap_run_number = 3\n",
    "\n",
    "high_five_subject_number = 6\n",
    "high_five_run_number = 3\n",
    "\n",
    "# Hint: For calculating and using RMS, you have two options:\n",
    "#\n",
    "#   I've copied `full_dataset` into `all_data` for you\n",
    "# * Add two columns to the end of `all_data` containing the RMS of the left hand accelerometer and the right hand accelerometer\n",
    "#   for every row in the data set, and then filter `all_data` to the specific subject number, run number, and motion type.\n",
    "#   You can use `np.append` to add these columns.\n",
    "#\n",
    "# OR\n",
    "#\n",
    "# * Filter `all_data` to the specific subject number, run number, and motion type, and then calculate the RMS of the left hand\n",
    "#   accelerometer and right hand accelerometer for that motion in separate numpy arrays.\n",
    "\n",
    "all_data = np.copy(full_dataset)\n",
    "\n",
    "# create and append rms\n",
    "lh_accelerometer_descriptor = get_descriptor(data_description, 'Left hand accelerometer')\n",
    "lh_accelerometer_rms_check = rms(get_channel_data(all_data, lh_accelerometer_descriptor['index_offset'], lh_accelerometer_descriptor['dimensions']))\n",
    "\n",
    "all_data = np.append(all_data, lh_accelerometer_rms_check[:, np.newaxis], axis=1)\n",
    "\n",
    "rh_accelerometer_descriptor = get_descriptor(data_description, 'Right hand accelerometer')\n",
    "rh_accelerometer_rms_check = rms(get_channel_data(all_data, rh_accelerometer_descriptor['index_offset'], rh_accelerometer_descriptor['dimensions']))\n",
    "\n",
    "all_data = np.append(all_data, rh_accelerometer_rms_check[:, np.newaxis], axis=1)\n",
    "\n",
    "# filter subject and run\n",
    "run_filter = all_data[:, run_number_col] == snap_run_number\n",
    "subject_filter = all_data[:, subject_number_col] == snap_subject_number\n",
    "# combine filters\n",
    "subject_run_filter = np.all([run_filter, subject_filter], axis=0)\n",
    "# apply filters to all_data\n",
    "all_data_filtered = all_data[subject_run_filter]\n",
    "\n",
    "# filter snap, clap, high five\n",
    "snap_filter = all_data_filtered[:, motion_id_col] == snap_id\n",
    "clap_filter = all_data_filtered[:, motion_id_col] == clap_id\n",
    "high_five_filter = all_data_filtered[:, motion_id_col] == high_five_id\n",
    "\n",
    "# apply filters, select only rms columns\n",
    "snap_rms = all_data_filtered[snap_filter][:, -2:]\n",
    "clap_rms = all_data_filtered[clap_filter][:, -2:]\n",
    "high_five_rms = all_data_filtered[high_five_filter][:, -2:]"
   ]
  },
  {
   "cell_type": "code",
   "execution_count": 100,
   "metadata": {
    "tags": []
   },
   "outputs": [
    {
     "name": "stderr",
     "output_type": "stream",
     "text": [
      "C:\\Users\\Cody\\AppData\\Local\\Temp\\ipykernel_2448\\3579898052.py:14: UserWarning: No artists with labels found to put in legend.  Note that artists whose label start with an underscore are ignored when legend() is called with no argument.\n",
      "  axs.legend(loc='upper right')\n"
     ]
    },
    {
     "data": {
      "image/png": "[encoded data removed]",
      "text/plain": [
       "<Figure size 1000x1400 with 6 Axes>"
      ]
     },
     "metadata": {},
     "output_type": "display_data"
    }
   ],
   "source": [
    "# Here, graph the data\n",
    "nrows = 3\n",
    "ncols = 2\n",
    "fig, axs = plt.subplots(nrows, ncols, figsize=(10, 14))\n",
    "\n",
    "# Put left hand in the first column, right hand in the second column.\n",
    "# Hint: To use plot_function with your new \"rms\" data channel, you will need to make a\n",
    "# dictionary for its descriptor with \"name\" and \"units\" entries.\n",
    "rms_descriptor = [{'name':'Snap (LH)', 'units':'gravity units', 'dimensions':1}, \n",
    "                    {'name':'Snap (RH)', 'units':'gravity units', 'dimensions':1},\n",
    "                    {'name':'Clap (LH)', 'units':'gravity units', 'dimensions':1},\n",
    "                    {'name':'Clap (RH)', 'units':'gravity units', 'dimensions':1},\n",
    "                    {'name':'High five (LH)', 'units':'gravity units', 'dimensions':1},\n",
    "                    {'name':'High five (RH)', 'units':'gravity units', 'dimensions':1}\n",
    "                    ]\n",
    "\n",
    "# snap\n",
    "plot_function(axs = axs[0, 0], ts = all_data_filtered[snap_filter][:, timestamp_col], data = snap_rms, channel_info = rms_descriptor[0], dimension_labels = [''])\n",
    "plot_function(axs = axs[0, 1], ts = all_data_filtered[snap_filter][:, timestamp_col], data = snap_rms[:, 1:], channel_info = rms_descriptor[1], dimension_labels = [''])\n",
    "\n",
    "# clap\n",
    "plot_function(axs = axs[1, 0], ts = all_data_filtered[clap_filter][:, timestamp_col], data = clap_rms, channel_info = rms_descriptor[2], dimension_labels = [''])\n",
    "plot_function(axs = axs[1, 1], ts = all_data_filtered[clap_filter][:, timestamp_col], data = clap_rms[:, 1:], channel_info = rms_descriptor[3], dimension_labels = [''])\n",
    "\n",
    "# high five\n",
    "plot_function(axs = axs[2, 0], ts = all_data_filtered[high_five_filter][:, timestamp_col], data = high_five_rms, channel_info = rms_descriptor[4], dimension_labels = [''])\n",
    "plot_function(axs = axs[2, 1], ts = all_data_filtered[high_five_filter][:, timestamp_col], data = high_five_rms[:, 1:], channel_info = rms_descriptor[5], dimension_labels = [''])\n",
    "\n",
    "plt.show()\n",
    "fig.tight_layout()"
   ]
  },
  {
   "cell_type": "code",
   "execution_count": 95,
   "metadata": {
    "deletable": false,
    "editable": false
   },
   "outputs": [
    {
     "name": "stdout",
     "output_type": "stream",
     "text": [
      "This is a manually-graded question; there is no grader.check() function. See rubric and slides for more information on expected output.\n"
     ]
    }
   ],
   "source": [
    "# Manual grade\n",
    "print(\"This is a manually-graded question; there is no grader.check() function. See rubric and slides for more information on expected output.\")\n",
    "#                                 __     \n",
    "#                                |  \\    \n",
    "#  _______    ______    ______  _| $$_   \n",
    "# |       \\  /      \\  |      \\|   $$ \\  \n",
    "# | $$$$$$$\\|  $$$$$$\\  \\$$$$$$\\\\$$$$$$  \n",
    "# | $$  | $$| $$    $$ /      $$ | $$ __ \n",
    "# | $$  | $$| $$$$$$$$|  $$$$$$$ | $$|  \\\n",
    "# | $$  | $$ \\$$     \\ \\$$    $$  \\$$  $$\n",
    "#  \\$$   \\$$  \\$$$$$$$  \\$$$$$$$   \\$$$$ \n"
   ]
  },
  {
   "cell_type": "markdown",
   "metadata": {
    "deletable": false,
    "editable": false
   },
   "source": [
    "<!-- END QUESTION -->\n",
    "\n",
    "## Week 3, problem 2: Determine motion type from data\n",
    "\n",
    "Observe your graphs from the previous problem. How can you tell, from these graphs alone, what motion type the subject is performing?\n",
    "\n",
    "Some helpful context:\n",
    "\n",
    "* Subjects were told to snap with their _right hand_ and high five with their _left hand_.\n",
    "* The high five was pantomimed; that is, the subject did not make contact with another hand, but instead made a high five motion.\n",
    "\n",
    "From your observations, write a function that takes in the left hand and right hand accelerometer RMS values and returns the most likely motion type that the subject is performing.\n",
    "\n",
    "Hint: Look at the peaks in the graphs, the magnitude of the peaks, and the hand(s) that the peaks occur on.\n",
    "\n",
    "Hint: You could return to the previous problem and graph different subjects/runs for inspiration."
   ]
  },
  {
   "cell_type": "code",
   "execution_count": 168,
   "metadata": {
    "tags": []
   },
   "outputs": [],
   "source": [
    "def guess_motion_type(lh_accelerometer_rms, rh_accelerometer_rms):\n",
    "    \"\"\" Guesses the motion that the subject is performing given the RMS of the user's left hand and right hand accelerometers.\n",
    "    @param lh_accelerometer_rms - RMS of the left hand accelerometer\n",
    "    @param rh_accelerometer_rms - RMS of the right hand accelerometer\n",
    "    @return The motion ID of the motion the user was most likely performing.\n",
    "    \"\"\"\n",
    "    \n",
    "    if np.max(rh_accelerometer_rms) >= 5:\n",
    "        motion_id = clap_id\n",
    "    elif np.max(lh_accelerometer_rms) >= 0.7 and np.max(lh_accelerometer_rms) < 1:\n",
    "        motion_id = high_five_id\n",
    "    elif np.max(rh_accelerometer_rms) >= 2.2 and np.max(rh_accelerometer_rms) < 5:\n",
    "        motion_id = snap_id\n",
    "    else:\n",
    "        motion_id = 4\n",
    "\n",
    "    print(np.max(lh_accelerometer_rms))\n",
    "    print(np.max(rh_accelerometer_rms))\n",
    "    print('------')\n",
    "\n",
    "    return motion_id\n",
    "    pass"
   ]
  },
  {
   "cell_type": "code",
   "execution_count": 169,
   "metadata": {
    "tags": []
   },
   "outputs": [
    {
     "name": "stdout",
     "output_type": "stream",
     "text": [
      "0.2878078062411326\n",
      "4.385954856128822\n",
      "------\n"
     ]
    }
   ],
   "source": [
    "# Test code\n",
    "s3s4_snap_lh_accelerometer_data = get_channel_data(s3s4_snap_data, index_offset=lh_accelerometer_descriptor[\"index_offset\"], n_dims=lh_accelerometer_descriptor[\"dimensions\"])\n",
    "\n",
    "assert(snap_id == guess_motion_type(rms(s3s4_snap_lh_accelerometer_data), rms(s3s4_snap_rh_accelerometer_data)))"
   ]
  },
  {
   "cell_type": "code",
   "execution_count": 161,
   "metadata": {
    "deletable": false,
    "editable": false
   },
   "outputs": [
    {
     "data": {
      "text/html": [
       "<p><strong><pre style='display: inline;'>determine_motion_type</pre></strong> passed! 🌈</p>"
      ],
      "text/plain": [
       "determine_motion_type results: All test cases passed!"
      ]
     },
     "execution_count": 161,
     "metadata": {},
     "output_type": "execute_result"
    }
   ],
   "source": [
    "grader.check(\"determine_motion_type\")"
   ]
  },
  {
   "cell_type": "markdown",
   "metadata": {
    "deletable": false,
    "editable": false
   },
   "source": [
    "## Week 3, problem 3: Calculate accuracy of your heuristic\n",
    "\n",
    "You now have a function that guesses the motion type for a given motion, and we have ground truth labels for what motions the subjects are performing. Let's calculate the accuracy of your heuristic.\n",
    "\n",
    "The data set contains 10 subjects (1 through 10) that perform 10 runs (1 through 10) of each motion type (snap, high five, and clap). You can write nested loops to iterate through each of these and guess the motion type.\n",
    "\n",
    "We expect to see accuracies above 75%, and accuracies above 90% are possible."
   ]
  },
  {
   "cell_type": "code",
   "execution_count": 170,
   "metadata": {
    "tags": []
   },
   "outputs": [
    {
     "name": "stdout",
     "output_type": "stream",
     "text": [
      "0.9700343636524773\n",
      "0.9628257024681742\n",
      "------\n",
      "0.901036440254592\n",
      "0.8672754272240547\n",
      "------\n",
      "0.8826852968829453\n",
      "0.8882004278314665\n",
      "------\n",
      "0.9692092997215135\n",
      "0.9258869621431476\n",
      "------\n",
      "0.9192388155425117\n",
      "0.9288164511893617\n",
      "------\n",
      "0.978246730976734\n",
      "0.9827173211729471\n",
      "------\n",
      "0.9512973597496561\n",
      "0.9613185389522733\n",
      "------\n",
      "0.9843610448746266\n",
      "0.9634832639957999\n",
      "------\n",
      "0.9101098834756164\n",
      "0.9273977931107377\n",
      "------\n",
      "0.8846845012017939\n",
      "0.891010662113535\n",
      "------\n",
      "0.8681205753426959\n",
      "0.8496666012815458\n",
      "------\n",
      "0.8120344820264717\n",
      "0.8136543082497218\n",
      "------\n",
      "0.7968479570574719\n",
      "0.8036583021823807\n",
      "------\n",
      "0.7932633022311487\n",
      "0.8150460109711598\n",
      "------\n",
      "0.8705553782882894\n",
      "0.8670640114778148\n",
      "------\n",
      "0.8277076778670113\n",
      "0.8379538571226143\n",
      "------\n",
      "0.7521081482517434\n",
      "0.7487322618933953\n",
      "------\n",
      "0.8005206639015218\n",
      "0.8094854332640375\n",
      "------\n",
      "0.8586229284926729\n",
      "0.8619938128161555\n",
      "------\n",
      "0.7889655674784969\n",
      "0.8010201828501784\n",
      "------\n",
      "0.45229046714104715\n",
      "0.4658325879540847\n",
      "------\n",
      "0.3616167400254953\n",
      "0.3734523619776245\n",
      "------\n",
      "0.3468909530866052\n",
      "0.3544949458972112\n",
      "------\n",
      "0.45500915741700554\n",
      "0.460217339960154\n",
      "------\n",
      "0.35739800409813893\n",
      "0.360647565729573\n",
      "------\n",
      "0.3579106033634656\n",
      "0.3579106033634656\n",
      "------\n",
      "0.47532445059488926\n",
      "0.48145612468842885\n",
      "------\n",
      "0.3953057888099625\n",
      "0.41569219381653055\n",
      "------\n",
      "0.331058907144937\n",
      "0.33416562759605706\n",
      "------\n",
      "0.32969683043669074\n",
      "0.3439476704383968\n",
      "------\n",
      "0.7185633815700139\n",
      "0.7226340706055867\n",
      "------\n",
      "0.6409108102276531\n",
      "0.6206179715949794\n",
      "------\n",
      "0.5567465012612712\n",
      "0.5430162674051917\n",
      "------\n",
      "0.5463210289442157\n",
      "0.5213124462994018\n",
      "------\n",
      "0.6388009601328624\n",
      "0.6242328625334193\n",
      "------\n",
      "0.581606969238391\n",
      "0.5594342380178985\n",
      "------\n",
      "0.6126989472816156\n",
      "0.5650663677834666\n",
      "------\n",
      "0.7407653699609165\n",
      "0.7223111056416988\n",
      "------\n",
      "0.4969574093085509\n",
      "0.488535225614967\n",
      "------\n",
      "0.7586171630012071\n",
      "0.7411027818955569\n",
      "------\n",
      "0.5822370651203854\n",
      "0.5743402011583959\n",
      "------\n",
      "0.488910353064172\n",
      "0.5017967716117752\n",
      "------\n",
      "0.531068106115716\n",
      "0.5426478293208835\n",
      "------\n",
      "0.5044468918198096\n",
      "0.5092150822589606\n",
      "------\n",
      "0.5821225529617167\n",
      "0.5946988033169957\n",
      "------\n",
      "0.5536846274429755\n",
      "0.5535943159631127\n",
      "------\n",
      "0.44672885139272867\n",
      "0.4430575583375144\n",
      "------\n",
      "0.4531739916044021\n",
      "0.461483116339771\n",
      "------\n",
      "0.6126173356998641\n",
      "0.6332456079595026\n",
      "------\n",
      "0.6042074698865173\n",
      "0.5861456019340814\n",
      "------\n",
      "0.3791657509146451\n",
      "0.3657412564459562\n",
      "------\n",
      "0.37287173844813354\n",
      "0.363318042491699\n",
      "------\n",
      "0.3453500639447844\n",
      "0.3582364210034113\n",
      "------\n",
      "0.29966648127543394\n",
      "0.29045940622859273\n",
      "------\n",
      "0.32398559638765834\n",
      "0.30468563033614393\n",
      "------\n",
      "0.27178422814186015\n",
      "0.2711703031921699\n",
      "------\n",
      "0.30066592756745814\n",
      "0.3012750681132886\n",
      "------\n",
      "0.4409837487557412\n",
      "0.46439925351648303\n",
      "------\n",
      "0.3738538038681253\n",
      "0.372111094522411\n",
      "------\n",
      "0.4014971979976946\n",
      "0.4014141668318812\n",
      "------\n",
      "0.5476312628037227\n",
      "0.4978955713801841\n",
      "------\n",
      "0.5704092098368211\n",
      "0.5349143233578003\n",
      "------\n",
      "0.6820801516928442\n",
      "0.6424432530063128\n",
      "------\n",
      "0.4510727953076606\n",
      "0.48733971724044817\n",
      "------\n",
      "0.720462814215048\n",
      "0.5436297759811666\n",
      "------\n",
      "0.44271887242357316\n",
      "0.44654227123532214\n",
      "------\n",
      "0.41056871126118055\n",
      "0.41492971292336567\n",
      "------\n",
      "0.37438839013338365\n",
      "0.385183938744422\n",
      "------\n",
      "0.43023249528597907\n",
      "0.46238512086787564\n",
      "------\n",
      "0.5742821606144491\n",
      "0.6003610025087683\n",
      "------\n",
      "0.7325526147201533\n",
      "0.8103702857336268\n",
      "------\n",
      "0.6937338586710805\n",
      "0.7410353117991971\n",
      "------\n",
      "0.6623191577077223\n",
      "0.6939980787677538\n",
      "------\n",
      "0.675524487589705\n",
      "0.70743668739094\n",
      "------\n",
      "0.7892823744811909\n",
      "0.8542638156135764\n",
      "------\n",
      "0.6718382741900514\n",
      "0.6533503399147097\n",
      "------\n",
      "0.6133242752954318\n",
      "0.5964897316802696\n",
      "------\n",
      "0.7486432172047421\n",
      "0.7706274499825884\n",
      "------\n",
      "0.6492046415935938\n",
      "0.6110646446980875\n",
      "------\n",
      "0.6460650122085239\n",
      "0.6373120638012956\n",
      "------\n",
      "0.3252178756874638\n",
      "0.30027764929589196\n",
      "------\n",
      "0.3600925806881706\n",
      "0.34573593005838044\n",
      "------\n",
      "0.23130067012440758\n",
      "0.22181073012818833\n",
      "------\n",
      "0.2792251182588462\n",
      "0.28148416178061125\n",
      "------\n",
      "0.2672077843177478\n",
      "0.2719068467937748\n",
      "------\n",
      "0.23958297101421877\n",
      "0.24859605789312106\n",
      "------\n",
      "0.26770630673681683\n",
      "0.2755600358058718\n",
      "------\n",
      "0.286705423736629\n",
      "0.29944392908634276\n",
      "------\n",
      "0.24805913273518743\n",
      "0.2409702609590376\n",
      "------\n",
      "0.1707825127659933\n",
      "0.178232058470598\n",
      "------\n",
      "0.5331978994707313\n",
      "0.5490294466905516\n",
      "------\n",
      "0.9049125187921021\n",
      "0.8762419757121888\n",
      "------\n",
      "0.6375473838599502\n",
      "0.6195428422097485\n",
      "------\n",
      "0.7828580118173836\n",
      "0.7764448896519743\n",
      "------\n",
      "0.6011378100458052\n",
      "0.5885858759206963\n",
      "------\n",
      "0.5964897316802695\n",
      "0.5765125034781697\n",
      "------\n",
      "0.5715767664977295\n",
      "0.5588977246926907\n",
      "------\n",
      "0.5382068994974578\n",
      "0.5384855306010242\n",
      "------\n",
      "0.6183310871477621\n",
      "0.6219860662962368\n",
      "------\n",
      "0.5668039049500865\n",
      "0.5564770136013406\n",
      "------\n",
      "0.8301807032206904\n",
      "0.8685044617041412\n",
      "------\n",
      "0.7712111686604821\n",
      "0.7438861920123714\n",
      "------\n",
      "0.8633462032502759\n",
      "0.8780280937039163\n",
      "------\n",
      "0.8435836255720789\n",
      "0.837973746605465\n",
      "------\n",
      "0.42007935758219145\n",
      "0.4186486195685669\n",
      "------\n",
      "0.5228766584960548\n",
      "0.5138741739634973\n",
      "------\n",
      "0.8585646937379462\n",
      "0.8531705573916625\n",
      "------\n",
      "0.67512961718473\n",
      "0.6904587846738813\n",
      "------\n",
      "0.777217258343294\n",
      "0.7845593242918814\n",
      "------\n",
      "0.9330952077181978\n",
      "0.9417359856491981\n",
      "------\n",
      "0.4246174749112429\n",
      "0.4066939881532551\n",
      "------\n",
      "0.35388321990924254\n",
      "0.3425881881598761\n",
      "------\n",
      "0.40599671591446806\n",
      "0.4172928627874353\n",
      "------\n",
      "0.4115418164253381\n",
      "0.39904051590450473\n",
      "------\n",
      "0.4886375616616744\n",
      "0.48911484677254824\n",
      "------\n",
      "0.3393130314817474\n",
      "0.33336666500016665\n",
      "------\n",
      "0.24832774042918898\n",
      "0.23706539182259395\n",
      "------\n",
      "0.48785243670601874\n",
      "0.5097057974949863\n",
      "------\n",
      "0.48627838391878647\n",
      "0.4823207784590389\n",
      "------\n",
      "0.33808283008753937\n",
      "0.3293427798915086\n",
      "------\n",
      "1.1760385481210496\n",
      "1.176477794095579\n",
      "------\n",
      "1.141358839278866\n",
      "1.1498115787670025\n",
      "------\n",
      "1.0509360906671095\n",
      "1.0483161100863931\n",
      "------\n",
      "1.20867696263311\n",
      "1.207007318398139\n",
      "------\n",
      "1.2009579509708073\n",
      "1.1758684733704985\n",
      "------\n",
      "1.1879113322690937\n",
      "1.1777945491468365\n",
      "------\n",
      "1.2001249934902614\n",
      "1.1852004049948683\n",
      "------\n",
      "1.2284678804646596\n",
      "1.222156563892968\n",
      "------\n",
      "1.261176699224445\n",
      "1.2533953885346794\n",
      "------\n",
      "1.2423633392315898\n",
      "1.239220184901241\n",
      "------\n",
      "0.8217258261326179\n",
      "0.8195933951254936\n",
      "------\n",
      "0.4031955687587187\n",
      "0.38974350539810154\n",
      "------\n",
      "0.5567465012612712\n",
      "0.5486954224947267\n",
      "------\n",
      "0.2810100828558767\n",
      "0.28571547618799603\n",
      "------\n",
      "0.4744470465710583\n",
      "0.45070315434145053\n",
      "------\n",
      "0.5210246315354646\n",
      "0.5192943930629972\n",
      "------\n",
      "0.5158165048412727\n",
      "0.5053381706012982\n",
      "------\n",
      "0.3913225438603472\n",
      "0.39669467688219195\n",
      "------\n",
      "0.4865182422068056\n",
      "0.4924767337990022\n",
      "------\n",
      "0.25442746183015175\n",
      "0.2479247197571607\n",
      "------\n",
      "0.2748939189335891\n",
      "0.28850187752133144\n",
      "------\n",
      "0.3112341026729986\n",
      "0.31352830813181765\n",
      "------\n",
      "0.2513961017995307\n",
      "0.2548855952514121\n",
      "------\n",
      "0.1812916618784953\n",
      "0.17568911937472584\n",
      "------\n",
      "0.22218610817660647\n",
      "0.21992422937608913\n",
      "------\n",
      "0.28583211855912904\n",
      "0.2969287232092353\n",
      "------\n",
      "0.2619160170741759\n",
      "0.26789301347117406\n",
      "------\n",
      "0.19261360284258222\n",
      "0.22105806175452336\n",
      "------\n",
      "0.3626292872893749\n",
      "0.39403891516786343\n",
      "------\n",
      "0.26689573494781316\n",
      "0.25729360660537215\n",
      "------\n",
      "0.5115336417740936\n",
      "0.5655086206239477\n",
      "------\n",
      "0.25683976846794315\n",
      "0.26919633479426625\n",
      "------\n",
      "0.3839270764090493\n",
      "0.36469165057620945\n",
      "------\n",
      "0.40058290860528073\n",
      "0.3639139092331225\n",
      "------\n",
      "0.4579665198825492\n",
      "0.44256826215473993\n",
      "------\n",
      "0.41848934673816174\n",
      "0.4045573712919673\n",
      "------\n",
      "0.48235533237092615\n",
      "0.4514052133800258\n",
      "------\n",
      "0.4272001872658765\n",
      "0.4084931659975068\n",
      "------\n",
      "0.5150404514857709\n",
      "0.5015309894047758\n",
      "------\n",
      "0.4376832949367232\n",
      "0.44572039067858077\n",
      "------\n",
      "0.39534794801541595\n",
      "0.4168932717135166\n",
      "------\n",
      "0.3481857741685225\n",
      "0.3414674215792775\n",
      "------\n",
      "0.6547518613948341\n",
      "0.6691786009728643\n",
      "------\n",
      "0.5506662631152678\n",
      "0.5120546845796843\n",
      "------\n",
      "0.6629479617586889\n",
      "0.6487166818676188\n",
      "------\n",
      "0.34899856733230294\n",
      "0.3568846685788935\n",
      "------\n",
      "0.51234753829798\n",
      "0.5319147801418318\n",
      "------\n",
      "0.6160627673649279\n",
      "0.6016920585593043\n",
      "------\n",
      "0.4183698523236747\n",
      "0.39812058474788764\n",
      "------\n",
      "0.46335731352812376\n",
      "0.46978718586185386\n",
      "------\n",
      "0.2648899142411177\n",
      "0.2724579478255926\n",
      "------\n",
      "0.25592967784139453\n",
      "0.27166155414412246\n",
      "------\n",
      "0.27331300737432895\n",
      "0.2640075756488817\n",
      "------\n",
      "0.1887679351302369\n",
      "0.16248076809271922\n",
      "------\n",
      "0.2543619468395381\n",
      "0.25179356624028343\n",
      "------\n",
      "0.2375570107012911\n",
      "0.2428305307548181\n",
      "------\n",
      "0.21369760566432808\n",
      "0.2124460715883759\n",
      "------\n",
      "0.16103829772241549\n",
      "0.1654287359157008\n",
      "------\n",
      "0.3007767721528155\n",
      "0.2979932885150268\n",
      "------\n",
      "0.22218610817660647\n",
      "0.20108041509140898\n",
      "------\n",
      "0.849686216592141\n",
      "0.8445511628472645\n",
      "------\n",
      "0.6183310871477621\n",
      "0.6650563885867122\n",
      "------\n",
      "0.7169146857657936\n",
      "0.72853734747552\n",
      "------\n",
      "0.8498823447983844\n",
      "0.8622064717919947\n",
      "------\n",
      "0.7523740204623407\n",
      "0.7813236631938564\n",
      "------\n",
      "0.8038241930505285\n",
      "0.856893614555895\n",
      "------\n",
      "0.7129983637194877\n",
      "0.7475515589799364\n",
      "------\n",
      "0.8037619879873229\n",
      "0.8210765291169067\n",
      "------\n",
      "0.7985403350280227\n",
      "0.8002916135176394\n",
      "------\n",
      "0.8584287972802404\n",
      "0.8587005686889153\n",
      "------\n",
      "0.8009993757800314\n",
      "0.819979674544843\n",
      "------\n",
      "0.761445992832059\n",
      "0.7622335600063802\n",
      "------\n",
      "0.8028283336637623\n",
      "0.8185149153599259\n",
      "------\n",
      "0.8280499179799891\n",
      "0.8386695813409871\n",
      "------\n",
      "0.8559789717043287\n",
      "0.8502156589164109\n",
      "------\n",
      "0.9719567891629751\n",
      "0.9803740782646865\n",
      "------\n",
      "0.8034923770640267\n",
      "0.7905694150420949\n",
      "------\n",
      "0.7487100017140593\n",
      "0.7290861860347284\n",
      "------\n",
      "0.7304108432930059\n",
      "0.7252815545244021\n",
      "------\n",
      "0.8002291338527151\n",
      "0.797370679169983\n",
      "------\n",
      "0.25086516962969035\n",
      "0.27012342857787563\n",
      "------\n",
      "0.37656340767525465\n",
      "0.3747443573068624\n",
      "------\n",
      "0.29647934160747186\n",
      "0.2945052348148218\n",
      "------\n",
      "0.31352830813181765\n",
      "0.31352830813181765\n",
      "------\n",
      "0.234022790912908\n",
      "0.23359509127262643\n",
      "------\n",
      "0.3942926155365665\n",
      "0.4005829086052807\n",
      "------\n",
      "0.36678785875943787\n",
      "0.347467024814346\n",
      "------\n",
      "0.40914545090957566\n",
      "0.39820430267221707\n",
      "------\n",
      "0.3711693234450642\n",
      "0.4051748593714406\n",
      "------\n",
      "0.29490111336966274\n",
      "0.2920045661743437\n",
      "------\n",
      "1.0714631740444156\n",
      "1.1183022847155415\n",
      "------\n",
      "1.0461994711016314\n",
      "1.0225784403490357\n",
      "------\n",
      "1.041457312295292\n",
      "1.0123569857844943\n",
      "------\n",
      "1.1216951457503952\n",
      "1.1403069762129847\n",
      "------\n",
      "1.2316926023430792\n",
      "1.2208467007231771\n",
      "------\n",
      "0.9466607981038756\n",
      "0.9623062575569866\n",
      "------\n",
      "1.1354000763313932\n",
      "1.1346218165832467\n",
      "------\n",
      "0.9819198881103625\n",
      "1.0366773847248718\n",
      "------\n",
      "0.87840765023991\n",
      "0.9033640831174696\n",
      "------\n",
      "0.9691405126880895\n",
      "1.0009828503359417\n",
      "------\n",
      "1.1728171212938527\n",
      "1.2315166800873356\n",
      "------\n",
      "1.6081873854332605\n",
      "1.6177968558093647\n",
      "------\n",
      "1.4214194783150165\n",
      "1.4323989202267178\n",
      "------\n",
      "1.4886906999104952\n",
      "1.5449487585893154\n",
      "------\n",
      "1.5075808436034202\n",
      "1.58379291575635\n",
      "------\n",
      "1.5462858726639133\n",
      "1.5668545986572375\n",
      "------\n",
      "1.56535406005585\n",
      "1.5712627618150528\n",
      "------\n",
      "1.4138128117493727\n",
      "1.4034956359034394\n",
      "------\n",
      "1.4360362112425997\n",
      "1.4586180674414624\n",
      "------\n",
      "1.2342474090176032\n",
      "1.232801687214939\n",
      "------\n",
      "0.9536945702547192\n",
      "0.9665402216152208\n",
      "------\n",
      "0.9351292245816439\n",
      "0.9383851377055514\n",
      "------\n",
      "1.0150533647711992\n",
      "1.0176115827433045\n",
      "------\n",
      "0.9768486747359252\n",
      "0.974234742417521\n",
      "------\n",
      "1.000949549178179\n",
      "0.9794215980192935\n",
      "------\n",
      "0.9933277404764251\n",
      "0.9933277404764251\n",
      "------\n",
      "0.9034932207825358\n",
      "0.9073955403607992\n",
      "------\n",
      "0.9471536306217698\n",
      "0.9471536306217698\n",
      "------\n",
      "0.9385982456123955\n",
      "0.9298386956886662\n",
      "------\n",
      "0.9232731629010633\n",
      "0.9468720434497296\n",
      "------\n",
      "1.1664904628842878\n",
      "1.160574570345798\n",
      "------\n",
      "0.7283085426749664\n",
      "0.7407653699609164\n",
      "------\n",
      "0.8629793354034229\n",
      "0.9206700458542862\n",
      "------\n",
      "0.9329165736191706\n",
      "0.9714936952960631\n",
      "------\n",
      "0.8293973715897586\n",
      "0.8537954477898477\n",
      "------\n",
      "0.8839683252243827\n",
      "0.8480959065263002\n",
      "------\n",
      "0.7676153550661512\n",
      "0.781984654580894\n",
      "------\n",
      "0.7773673520286274\n",
      "0.7408328646417716\n",
      "------\n",
      "0.8335266442452015\n",
      "0.8449457576278688\n",
      "------\n",
      "0.7991870869827664\n",
      "0.7824321056807421\n",
      "------\n",
      "1.350580122268452\n",
      "1.3629624597422583\n",
      "------\n",
      "1.0702959092388111\n",
      "1.1083170424867907\n",
      "------\n",
      "1.1548592987892508\n",
      "1.1516509887982558\n",
      "------\n",
      "1.4973977427524057\n",
      "1.519583276208755\n",
      "------\n",
      "1.2486125633411402\n",
      "1.2992561974709478\n",
      "------\n",
      "1.6057604636640757\n",
      "1.6580912721158225\n",
      "------\n",
      "1.102194780124336\n",
      "1.1485062762852742\n",
      "------\n",
      "1.0838665354492067\n",
      "1.0989843796281487\n",
      "------\n",
      "1.125892238774801\n",
      "1.1119652272740668\n",
      "------\n",
      "1.225139447845292\n",
      "1.244012325769591\n",
      "------\n",
      "0.7037992137913578\n",
      "0.7063049388661152\n",
      "------\n",
      "0.8580209787645056\n",
      "0.8846091415610249\n",
      "------\n",
      "0.7252815545244021\n",
      "0.7439758060582347\n",
      "------\n",
      "0.9421075663992232\n",
      "0.9533275058096946\n",
      "------\n",
      "0.9810368664496423\n",
      "0.9835479991676394\n",
      "------\n",
      "0.8695017730478376\n",
      "0.8659099260315705\n",
      "------\n",
      "0.9072302170158723\n",
      "0.9369987548906704\n",
      "------\n",
      "0.8215838362577492\n",
      "0.797098906451807\n",
      "------\n",
      "0.8915903394122962\n",
      "0.9168969407736073\n",
      "------\n",
      "0.8175777231146488\n",
      "0.8307827634225448\n",
      "------\n",
      "0.905243981845042\n",
      "0.90380676400803\n",
      "------\n",
      "0.9773944955850733\n",
      "0.9893600625320053\n",
      "------\n",
      "0.9488413987595609\n",
      "0.9422137054122418\n",
      "------\n",
      "0.8674099376880576\n",
      "0.8791852288719748\n",
      "------\n",
      "0.7217802066187924\n",
      "0.7198610977126072\n",
      "------\n",
      "0.6138403701289122\n",
      "0.6243129557094476\n",
      "------\n",
      "0.67688009770318\n",
      "0.6959166616772442\n",
      "------\n",
      "0.8304817878797824\n",
      "0.8367795408588812\n",
      "------\n",
      "0.8413085046521283\n",
      "0.8389477536374559\n",
      "------\n",
      "0.7388955722337675\n",
      "0.7672678802087313\n",
      "------\n",
      "0.8632496741962896\n",
      "0.85594002905188\n",
      "------\n",
      "0.6567089664887078\n",
      "0.6910378667868595\n",
      "------\n",
      "0.6674079212395769\n",
      "0.6731517907079602\n",
      "------\n",
      "0.6623443213314356\n",
      "0.6737952211169207\n",
      "------\n",
      "0.5613376880274475\n",
      "0.56539072035776\n",
      "------\n",
      "0.673918887305191\n",
      "0.6999761900712528\n",
      "------\n",
      "0.5670097000933935\n",
      "0.5406477596365308\n",
      "------\n",
      "0.6679570844497921\n",
      "0.6801960501698511\n",
      "------\n",
      "0.6864886500639809\n",
      "0.6658578426861598\n",
      "------\n",
      "0.7015459120162176\n",
      "0.70164093381159\n",
      "------\n",
      "0.23366642891095846\n",
      "0.24993332444207328\n",
      "------\n",
      "0.44399699698684153\n",
      "0.45851208635469287\n",
      "------\n",
      "0.28507309004300396\n",
      "0.30713731999438515\n",
      "------\n",
      "0.3086529874578678\n",
      "0.3469389955981695\n",
      "------\n",
      "0.21671794265050293\n",
      "0.24041630560342614\n",
      "------\n",
      "0.294561821468205\n",
      "0.291032644217105\n",
      "------\n",
      "0.2183269719175042\n",
      "0.2041241452319315\n",
      "------\n",
      "0.22642143596988928\n",
      "0.2272296928953902\n",
      "------\n",
      "0.2240535650240808\n",
      "0.2455605831561735\n",
      "------\n",
      "0.23309511649396117\n",
      "0.24671170759951108\n",
      "------\n",
      "(array([  0,   1,   2,   3,   4,   5,   6,   7,   8,   9,  20,  21,  22,\n",
      "        23,  24,  25,  26,  27,  28,  29,  30,  31,  32,  33,  34,  35,\n",
      "        36,  37,  38,  39,  40,  41,  42,  43,  44,  45,  46,  47,  48,\n",
      "        49,  50,  51,  52,  53,  54,  55,  56,  57,  58,  59,  60,  61,\n",
      "        62,  63,  64,  65,  66,  67,  68,  69,  71,  72,  73,  75,  76,\n",
      "        78,  79,  80,  81,  82,  83,  84,  85,  86,  87,  88,  89,  90,\n",
      "        91,  92,  93,  94,  95,  96,  97,  98,  99, 104, 105, 107, 110,\n",
      "       111, 112, 113, 114, 115, 116, 117, 118, 119, 120, 121, 122, 123,\n",
      "       124, 125, 126, 127, 128, 129, 131, 132, 133, 134, 135, 136, 137,\n",
      "       138, 139, 140, 141, 142, 143, 144, 145, 146, 147, 148, 149, 150,\n",
      "       151, 152, 153, 154, 155, 156, 157, 158, 159, 160, 161, 162, 163,\n",
      "       164, 165, 166, 167, 168, 169, 170, 171, 172, 173, 174, 175, 176,\n",
      "       177, 178, 179, 180, 181, 182, 183, 184, 185, 186, 187, 188, 189,\n",
      "       200, 201, 202, 203, 204, 205, 206, 207, 208, 209, 210, 211, 212,\n",
      "       213, 214, 215, 216, 217, 218, 219, 220, 221, 222, 223, 224, 225,\n",
      "       226, 227, 228, 229, 230, 231, 232, 233, 234, 235, 236, 237, 238,\n",
      "       239, 240, 241, 242, 243, 244, 245, 246, 247, 248, 249, 250, 251,\n",
      "       252, 253, 254, 255, 256, 257, 258, 259, 260, 261, 262, 263, 264,\n",
      "       265, 266, 267, 268, 269, 270, 271, 272, 273, 274, 275, 276, 277,\n",
      "       278, 279, 281, 282, 283, 284, 285, 286, 287, 288, 290, 291, 292,\n",
      "       293, 294, 295, 296, 297, 298, 299], dtype=int64),)\n",
      "guess_motion_type is 11.0% accurate\n"
     ]
    }
   ],
   "source": [
    "# TODO: Produce a numpy array that contains a row with 4 columns containing subject number, run number, actual motion, and guessed motion\n",
    "accuracy_info = np.zeros((300, 4))\n",
    "accuracy_info[:, 0] = np.repeat(np.arange(1,11), 30)\n",
    "accuracy_info[:, 1] = np.tile(np.arange(1, 11), 30)\n",
    "accuracy_info[:, 2] = np.tile(np.repeat(np.arange(1, 4), 10), 10)\n",
    "\n",
    "failed = 0\n",
    "\n",
    "for r in range(accuracy_info.shape[0]):\n",
    "    subject = accuracy_info[r, 0]\n",
    "    run = accuracy_info[r, 1]\n",
    "    actual_motion = accuracy_info[r, 2]\n",
    "\n",
    "    sub_acc_filt = all_data[:, subject_number_col] == subject\n",
    "    run_acc_filt = all_data[:, run_number_col] == run\n",
    "    mot_acc_filt = all_data[:, motion_id_col] == actual_motion\n",
    "\n",
    "    acc_filter = np.all([sub_acc_filt, run_acc_filt, mot_acc_filt], axis=0)\n",
    "\n",
    "    rms_data = all_data[acc_filter][:, -2:]\n",
    "\n",
    "    guessed_motion = guess_motion_type(lh_accelerometer_rms = rms_data[0], rh_accelerometer_rms = rms_data[1])\n",
    "\n",
    "    accuracy_info[r, 3] = guessed_motion\n",
    "\n",
    "# TODO: Count the number of correct and incorrect guesses.\n",
    "# Hint: np.where is useful here.\n",
    "correct_count_list = np.where(accuracy_info[:, 2] == accuracy_info[:, 3])\n",
    "incorrect_count_list = np.where(accuracy_info[:, 2] != accuracy_info[:, 3])\n",
    "correct_count = len(correct_count_list[0])\n",
    "incorrect_count = len(incorrect_count_list[0])\n",
    "\n",
    "print(incorrect_count_list)\n",
    "\n",
    "# TODO: Use correct_count and incorrect_count to calculate accuracy\n",
    "# Hint: You will need to do conversions to floats to avoid doing integer division.\n",
    "accuracy = correct_count/(correct_count + incorrect_count)\n",
    "\n",
    "print(f'guess_motion_type is {accuracy * 100}% accurate')"
   ]
  },
  {
   "cell_type": "code",
   "execution_count": null,
   "metadata": {
    "deletable": false,
    "editable": false
   },
   "outputs": [],
   "source": [
    "grader.check(\"calculate_accuracy\")"
   ]
  },
  {
   "cell_type": "markdown",
   "metadata": {
    "deletable": false,
    "editable": false
   },
   "source": [
    "## Week 3, problem 4: Find the \"worst\" subject\n",
    "\n",
    "Which subject does your heuristic perform the worst on?"
   ]
  },
  {
   "cell_type": "code",
   "execution_count": 163,
   "metadata": {
    "tags": []
   },
   "outputs": [
    {
     "name": "stdout",
     "output_type": "stream",
     "text": [
      "100\n",
      "67\n",
      "100\n",
      "guess_motion_type performed worst on subject Ellipsis\n"
     ]
    }
   ],
   "source": [
    "# TODO: Populate a numpy array with one entry per subject, counting the number of \n",
    "# incorrect motion type predictions.\n",
    "incorrect_by_subject = np.zeros((3, 1))\n",
    "\n",
    "incorrect_array = accuracy_info[incorrect_count_list]\n",
    "clap_wrong = np.sum(incorrect_array[:, 2] == 1)\n",
    "high_five_wrong = np.sum(incorrect_array[:, 2] == 2)\n",
    "snap_wrong = np.sum(incorrect_array[:, 2] == 3)\n",
    "\n",
    "print(clap_wrong)\n",
    "print(high_five_wrong)\n",
    "print(snap_wrong)\n",
    "\n",
    "# incorrect_by_subject[0] =\n",
    "\n",
    "# TODO: Use incorrect_by_subject to determine the subject number that guess_motion_type\n",
    "# performed worst on.\n",
    "# Hint: find_row_with_value might be useful here.\n",
    "worst_subject_number = ...\n",
    "\n",
    "print(f'guess_motion_type performed worst on subject {worst_subject_number}')"
   ]
  },
  {
   "cell_type": "code",
   "execution_count": null,
   "metadata": {
    "deletable": false,
    "editable": false
   },
   "outputs": [],
   "source": [
    "grader.check(\"worst_subject\")"
   ]
  },
  {
   "cell_type": "markdown",
   "metadata": {
    "deletable": false,
    "editable": false
   },
   "source": [
    "## Hours and collaborators\n",
    "Required for every assignment - fill out before you hand-in.\n",
    "\n",
    "Listing names and websites helps you to document who you worked with and what internet help you received in the case of any plagiarism issues. You should list names of anyone (in class or not) who has substantially helped you with an assignment - or anyone you have *helped*. You do not need to list TAs.\n",
    "\n",
    "Listing hours helps us track if the assignments are too long."
   ]
  },
  {
   "cell_type": "code",
   "execution_count": null,
   "metadata": {
    "tags": []
   },
   "outputs": [],
   "source": [
    "\n",
    "# List of names (creates a set)\n",
    "worked_with_names = {\"not filled out\"}\n",
    "# List of URLS I25 (creates a set)\n",
    "websites = {\"not filled out\"}\n",
    "# Approximate number of hours, including lab/in-class time\n",
    "hours = -1.5"
   ]
  },
  {
   "cell_type": "code",
   "execution_count": null,
   "metadata": {
    "deletable": false,
    "editable": false
   },
   "outputs": [],
   "source": [
    "grader.check(\"hours_collaborators\")"
   ]
  },
  {
   "cell_type": "markdown",
   "metadata": {},
   "source": [
    "### To submit\n",
    "\n",
    "- Do a restart then run all to make sure everything runs ok\n",
    "- Remove excessive print statements - don't make us search through pages of numbers to find your plots\n",
    "- Save the file\n",
    "- Submit just this .ipynb file through gradescope, HWK1 numpy and Plotting\n",
    "- You do NOT need to submit the data files - we will supply those\n",
    "\n",
    "If the Gradescope autograder fails, please check here first for common reasons for it to fail\n",
    "    https://docs.google.com/presentation/d/1tYa5oycUiG4YhXUq5vHvPOpWJ4k_xUPp2rUNIL7Q9RI/edit?usp=sharing\n",
    "\n",
    "Most likely failure for this assignment is not naming the data directory and files correctly; capitalization matters for the Gradescope grader. "
   ]
  }
 ],
 "metadata": {
  "kernelspec": {
   "display_name": "base",
   "language": "python",
   "name": "python3"
  },
  "language_info": {
   "codemirror_mode": {
    "name": "ipython",
    "version": 3
   },
   "file_extension": ".py",
   "mimetype": "text/x-python",
   "name": "python",
   "nbconvert_exporter": "python",
   "pygments_lexer": "ipython3",
   "version": "3.12.7"
  },
  "otter": {
   "OK_FORMAT": true,
   "tests": {
    "calculate_accuracy": {
     "name": "calculate_accuracy",
     "points": 3,
     "suites": [
      {
       "cases": [
        {
         "code": ">>> assert accuracy >= 0.75\n",
         "hidden": false,
         "locked": false
        },
        {
         "code": ">>> assert np.isclose(accuracy, float(correct_count) / float(correct_count + incorrect_count))\n",
         "hidden": false,
         "locked": false
        },
        {
         "code": ">>> assert correct_count == len(np.where(accuracy_info[:, -2] == accuracy_info[:, -1])[0])\n",
         "hidden": false,
         "locked": false
        },
        {
         "code": ">>> assert incorrect_count == len(np.where(accuracy_info[:, -2] != accuracy_info[:, -1])[0])\n",
         "hidden": false,
         "locked": false
        }
       ],
       "scored": true,
       "setup": "",
       "teardown": "",
       "type": "doctest"
      }
     ]
    },
    "calculate_rms": {
     "name": "calculate_rms",
     "points": 3,
     "suites": [
      {
       "cases": [
        {
         "code": ">>> assert np.isclose(test_array_rms[0], 2.1602469, atol=0.001)\n",
         "hidden": false,
         "locked": false
        },
        {
         "code": ">>> assert np.isclose(test_array_rms[1], 5.06622805, atol=0.001)\n",
         "hidden": false,
         "locked": false
        },
        {
         "code": ">>> assert np.isclose(lh_accelerometer_rms_check[0], 0.9700343636524773, atol=0.001)\n",
         "hidden": false,
         "locked": false
        },
        {
         "code": ">>> assert np.isclose(lh_accelerometer_rms_check[-1], 0.1439907, atol=0.001)\n",
         "hidden": false,
         "locked": false
        },
        {
         "code": ">>> assert np.isclose(rh_accelerometer_rms_check[0], 0.8847033, atol=0.001)\n",
         "hidden": false,
         "locked": false
        },
        {
         "code": ">>> assert np.isclose(rh_accelerometer_rms_check[-1], 0.522844, atol=0.001)\n",
         "hidden": false,
         "locked": false
        }
       ],
       "scored": true,
       "setup": "",
       "teardown": "",
       "type": "doctest"
      }
     ]
    },
    "determine_motion_type": {
     "name": "determine_motion_type",
     "points": 5,
     "suites": [
      {
       "cases": [
        {
         "code": ">>> assert snap_id == guess_motion_type(rms(s3s4_snap_lh_accelerometer_data), rms(s3s4_snap_rh_accelerometer_data))\n",
         "hidden": false,
         "locked": false
        }
       ],
       "scored": true,
       "setup": "",
       "teardown": "",
       "type": "doctest"
      }
     ]
    },
    "filter_data_set": {
     "name": "filter_data_set",
     "points": 3,
     "suites": [
      {
       "cases": [
        {
         "code": ">>> assert np.isclose(s3s4_snap_data[0, 0], 38888.0)\n",
         "hidden": false,
         "locked": false
        },
        {
         "code": ">>> assert np.isclose(s3s4_snap_data[0, -1], 3.0)\n",
         "hidden": false,
         "locked": false
        },
        {
         "code": ">>> assert np.isclose(s3s4_snap_data[-1, 0], 39338.0)\n",
         "hidden": false,
         "locked": false
        },
        {
         "code": ">>> assert np.isclose(s3s4_snap_data[-1, -1], 3.0)\n",
         "hidden": false,
         "locked": false
        }
       ],
       "scored": true,
       "setup": "",
       "teardown": "",
       "type": "doctest"
      }
     ]
    },
    "filter_function": {
     "name": "filter_function",
     "points": 1,
     "suites": [
      {
       "cases": [
        {
         "code": ">>> assert np.allclose(filter_data_set(full_dataset, 3, 4, snap_id), s3s4_snap_data)\n",
         "hidden": false,
         "locked": false
        }
       ],
       "scored": true,
       "setup": "",
       "teardown": "",
       "type": "doctest"
      }
     ]
    },
    "hours_collaborators": {
     "name": "hours_collaborators",
     "points": 1,
     "suites": [
      {
       "cases": [
        {
         "code": ">>> assert not 'not filled out' in worked_with_names\n",
         "hidden": false,
         "locked": false
        },
        {
         "code": ">>> assert not 'not filled out' in websites\n",
         "hidden": false,
         "locked": false
        },
        {
         "code": ">>> assert hours > 0\n",
         "hidden": false,
         "locked": false
        }
       ],
       "scored": true,
       "setup": "",
       "teardown": "",
       "type": "doctest"
      }
     ]
    },
    "libraries": {
     "name": "libraries",
     "points": 2,
     "suites": [
      {
       "cases": [
        {
         "code": ">>> assert np.min(np.zeros((2, 2)) == 0.0)\n",
         "hidden": false,
         "locked": false
        },
        {
         "code": ">>> assert json.loads('10') == 10\n",
         "hidden": false,
         "locked": false
        }
       ],
       "scored": true,
       "setup": "",
       "teardown": "",
       "type": "doctest"
      }
     ]
    },
    "peak_and_valley": {
     "name": "peak_and_valley",
     "points": 3,
     "suites": [
      {
       "cases": [
        {
         "code": ">>> assert find_row_with_value(find_row_with_value_test_array, 6) == 0\n",
         "hidden": false,
         "locked": false
        },
        {
         "code": ">>> assert find_row_with_value(find_row_with_value_test_array, 7) == 1\n",
         "hidden": false,
         "locked": false
        },
        {
         "code": ">>> assert find_row_with_value(find_row_with_value_test_array, 5) == 4\n",
         "hidden": false,
         "locked": false
        },
        {
         "code": ">>> assert np.isclose(s3s4_snap_rh_accelerometer_z_min, -3.56)\n",
         "hidden": false,
         "locked": false
        },
        {
         "code": ">>> assert np.isclose(s3s4_snap_rh_accelerometer_z_max, 3.24)\n",
         "hidden": false,
         "locked": false
        },
        {
         "code": ">>> assert s3s4_snap_rh_accelerometer_z_min_index == 47\n",
         "hidden": false,
         "locked": false
        },
        {
         "code": ">>> assert s3s4_snap_rh_accelerometer_z_max_index == 46\n",
         "hidden": false,
         "locked": false
        }
       ],
       "scored": true,
       "setup": "",
       "teardown": "",
       "type": "doctest"
      }
     ]
    },
    "read_data": {
     "name": "read_data",
     "points": 2,
     "suites": [
      {
       "cases": [
        {
         "code": ">>> assert full_dataset.shape == (31502, 16)\n",
         "hidden": false,
         "locked": false
        },
        {
         "code": ">>> assert len(data_description['data_channels']) == 8\n",
         "hidden": false,
         "locked": false
        }
       ],
       "scored": true,
       "setup": "",
       "teardown": "",
       "type": "doctest"
      }
     ]
    },
    "worst_subject": {
     "name": "worst_subject",
     "points": 3,
     "suites": [
      {
       "cases": [
        {
         "code": ">>> assert worst_subject_number > 0\n",
         "hidden": false,
         "locked": false
        },
        {
         "code": ">>> assert worst_subject_number <= 10\n",
         "hidden": false,
         "locked": false
        },
        {
         "code": ">>> assert find_row_with_value(incorrect_by_subject, np.max(incorrect_by_subject)) == worst_subject_number - 1\n",
         "hidden": false,
         "locked": false
        }
       ],
       "scored": true,
       "setup": "",
       "teardown": "",
       "type": "doctest"
      }
     ]
    }
   }
  }
 },
 "nbformat": 4,
 "nbformat_minor": 2
}
