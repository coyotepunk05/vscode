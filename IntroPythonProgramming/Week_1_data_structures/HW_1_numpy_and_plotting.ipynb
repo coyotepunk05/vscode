{
 "cells": [
  {
   "cell_type": "code",
   "execution_count": 118,
   "metadata": {
    "deletable": false,
    "editable": false
   },
   "outputs": [],
   "source": [
    "# Initialize Otter\n",
    "import otter\n",
    "grader = otter.Notebook(\"HW_1_numpy_and_plotting.ipynb\")"
   ]
  },
  {
   "cell_type": "markdown",
   "metadata": {},
   "source": [
    "# HW 1: Statistical analysis of data using numpy and matplotlib\n",
    "\n",
    "Slides: (https://docs.google.com/presentation/d/1ef0msC9XIT37_Yg94Cf4TL9VBgbIIfkKik8jgshskjE/edit?usp=sharing)\n",
    "\n",
    "Please do lab 1 before starting the first part of this homework, lab 2 before the second part, and lab 3 before tackling the last problem (the plotting part).\n",
    "\n",
    "In this homework the focus is on code *design*. Most of the functionality of the code will be what you did in the labs. I don't expect you to do the code design; I've provided that. Just pay attention to how a couple of code structuring tools (functions, dictionaries) can make your code a little more re-usable, cleaner, and less prone to error. \n",
    "\n",
    "Learning to *read* code is also as important as *writing* code. This is (hopefully) a gentle introduction to using/interacting with more advanced concepts/syntax/semantics. \n",
    "\n",
    "By the end of the homework assignment, you will have written a method for categorizing the type of a given motion (snap, high five, or clap) and determined its accuracy on the provided dataset."
   ]
  },
  {
   "cell_type": "markdown",
   "metadata": {
    "deletable": false,
    "editable": false
   },
   "source": [
    "## Week 1, problem 0: Setting up libraries\n",
    "\n",
    "TODO: Import the libraries that you will need (numpy, json, matplotlib, os)"
   ]
  },
  {
   "cell_type": "code",
   "execution_count": 119,
   "metadata": {
    "tags": []
   },
   "outputs": [],
   "source": [
    "# TODO: put the numpy, os, json, and matplotlib imports here so you can use those libraries (see the tops of Labs 1-3)\n",
    "#  Parts 1 and 2 only need numpy, os and json. Part 3 needs matplotlib; you can either look at lab 3 and copy the import now or do\n",
    "#  it later\n",
    "import numpy as np\n",
    "import json as json\n",
    "import os\n",
    "import matplotlib.pyplot as plt\n",
    "%matplotlib inline"
   ]
  },
  {
   "cell_type": "code",
   "execution_count": 120,
   "metadata": {
    "deletable": false,
    "editable": false
   },
   "outputs": [
    {
     "data": {
      "text/html": [
       "<p><strong><pre style='display: inline;'>libraries</pre></strong> passed! 🌈</p>"
      ],
      "text/plain": [
       "libraries results: All test cases passed!"
      ]
     },
     "execution_count": 120,
     "metadata": {},
     "output_type": "execute_result"
    }
   ],
   "source": [
    "grader.check(\"libraries\")"
   ]
  },
  {
   "cell_type": "markdown",
   "metadata": {
    "deletable": false,
    "editable": false
   },
   "source": [
    "## Week 1, problem 1: Read data set and description\n",
    "\n",
    "In Lab 1, you read in a few CSV files, where each contained the data from a single motion from a single person. In this problem, you will read in a single CSV file that contains a full dataset containing multiple types of motions from multiple people (\"subjects\") done multiple times.\n",
    "\n",
    "The data is stored in `Data/full_dataset.csv`, and is described in `Data/full_dataset_data_description.json`. Note how `full_dataset_data_description.json` is different from `data_description.json`; there are three new data channels:\n",
    "\n",
    "* Subject number: Identifies the person (\"human subject\") performing the motion. There are 10 different people in the data set.\n",
    "* Run number: Each person did each motion 10 times, and this number identifies each unique run of the motion.\n",
    "* Motion type: Contains the motion ID of the motion performed, corresponding to a high five, snap, or clap.\n",
    "\n",
    "Almost all of this homework involves copying the code you wrote in Lab 1 but reading these two different files."
   ]
  },
  {
   "cell_type": "code",
   "execution_count": 121,
   "metadata": {
    "tags": []
   },
   "outputs": [],
   "source": [
    "# TODO: Read in `Data/full_dataset.csv` into `full_dataset`, and `Data/full_dataset_data_description.json` into `data_description`.\n",
    "\n",
    "full_dataset = np.loadtxt('Data/full_dataset.csv', dtype='float', delimiter=',')\n",
    "\n",
    "with open(\"Data/full_dataset_data_description.json\", \"r\") as fp:\n",
    "    data_description = json.load(fp)"
   ]
  },
  {
   "cell_type": "code",
   "execution_count": 122,
   "metadata": {
    "deletable": false,
    "editable": false
   },
   "outputs": [
    {
     "data": {
      "text/html": [
       "<p><strong><pre style='display: inline;'>read_data</pre></strong> passed! 🚀</p>"
      ],
      "text/plain": [
       "read_data results: All test cases passed!"
      ]
     },
     "execution_count": 122,
     "metadata": {},
     "output_type": "execute_result"
    }
   ],
   "source": [
    "grader.check(\"read_data\")"
   ]
  },
  {
   "cell_type": "markdown",
   "metadata": {
    "deletable": false,
    "editable": false
   },
   "source": [
    "## Week 1, problem 2: Filtering data set\n",
    "\n",
    "In this homework, you will need to perform operations on individual motions identified by a specific subject, motion type, and run number. For this part, write code to extract the fourth snap performed by subject three. We will later turn this into a function."
   ]
  },
  {
   "cell_type": "code",
   "execution_count": 123,
   "metadata": {
    "tags": []
   },
   "outputs": [],
   "source": [
    "# Numeric ids to indicate hand motion type from Lab 1\n",
    "clap_id = 1\n",
    "high_five_id = 2\n",
    "snap_id = 3\n",
    "\n",
    "# Hardcoded column numbers for this data to make the code easier; normally, you would extract this from\n",
    "# full_dataset_data_description.json.\n",
    "timestamp_col = 0\n",
    "subject_number_col = 13\n",
    "run_number_col = 14\n",
    "motion_id_col = 15"
   ]
  },
  {
   "cell_type": "code",
   "execution_count": 124,
   "metadata": {
    "tags": []
   },
   "outputs": [],
   "source": [
    "# TODO: Extract a numpy array containing the rows for the fourth snap performed by subject three.\n",
    "# Hint: You can apply three different boolean filters to whittle down the data set, \n",
    "#  use np.all() to combine the filters into one filter, or use logical and.\n",
    "\n",
    "# Filter data using given columns and desired values\n",
    "motion_filter = full_dataset[:, motion_id_col] == snap_id\n",
    "column_filter = full_dataset[:, subject_number_col] == 3\n",
    "run_filter = full_dataset[:, run_number_col] == 4\n",
    "\n",
    "# Combine filters using np.all function\n",
    "full_filter = np.all([motion_filter, column_filter, run_filter], axis=0)\n",
    "\n",
    "# Apply filter to dataset\n",
    "s3s4_snap_data = full_dataset[full_filter]"
   ]
  },
  {
   "cell_type": "code",
   "execution_count": 125,
   "metadata": {
    "deletable": false,
    "editable": false
   },
   "outputs": [
    {
     "data": {
      "text/html": [
       "<p><strong><pre style='display: inline;'>filter_data_set</pre></strong> passed! 🚀</p>"
      ],
      "text/plain": [
       "filter_data_set results: All test cases passed!"
      ]
     },
     "execution_count": 125,
     "metadata": {},
     "output_type": "execute_result"
    }
   ],
   "source": [
    "grader.check(\"filter_data_set\")"
   ]
  },
  {
   "cell_type": "markdown",
   "metadata": {
    "deletable": false,
    "editable": false
   },
   "source": [
    "## Week 2, problem 1: Calculate RMS\n",
    "\n",
    "In this homework, you will be writing code to determine which motion a person is performing. One common way to differentiate between different motion types is with well chosen summary statistics of the data. This can include statistics on individual axes, as well as statistics that combine multi-dimensional data (e.g., the x, y, and z data from accelerometers).\n",
    "\n",
    "We will use the root mean square (RMS) of the accelerometer data as one such summary statistic. RMS is particularly useful to us here since it is an excellent information stream for detecting contact (such as impact between hands, collisions between fingers as you snap), even if hand orientation is not perfectly consistent.\n",
    "\n",
    "For this problem, you will write a function to calculate the RMS of each row in an array, and use it to calculate the RMS of two specific data channels for the entire data set."
   ]
  },
  {
   "cell_type": "code",
   "execution_count": 126,
   "metadata": {
    "tags": []
   },
   "outputs": [],
   "source": [
    "# TODO: Copy get_descriptor and get_channel_data from lab 2.\n",
    "def get_descriptor(data_description, name):\n",
    "    \"\"\" Returns the descriptor for the given data channel.\n",
    "    @param name - The name of the data channel to look for. \"\"\"\n",
    "\n",
    "# check if item in data description is desired\n",
    "    for item in data_description[\"data_channels\"]:\n",
    "        if item[\"name\"] == name:\n",
    "            descriptor_dict = item\n",
    "            break\n",
    "\n",
    "    return descriptor_dict\n",
    "\n",
    "    pass\n",
    "\n",
    "def get_channel_data(all_data, index_offset, n_dims):\n",
    "    \"\"\" Get the data for just one channel (e.g., right hand accelerometer)\n",
    "    @param all_data - numpy array containing data from one or more files\n",
    "    @param index_offset - the column to begin getting data from\n",
    "    @param n_dims - number of dimensions for the data channel\n",
    "    @return Return array should be number of rows in all_data X n_dims\"\"\"\n",
    "\n",
    "    # create array with shape of data and desired dimensions\n",
    "    channel_data = np.zeros((all_data.shape[0], n_dims))\n",
    "    # insert desired data into array\n",
    "    channel_data = all_data[:, index_offset:index_offset + n_dims]\n",
    "\n",
    "    return channel_data\n",
    "\n",
    "    pass\n"
   ]
  },
  {
   "cell_type": "code",
   "execution_count": 127,
   "metadata": {
    "tags": []
   },
   "outputs": [],
   "source": [
    "# RMS: sqrt(sum_x x^2)\n",
    "def rms(array):\n",
    "   \"\"\" Calculate the root mean square of each row in array.\n",
    "   @param array - A 2-dimensional numpy array\n",
    "   @return A 1-dimensional numpy array containing the RMS of each row in the array.\n",
    "   \"\"\"\n",
    "   # TODO: Write this function.\n",
    "   # Hint: Use numpy functions to operate on the entire array at once rather than\n",
    "   # iterate through each row.\n",
    "\n",
    "   RMS = np.sqrt(np.mean(array**2, axis=1))\n",
    "\n",
    "   return RMS\n",
    "\n",
    "   pass"
   ]
  },
  {
   "cell_type": "code",
   "execution_count": 128,
   "metadata": {
    "tags": []
   },
   "outputs": [],
   "source": [
    "# Check that the rms function works as expected\n",
    "test_array = np.array([[1,2,3], [4,5,6]])\n",
    "test_array_rms = rms(test_array)\n",
    "assert(np.isclose(test_array_rms[0], 2.1602469))\n",
    "assert(np.isclose(test_array_rms[1], 5.06622805))"
   ]
  },
  {
   "cell_type": "code",
   "execution_count": 129,
   "metadata": {
    "tags": []
   },
   "outputs": [],
   "source": [
    "# TODO: Use rms, full_dataset, get_descriptor, and get_channel_data to calculate the RMS of left hand accelerometer and right hand accelerometer for the entire data set.\n",
    "\n",
    "lh_accelerometer_descriptor = get_descriptor(data_description, 'Left hand accelerometer')\n",
    "lh_accelerometer_rms_check = rms(get_channel_data(full_dataset, lh_accelerometer_descriptor['index_offset'], lh_accelerometer_descriptor['dimensions']))\n",
    "\n",
    "rh_accelerometer_descriptor = get_descriptor(data_description, 'Right hand accelerometer')\n",
    "rh_accelerometer_rms_check = rms(get_channel_data(full_dataset, rh_accelerometer_descriptor['index_offset'], rh_accelerometer_descriptor['dimensions']))"
   ]
  },
  {
   "cell_type": "code",
   "execution_count": 130,
   "metadata": {
    "deletable": false,
    "editable": false
   },
   "outputs": [
    {
     "data": {
      "text/html": [
       "<p><strong><pre style='display: inline;'>calculate_rms</pre></strong> passed! 🙌</p>"
      ],
      "text/plain": [
       "calculate_rms results: All test cases passed!"
      ]
     },
     "execution_count": 130,
     "metadata": {},
     "output_type": "execute_result"
    }
   ],
   "source": [
    "grader.check(\"calculate_rms\")"
   ]
  },
  {
   "cell_type": "markdown",
   "metadata": {
    "deletable": false,
    "editable": false
   },
   "source": [
    "## Week 2, problem 2: Function for filtering data set\n",
    "\n",
    "Take the code from Week 1 problem 2 and turn it into a re-usable function."
   ]
  },
  {
   "cell_type": "code",
   "execution_count": 131,
   "metadata": {
    "tags": []
   },
   "outputs": [],
   "source": [
    "def filter_data_set(data, subject_number, run_number, motion_id):\n",
    "    \"\"\" Filters a data set to a specific run of a specific motion type from a specific subject.\n",
    "    @param data - The full dataset, containing multiple motion runs from multiple people.\n",
    "    @return Just the rows for the given subject number, run number, and motion id.\n",
    "    \"\"\"\n",
    "\n",
    "    subject_filter = full_dataset[:, subject_number_col] == subject_number\n",
    "    run_filter = full_dataset[:, run_number_col] == run_number\n",
    "    motion_id_filter = full_dataset[:, motion_id_col] == motion_id\n",
    "    \n",
    "\n",
    "    # Combine filters using np.all function\n",
    "    full_filter = np.all([subject_filter, motion_id_filter, run_filter], axis = 0)\n",
    "\n",
    "    # Apply filter to dataset\n",
    "    filtered_data = full_dataset[full_filter]\n",
    "\n",
    "    return filtered_data\n",
    "    pass"
   ]
  },
  {
   "cell_type": "code",
   "execution_count": 132,
   "metadata": {
    "deletable": false,
    "editable": false
   },
   "outputs": [
    {
     "data": {
      "text/html": [
       "<p><strong><pre style='display: inline;'>filter_function</pre></strong> passed! 🚀</p>"
      ],
      "text/plain": [
       "filter_function results: All test cases passed!"
      ]
     },
     "execution_count": 132,
     "metadata": {},
     "output_type": "execute_result"
    }
   ],
   "source": [
    "grader.check(\"filter_function\")"
   ]
  },
  {
   "cell_type": "markdown",
   "metadata": {
    "deletable": false,
    "editable": false
   },
   "source": [
    "## Week 2, problem 3: Finding peak and valley of a data channel\n",
    "\n",
    "Often, the maximum and minimum value of a data channel are informative as further summary statistics, in addition to being helpful for pinpointing the occurrence of key events such as moments of hand contact in the recorded data. The difference between these maximum and minimum values can be helpful, too, as you try to understand the range of your data. \n",
    "\n",
    "For this problem, you will write a function that locates the first row containing a specific value, and then use it to find the peak and valley of a data channel. The function will be very similar to the optional section of lab 2.\n",
    "\n",
    "While data can have multiple peaks and valleys, for simplicity we will only look at the first location with the maximum and minimum value for the data channel."
   ]
  },
  {
   "cell_type": "code",
   "execution_count": 133,
   "metadata": {
    "tags": []
   },
   "outputs": [],
   "source": [
    "def find_row_with_value(data, value):\n",
    "    \"\"\" Locates the first index of data containing value.\n",
    "    @param data - A 1-d array containing data.\n",
    "    @param value - A specific value to look for in data.\n",
    "    @return The index of value within data, or -1 if value is not found.\n",
    "    \"\"\"\n",
    "    # TODO: Write this function. See the optional section of lab 2 for hints on how to do this.\n",
    "    all_rows_with_min = []\n",
    "\n",
    "    all_indices_from_where = np.where(np.isclose(data, value))\n",
    "\n",
    "    for r in all_indices_from_where[0]:\n",
    "        all_rows_with_min.append(r)\n",
    "\n",
    "    return all_rows_with_min[0]\n",
    "\n",
    "    pass\n"
   ]
  },
  {
   "cell_type": "code",
   "execution_count": 134,
   "metadata": {
    "tags": []
   },
   "outputs": [],
   "source": [
    "# Simple test code for your function to help debug issues.\n",
    "find_row_with_value_test_array = np.array([6, 7, 8, 7, 5])\n",
    "\n",
    "assert(find_row_with_value(find_row_with_value_test_array, 6) == 0)\n",
    "assert(find_row_with_value(find_row_with_value_test_array, 7) == 1)\n",
    "assert(find_row_with_value(find_row_with_value_test_array, 5) == 4)"
   ]
  },
  {
   "cell_type": "code",
   "execution_count": 135,
   "metadata": {
    "tags": []
   },
   "outputs": [],
   "source": [
    "# Find peak and valley of z axis of the right hand accelerometer in s3s4_snap_data\n",
    "# Hint: You can use get_channel_data to extract just the rh accelerometer channel from s3s4_snap_data.\n",
    "\n",
    "rh_accelerometer_descriptor = get_descriptor(data_description, 'Right hand accelerometer')\n",
    "s3s4_snap_rh_accelerometer_data = get_channel_data(s3s4_snap_data, rh_accelerometer_descriptor['index_offset'], rh_accelerometer_descriptor['dimensions'])\n",
    "s3s4_snap_rh_accelerometer_z_min = np.min(s3s4_snap_rh_accelerometer_data[:, 2])\n",
    "s3s4_snap_rh_accelerometer_z_max = np.max(s3s4_snap_rh_accelerometer_data[:, 2])\n",
    "\n",
    "s3s4_snap_rh_accelerometer_z_min_index = find_row_with_value(s3s4_snap_rh_accelerometer_data[:, 2], s3s4_snap_rh_accelerometer_z_min)\n",
    "s3s4_snap_rh_accelerometer_z_max_index = find_row_with_value(s3s4_snap_rh_accelerometer_data[:, 2], s3s4_snap_rh_accelerometer_z_max)\n"
   ]
  },
  {
   "cell_type": "code",
   "execution_count": 136,
   "metadata": {
    "deletable": false,
    "editable": false
   },
   "outputs": [
    {
     "data": {
      "text/html": [
       "<p><strong><pre style='display: inline;'>peak_and_valley</pre></strong> passed! 🙌</p>"
      ],
      "text/plain": [
       "peak_and_valley results: All test cases passed!"
      ]
     },
     "execution_count": 136,
     "metadata": {},
     "output_type": "execute_result"
    }
   ],
   "source": [
    "grader.check(\"peak_and_valley\")"
   ]
  },
  {
   "cell_type": "markdown",
   "metadata": {
    "deletable": false,
    "editable": false
   },
   "source": [
    "<!-- BEGIN QUESTION -->\n",
    "\n",
    "## Week 3, problem 1: Graph RMS for each motion type\n",
    "\n",
    "We have the full data set, a way to filter it, and the ability to calculate RMS for a given data channel. Let's combine these abilities and graph the left hand and right hand accelerometer RMS for a single clap, snap, and high five. After that, we can take a step back and observe how the graph differs between motion types."
   ]
  },
  {
   "cell_type": "code",
   "execution_count": 137,
   "metadata": {
    "tags": []
   },
   "outputs": [],
   "source": [
    "# TODO: Copy plot_function from Lab 3.\n",
    "\n",
    "def plot_function(axs, ts, data, channel_info, dimension_labels):\n",
    "    \"\"\" Plot all of the dimensions for a given channel\n",
    "    @param axs - the place to plot in\n",
    "    @param ts - the time steps to use\n",
    "    @param data - the numpy array from the csv file\n",
    "    @param channel_info - a dictionary with the channel info, e.g. \"name\" and \"units\"\n",
    "    @param n_total_dims - total number of columns per one time step\n",
    "    @returns - nothing\"\"\"\n",
    "\n",
    "    for r in range(channel_info['dimensions']):\n",
    "        axs.plot(ts/1000, data[:, r], label=f\"{dimension_labels[r]}\")\n",
    "        axs.legend(loc='upper right')\n",
    "        axs.set_title(f'{channel_info['name']}')\n",
    "        axs.set_xlabel('Timestamp (seconds)')\n",
    "        axs.set_ylabel(f'{channel_info['name']} ({channel_info['units']})')\n",
    "\n",
    "    pass"
   ]
  },
  {
   "cell_type": "code",
   "execution_count": 138,
   "metadata": {
    "tags": []
   },
   "outputs": [],
   "source": [
    "# TODO: Create a plot with 3 rows and 2 columns. Plots in the left column contain the RMS of the left hand accelerometer,\n",
    "# and plots in the right column contain the RMS of the right hand accelerometer. The first row contains graphs for a snap,\n",
    "# the second row a clap, and the third row a high five. You can plot any single snap, clap, or high five in the data set.\n",
    "\n",
    "# Use the variables below when filtering the data.\n",
    "# For the final submitted graph, please use subject 6 run 3.\n",
    "# But prior to submission, feel free to explore the data\n",
    "# by looking at graphs for other subjects/runs!\n",
    "snap_subject_number = 6\n",
    "snap_run_number = 3\n",
    "\n",
    "clap_subject_number = 6\n",
    "clap_run_number = 3\n",
    "\n",
    "high_five_subject_number = 6\n",
    "high_five_run_number = 3\n",
    "\n",
    "# Hint: For calculating and using RMS, you have two options:\n",
    "#\n",
    "#   I've copied `full_dataset` into `all_data` for you\n",
    "# * Add two columns to the end of `all_data` containing the RMS of the left hand accelerometer and the right hand accelerometer\n",
    "#   for every row in the data set, and then filter `all_data` to the specific subject number, run number, and motion type.\n",
    "#   You can use `np.append` to add these columns.\n",
    "#\n",
    "# OR\n",
    "#\n",
    "# * Filter `all_data` to the specific subject number, run number, and motion type, and then calculate the RMS of the left hand\n",
    "#   accelerometer and right hand accelerometer for that motion in separate numpy arrays.\n",
    "\n",
    "all_data = np.copy(full_dataset)\n",
    "\n",
    "# create and append rms\n",
    "lh_accelerometer_descriptor = get_descriptor(data_description, 'Left hand accelerometer')\n",
    "lh_accelerometer_rms_check = rms(get_channel_data(all_data, lh_accelerometer_descriptor['index_offset'], lh_accelerometer_descriptor['dimensions']))\n",
    "\n",
    "all_data = np.append(all_data, lh_accelerometer_rms_check[:, np.newaxis], axis=1)\n",
    "\n",
    "rh_accelerometer_descriptor = get_descriptor(data_description, 'Right hand accelerometer')\n",
    "rh_accelerometer_rms_check = rms(get_channel_data(all_data, rh_accelerometer_descriptor['index_offset'], rh_accelerometer_descriptor['dimensions']))\n",
    "\n",
    "all_data = np.append(all_data, rh_accelerometer_rms_check[:, np.newaxis], axis=1)\n",
    "\n",
    "# filter subject and run\n",
    "run_filter = all_data[:, run_number_col] == snap_run_number\n",
    "subject_filter = all_data[:, subject_number_col] == snap_subject_number\n",
    "# combine filters\n",
    "subject_run_filter = np.all([run_filter, subject_filter], axis=0)\n",
    "# apply filters to all_data\n",
    "all_data_filtered = all_data[subject_run_filter]\n",
    "\n",
    "# filter snap, clap, high five\n",
    "snap_filter = all_data_filtered[:, motion_id_col] == snap_id\n",
    "clap_filter = all_data_filtered[:, motion_id_col] == clap_id\n",
    "high_five_filter = all_data_filtered[:, motion_id_col] == high_five_id\n",
    "\n",
    "# apply filters, select only rms columns\n",
    "snap_rms = all_data_filtered[snap_filter][:, -2:]\n",
    "clap_rms = all_data_filtered[clap_filter][:, -2:]\n",
    "high_five_rms = all_data_filtered[high_five_filter][:, -2:]"
   ]
  },
  {
   "cell_type": "code",
   "execution_count": 139,
   "metadata": {
    "tags": []
   },
   "outputs": [
    {
     "name": "stderr",
     "output_type": "stream",
     "text": [
      "/tmp/ipykernel_422570/3579898052.py:14: UserWarning: No artists with labels found to put in legend.  Note that artists whose label start with an underscore are ignored when legend() is called with no argument.\n",
      "  axs.legend(loc='upper right')\n"
     ]
    },
    {
     "data": {
      "image/png": "[encoded data removed]",
      "text/plain": [
       "<Figure size 1000x1400 with 6 Axes>"
      ]
     },
     "metadata": {},
     "output_type": "display_data"
    }
   ],
   "source": [
    "# Here, graph the data\n",
    "nrows = 3\n",
    "ncols = 2\n",
    "fig, axs = plt.subplots(nrows, ncols, figsize=(10, 14))\n",
    "\n",
    "# Put left hand in the first column, right hand in the second column.\n",
    "# Hint: To use plot_function with your new \"rms\" data channel, you will need to make a\n",
    "# dictionary for its descriptor with \"name\" and \"units\" entries.\n",
    "rms_descriptor = [{'name':'Snap (LH)', 'units':'gravity units', 'dimensions':1}, \n",
    "                    {'name':'Snap (RH)', 'units':'gravity units', 'dimensions':1},\n",
    "                    {'name':'Clap (LH)', 'units':'gravity units', 'dimensions':1},\n",
    "                    {'name':'Clap (RH)', 'units':'gravity units', 'dimensions':1},\n",
    "                    {'name':'High five (LH)', 'units':'gravity units', 'dimensions':1},\n",
    "                    {'name':'High five (RH)', 'units':'gravity units', 'dimensions':1}\n",
    "                    ]\n",
    "\n",
    "# snap\n",
    "plot_function(axs = axs[0, 0], ts = all_data_filtered[snap_filter][:, timestamp_col], data = snap_rms, channel_info = rms_descriptor[0], dimension_labels = [''])\n",
    "plot_function(axs = axs[0, 1], ts = all_data_filtered[snap_filter][:, timestamp_col], data = snap_rms[:, 1:], channel_info = rms_descriptor[1], dimension_labels = [''])\n",
    "\n",
    "# clap\n",
    "plot_function(axs = axs[1, 0], ts = all_data_filtered[clap_filter][:, timestamp_col], data = clap_rms, channel_info = rms_descriptor[2], dimension_labels = [''])\n",
    "plot_function(axs = axs[1, 1], ts = all_data_filtered[clap_filter][:, timestamp_col], data = clap_rms[:, 1:], channel_info = rms_descriptor[3], dimension_labels = [''])\n",
    "\n",
    "# high five\n",
    "plot_function(axs = axs[2, 0], ts = all_data_filtered[high_five_filter][:, timestamp_col], data = high_five_rms, channel_info = rms_descriptor[4], dimension_labels = [''])\n",
    "plot_function(axs = axs[2, 1], ts = all_data_filtered[high_five_filter][:, timestamp_col], data = high_five_rms[:, 1:], channel_info = rms_descriptor[5], dimension_labels = [''])\n",
    "\n",
    "plt.show()\n",
    "fig.tight_layout()"
   ]
  },
  {
   "cell_type": "code",
   "execution_count": 140,
   "metadata": {
    "deletable": false,
    "editable": false
   },
   "outputs": [
    {
     "name": "stdout",
     "output_type": "stream",
     "text": [
      "This is a manually-graded question; there is no grader.check() function. See rubric and slides for more information on expected output.\n"
     ]
    }
   ],
   "source": [
    "# Manual grade\n",
    "print(\"This is a manually-graded question; there is no grader.check() function. See rubric and slides for more information on expected output.\")\n",
    "#                                 __     \n",
    "#                                |  \\    \n",
    "#  _______    ______    ______  _| $$_   \n",
    "# |       \\  /      \\  |      \\|   $$ \\  \n",
    "# | $$$$$$$\\|  $$$$$$\\  \\$$$$$$\\\\$$$$$$  \n",
    "# | $$  | $$| $$    $$ /      $$ | $$ __ \n",
    "# | $$  | $$| $$$$$$$$|  $$$$$$$ | $$|  \\\n",
    "# | $$  | $$ \\$$     \\ \\$$    $$  \\$$  $$\n",
    "#  \\$$   \\$$  \\$$$$$$$  \\$$$$$$$   \\$$$$ \n"
   ]
  },
  {
   "cell_type": "markdown",
   "metadata": {
    "deletable": false,
    "editable": false
   },
   "source": [
    "<!-- END QUESTION -->\n",
    "\n",
    "## Week 3, problem 2: Determine motion type from data\n",
    "\n",
    "Observe your graphs from the previous problem. How can you tell, from these graphs alone, what motion type the subject is performing?\n",
    "\n",
    "Some helpful context:\n",
    "\n",
    "* Subjects were told to snap with their _right hand_ and high five with their _left hand_.\n",
    "* The high five was pantomimed; that is, the subject did not make contact with another hand, but instead made a high five motion.\n",
    "\n",
    "From your observations, write a function that takes in the left hand and right hand accelerometer RMS values and returns the most likely motion type that the subject is performing.\n",
    "\n",
    "Hint: Look at the peaks in the graphs, the magnitude of the peaks, and the hand(s) that the peaks occur on.\n",
    "\n",
    "Hint: You could return to the previous problem and graph different subjects/runs for inspiration."
   ]
  },
  {
   "cell_type": "code",
   "execution_count": 141,
   "metadata": {
    "tags": []
   },
   "outputs": [],
   "source": [
    "def guess_motion_type(lh_accelerometer_rms, rh_accelerometer_rms):\n",
    "    \"\"\" Guesses the motion that the subject is performing given the RMS of the user's left hand and right hand accelerometers.\n",
    "    @param lh_accelerometer_rms - RMS of the left hand accelerometer\n",
    "    @param rh_accelerometer_rms - RMS of the right hand accelerometer\n",
    "    @return The motion ID of the motion the user was most likely performing.\n",
    "    \"\"\"\n",
    "    \n",
    "    if np.max(rh_accelerometer_rms) >= 4.5 or np.max(lh_accelerometer_rms) >= 4.5:\n",
    "        motion_id = clap_id\n",
    "    elif np.max(lh_accelerometer_rms) >= 0.6 and np.max(lh_accelerometer_rms) < 1.2:\n",
    "        motion_id = high_five_id\n",
    "    elif np.max(rh_accelerometer_rms) >= 2.2 and np.max(rh_accelerometer_rms) < 4.5:\n",
    "        motion_id = snap_id\n",
    "    else:\n",
    "        motion_id = 4\n",
    "\n",
    "    print(motion_id)\n",
    "\n",
    "    return motion_id\n",
    "    pass"
   ]
  },
  {
   "cell_type": "code",
   "execution_count": 142,
   "metadata": {
    "tags": []
   },
   "outputs": [
    {
     "name": "stdout",
     "output_type": "stream",
     "text": [
      "3\n"
     ]
    }
   ],
   "source": [
    "# Test code\n",
    "s3s4_snap_lh_accelerometer_data = get_channel_data(s3s4_snap_data, index_offset=lh_accelerometer_descriptor[\"index_offset\"], n_dims=lh_accelerometer_descriptor[\"dimensions\"])\n",
    "\n",
    "assert(snap_id == guess_motion_type(rms(s3s4_snap_lh_accelerometer_data), rms(s3s4_snap_rh_accelerometer_data)))"
   ]
  },
  {
   "cell_type": "code",
   "execution_count": 143,
   "metadata": {
    "deletable": false,
    "editable": false
   },
   "outputs": [
    {
     "data": {
      "text/html": [
       "<p><strong style='color: red;'><pre style='display: inline;'>determine_motion_type</pre> results:</strong></p><p><strong><pre style='display: inline;'>determine_motion_type - 1</pre> result:</strong></p><pre>    ❌ Test case failed\n",
       "    Trying:\n",
       "        assert snap_id == guess_motion_type(rms(s3s4_snap_lh_accelerometer_data), rms(s3s4_snap_rh_accelerometer_data))\n",
       "    Expecting nothing\n",
       "    **********************************************************************\n",
       "    Line 1, in determine_motion_type 0\n",
       "    Failed example:\n",
       "        assert snap_id == guess_motion_type(rms(s3s4_snap_lh_accelerometer_data), rms(s3s4_snap_rh_accelerometer_data))\n",
       "    Expected nothing\n",
       "    Got:\n",
       "        3\n",
       "</pre>"
      ],
      "text/plain": [
       "determine_motion_type results:\n",
       "    determine_motion_type - 1 result:\n",
       "        ❌ Test case failed\n",
       "        Trying:\n",
       "            assert snap_id == guess_motion_type(rms(s3s4_snap_lh_accelerometer_data), rms(s3s4_snap_rh_accelerometer_data))\n",
       "        Expecting nothing\n",
       "        **********************************************************************\n",
       "        Line 1, in determine_motion_type 0\n",
       "        Failed example:\n",
       "            assert snap_id == guess_motion_type(rms(s3s4_snap_lh_accelerometer_data), rms(s3s4_snap_rh_accelerometer_data))\n",
       "        Expected nothing\n",
       "        Got:\n",
       "            3"
      ]
     },
     "execution_count": 143,
     "metadata": {},
     "output_type": "execute_result"
    }
   ],
   "source": [
    "grader.check(\"determine_motion_type\")"
   ]
  },
  {
   "cell_type": "markdown",
   "metadata": {
    "deletable": false,
    "editable": false
   },
   "source": [
    "## Week 3, problem 3: Calculate accuracy of your heuristic\n",
    "\n",
    "You now have a function that guesses the motion type for a given motion, and we have ground truth labels for what motions the subjects are performing. Let's calculate the accuracy of your heuristic.\n",
    "\n",
    "The data set contains 10 subjects (1 through 10) that perform 10 runs (1 through 10) of each motion type (snap, high five, and clap). You can write nested loops to iterate through each of these and guess the motion type.\n",
    "\n",
    "We expect to see accuracies above 75%, and accuracies above 90% are possible."
   ]
  },
  {
   "cell_type": "code",
   "execution_count": 144,
   "metadata": {
    "tags": []
   },
   "outputs": [
    {
     "name": "stdout",
     "output_type": "stream",
     "text": [
      "1\n",
      "1\n",
      "1\n",
      "1\n",
      "1\n",
      "1\n",
      "1\n",
      "3\n",
      "1\n",
      "1\n",
      "2\n",
      "2\n",
      "2\n",
      "2\n",
      "2\n",
      "2\n",
      "2\n",
      "2\n",
      "2\n",
      "2\n",
      "2\n",
      "3\n",
      "2\n",
      "2\n",
      "3\n",
      "2\n",
      "3\n",
      "3\n",
      "3\n",
      "3\n",
      "1\n",
      "1\n",
      "1\n",
      "1\n",
      "1\n",
      "1\n",
      "1\n",
      "1\n",
      "1\n",
      "1\n",
      "4\n",
      "4\n",
      "4\n",
      "4\n",
      "4\n",
      "4\n",
      "2\n",
      "4\n",
      "4\n",
      "4\n",
      "3\n",
      "3\n",
      "3\n",
      "3\n",
      "3\n",
      "3\n",
      "3\n",
      "3\n",
      "3\n",
      "3\n",
      "1\n",
      "1\n",
      "1\n",
      "1\n",
      "1\n",
      "1\n",
      "1\n",
      "1\n",
      "1\n",
      "1\n",
      "4\n",
      "4\n",
      "4\n",
      "4\n",
      "4\n",
      "4\n",
      "2\n",
      "2\n",
      "2\n",
      "2\n",
      "3\n",
      "1\n",
      "1\n",
      "3\n",
      "3\n",
      "3\n",
      "3\n",
      "3\n",
      "3\n",
      "3\n",
      "3\n",
      "1\n",
      "1\n",
      "1\n",
      "1\n",
      "1\n",
      "1\n",
      "1\n",
      "1\n",
      "1\n",
      "2\n",
      "2\n",
      "2\n",
      "2\n",
      "2\n",
      "2\n",
      "2\n",
      "2\n",
      "2\n",
      "2\n",
      "4\n",
      "4\n",
      "3\n",
      "4\n",
      "2\n",
      "3\n",
      "4\n",
      "4\n",
      "4\n",
      "4\n",
      "1\n",
      "1\n",
      "1\n",
      "1\n",
      "1\n",
      "3\n",
      "1\n",
      "1\n",
      "1\n",
      "1\n",
      "4\n",
      "4\n",
      "4\n",
      "2\n",
      "4\n",
      "2\n",
      "2\n",
      "2\n",
      "2\n",
      "2\n",
      "3\n",
      "4\n",
      "3\n",
      "3\n",
      "3\n",
      "4\n",
      "4\n",
      "3\n",
      "3\n",
      "4\n",
      "3\n",
      "1\n",
      "1\n",
      "1\n",
      "1\n",
      "1\n",
      "1\n",
      "1\n",
      "1\n",
      "1\n",
      "2\n",
      "2\n",
      "2\n",
      "2\n",
      "2\n",
      "2\n",
      "2\n",
      "2\n",
      "2\n",
      "2\n",
      "3\n",
      "4\n",
      "3\n",
      "3\n",
      "3\n",
      "3\n",
      "3\n",
      "3\n",
      "3\n",
      "3\n",
      "1\n",
      "1\n",
      "1\n",
      "1\n",
      "1\n",
      "1\n",
      "1\n",
      "1\n",
      "1\n",
      "1\n",
      "4\n",
      "4\n",
      "4\n",
      "4\n",
      "4\n",
      "4\n",
      "4\n",
      "4\n",
      "4\n",
      "4\n",
      "1\n",
      "3\n",
      "1\n",
      "1\n",
      "1\n",
      "1\n",
      "1\n",
      "1\n",
      "1\n",
      "1\n",
      "3\n",
      "4\n",
      "1\n",
      "1\n",
      "1\n",
      "3\n",
      "1\n",
      "1\n",
      "1\n",
      "1\n",
      "4\n",
      "4\n",
      "4\n",
      "4\n",
      "4\n",
      "4\n",
      "4\n",
      "4\n",
      "4\n",
      "4\n",
      "2\n",
      "2\n",
      "2\n",
      "2\n",
      "2\n",
      "2\n",
      "2\n",
      "2\n",
      "2\n",
      "2\n",
      "1\n",
      "1\n",
      "1\n",
      "1\n",
      "1\n",
      "1\n",
      "1\n",
      "1\n",
      "1\n",
      "1\n",
      "4\n",
      "4\n",
      "4\n",
      "4\n",
      "4\n",
      "4\n",
      "4\n",
      "4\n",
      "4\n",
      "4\n",
      "2\n",
      "2\n",
      "2\n",
      "2\n",
      "2\n",
      "2\n",
      "2\n",
      "2\n",
      "2\n",
      "2\n",
      "1\n",
      "1\n",
      "3\n",
      "1\n",
      "1\n",
      "1\n",
      "1\n",
      "1\n",
      "3\n",
      "1\n",
      "4\n",
      "4\n",
      "4\n",
      "4\n",
      "4\n",
      "4\n",
      "4\n",
      "4\n",
      "4\n",
      "4\n",
      "3\n",
      "3\n",
      "3\n",
      "1\n",
      "3\n",
      "3\n",
      "3\n",
      "3\n",
      "3\n",
      "3\n",
      "(array([  7,  20,  22,  23,  25,  40,  41,  42,  43,  44,  45,  47,  48,\n",
      "        49,  70,  71,  72,  73,  74,  75,  81,  82,  90, 110, 111, 113,\n",
      "       114, 116, 117, 118, 119, 125, 130, 131, 132, 134, 141, 145, 146,\n",
      "       149, 150, 171, 190, 191, 192, 193, 194, 195, 196, 197, 198, 199,\n",
      "       200, 202, 203, 204, 205, 206, 207, 208, 209, 210, 211, 215, 220,\n",
      "       221, 222, 223, 224, 225, 226, 227, 228, 229, 230, 231, 232, 233,\n",
      "       234, 235, 236, 237, 238, 239, 250, 251, 252, 253, 254, 255, 256,\n",
      "       257, 258, 259, 260, 261, 262, 263, 264, 265, 266, 267, 268, 269,\n",
      "       272, 278, 280, 281, 282, 283, 284, 285, 286, 287, 288, 289, 293]),)\n",
      "guess_motion_type is 61.0% accurate\n",
      "[np.float64(8.071621068079612), np.float64(6.375711724976279), np.float64(5.746981816571198), np.float64(7.7346083719000704), np.float64(7.729359611248528), np.float64(7.209748030733576), np.float64(6.6705372097505515), np.float64(4.421572118602161), np.float64(5.489617473012123), np.float64(5.228097168186529), np.float64(1.048506874878113), np.float64(1.0056672743341442), np.float64(0.9632064506982222), np.float64(0.9497719024411422), np.float64(0.9548647373668516), np.float64(0.9434687770845059), np.float64(0.9127796375175482), np.float64(0.972779522810796), np.float64(0.9396098481107287), np.float64(0.9317009534537714), np.float64(2.4356450206601674), np.float64(4.02440057648341), np.float64(2.3893234746820418), np.float64(3.376077605743091), np.float64(2.9752030743015396), np.float64(2.392752947269456), np.float64(3.7281004993606772), np.float64(3.890025706855933), np.float64(4.046912403302053), np.float64(2.8571780950207963)]\n"
     ]
    }
   ],
   "source": [
    "# TODO: Produce a numpy array that contains a row with 4 columns containing subject number, run number, actual motion, and guessed motion\n",
    "accuracy_info = np.zeros((300, 4))\n",
    "accuracy_info[:, 0] = np.repeat(np.arange(1,11), 30)\n",
    "accuracy_info[:, 1] = np.tile(np.arange(1, 11), 30)\n",
    "accuracy_info[:, 2] = np.tile(np.repeat(np.arange(1, 4), 10), 10)\n",
    "\n",
    "clap_lh_max = []\n",
    "clap_rh_max = []\n",
    "\n",
    "high_five_lh_max = []\n",
    "high_five_rh_max = []\n",
    "\n",
    "snap_lh_mean = []\n",
    "snap_rh_mean = []\n",
    "\n",
    "for r in range(accuracy_info.shape[0]):\n",
    "    subject = accuracy_info[r, 0]\n",
    "    run = accuracy_info[r, 1]\n",
    "    actual_motion = accuracy_info[r, 2]\n",
    "\n",
    "    sub_acc_filt = all_data[:, subject_number_col] == subject\n",
    "    run_acc_filt = all_data[:, run_number_col] == run\n",
    "    mot_acc_filt = all_data[:, motion_id_col] == actual_motion\n",
    "\n",
    "    acc_filter = np.all([sub_acc_filt, run_acc_filt, mot_acc_filt], axis=0)\n",
    "\n",
    "    rms_data = all_data[acc_filter][:, -2:]\n",
    "\n",
    "    guessed_motion = guess_motion_type(lh_accelerometer_rms = rms_data[:, 0], rh_accelerometer_rms = rms_data[:, 1])\n",
    "\n",
    "    accuracy_info[r, 3] = guessed_motion\n",
    "\n",
    "    if subject == 1:\n",
    "        clap_lh_max.append(np.max(rms_data[:, 0]))\n",
    "        clap_rh_max.append(np.max(rms_data[:, 1]))\n",
    "\n",
    "\n",
    "# TODO: Count the number of correct and incorrect guesses.\n",
    "# Hint: np.where is useful here.\n",
    "correct_count_list = np.where(accuracy_info[:, 2] == accuracy_info[:, 3])\n",
    "incorrect_count_list = np.where(accuracy_info[:, 2] != accuracy_info[:, 3])\n",
    "correct_count = len(correct_count_list[0])\n",
    "incorrect_count = len(incorrect_count_list[0])\n",
    "\n",
    "print(incorrect_count_list)\n",
    "\n",
    "# TODO: Use correct_count and incorrect_count to calculate accuracy\n",
    "# Hint: You will need to do conversions to floats to avoid doing integer division.\n",
    "accuracy = correct_count/(correct_count + incorrect_count)\n",
    "\n",
    "print(f'guess_motion_type is {accuracy * 100}% accurate')\n",
    "\n",
    "# print(clap_lh_max)\n",
    "print(clap_rh_max)"
   ]
  },
  {
   "cell_type": "code",
   "execution_count": 145,
   "metadata": {
    "deletable": false,
    "editable": false
   },
   "outputs": [
    {
     "data": {
      "text/html": [
       "<p><strong style='color: red;'><pre style='display: inline;'>calculate_accuracy</pre> results:</strong></p><p><strong><pre style='display: inline;'>calculate_accuracy - 1</pre> result:</strong></p><pre>    ❌ Test case failed\n",
       "    Trying:\n",
       "        assert accuracy >= 0.75\n",
       "    Expecting nothing\n",
       "    **********************************************************************\n",
       "    Line 1, in calculate_accuracy 0\n",
       "    Failed example:\n",
       "        assert accuracy >= 0.75\n",
       "    Exception raised:\n",
       "        Traceback (most recent call last):\n",
       "          File \"/home/cody/.pyenv/versions/3.12.7/lib/python3.12/doctest.py\", line 1368, in __run\n",
       "            exec(compile(example.source, filename, \"single\",\n",
       "          File \"<doctest calculate_accuracy 0[0]>\", line 1, in <module>\n",
       "            assert accuracy >= 0.75\n",
       "                   ^^^^^^^^^^^^^^^^\n",
       "        AssertionError\n",
       "</pre><p><strong><pre style='display: inline;'>calculate_accuracy - 2</pre> result:</strong></p><pre>    ✅ Test case passed</pre><p><strong><pre style='display: inline;'>calculate_accuracy - 3</pre> result:</strong></p><pre>    ✅ Test case passed</pre><p><strong><pre style='display: inline;'>calculate_accuracy - 4</pre> result:</strong></p><pre>    ✅ Test case passed</pre>"
      ],
      "text/plain": [
       "calculate_accuracy results:\n",
       "    calculate_accuracy - 1 result:\n",
       "        ❌ Test case failed\n",
       "        Trying:\n",
       "            assert accuracy >= 0.75\n",
       "        Expecting nothing\n",
       "        **********************************************************************\n",
       "        Line 1, in calculate_accuracy 0\n",
       "        Failed example:\n",
       "            assert accuracy >= 0.75\n",
       "        Exception raised:\n",
       "            Traceback (most recent call last):\n",
       "              File \"/home/cody/.pyenv/versions/3.12.7/lib/python3.12/doctest.py\", line 1368, in __run\n",
       "                exec(compile(example.source, filename, \"single\",\n",
       "              File \"<doctest calculate_accuracy 0[0]>\", line 1, in <module>\n",
       "                assert accuracy >= 0.75\n",
       "                       ^^^^^^^^^^^^^^^^\n",
       "            AssertionError\n",
       "\n",
       "    calculate_accuracy - 2 result:\n",
       "        ✅ Test case passed\n",
       "\n",
       "    calculate_accuracy - 3 result:\n",
       "        ✅ Test case passed\n",
       "\n",
       "    calculate_accuracy - 4 result:\n",
       "        ✅ Test case passed"
      ]
     },
     "execution_count": 145,
     "metadata": {},
     "output_type": "execute_result"
    }
   ],
   "source": [
    "grader.check(\"calculate_accuracy\")"
   ]
  },
  {
   "cell_type": "markdown",
   "metadata": {
    "deletable": false,
    "editable": false
   },
   "source": [
    "## Week 3, problem 4: Find the \"worst\" subject\n",
    "\n",
    "Which subject does your heuristic perform the worst on?"
   ]
  },
  {
   "cell_type": "code",
   "execution_count": 146,
   "metadata": {
    "tags": []
   },
   "outputs": [
    {
     "name": "stdout",
     "output_type": "stream",
     "text": [
      "[[ 9.]\n",
      " [59.]\n",
      " [49.]]\n",
      "guess_motion_type performed worst on subject 2\n"
     ]
    }
   ],
   "source": [
    "# TODO: Populate a numpy array with one entry per subject, counting the number of \n",
    "# incorrect motion type predictions.\n",
    "motion_id_dict = {1:'clap', 2:'high five', 3:'snap'}\n",
    "\n",
    "incorrect_by_subject = np.zeros((3, 1))\n",
    "\n",
    "incorrect_array = accuracy_info[incorrect_count_list]\n",
    "clap_wrong = np.sum(incorrect_array[:, 2] == 1)\n",
    "high_five_wrong = np.sum(incorrect_array[:, 2] == 2)\n",
    "snap_wrong = np.sum(incorrect_array[:, 2] == 3)\n",
    "\n",
    "incorrect_by_subject[0, 0] = clap_wrong\n",
    "incorrect_by_subject[1, 0] = high_five_wrong\n",
    "incorrect_by_subject[2, 0] = snap_wrong\n",
    "\n",
    "print(incorrect_by_subject)\n",
    "\n",
    "# TODO: Use incorrect_by_subject to determine the subject number that guess_motion_type\n",
    "# performed worst on.\n",
    "# Hint: find_row_with_value might be useful here.\n",
    "# worst_subject_number = np.where(incorrect_by_subject == np.max(incorrect_by_subject))[0]\n",
    "worst_subject_number = find_row_with_value(data = incorrect_by_subject, value = np.max(incorrect_by_subject)) + 1\n",
    "\n",
    "print(f'guess_motion_type performed worst on subject {worst_subject_number}')"
   ]
  },
  {
   "cell_type": "code",
   "execution_count": 147,
   "metadata": {
    "deletable": false,
    "editable": false
   },
   "outputs": [
    {
     "data": {
      "text/html": [
       "<p><strong><pre style='display: inline;'>worst_subject</pre></strong> passed! 🍀</p>"
      ],
      "text/plain": [
       "worst_subject results: All test cases passed!"
      ]
     },
     "execution_count": 147,
     "metadata": {},
     "output_type": "execute_result"
    }
   ],
   "source": [
    "grader.check(\"worst_subject\")"
   ]
  },
  {
   "cell_type": "markdown",
   "metadata": {
    "deletable": false,
    "editable": false
   },
   "source": [
    "## Hours and collaborators\n",
    "Required for every assignment - fill out before you hand-in.\n",
    "\n",
    "Listing names and websites helps you to document who you worked with and what internet help you received in the case of any plagiarism issues. You should list names of anyone (in class or not) who has substantially helped you with an assignment - or anyone you have *helped*. You do not need to list TAs.\n",
    "\n",
    "Listing hours helps us track if the assignments are too long."
   ]
  },
  {
   "cell_type": "code",
   "execution_count": 148,
   "metadata": {
    "tags": []
   },
   "outputs": [],
   "source": [
    "\n",
    "# List of names (creates a set)\n",
    "worked_with_names = {\"not filled out\"}\n",
    "# List of URLS I25 (creates a set)\n",
    "websites = {\"not filled out\"}\n",
    "# Approximate number of hours, including lab/in-class time\n",
    "hours = -1.5"
   ]
  },
  {
   "cell_type": "code",
   "execution_count": 149,
   "metadata": {
    "deletable": false,
    "editable": false
   },
   "outputs": [
    {
     "data": {
      "text/html": [
       "<p><strong style='color: red;'><pre style='display: inline;'>hours_collaborators</pre> results:</strong></p><p><strong><pre style='display: inline;'>hours_collaborators - 1</pre> result:</strong></p><pre>    ❌ Test case failed\n",
       "    Trying:\n",
       "        assert not 'not filled out' in worked_with_names\n",
       "    Expecting nothing\n",
       "    **********************************************************************\n",
       "    Line 1, in hours_collaborators 0\n",
       "    Failed example:\n",
       "        assert not 'not filled out' in worked_with_names\n",
       "    Exception raised:\n",
       "        Traceback (most recent call last):\n",
       "          File \"/home/cody/.pyenv/versions/3.12.7/lib/python3.12/doctest.py\", line 1368, in __run\n",
       "            exec(compile(example.source, filename, \"single\",\n",
       "          File \"<doctest hours_collaborators 0[0]>\", line 1, in <module>\n",
       "            assert not 'not filled out' in worked_with_names\n",
       "                       ^^^^^^^^^^^^^^^^^^^^^^^^^^^^^^^^^^^^^\n",
       "        AssertionError\n",
       "</pre><p><strong><pre style='display: inline;'>hours_collaborators - 2</pre> result:</strong></p><pre>    ❌ Test case failed\n",
       "    Trying:\n",
       "        assert not 'not filled out' in websites\n",
       "    Expecting nothing\n",
       "    **********************************************************************\n",
       "    Line 1, in hours_collaborators 1\n",
       "    Failed example:\n",
       "        assert not 'not filled out' in websites\n",
       "    Exception raised:\n",
       "        Traceback (most recent call last):\n",
       "          File \"/home/cody/.pyenv/versions/3.12.7/lib/python3.12/doctest.py\", line 1368, in __run\n",
       "            exec(compile(example.source, filename, \"single\",\n",
       "          File \"<doctest hours_collaborators 1[0]>\", line 1, in <module>\n",
       "            assert not 'not filled out' in websites\n",
       "                       ^^^^^^^^^^^^^^^^^^^^^^^^^^^^\n",
       "        AssertionError\n",
       "</pre><p><strong><pre style='display: inline;'>hours_collaborators - 3</pre> result:</strong></p><pre>    ❌ Test case failed\n",
       "    Trying:\n",
       "        assert hours > 0\n",
       "    Expecting nothing\n",
       "    **********************************************************************\n",
       "    Line 1, in hours_collaborators 2\n",
       "    Failed example:\n",
       "        assert hours > 0\n",
       "    Exception raised:\n",
       "        Traceback (most recent call last):\n",
       "          File \"/home/cody/.pyenv/versions/3.12.7/lib/python3.12/doctest.py\", line 1368, in __run\n",
       "            exec(compile(example.source, filename, \"single\",\n",
       "          File \"<doctest hours_collaborators 2[0]>\", line 1, in <module>\n",
       "            assert hours > 0\n",
       "                   ^^^^^^^^^\n",
       "        AssertionError\n",
       "</pre>"
      ],
      "text/plain": [
       "hours_collaborators results:\n",
       "    hours_collaborators - 1 result:\n",
       "        ❌ Test case failed\n",
       "        Trying:\n",
       "            assert not 'not filled out' in worked_with_names\n",
       "        Expecting nothing\n",
       "        **********************************************************************\n",
       "        Line 1, in hours_collaborators 0\n",
       "        Failed example:\n",
       "            assert not 'not filled out' in worked_with_names\n",
       "        Exception raised:\n",
       "            Traceback (most recent call last):\n",
       "              File \"/home/cody/.pyenv/versions/3.12.7/lib/python3.12/doctest.py\", line 1368, in __run\n",
       "                exec(compile(example.source, filename, \"single\",\n",
       "              File \"<doctest hours_collaborators 0[0]>\", line 1, in <module>\n",
       "                assert not 'not filled out' in worked_with_names\n",
       "                           ^^^^^^^^^^^^^^^^^^^^^^^^^^^^^^^^^^^^^\n",
       "            AssertionError\n",
       "\n",
       "    hours_collaborators - 2 result:\n",
       "        ❌ Test case failed\n",
       "        Trying:\n",
       "            assert not 'not filled out' in websites\n",
       "        Expecting nothing\n",
       "        **********************************************************************\n",
       "        Line 1, in hours_collaborators 1\n",
       "        Failed example:\n",
       "            assert not 'not filled out' in websites\n",
       "        Exception raised:\n",
       "            Traceback (most recent call last):\n",
       "              File \"/home/cody/.pyenv/versions/3.12.7/lib/python3.12/doctest.py\", line 1368, in __run\n",
       "                exec(compile(example.source, filename, \"single\",\n",
       "              File \"<doctest hours_collaborators 1[0]>\", line 1, in <module>\n",
       "                assert not 'not filled out' in websites\n",
       "                           ^^^^^^^^^^^^^^^^^^^^^^^^^^^^\n",
       "            AssertionError\n",
       "\n",
       "    hours_collaborators - 3 result:\n",
       "        ❌ Test case failed\n",
       "        Trying:\n",
       "            assert hours > 0\n",
       "        Expecting nothing\n",
       "        **********************************************************************\n",
       "        Line 1, in hours_collaborators 2\n",
       "        Failed example:\n",
       "            assert hours > 0\n",
       "        Exception raised:\n",
       "            Traceback (most recent call last):\n",
       "              File \"/home/cody/.pyenv/versions/3.12.7/lib/python3.12/doctest.py\", line 1368, in __run\n",
       "                exec(compile(example.source, filename, \"single\",\n",
       "              File \"<doctest hours_collaborators 2[0]>\", line 1, in <module>\n",
       "                assert hours > 0\n",
       "                       ^^^^^^^^^\n",
       "            AssertionError"
      ]
     },
     "execution_count": 149,
     "metadata": {},
     "output_type": "execute_result"
    }
   ],
   "source": [
    "grader.check(\"hours_collaborators\")"
   ]
  },
  {
   "cell_type": "markdown",
   "metadata": {},
   "source": [
    "### To submit\n",
    "\n",
    "- Do a restart then run all to make sure everything runs ok\n",
    "- Remove excessive print statements - don't make us search through pages of numbers to find your plots\n",
    "- Save the file\n",
    "- Submit just this .ipynb file through gradescope, HWK1 numpy and Plotting\n",
    "- You do NOT need to submit the data files - we will supply those\n",
    "\n",
    "If the Gradescope autograder fails, please check here first for common reasons for it to fail\n",
    "    https://docs.google.com/presentation/d/1tYa5oycUiG4YhXUq5vHvPOpWJ4k_xUPp2rUNIL7Q9RI/edit?usp=sharing\n",
    "\n",
    "Most likely failure for this assignment is not naming the data directory and files correctly; capitalization matters for the Gradescope grader. "
   ]
  }
 ],
 "metadata": {
  "kernelspec": {
   "display_name": "Python 3",
   "language": "python",
   "name": "python3"
  },
  "language_info": {
   "codemirror_mode": {
    "name": "ipython",
    "version": 3
   },
   "file_extension": ".py",
   "mimetype": "text/x-python",
   "name": "python",
   "nbconvert_exporter": "python",
   "pygments_lexer": "ipython3",
   "version": "3.12.7"
  },
  "otter": {
   "OK_FORMAT": true,
   "tests": {
    "calculate_accuracy": {
     "name": "calculate_accuracy",
     "points": 3,
     "suites": [
      {
       "cases": [
        {
         "code": ">>> assert accuracy >= 0.75\n",
         "hidden": false,
         "locked": false
        },
        {
         "code": ">>> assert np.isclose(accuracy, float(correct_count) / float(correct_count + incorrect_count))\n",
         "hidden": false,
         "locked": false
        },
        {
         "code": ">>> assert correct_count == len(np.where(accuracy_info[:, -2] == accuracy_info[:, -1])[0])\n",
         "hidden": false,
         "locked": false
        },
        {
         "code": ">>> assert incorrect_count == len(np.where(accuracy_info[:, -2] != accuracy_info[:, -1])[0])\n",
         "hidden": false,
         "locked": false
        }
       ],
       "scored": true,
       "setup": "",
       "teardown": "",
       "type": "doctest"
      }
     ]
    },
    "calculate_rms": {
     "name": "calculate_rms",
     "points": 3,
     "suites": [
      {
       "cases": [
        {
         "code": ">>> assert np.isclose(test_array_rms[0], 2.1602469, atol=0.001)\n",
         "hidden": false,
         "locked": false
        },
        {
         "code": ">>> assert np.isclose(test_array_rms[1], 5.06622805, atol=0.001)\n",
         "hidden": false,
         "locked": false
        },
        {
         "code": ">>> assert np.isclose(lh_accelerometer_rms_check[0], 0.9700343636524773, atol=0.001)\n",
         "hidden": false,
         "locked": false
        },
        {
         "code": ">>> assert np.isclose(lh_accelerometer_rms_check[-1], 0.1439907, atol=0.001)\n",
         "hidden": false,
         "locked": false
        },
        {
         "code": ">>> assert np.isclose(rh_accelerometer_rms_check[0], 0.8847033, atol=0.001)\n",
         "hidden": false,
         "locked": false
        },
        {
         "code": ">>> assert np.isclose(rh_accelerometer_rms_check[-1], 0.522844, atol=0.001)\n",
         "hidden": false,
         "locked": false
        }
       ],
       "scored": true,
       "setup": "",
       "teardown": "",
       "type": "doctest"
      }
     ]
    },
    "determine_motion_type": {
     "name": "determine_motion_type",
     "points": 5,
     "suites": [
      {
       "cases": [
        {
         "code": ">>> assert snap_id == guess_motion_type(rms(s3s4_snap_lh_accelerometer_data), rms(s3s4_snap_rh_accelerometer_data))\n",
         "hidden": false,
         "locked": false
        }
       ],
       "scored": true,
       "setup": "",
       "teardown": "",
       "type": "doctest"
      }
     ]
    },
    "filter_data_set": {
     "name": "filter_data_set",
     "points": 3,
     "suites": [
      {
       "cases": [
        {
         "code": ">>> assert np.isclose(s3s4_snap_data[0, 0], 38888.0)\n",
         "hidden": false,
         "locked": false
        },
        {
         "code": ">>> assert np.isclose(s3s4_snap_data[0, -1], 3.0)\n",
         "hidden": false,
         "locked": false
        },
        {
         "code": ">>> assert np.isclose(s3s4_snap_data[-1, 0], 39338.0)\n",
         "hidden": false,
         "locked": false
        },
        {
         "code": ">>> assert np.isclose(s3s4_snap_data[-1, -1], 3.0)\n",
         "hidden": false,
         "locked": false
        }
       ],
       "scored": true,
       "setup": "",
       "teardown": "",
       "type": "doctest"
      }
     ]
    },
    "filter_function": {
     "name": "filter_function",
     "points": 1,
     "suites": [
      {
       "cases": [
        {
         "code": ">>> assert np.allclose(filter_data_set(full_dataset, 3, 4, snap_id), s3s4_snap_data)\n",
         "hidden": false,
         "locked": false
        }
       ],
       "scored": true,
       "setup": "",
       "teardown": "",
       "type": "doctest"
      }
     ]
    },
    "hours_collaborators": {
     "name": "hours_collaborators",
     "points": 1,
     "suites": [
      {
       "cases": [
        {
         "code": ">>> assert not 'not filled out' in worked_with_names\n",
         "hidden": false,
         "locked": false
        },
        {
         "code": ">>> assert not 'not filled out' in websites\n",
         "hidden": false,
         "locked": false
        },
        {
         "code": ">>> assert hours > 0\n",
         "hidden": false,
         "locked": false
        }
       ],
       "scored": true,
       "setup": "",
       "teardown": "",
       "type": "doctest"
      }
     ]
    },
    "libraries": {
     "name": "libraries",
     "points": 2,
     "suites": [
      {
       "cases": [
        {
         "code": ">>> assert np.min(np.zeros((2, 2)) == 0.0)\n",
         "hidden": false,
         "locked": false
        },
        {
         "code": ">>> assert json.loads('10') == 10\n",
         "hidden": false,
         "locked": false
        }
       ],
       "scored": true,
       "setup": "",
       "teardown": "",
       "type": "doctest"
      }
     ]
    },
    "peak_and_valley": {
     "name": "peak_and_valley",
     "points": 3,
     "suites": [
      {
       "cases": [
        {
         "code": ">>> assert find_row_with_value(find_row_with_value_test_array, 6) == 0\n",
         "hidden": false,
         "locked": false
        },
        {
         "code": ">>> assert find_row_with_value(find_row_with_value_test_array, 7) == 1\n",
         "hidden": false,
         "locked": false
        },
        {
         "code": ">>> assert find_row_with_value(find_row_with_value_test_array, 5) == 4\n",
         "hidden": false,
         "locked": false
        },
        {
         "code": ">>> assert np.isclose(s3s4_snap_rh_accelerometer_z_min, -3.56)\n",
         "hidden": false,
         "locked": false
        },
        {
         "code": ">>> assert np.isclose(s3s4_snap_rh_accelerometer_z_max, 3.24)\n",
         "hidden": false,
         "locked": false
        },
        {
         "code": ">>> assert s3s4_snap_rh_accelerometer_z_min_index == 47\n",
         "hidden": false,
         "locked": false
        },
        {
         "code": ">>> assert s3s4_snap_rh_accelerometer_z_max_index == 46\n",
         "hidden": false,
         "locked": false
        }
       ],
       "scored": true,
       "setup": "",
       "teardown": "",
       "type": "doctest"
      }
     ]
    },
    "read_data": {
     "name": "read_data",
     "points": 2,
     "suites": [
      {
       "cases": [
        {
         "code": ">>> assert full_dataset.shape == (31502, 16)\n",
         "hidden": false,
         "locked": false
        },
        {
         "code": ">>> assert len(data_description['data_channels']) == 8\n",
         "hidden": false,
         "locked": false
        }
       ],
       "scored": true,
       "setup": "",
       "teardown": "",
       "type": "doctest"
      }
     ]
    },
    "worst_subject": {
     "name": "worst_subject",
     "points": 3,
     "suites": [
      {
       "cases": [
        {
         "code": ">>> assert worst_subject_number > 0\n",
         "hidden": false,
         "locked": false
        },
        {
         "code": ">>> assert worst_subject_number <= 10\n",
         "hidden": false,
         "locked": false
        },
        {
         "code": ">>> assert find_row_with_value(incorrect_by_subject, np.max(incorrect_by_subject)) == worst_subject_number - 1\n",
         "hidden": false,
         "locked": false
        }
       ],
       "scored": true,
       "setup": "",
       "teardown": "",
       "type": "doctest"
      }
     ]
    }
   }
  }
 },
 "nbformat": 4,
 "nbformat_minor": 2
}
