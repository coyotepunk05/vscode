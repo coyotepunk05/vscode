{
 "cells": [
  {
   "cell_type": "markdown",
   "metadata": {},
   "source": [
    "# Functions (part II)\n",
    "\n",
    "First concept: All of the data/variables/inputs are passed INTO the function. You can create as many variables in the function as you want, but only the values/data in the return statement are returned to the calling function\n",
    "\n",
    "Matching concept: Some variable types (lists, dictionaries) are not copied in to the function"
   ]
  },
  {
   "cell_type": "code",
   "execution_count": 1,
   "metadata": {},
   "outputs": [],
   "source": [
    "# Don't forget the imports\n",
    "import numpy as np"
   ]
  },
  {
   "cell_type": "code",
   "execution_count": null,
   "metadata": {},
   "outputs": [],
   "source": [
    "# TODO We will come back to this later - this SHOULD fail the first time you execute this because, well, the variable\n",
    "# doesn't exist.\n",
    "print(f\"{a_global_variable}\")"
   ]
  },
  {
   "cell_type": "markdown",
   "metadata": {},
   "source": [
    "# Pass by value versus pass by reference\n",
    "\n",
    "This is a technical term related to the discussion in week 1 about immutable (strings, numbers) variable types versus mutable (lists, dictionaries, numpy arrays). Strings and numbers just have their values copied over, lists etc just have a reference to the data passed in - so if you change the value in the function, it changes it in the calling function. This is **Bad**. Just **Bad**, and very difficult to debug. In general, just **Don't change input variable values inside the function**."
   ]
  },
  {
   "cell_type": "code",
   "execution_count": 3,
   "metadata": {},
   "outputs": [],
   "source": [
    "def func_bad_bad_programmer(a_list, a_value=3.0):\n",
    "    \"\"\" Edit the numpy array in place by multiplying by the given value\n",
    "    @param a_array - a numpy array\n",
    "    @param a_value - a value to multiply by\n",
    "    @return The multiplied array\"\"\"\n",
    "    for i, a in enumerate(a_list):\n",
    "        a_list[i] *= a_value  # multiply and assign back to same variable\n",
    "    return a_list"
   ]
  },
  {
   "cell_type": "code",
   "execution_count": null,
   "metadata": {},
   "outputs": [],
   "source": [
    "a_array_in = [-0.1, 0.2, 0.3]\n",
    "print(f\"a_array_in before function call {a_array_in}\")\n",
    "b_array_out = func_bad_bad_programmer(a_array_in, 3.0)\n",
    "print(f\"a_array_in after function call {a_array_in}\")\n",
    "# b_array_out is actually the same as a_array_in\n",
    "b_array_out.append(2.0)\n",
    "print(f\"a_array_in after editing b {a_array_in}\")\n"
   ]
  },
  {
   "cell_type": "markdown",
   "metadata": {},
   "source": [
    "TODO: Fix **func_bad_bad_programmer** by making a new list and putting the a_list[i] * a_value values in that new list"
   ]
  },
  {
   "cell_type": "markdown",
   "metadata": {},
   "source": [
    "# Returning more than one value (tuples)"
   ]
  },
  {
   "cell_type": "code",
   "execution_count": 8,
   "metadata": {},
   "outputs": [],
   "source": [
    "def my_func_fancy(a, b=0.2):\n",
    "    \"\"\" A function that calculates a+b AND a-b\n",
    "    @param a - a number\n",
    "    @param b - a number (default value, 0.2)\n",
    "    @return a+b (a number) and a-b (also a number)\"\"\"\n",
    "    ret_val1 = a + b\n",
    "    ret_val2 = a - b\n",
    "    \n",
    "    # returns a tuple\n",
    "    return ret_val1, ret_val2    "
   ]
  },
  {
   "cell_type": "code",
   "execution_count": null,
   "metadata": {},
   "outputs": [],
   "source": [
    "# Calling the function, return value\n",
    "ret_fancy = my_func_fancy(1, 2)\n",
    "print(f\"ret_fancy is a tuple {ret_fancy}\")\n",
    "print(f\"Undoing the tuple {ret_fancy[0]} and {ret_fancy[1]}\")\n",
    "\n",
    "# OR\n",
    "ret_add, ret_sub = my_func_fancy(1, 2)\n",
    "print(f\"two return values {ret_add}, {ret_sub}\")"
   ]
  },
  {
   "cell_type": "markdown",
   "metadata": {},
   "source": [
    "# Optional - other headaches using global variables\n",
    "\n",
    "If you accidentally use a variable name that is declared within the global scope, and you only access it (it's on the right hand side of an equation/passed into a parameter) then it will use the global one. If, however, you *created* that variable at some point - by doing **var = something** - then it will use the *local* one when you access it. \n",
    "\n",
    "To avoid these headaches:\n",
    "- If you really, really need to use a global variable, declare it at the top of the script then use global name in every function that uses it\n",
    "- Define all functions at the top of the script BEFORE any variables, and do a kernel->restart and clear once in a while to make sure it all works properly\n",
    "- Use more descriptive variable names - if all of your variables are named \"x\" then you are likely to run into a lot of problems. Consider using x_in, or x_res or x_local or SOMETHING..."
   ]
  },
  {
   "cell_type": "code",
   "execution_count": 10,
   "metadata": {},
   "outputs": [],
   "source": [
    "# TODO: Uncomment the global line and execute this cell and the next one\n",
    "def func_really_bad_use_global_variable():\n",
    "    # global a_global_variable\n",
    "    a_global_variable = 5.0\n",
    "    \n",
    "    # Uses local IF global line does not exist and a_global_variable was created somewhere above\n",
    "    # However, if it was NOT created somewhere above, it will use the global one...\n",
    "    return 3 * a_global_variable"
   ]
  },
  {
   "cell_type": "code",
   "execution_count": null,
   "metadata": {},
   "outputs": [],
   "source": [
    "# TODO [optional]: Why does this multiply by 10 and not by 5? Didn't I set a_global_variable to 5?\n",
    "#  Hint: Is a_global_variable in func_really_bad_use_global_variable the same one as in func_bad_use_global_variable?\n",
    "\n",
    "func_really_bad_use_global_variable()  # suppose to set a_global_variable to 5\n",
    "\n",
    "b_output_array_bad_optional = func_bad_use_global_variable(a_np_array)\n",
    "print(f\"Oops: new output array {b_output_array_bad_optional}\")"
   ]
  }
 ],
 "metadata": {
  "kernelspec": {
   "display_name": "base",
   "language": "python",
   "name": "python3"
  },
  "language_info": {
   "codemirror_mode": {
    "name": "ipython",
    "version": 3
   },
   "file_extension": ".py",
   "mimetype": "text/x-python",
   "name": "python",
   "nbconvert_exporter": "python",
   "pygments_lexer": "ipython3",
   "version": "3.12.4"
  }
 },
 "nbformat": 4,
 "nbformat_minor": 2
}
