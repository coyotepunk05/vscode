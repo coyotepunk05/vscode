{
 "cells": [
  {
   "cell_type": "markdown",
   "metadata": {},
   "source": [
    "# Create a function \n",
    "\n",
    "Create a function that takes in a list, an element to search for, and an (optional) element to replace that element. If that optional replacement is \"none\", then simply remove that element. This function should create a new list and return that (do NOT edit the original list)\n",
    "\n",
    "There are many, many ways to do this - I'll walk you through one. See here https://datagy.io/python-replace-item-in-list/  for more ways if you're curious.\n",
    "\n",
    "Specific instructions:\n",
    "- Name your function your_list_replace\n",
    "- First parameter should be the input list\n",
    "- Second parameter is the element to find\n",
    "- Third parameter is what to replace that element with. It should default to None\n",
    "- Do NOT edit the input list - you should create a new list and return that\n"
   ]
  },
  {
   "cell_type": "code",
   "execution_count": null,
   "metadata": {},
   "outputs": [],
   "source": [
    "# TODO: Define your function here\n"
   ]
  },
  {
   "cell_type": "markdown",
   "metadata": {},
   "source": [
    "This is a function you can use to, well, check your function"
   ]
  },
  {
   "cell_type": "code",
   "execution_count": null,
   "metadata": {},
   "outputs": [],
   "source": [
    "# The craziness of Python - you can pass functions into functions and then run them! I wanted a way to test my own\n",
    "#  version of the function as well as yours, so I wrote a function that will do that\n",
    "def check_list_replace(func_to_check):\n",
    "    \"\"\"Check that the function correctly replaces values\n",
    "    @param func_to_check - function to check (either my_list_replace or your_list_replace)\n",
    "    @returns True if no errors found\"\"\"\n",
    "\n",
    "    list_to_check1 = [\"a\", \"b\", \"c\", \"d\", \"a\"]\n",
    "    save_list_to_check1 = [\"a\", \"b\", \"c\", \"d\", \"a\"]\n",
    "    expected_return1 = [1, \"b\", \"c\", \"d\", 1]\n",
    "    expected_return2 = [\"b\", \"c\", \"d\"]\n",
    "\n",
    "    # First check that it works with replacing \"a\" with 1\n",
    "    ret1 = func_to_check(list_to_check1, \"a\", 1)\n",
    "    if not (list_to_check1 == save_list_to_check1):\n",
    "        print(f\"You modified the original list {list_to_check1}, {save_list_to_check1}\")\n",
    "        return False\n",
    "\n",
    "    if not (ret1 == expected_return1):\n",
    "        print(f\"Return incorrect, expected {expected_return1}, got {ret1}\")\n",
    "        return False\n",
    "\n",
    "    ret2 = func_to_check(list_to_check1, \"a\")\n",
    "    if not (list_to_check1 == save_list_to_check1):\n",
    "        print(f\"You modified the original list {list_to_check1}, {save_list_to_check1}\")\n",
    "        return False\n",
    "\n",
    "    if not (ret2 == expected_return2):\n",
    "        print(f\"Return incorrect, expected {expected_return2}, got {ret2}\")\n",
    "        return False\n",
    "\n",
    "    return True\n"
   ]
  },
  {
   "cell_type": "markdown",
   "metadata": {},
   "source": [
    "Check that it works - or at least doesn't go \"boom\""
   ]
  },
  {
   "cell_type": "code",
   "execution_count": null,
   "metadata": {},
   "outputs": [],
   "source": [
    "# Check that it works\n",
    "list_to_check1 = [\"a\", \"b\", \"c\", \"d\", \"a\"]\n",
    "\n",
    "# First check that it works with replacing \"a\" with 1\n",
    "ret1 = your_list_replace(list_to_check1, \"a\", 1)\n",
    "\n",
    "print(f\"{ret1}\")"
   ]
  },
  {
   "cell_type": "code",
   "execution_count": null,
   "metadata": {},
   "outputs": [],
   "source": [
    "# A more thorough check\n",
    "if check_list_replace(your_list_replace):\n",
    "    print(\"Passed checks\")"
   ]
  },
  {
   "cell_type": "markdown",
   "metadata": {},
   "source": [
    "# Answers\n",
    "\n",
    "I've used in_list and ret_list to be as clear as possible which one is the input and which is the returned one "
   ]
  },
  {
   "cell_type": "code",
   "execution_count": null,
   "metadata": {},
   "outputs": [],
   "source": [
    "def my_list_replace(in_list, elem_find, elem_replace=None):\n",
    "    \"\"\"Replace elem_find with elem_replace, removing it if elem_replace is none\n",
    "    @param in_list - the input list\n",
    "    @param elem_find - the element to find. Assumes in_list[i] == elem_find returns True\n",
    "    @param elem_replace - what to set the element to; if None, delete the element\n",
    "    @return returns a new list with the replaced element\"\"\"\n",
    "\n",
    "    # This is an example of create a new list, and append the element to that list\n",
    "    ret_list = []\n",
    "\n",
    "    # What type of for loop to use - Do we need an index? No, because we're using .append to add the new\n",
    "    #  element. So just a standard for e in list  will work just fine\n",
    "    for e in in_list:\n",
    "        # Use ==, not is, because it will work across more data types\n",
    "        if e == elem_find:\n",
    "            # Check if the replacement element is NOT none - if so, append the replacement element\n",
    "            if elem_replace is not None:\n",
    "                ret_list.append(elem_replace)\n",
    "        else:\n",
    "            # Just copy the element over\n",
    "            ret_list.append(e)\n",
    "\n",
    "    # Return the list\n",
    "    return ret_list\n"
   ]
  },
  {
   "cell_type": "code",
   "execution_count": null,
   "metadata": {},
   "outputs": [],
   "source": [
    "# Check that it works\n",
    "list_to_check1 = [\"a\", \"b\", \"c\", \"d\", \"a\"]\n",
    "\n",
    "# First check that it works with replacing \"a\" with 1\n",
    "ret1 = my_list_replace(list_to_check1, \"a\", 1)\n",
    "\n",
    "print(f\"{ret1}\")"
   ]
  },
  {
   "cell_type": "code",
   "execution_count": null,
   "metadata": {},
   "outputs": [],
   "source": [
    "# A more thorough check\n",
    "if check_list_replace(my_list_replace):\n",
    "    print(\"Passed checks\")"
   ]
  },
  {
   "cell_type": "code",
   "execution_count": null,
   "metadata": {},
   "outputs": [],
   "source": []
  }
 ],
 "metadata": {
  "kernelspec": {
   "display_name": "Python 3",
   "language": "python",
   "name": "python3"
  },
  "language_info": {
   "codemirror_mode": {
    "name": "ipython",
    "version": 3
   },
   "file_extension": ".py",
   "mimetype": "text/x-python",
   "name": "python",
   "nbconvert_exporter": "python",
   "pygments_lexer": "ipython3",
   "version": "3.7.3"
  }
 },
 "nbformat": 4,
 "nbformat_minor": 2
}
