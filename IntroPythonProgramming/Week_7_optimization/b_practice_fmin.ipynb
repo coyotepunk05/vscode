{
 "cells": [
  {
   "cell_type": "markdown",
   "metadata": {},
   "source": [
    "# Optimization, practice\n",
    "\n",
    "This is practice setting up fmin with a 1D function that has several parameters \"bound\" to specific values - this lets us re-use code and solve for a \"family\" of similar functions"
   ]
  },
  {
   "cell_type": "code",
   "execution_count": null,
   "metadata": {},
   "outputs": [],
   "source": [
    "# Our usual imports\n",
    "import numpy as np\n",
    "import matplotlib.pyplot as plt\n",
    "\n",
    "# New scipy import that finds the minima of a function\n",
    "from scipy.optimize import fmin\n",
    "# A helper function that \"binds\" variables\n",
    "from functools import partial\n"
   ]
  },
  {
   "cell_type": "code",
   "execution_count": null,
   "metadata": {},
   "outputs": [],
   "source": [
    "# A generic quadratic function that we want to find the minimum of ax^2 + bx + c\n",
    "def my_quad_func(x, a=0, b=1, c=0):\n",
    "    \"\"\"A quadratic function\n",
    "    @param x the input x value\n",
    "    @param a - scale x^2\n",
    "    @param b - scale x\n",
    "    @param c - add c\n",
    "    @returns ax^2 + bx + c\"\"\"\n",
    "    # TODO: calculate, and return, the function\n",
    "    return 0"
   ]
  },
  {
   "cell_type": "markdown",
   "metadata": {},
   "source": [
    "## Use fmin to find the minimum of my_quad_func for several values of a, b, and c"
   ]
  },
  {
   "cell_type": "code",
   "execution_count": null,
   "metadata": {},
   "outputs": [],
   "source": [
    "# TODO: Practice calling fmin with a = 1, b = 1, c = 1\n",
    "# First, use partial to create the function from my_quad_func with a,b,c as given above\n",
    "# Second, call fmin with the new function\n"
   ]
  },
  {
   "cell_type": "code",
   "execution_count": null,
   "metadata": {},
   "outputs": [],
   "source": [
    "# Plot the function and the result with many values of a and b and c\n",
    "fig, axs = plt.subplots(1, 1, figsize=(4, 4))\n",
    "ts = np.linspace(-3.0, 6.0)\n",
    "\n",
    "a_list = [0.5, 0.5, 1.0]\n",
    "b_list = [-1.0, 0.25, 0.2]\n",
    "c_list = [-2.0, 0.0, 2.0]\n",
    "cols = ['red', 'blue', 'grey']\n",
    "for a, b, c in zip(a_list, b_list, c_list):\n",
    "    # TODO\n",
    "    #  Use partial to create a function from my_quad_func that sets a to a, b to b, and c to c\n",
    "    #  Pass that function into fmin to find the minima (x_at_min and f_at_x_min)\n",
    "\n",
    "    x_at_min = 0\n",
    "    f_at_x_min = 0\n",
    "    # TODO: use partial, then fmin, to calculate x_at_min and f_at_x_min for all 3 combinations of a, b, and c\n",
    "\n",
    "    print(f\"Minimum of f is {f_at_x_min}, happens at x={x_at_min[0]}\")\n",
    "\n",
    "    axs.plot(ts, my_fn(ts), linestyle='-', label=f\"{a} x^2 + {b}x + c\")\n",
    "    axs.plot(x_at_min, f_at_x_min, 'Xr')\n",
    "\n",
    "axs.set_xlabel('x')\n",
    "axs.set_ylabel('y')\n",
    "axs.axis('equal')\n",
    "axs.set_title(\"Minimum of quadratic\")\n"
   ]
  },
  {
   "cell_type": "markdown",
   "metadata": {},
   "source": [
    "# Answers\n",
    "\n",
    "Code for my_quad_func\n",
    "\n",
    "**return a * x**2 + b * x + c**\n",
    "\n",
    "Code for practice/plot\n",
    "\n",
    "**my_fn = partial(my_quad_func, a=a, b=b, c=c)**\n",
    "\n",
    "**x_at_min, f_at_x_min, _, _, _ = fmin(my_fn, 0.2, maxfun=100, full_output=True)**\n",
    "\n"
   ]
  }
 ],
 "metadata": {
  "kernelspec": {
   "display_name": "Python 3",
   "language": "python",
   "name": "python3"
  },
  "language_info": {
   "codemirror_mode": {
    "name": "ipython",
    "version": 3
   },
   "file_extension": ".py",
   "mimetype": "text/x-python",
   "name": "python",
   "nbconvert_exporter": "python",
   "pygments_lexer": "ipython3",
   "version": "3.7.4"
  }
 },
 "nbformat": 4,
 "nbformat_minor": 2
}
