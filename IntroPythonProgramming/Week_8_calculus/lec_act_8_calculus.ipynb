{
 "cells": [
  {
   "cell_type": "code",
   "execution_count": 1,
   "metadata": {
    "deletable": false,
    "editable": false
   },
   "outputs": [],
   "source": [
    "# Initialize Otter\n",
    "import otter\n",
    "grader = otter.Notebook(\"lec_act_8_calculus.ipynb\")"
   ]
  },
  {
   "cell_type": "markdown",
   "metadata": {},
   "source": [
    "# Lecture activity: calculus \n",
    "\n",
    "Slides: https://docs.google.com/presentation/d/1sq3ERLBET1ourJZJzXMtJe6-cN8Tlt-GLEzSDOxrd0M/edit?usp=sharing\n",
    "\n",
    "Practice calculus with this function:\n",
    "\n",
    "f(x) = (3/x) ln(x) - x^2 / 10.0 - x / 3.0 + (x-3) * x * x"
   ]
  },
  {
   "cell_type": "markdown",
   "metadata": {
    "deletable": false,
    "editable": false
   },
   "source": [
    "# Create the function\n",
    "\n",
    "TODO: Write the above equation as a function named \"my_func\""
   ]
  },
  {
   "cell_type": "code",
   "execution_count": 2,
   "metadata": {
    "tags": []
   },
   "outputs": [],
   "source": [
    "# Do the imports - you'll need fminbound from scipy.iptimize and quad from scipy.integrate in addition to the usual numpy/matplotlib\n",
    "from scipy.optimize import fminbound\n",
    "from scipy.integrate import quad\n",
    "import numpy as np\n",
    "import matplotlib.pyplot as plt"
   ]
  },
  {
   "cell_type": "code",
   "execution_count": 4,
   "metadata": {
    "tags": []
   },
   "outputs": [],
   "source": [
    "# Use my_func for the name of the Python function\n",
    "def my_func(x):\n",
    "    x_new = (3/x)*np.log(x) - (x**2)/10 - x/3 + (x-3)*x*x\n",
    "    return x_new"
   ]
  },
  {
   "cell_type": "code",
   "execution_count": 5,
   "metadata": {
    "tags": []
   },
   "outputs": [
    {
     "name": "stdout",
     "output_type": "stream",
     "text": [
      "Func at 1.0 is -2.4333333333333336, expected -2.433333\n",
      "Func at 2.0 is -4.026945895826749, expected -4.02694589\n"
     ]
    }
   ],
   "source": [
    "# Check my_func is returning the correct answer for a couple x values\n",
    "print(f\"Func at 1.0 is {my_func(1.0)}, expected -2.433333\")\n",
    "print(f\"Func at 2.0 is {my_func(2.0)}, expected -4.02694589\")"
   ]
  },
  {
   "cell_type": "code",
   "execution_count": 6,
   "metadata": {
    "deletable": false,
    "editable": false
   },
   "outputs": [
    {
     "data": {
      "text/html": [
       "<p><strong><pre style='display: inline;'>create_func</pre></strong> passed! 🌟</p>"
      ],
      "text/plain": [
       "create_func results: All test cases passed!"
      ]
     },
     "execution_count": 6,
     "metadata": {},
     "output_type": "execute_result"
    }
   ],
   "source": [
    "grader.check(\"create_func\")"
   ]
  },
  {
   "cell_type": "markdown",
   "metadata": {
    "deletable": false,
    "editable": false
   },
   "source": [
    "# Minima/maxima and Plot\n",
    "\n",
    "Find the minima/maxima within the bounds **a=0.5** and **b=3.0**\n",
    "\n",
    "Plot the function, along with the minima/maxima\n",
    "\n",
    "TODO: Use a new function, **fminbound**, that is essentially **fmin** but you can put bounds on the **x** values to limit the search to a part of the function.\n"
   ]
  },
  {
   "cell_type": "code",
   "execution_count": 7,
   "metadata": {
    "tags": []
   },
   "outputs": [],
   "source": [
    "# Integration limits and the boundaries of the search for minima and maxima\n",
    "a = 0.5\n",
    "b = 3.0"
   ]
  },
  {
   "cell_type": "code",
   "execution_count": 9,
   "metadata": {
    "tags": []
   },
   "outputs": [
    {
     "name": "stdout",
     "output_type": "stream",
     "text": [
      "Max 0.9481378678543182, expected 0.94813, Min 2.091115061958074, expected 2.091114\n"
     ]
    }
   ],
   "source": [
    "# TODO Find the x locations of the two bends (minima and maxima)\n",
    "# Use fminbound for both of these\n",
    "#  Reminder that the maximum can be found by negating\n",
    "#  You might find a lambda function useful\n",
    "#  Use the ability to set bounds to keep the search to just the \"bump\" around the minima or maxima (you can hardwire these bounds)\n",
    "#     I'd suggest plotting the function and/or looking at the plot in the slides to find reasonable bounds\n",
    "first_max = fminbound(lambda x: -my_func(x), a, b)\n",
    "first_min = fminbound(my_func, a, b)\n",
    "\n",
    "print(f\"Max {first_max}, expected 0.94813, Min {first_min}, expected 2.091114\")"
   ]
  },
  {
   "cell_type": "code",
   "execution_count": 19,
   "metadata": {
    "tags": []
   },
   "outputs": [
    {
     "data": {
      "text/plain": [
       "Text(0.5, 1.0, 'my_func x vs y with local max and min')"
      ]
     },
     "execution_count": 19,
     "metadata": {},
     "output_type": "execute_result"
    },
    {
     "data": {
      "image/png": "[encoded data removed]",
      "text/plain": [
       "<Figure size 600x300 with 1 Axes>"
      ]
     },
     "metadata": {},
     "output_type": "display_data"
    }
   ],
   "source": [
    "# TODO Plot the function from a to b\n",
    "# TODO Put a green x at the first maxima, and a red x at the first minima\n",
    "fig, axs = plt.subplots(1, 1, figsize=(6, 3))\n",
    "x_vals = np.linspace(a, b, 500)\n",
    "plt.plot(x_vals, my_func(x_vals), color=\"black\")\n",
    "plt.plot(first_max, my_func(first_max), marker=\"x\", color=\"green\", markersize=10)\n",
    "plt.plot(first_min, my_func(first_min), marker=\"x\", color=\"red\", markersize=10)\n",
    "plt.xlabel(\"X Value\")\n",
    "plt.ylabel(\"Y Value\")\n",
    "plt.title(\"my_func x vs y with local max and min\")"
   ]
  },
  {
   "cell_type": "code",
   "execution_count": 20,
   "metadata": {
    "deletable": false,
    "editable": false
   },
   "outputs": [
    {
     "data": {
      "text/html": [
       "<p><strong><pre style='display: inline;'>plot_fn</pre></strong> passed! 🌈</p>"
      ],
      "text/plain": [
       "plot_fn results: All test cases passed!"
      ]
     },
     "execution_count": 20,
     "metadata": {},
     "output_type": "execute_result"
    }
   ],
   "source": [
    "grader.check(\"plot_fn\")"
   ]
  },
  {
   "cell_type": "markdown",
   "metadata": {
    "deletable": false,
    "editable": false
   },
   "source": [
    "# Derivative\n",
    "TODO Numerically alculate the derivatives at the first_max/first_min points (what should the derivative be?)\n",
    "\n",
    "Pick a reasonable **h** for the derivative calculation. You can do forward, backward, or central"
   ]
  },
  {
   "cell_type": "code",
   "execution_count": 25,
   "metadata": {
    "tags": []
   },
   "outputs": [
    {
     "name": "stdout",
     "output_type": "stream",
     "text": [
      "-5.740052877456491e-05\n"
     ]
    }
   ],
   "source": [
    "# TODO: Numerically calculate the derivative at the minima/maxima\n",
    "deriv_max = (my_func(first_max+0.00001)-my_func(first_max))/0.00001\n",
    "deriv_min = (my_func(first_min+0.00001)-my_func(first_min))/0.00001\n",
    "\n",
    "print(deriv_max)"
   ]
  },
  {
   "cell_type": "code",
   "execution_count": 26,
   "metadata": {
    "deletable": false,
    "editable": false
   },
   "outputs": [
    {
     "data": {
      "text/html": [
       "<p><strong><pre style='display: inline;'>derivative</pre></strong> passed! ✨</p>"
      ],
      "text/plain": [
       "derivative results: All test cases passed!"
      ]
     },
     "execution_count": 26,
     "metadata": {},
     "output_type": "execute_result"
    }
   ],
   "source": [
    "grader.check(\"derivative\")"
   ]
  },
  {
   "cell_type": "markdown",
   "metadata": {
    "deletable": false,
    "editable": false
   },
   "source": [
    "# Integration\n",
    "\n",
    "TODO Calculate the area under the curve using **trapz** or **quad**, whichever you perfer."
   ]
  },
  {
   "cell_type": "code",
   "execution_count": null,
   "metadata": {
    "tags": []
   },
   "outputs": [],
   "source": [
    "\n",
    "area_under_curve = "
   ]
  },
  {
   "cell_type": "code",
   "execution_count": null,
   "metadata": {
    "deletable": false,
    "editable": false
   },
   "outputs": [],
   "source": [
    "grader.check(\"area\")"
   ]
  },
  {
   "cell_type": "markdown",
   "metadata": {
    "deletable": false,
    "editable": false
   },
   "source": [
    "## Hours and collaborators\n",
    "Required for every assignment - fill out before you hand-in.\n",
    "\n",
    "Listing names and websites helps you to document who you worked with and what internet help you received in the case of any plagiarism issues. You should list names of anyone (in class or not) who has substantially helped you with an assignment - or anyone you have *helped*. You do not need to list TAs.\n",
    "\n",
    "Listing hours helps us track if the assignments are too long."
   ]
  },
  {
   "cell_type": "code",
   "execution_count": null,
   "metadata": {
    "tags": []
   },
   "outputs": [],
   "source": [
    "\n",
    "# List of names (creates a set)\n",
    "worked_with_names = {\"not filled out\"}\n",
    "# List of URLS I25 (creates a set)\n",
    "websites = {\"not filled out\"}\n",
    "# Approximate number of hours, including lab/in-class time\n",
    "hours = -1.5"
   ]
  },
  {
   "cell_type": "code",
   "execution_count": null,
   "metadata": {
    "deletable": false,
    "editable": false
   },
   "outputs": [],
   "source": [
    "grader.check(\"hours_collaborators\")"
   ]
  },
  {
   "cell_type": "markdown",
   "metadata": {},
   "source": [
    "### To submit\n",
    "\n",
    "All the usual - rerun, remove print statements, save.\n",
    "\n",
    "- Submit this .ipynb file to lecture activity 8 (calculus)\n",
    "\n",
    "If the Gradescope autograder fails, please check here first for common reasons for it to fail\n",
    "    https://docs.google.com/presentation/d/1tYa5oycUiG4YhXUq5vHvPOpWJ4k_xUPp2rUNIL7Q9RI/edit?usp=sharing\n",
    "\n",
    "This submit rarely fails. "
   ]
  }
 ],
 "metadata": {
  "kernelspec": {
   "display_name": "Python 3",
   "language": "python",
   "name": "python3"
  },
  "language_info": {
   "codemirror_mode": {
    "name": "ipython",
    "version": 3
   },
   "file_extension": ".py",
   "mimetype": "text/x-python",
   "name": "python",
   "nbconvert_exporter": "python",
   "pygments_lexer": "ipython3",
   "version": "3.12.7"
  },
  "otter": {
   "OK_FORMAT": true,
   "tests": {
    "area": {
     "name": "area",
     "points": 1,
     "suites": [
      {
       "cases": [
        {
         "code": ">>> assert np.isclose(area_under_curve[0], -7.90504, atol=0.001)\n",
         "hidden": false,
         "locked": false
        }
       ],
       "scored": true,
       "setup": "",
       "teardown": "",
       "type": "doctest"
      }
     ]
    },
    "create_func": {
     "name": "create_func",
     "points": 1,
     "suites": [
      {
       "cases": [
        {
         "code": ">>> assert np.isclose(my_func(1.0), -2.433333, atol=0.001)\n",
         "hidden": false,
         "locked": false
        },
        {
         "code": ">>> assert np.isclose(my_func(2.0), -4.02694589, atol=0.001)\n",
         "hidden": false,
         "locked": false
        }
       ],
       "scored": true,
       "setup": "",
       "teardown": "",
       "type": "doctest"
      }
     ]
    },
    "derivative": {
     "name": "derivative",
     "points": 1,
     "suites": [
      {
       "cases": [
        {
         "code": ">>> assert np.isclose(deriv_max, 0.0, atol=0.0001)\n",
         "hidden": false,
         "locked": false
        },
        {
         "code": ">>> assert np.isclose(deriv_min, 0.0, atol=0.0001)\n",
         "hidden": false,
         "locked": false
        }
       ],
       "scored": true,
       "setup": "",
       "teardown": "",
       "type": "doctest"
      }
     ]
    },
    "hours_collaborators": {
     "name": "hours_collaborators",
     "points": 1,
     "suites": [
      {
       "cases": [
        {
         "code": ">>> assert not 'not filled out' in worked_with_names\n",
         "hidden": false,
         "locked": false
        },
        {
         "code": ">>> assert not 'not filled out' in websites\n",
         "hidden": false,
         "locked": false
        },
        {
         "code": ">>> assert hours > 0\n",
         "hidden": false,
         "locked": false
        }
       ],
       "scored": true,
       "setup": "",
       "teardown": "",
       "type": "doctest"
      }
     ]
    },
    "plot_fn": {
     "name": "plot_fn",
     "points": 1,
     "suites": [
      {
       "cases": [
        {
         "code": ">>> assert np.isclose(first_max, 0.94813, atol=0.1)\n",
         "hidden": false,
         "locked": false
        },
        {
         "code": ">>> assert np.isclose(first_min, 2.091114, atol=0.1)\n",
         "hidden": false,
         "locked": false
        }
       ],
       "scored": true,
       "setup": "",
       "teardown": "",
       "type": "doctest"
      }
     ]
    }
   }
  }
 },
 "nbformat": 4,
 "nbformat_minor": 2
}
