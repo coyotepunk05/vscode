{
 "cells": [
  {
   "cell_type": "markdown",
   "metadata": {},
   "source": [
    "# Numeric differentiation \n",
    "\n",
    "Derivatives are pretty simple if you have a function - the only tricky bit is determining a good value for **h**. Too small, and you get numerical errors. Too big and you get a poor approximation.\n",
    "\n",
    "Slides: https://docs.google.com/presentation/d/1-I407aSQVEo_WJPGlZlG3Dh4AJ5vZa0rl_pXxELR2ic/edit?usp=sharing"
   ]
  },
  {
   "cell_type": "markdown",
   "metadata": {},
   "source": [
    "A generic function that we want to find the derivative of. Note that this is an actual function in this case, but this works for any Python function, regardless of what's in it/what it computes, as long as it returns a number."
   ]
  },
  {
   "cell_type": "code",
   "execution_count": null,
   "metadata": {},
   "outputs": [],
   "source": [
    "def my_func(x):\n",
    "    \"\"\"A quadratic function\n",
    "    @param x the input x value\n",
    "    @returns f(x)\"\"\"\n",
    "    return (x-2)**2 - 3"
   ]
  },
  {
   "cell_type": "markdown",
   "metadata": {},
   "source": [
    "# The analytical derivative \n",
    "\n",
    "... since we can find the derivative of a quadratic analytically..."
   ]
  },
  {
   "cell_type": "code",
   "execution_count": null,
   "metadata": {},
   "outputs": [],
   "source": [
    "def my_func_deriv(x):\n",
    "    \"\"\"A linear function\n",
    "    @param x the input x value\n",
    "    @returns f(x)\"\"\"\n",
    "    return 2 * x - 4"
   ]
  },
  {
   "cell_type": "markdown",
   "metadata": {},
   "source": [
    "TODO: Play around with h and x - what happens as h gets big? Small? Which of these techniques is the most robust to changes in h? Why?"
   ]
  },
  {
   "cell_type": "code",
   "execution_count": null,
   "metadata": {},
   "outputs": [],
   "source": [
    "# I like to use this as a good guess for h\n",
    "h = 1e-6\n",
    "\n",
    "# Do derivatives at x = 0.2\n",
    "x = 0.2\n",
    "\n",
    "# Forward difference\n",
    "deriv_forward = (my_func(x + h) - my_func(x)) / h\n",
    "# Backwards\n",
    "deriv_backwards = (my_func(x) - my_func(x-h)) / h\n",
    "# Central\n",
    "deriv_central = (my_func(x+h) - my_func(x-h)) / (2.0 * h)\n",
    "\n",
    "# Analytic\n",
    "deriv_actual = my_func_deriv(x)\n",
    "\n",
    "print(f\"Forward { deriv_forward:0.6f}\")\n",
    "print(f\"Backwards { deriv_backwards:0.6f}\")\n",
    "print(f\"Central { deriv_central:0.6f}\")\n",
    "print(f\"Analytic { deriv_actual:0.6f}\")\n"
   ]
  },
  {
   "cell_type": "code",
   "execution_count": null,
   "metadata": {},
   "outputs": [],
   "source": []
  }
 ],
 "metadata": {
  "kernelspec": {
   "display_name": "Python 3",
   "language": "python",
   "name": "python3"
  },
  "language_info": {
   "codemirror_mode": {
    "name": "ipython",
    "version": 3
   },
   "file_extension": ".py",
   "mimetype": "text/x-python",
   "name": "python",
   "nbconvert_exporter": "python",
   "pygments_lexer": "ipython3",
   "version": "3.7.3"
  }
 },
 "nbformat": 4,
 "nbformat_minor": 2
}
