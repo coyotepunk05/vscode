{
 "cells": [
  {
   "cell_type": "code",
   "execution_count": null,
   "metadata": {
    "deletable": false,
    "editable": false
   },
   "outputs": [],
   "source": [
    "# Initialize Otter\n",
    "import otter\n",
    "grader = otter.Notebook(\"Lab_8_calculus.ipynb\")"
   ]
  },
  {
   "cell_type": "markdown",
   "metadata": {},
   "source": [
    "# Area under an elliptic paraboloid\n",
    "\n",
    "Use the monte carlo technique in the tutorial to estimate the area under the 2D elliptic parabaloid\n",
    "\n",
    "Your code should work even if the center and scale values shift (provided the parabaloid is still above the z = 0 plane)\n",
    "\n",
    "Slides: https://docs.google.com/presentation/d/1sq3ERLBET1ourJZJzXMtJe6-cN8Tlt-GLEzSDOxrd0M/edit?usp=sharing"
   ]
  },
  {
   "cell_type": "code",
   "execution_count": null,
   "metadata": {},
   "outputs": [],
   "source": [
    "import numpy as np\n",
    "import matplotlib.pyplot as plt\n",
    "from functools import partial"
   ]
  },
  {
   "cell_type": "code",
   "execution_count": null,
   "metadata": {},
   "outputs": [],
   "source": [
    "# Install a pip package in the current Jupyter kernel\n",
    "# Note: this is a safety check in case your JN install was not in the same place as your libraries\n",
    "import sys\n",
    "!{sys.executable} -m pip install ipympl"
   ]
  },
  {
   "cell_type": "markdown",
   "metadata": {
    "deletable": false,
    "editable": false
   },
   "source": [
    "# Create the function\n",
    "\n",
    "TODO: Create a function with the center/scale parameters bound to the given values.\n",
    "\n",
    "You might find it useful to go back to **a_tutorial_fmin** to remember how to bind parameters to create a simple function to use using **partial**.\n",
    "\n",
    "Also get the plotting code from that file and add that to the plot question below; you can then add plotting the samples as you work through this lab."
   ]
  },
  {
   "cell_type": "code",
   "execution_count": null,
   "metadata": {
    "tags": []
   },
   "outputs": [],
   "source": [
    "# A fancier quadratic-y type function (but in 2D)\n",
    "def elliptic_paraboloid(x, y, x0=0, y0=0, sclx=1, scly=1):\n",
    "    \"\"\" x,y -> f(x) in the shape of a 'bowl'\n",
    "    @param x - x value in the plane\n",
    "    @param y - y value in the plane\n",
    "    @param x0 - amount to shift the bottom of the bowl by in x\n",
    "    @param y0 - amount to shift the bottom of the bowl by in y\n",
    "    @param sclx - scale the bowl's side in x\n",
    "    @param scly - scale the bowl's side in y\n",
    "    @returns - f(x,y) the bowl's height over the point x,y\n",
    "    \"\"\"\n",
    "    return (x-x0)**2 / sclx**2 + (y-y0)**2 / scly**2"
   ]
  },
  {
   "cell_type": "code",
   "execution_count": null,
   "metadata": {
    "tags": []
   },
   "outputs": [],
   "source": [
    "# Paramaters to bind\n",
    "sclx = 1.5\n",
    "scly = 0.75\n",
    "x0 = 1.0\n",
    "y0 = 2.0\n",
    "\n",
    "# TODO: Use partial to create a function with the parameters bound to the above values\n",
    "my_func = ..."
   ]
  },
  {
   "cell_type": "code",
   "execution_count": null,
   "metadata": {
    "tags": []
   },
   "outputs": [],
   "source": [
    "print(f\"Func at x0, y0 is {my_func(x0, y0)}, expected 0.0\")\n",
    "print(f\"Func at 2.0, 2.0 is {my_func(2.0, 2.0)}, expected 0.4444\")"
   ]
  },
  {
   "cell_type": "code",
   "execution_count": null,
   "metadata": {
    "deletable": false,
    "editable": false
   },
   "outputs": [],
   "source": [
    "grader.check(\"create_func\")"
   ]
  },
  {
   "cell_type": "markdown",
   "metadata": {
    "deletable": false,
    "editable": false
   },
   "source": [
    "# Generating samples (see tutorial)\n",
    "\n",
    "TODO: Generate samples in x, y, and z inside the \"box\" that contains the function\n",
    "\n",
    "For this problem you do NOT need to worry about the function being above/below the zero line - the whole function is positive (z >= 0)\n",
    "\n",
    "For this problem use z_min = 0 (i.e., put the box from 0 to z_max)\n",
    "\n",
    "- samples need to be in the box\n",
    "- Find the max z value of the elliptic paraboloid using the provided grid samples\n",
    "- Generate samples using np.random.uniform (you can use something fancier if you want)\n",
    "- Calculate the area of the box\n",
    "- You need to generate x, y, and z samples - 3D points - in the box\n",
    "- I suggest generating the points, drawing them, then do the area calculation (next question)\n",
    "\n",
    "I've set x bds to be 2 and the y bds to be 3, which means we'll sample from x +- 2 and y +- 3 in the x,y directions\n"
   ]
  },
  {
   "cell_type": "code",
   "execution_count": null,
   "metadata": {
    "tags": []
   },
   "outputs": [],
   "source": [
    "# Make it easy to change the number of samples.\n",
    "#. Reminder: You need the same number of samples in all directions (x,y, and z)\n",
    "n_samples = 100000\n",
    "\n",
    "# This is the size of the box around x,y - \n",
    "bds_x = 2\n",
    "bds_y = 3\n",
    "\n",
    "# Which means that the size of the box (in x and y) is... What is bds_x + bds_y?\n",
    "\n",
    "# Doing the meshgrid for you - notice the +- bds from x0 and y0, which is the bounds we'll use for this problem\n",
    "# These are NOT the random samples you want - this is a grid of samples to use for creating the surface\n",
    "# ... you can also use it to find the min/max values of the function (the height to use for the box/maximum z value)\n",
    "#\n",
    "# Use 0 for the lower bound in z\n",
    "xs_grid, ys_grid = np.meshgrid(np.linspace(x0 - bds_x, x0 + bds_x), np.linspace(y0 - bds_y, y0 + bds_y))\n",
    "\n",
    "# TODO: Calculate the maximum z value by evaluating my_func on all of the samples and take the max (ellipse_max) \n",
    "# TODO: Generate samples in x, y, and z inside the \"box\" using np.random.uniform\n",
    "\n",
    "\n",
    "ellipse_max = ...\n",
    "xs_samples = ...   \n",
    "ys_samples = ...   \n",
    "zs_samples = ...   # Samples from 0 to ellipse_max\n",
    "area_box = ...\n",
    "\n",
    "print(f\"Ellipse_max is {ellipse_max}, expected 17.777\")\n",
    "print(f\"Box area is {area_box}, expected 2*bds_x X 2*bds_y X ellipse_max = {2*bds_x} * {2*bds_y} * {ellipse_max} = 426.666\")"
   ]
  },
  {
   "cell_type": "code",
   "execution_count": null,
   "metadata": {
    "tags": []
   },
   "outputs": [],
   "source": [
    "# CHECKS\n",
    "# the mean of the xs samples should be x0, and all of the values should be between x0-2 and x0+2\n",
    "# (same for ys samples, only centered around y0)"
   ]
  },
  {
   "cell_type": "code",
   "execution_count": null,
   "metadata": {
    "deletable": false,
    "editable": false
   },
   "outputs": [],
   "source": [
    "grader.check(\"samples\")"
   ]
  },
  {
   "cell_type": "markdown",
   "metadata": {
    "deletable": false,
    "editable": false
   },
   "source": [
    "# Points above/below\n",
    "\n",
    "TODO: Are the samples above or below the surface? (see tutorial)\n",
    "\n",
    "- Evaluate the function on all of the x,y samples\n",
    "- Calculate the number of samples that are below the function\n",
    "- Calculate the number of samples that are at (or above) the function\n",
    "-  NOTE: The sum of those should be the number of samples\n",
    "\n",
    "The ratio is the number of samples below / number of samples\n",
    "\n",
    "Note: that you can assume the function is above the z=0 plane, so you only need to check if the sample is below **my_func(x,y)**\n",
    "\n",
    "Note: The number points that are below should be around 30%, but it can vary quite a lot if n_samples is small.\n",
    "\n",
    "You might also want to create a boolean array so that you can re-use it in the print:\n",
    "\n",
    "**b_under = samples < function**\n",
    "\n",
    "Note: We are NOT doing the above a line below a line (the more complicated example in the tutorial) because we know the function is always greater than zero. So you just need to count z_sample < my_fuc(x_sample, y_sample)."
   ]
  },
  {
   "cell_type": "code",
   "execution_count": null,
   "metadata": {
    "tags": []
   },
   "outputs": [],
   "source": [
    "# EXAMPLE CODE\n",
    "# This is just an example of using np.count_zero and boolean indexing to do this calculation\n",
    "n_example_samples = 20\n",
    "my_example_array = np.random.uniform(-1.0, 2.0, n_example_samples)  # n_example_samples samples between -1.0 and 2.0 \n",
    "\n",
    "# Boolean indexing - returns an array of True/Falses that is the same size as my_example_array\n",
    "b_less_than_zero = my_example_array < 0.0\n",
    "\n",
    "# Now count the number - True is non-zero. count_zero will count Falses\n",
    "n_to_left_of_zero = np.count_nonzero(b_less_than_zero)\n",
    "\n",
    "# Should be roughtly 1/3, since my sampling range was -1.0 to 2.0\n",
    "ratio = n_to_left_of_zero / n_example_samples\n",
    "print(f\"Ratio {ratio} make n_example_samples bigger to get this closer to 1/3\")"
   ]
  },
  {
   "cell_type": "code",
   "execution_count": null,
   "metadata": {
    "tags": []
   },
   "outputs": [],
   "source": [
    "area_under = ...\n",
    "# The more samples you use, the closer to the correct answer you get. This is with 100000 sample points.\n",
    "print(f\"Percentage of those below should be around 0.3333; note that the bigger you make n_samples, the more likely you are to get close to the right answer\")\n",
    "print(f\"Area is {area_under}, expected to be around 0.33 of box area, which is around 0.333 * 426.666 = 142.\")"
   ]
  },
  {
   "cell_type": "code",
   "execution_count": null,
   "metadata": {
    "tags": []
   },
   "outputs": [],
   "source": [
    "# CHECKS\n",
    "# The sum of the number of points above and the number of points below should be n_samples\n",
    "# If you are not getting the right area or ratio, skip ahead to the plot function and see if \n",
    "#   a) plot all of the points - they should be uniformly distributed in a box around the surface\n",
    "#   b) plot JUST the above (or below) points and see if they are, indeed, above or below"
   ]
  },
  {
   "cell_type": "code",
   "execution_count": null,
   "metadata": {
    "deletable": false,
    "editable": false
   },
   "outputs": [],
   "source": [
    "grader.check(\"area\")"
   ]
  },
  {
   "cell_type": "markdown",
   "metadata": {
    "deletable": false,
    "editable": false
   },
   "source": [
    "<!-- BEGIN QUESTION -->\n",
    "\n",
    "# Plot the function and the points above and below\n",
    "\n",
    "TODO Grab the plotting code from the fmin tutorial then add in plotting the samples, then separate them by whether or not they're under the surface"
   ]
  },
  {
   "cell_type": "code",
   "execution_count": null,
   "metadata": {
    "tags": []
   },
   "outputs": [],
   "source": [
    "# Use interactive/3D widg3t\n",
    "%matplotlib widget\n",
    "\n",
    "# Notice the subplot_kw argument - this lets matlab know we want to plot in 3D and how to set the camera\n",
    "fig, axs = plt.subplots(subplot_kw={\"projection\": \"3d\"})\n",
    "\n",
    "# TODO: Plot the samples in two colors\n",
    "# TODO: Plot the surface\n",
    "\n",
    "..."
   ]
  },
  {
   "cell_type": "code",
   "execution_count": null,
   "metadata": {
    "tags": []
   },
   "outputs": [],
   "source": [
    "# Manual grade\n",
    "print(\"This is a manually-graded question; there is no grader.check() function. See rubric and slides for more information on expected output.\")"
   ]
  },
  {
   "cell_type": "markdown",
   "metadata": {
    "deletable": false,
    "editable": false
   },
   "source": [
    "<!-- END QUESTION -->\n",
    "\n",
    "## Hours and collaborators\n",
    "Required for every assignment - fill out before you hand-in.\n",
    "\n",
    "Listing names and websites helps you to document who you worked with and what internet help you received in the case of any plagiarism issues. You should list names of anyone (in class or not) who has substantially helped you with an assignment - or anyone you have *helped*. You do not need to list TAs.\n",
    "\n",
    "Listing hours helps us track if the assignments are too long."
   ]
  },
  {
   "cell_type": "code",
   "execution_count": null,
   "metadata": {
    "tags": []
   },
   "outputs": [],
   "source": [
    "\n",
    "# List of names (creates a set)\n",
    "worked_with_names = {\"not filled out\"}\n",
    "# List of URLS I25 (creates a set)\n",
    "websites = {\"not filled out\"}\n",
    "# Approximate number of hours, including lab/in-class time\n",
    "hours = -1.5"
   ]
  },
  {
   "cell_type": "code",
   "execution_count": null,
   "metadata": {
    "deletable": false,
    "editable": false
   },
   "outputs": [],
   "source": [
    "grader.check(\"hours_collaborators\")"
   ]
  },
  {
   "cell_type": "markdown",
   "metadata": {},
   "source": [
    "### To submit\n",
    "\n",
    "All the usual - rerun, remove print statements, save. If your plotting has issues 1 - order matters, if you plot the surface before the points it will look different than the other way around. VSCode is pretty good with the 3D plots, but your results may vary with other interpreters. We will not take points off for that.\n",
    "\n",
    "- Submit this .ipynb file to lab 8 (calculus)\n",
    "\n",
    "If the Gradescope autograder fails, please check here first for common reasons for it to fail\n",
    "    https://docs.google.com/presentation/d/1tYa5oycUiG4YhXUq5vHvPOpWJ4k_xUPp2rUNIL7Q9RI/edit?usp=sharing\n",
    "\n",
    "This submit rarely fails. "
   ]
  }
 ],
 "metadata": {
  "kernelspec": {
   "display_name": "Python 3",
   "language": "python",
   "name": "python3"
  },
  "language_info": {
   "codemirror_mode": {
    "name": "ipython",
    "version": 3
   },
   "file_extension": ".py",
   "mimetype": "text/x-python",
   "name": "python",
   "nbconvert_exporter": "python",
   "pygments_lexer": "ipython3",
   "version": "3.11.0"
  },
  "otter": {
   "OK_FORMAT": true,
   "tests": {
    "area": {
     "name": "area",
     "points": 4,
     "suites": [
      {
       "cases": [
        {
         "code": ">>> assert np.isclose(area_under, 142, atol=5)\n",
         "hidden": false,
         "locked": false
        }
       ],
       "scored": true,
       "setup": "",
       "teardown": "",
       "type": "doctest"
      }
     ]
    },
    "create_func": {
     "name": "create_func",
     "points": 2,
     "suites": [
      {
       "cases": [
        {
         "code": ">>> assert np.isclose(my_func(x0, y0), 0.0, atol=0.001)\n",
         "hidden": false,
         "locked": false
        },
        {
         "code": ">>> assert np.isclose(my_func(2.0, 2.0), 0.4444, atol=0.001)\n",
         "hidden": false,
         "locked": false
        }
       ],
       "scored": true,
       "setup": "",
       "teardown": "",
       "type": "doctest"
      }
     ]
    },
    "hours_collaborators": {
     "name": "hours_collaborators",
     "points": 1,
     "suites": [
      {
       "cases": [
        {
         "code": ">>> assert not 'not filled out' in worked_with_names\n",
         "hidden": false,
         "locked": false
        },
        {
         "code": ">>> assert not 'not filled out' in websites\n",
         "hidden": false,
         "locked": false
        },
        {
         "code": ">>> assert hours > 0\n",
         "hidden": false,
         "locked": false
        }
       ],
       "scored": true,
       "setup": "",
       "teardown": "",
       "type": "doctest"
      }
     ]
    },
    "samples": {
     "name": "samples",
     "points": 3,
     "suites": [
      {
       "cases": [
        {
         "code": ">>> assert len(xs_samples) == n_samples and len(ys_samples) == n_samples and (len(zs_samples) == n_samples)\n",
         "hidden": false,
         "locked": false
        },
        {
         "code": ">>> assert np.isclose(ellipse_max, np.max(my_func(xs_grid, ys_grid)), atol=0.1)\n",
         "hidden": false,
         "locked": false
        },
        {
         "code": ">>> assert np.all(np.abs(xs_samples - x0) <= bds_x)\n",
         "hidden": false,
         "locked": false
        },
        {
         "code": ">>> assert np.all(np.abs(ys_samples - y0) <= bds_y)\n",
         "hidden": false,
         "locked": false
        },
        {
         "code": ">>> assert np.isclose(area_box, 2 * bds_x * 2 * bds_y * np.max(my_func(xs_grid, ys_grid)), atol=0.1)\n",
         "hidden": false,
         "locked": false
        }
       ],
       "scored": true,
       "setup": "",
       "teardown": "",
       "type": "doctest"
      }
     ]
    }
   }
  }
 },
 "nbformat": 4,
 "nbformat_minor": 2
}
