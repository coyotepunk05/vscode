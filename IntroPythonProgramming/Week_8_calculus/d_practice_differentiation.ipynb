{
 "cells": [
  {
   "cell_type": "markdown",
   "metadata": {},
   "source": [
    "# Numeric differentiation \n",
    "\n",
    "Feel free to change the function"
   ]
  },
  {
   "cell_type": "code",
   "execution_count": null,
   "metadata": {},
   "outputs": [],
   "source": [
    "# A generic function that we want to find the derivative of\n",
    "def my_func(x):\n",
    "    \"\"\"A quadratic function\n",
    "    @param x the input x value\n",
    "    @returns f(x)\"\"\"\n",
    "    return (x-2)**2 - 3"
   ]
  },
  {
   "cell_type": "code",
   "execution_count": null,
   "metadata": {},
   "outputs": [],
   "source": [
    "# The analytical derivative for the function, since we can\n",
    "def my_func_deriv(x):\n",
    "    \"\"\"A linear function\n",
    "    @param x the input x value\n",
    "    @returns f(x)\"\"\"\n",
    "    return 2 * x - 4"
   ]
  },
  {
   "cell_type": "markdown",
   "metadata": {},
   "source": [
    "# TODO\n",
    "\n",
    "Loop over values of **h** that get steadily smaller. When is **h** small enough that each method gives the same answer as the analytic one?\n",
    "\n",
    "Try making **my_func** have more bends in it (eg, make it a quartic). Do you need to change **h**?"
   ]
  },
  {
   "cell_type": "code",
   "execution_count": null,
   "metadata": {},
   "outputs": [],
   "source": [
    "# Do derivatives at x = 0.2\n",
    "x = 0.2\n",
    "\n",
    "# Do loop over h and calculate deriv with each method."
   ]
  },
  {
   "cell_type": "markdown",
   "metadata": {},
   "source": [
    "# ----------------------- Answers -------------------------"
   ]
  },
  {
   "cell_type": "code",
   "execution_count": null,
   "metadata": {},
   "outputs": [],
   "source": [
    "# Central is more accurate, and it's always about right (why? remember this is a quadratic, so it's bowl shaped...)\n",
    "#  forward/backward don't converge until closer to h = 0.001\n",
    "for h in [1.0, 0.1, 0.05, 0.01, 0.005, 0.001, 0.0005]:\n",
    "    print(f\"h {h}\")\n",
    "    # Forward difference\n",
    "    deriv_forward = (my_func(x + h) - my_func(x)) / h\n",
    "    # Backwards\n",
    "    deriv_backwards = (my_func(x) - my_func(x-h)) / h\n",
    "    # Central\n",
    "    deriv_central = (my_func(x+h) - my_func(x-h)) / (2.0 * h)\n",
    "\n",
    "    # Analytic\n",
    "    deriv_actual = my_func_deriv(x)\n",
    "\n",
    "    print(f\"Forward { deriv_forward:0.6f}\")\n",
    "    print(f\"Backwards { deriv_backwards:0.6f}\")\n",
    "    print(f\"Central { deriv_central:0.6f}\")\n",
    "    print(f\"Analytic { deriv_actual:0.6f}\\n\")\n"
   ]
  }
 ],
 "metadata": {
  "kernelspec": {
   "display_name": "Python 3",
   "language": "python",
   "name": "python3"
  },
  "language_info": {
   "codemirror_mode": {
    "name": "ipython",
    "version": 3
   },
   "file_extension": ".py",
   "mimetype": "text/x-python",
   "name": "python",
   "nbconvert_exporter": "python",
   "pygments_lexer": "ipython3",
   "version": "3.7.3"
  }
 },
 "nbformat": 4,
 "nbformat_minor": 2
}
