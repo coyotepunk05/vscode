{
"cells": [
{
"cell_type": "code",
"execution_count": null,
"metadata": {
"deletable": false,
"editable": false
},
"outputs": [],
"source": [
"# Initialize Otter\n",
"import otter\n",
"grader = otter.Notebook(\"lec_act_10_fibonacci_class.ipynb\")"
]
},
{
"cell_type": "markdown",
"metadata": {},
"source": [
"# Making it a class\n",
"\n",
"We're going to take the instrumented, cached version of the fibonacci sequence and turn it into a class. This is mostly (more) practice with classes as data encapsulation."
]
},
{
"cell_type": "markdown",
"metadata": {
"deletable": false,
"editable": false
},
"source": [
"# Move to a class\n",
"\n",
"TODO: \n",
"- add the cache variable\n",
"- copy the fib_cached_instrumented code into fib_sequence\n",
"-  Change what needs to be changed (see below)"
]
},
{
"cell_type": "code",
"execution_count": null,
"metadata": {
"tags": []
},
"outputs": [],
"source": [
"class FibonacciClass:\n",
"    # We haven't done this before - this is exactly the same as doing func.call_count\n",
"    call_count = 1\n",
"    # TODO: Add the cache variable initialization here\n",
"    ...\n",
"\n",
"    def __init__(self):\n",
"        \"\"\" Initialize call_count and cache here\"\"\"\n",
"        return\n",
"\n",
"    def fib_sequence(self, n):\n",
"        \"\"\" Calculate the given sequence\n",
"        @param n\n",
"        @return fibonacci sequence value of n\"\"\"\n",
"        # TODO: Copy in the fib_cached_instrumented code here. You'll need to make the following changes:\n",
"        #   Use ClassName.xx instead of FunctionName.xxx\n",
"        #   Use self.fib_sequence to call routine again\n",
"        #   Take out the AttributeError in the try except (you don't need it because you initialized the variables\n",
"        #     above)\n",
"\n",
"        ...\n"
]
},
{
"cell_type": "code",
"execution_count": null,
"metadata": {
"tags": []
},
"outputs": [],
"source": [
"# Make an instance\n",
"fib_class = FibonacciClass()\n",
"\n",
"# Do some tests to make sure fibonacci functions are working as expected\n",
"#   This is a hard-coded set of correct answers to test against\n",
"fib_tests = {0: 0, 1: 1, 2: 1, 3: 2, 4: 3, 5: 5, 6: 8, 7: 13}\n",
"\n",
"for number, value in fib_tests.items():\n",
"    # Call the function and compare it to the test value\n",
"    if fib_class.fib_sequence(number) != value:\n",
"        print('  failed for {0}: expected {1}, got {2}'.format(number, value, fib_class.fib_sequence(number)))\n",
"\n",
"print(f'Number of calls {fib_class.call_count}')"
]
},
{
"cell_type": "code",
"execution_count": null,
"metadata": {
"deletable": false,
"editable": false
},
"outputs": [],
"source": [
"grader.check(\"fib_class\")"
]
},
{
"cell_type": "markdown",
"metadata": {
"deletable": false,
"editable": false
},
"source": [
"## Hours and collaborators\n",
"Required for every assignment - fill out before you hand-in.\n",
"\n",
"Listing names and websites helps you to document who you worked with and what internet help you received in the case of any plagiarism issues. You should list names of anyone (in class or not) who has substantially helped you with an assignment - or anyone you have *helped*. You do not need to list TAs.\n",
"\n",
"Listing hours helps us track if the assignments are too long."
]
},
{
"cell_type": "code",
"execution_count": null,
"metadata": {
"tags": []
},
"outputs": [],
"source": [
"\n",
"# List of names (creates a set)\n",
"worked_with_names = {\"not filled out\"}\n",
"# List of URLS (creates a set)\n",
"websites = {\"not filled out\"}\n",
"# Approximate number of hours, including lab/in-class time\n",
"hours = -1.5\n",
"\n",
"# for all row, column in all_indices_from_where\n",
"#.   if this is the column for wrist torque \n",
"#.      print(f\"Row: {r}, Time step: {c // n_time_steps} Successful y/n: {pick_data[r, -1] == 1}, value: {pick_data[r, c]}\")"
]
},
{
"cell_type": "code",
"execution_count": null,
"metadata": {
"deletable": false,
"editable": false
},
"outputs": [],
"source": [
"grader.check(\"hours_collaborators\")"
]
},
{
"cell_type": "markdown",
"metadata": {
"deletable": false,
"editable": false
},
"source": [
"## Submission\n",
"\n",
"Make sure you have run all cells in your notebook in order before running the cell below, so that all images/graphs appear in the output. The cell below will generate a zip file for you to submit. **Please save before exporting!**\n",
"\n",
"Submit through gradescope, week 10 runtime"
]
},
{
"cell_type": "code",
"execution_count": null,
"metadata": {
"deletable": false,
"editable": false
},
"outputs": [],
"source": [
"# Save your notebook first, then run this cell to export your submission.\n",
"grader.export(run_tests=True)"
]
},
{
"cell_type": "markdown",
"metadata": {},
"source": [
" "
]
}
],
"metadata": {
"kernelspec": {
"display_name": "Python 3",
"language": "python",
"name": "python3"
},
"language_info": {
"codemirror_mode": {
"name": "ipython",
"version": 3
},
"file_extension": ".py",
"mimetype": "text/x-python",
"name": "python",
"nbconvert_exporter": "python",
"pygments_lexer": "ipython3",
"version": "3.7.4"
},
"otter": {
"OK_FORMAT": true,
"tests": {
"fib_class": {
"name": "fib_class",
"points": 4,
"suites": [
{
"cases": [
{
"code": ">>> assert fib_class.call_count == 21\n",
"hidden": false,
"locked": false
},
{
"code": ">>> assert fib_class.cache[1]\n",
"hidden": false,
"locked": false
},
{
"code": ">>> assert fib_class.cache[7]\n",
"hidden": false,
"locked": false
}
],
"scored": true,
"setup": "",
"teardown": "",
"type": "doctest"
}
]
},
"hours_collaborators": {
"name": "hours_collaborators",
"points": 1,
"suites": [
{
"cases": [
{
"code": ">>> assert not 'not filled out' in worked_with_names\n",
"hidden": false,
"locked": false
},
{
"code": ">>> assert not 'not filled out' in websites\n",
"hidden": false,
"locked": false
},
{
"code": ">>> assert hours > 0\n",
"hidden": false,
"locked": false
}
],
"scored": true,
"setup": "",
"teardown": "",
"type": "doctest"
}
]
}
}
}
},
"nbformat": 4,
"nbformat_minor": 2
}