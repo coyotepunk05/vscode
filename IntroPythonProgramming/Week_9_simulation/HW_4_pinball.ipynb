{
 "cells": [
  {
   "cell_type": "code",
   "execution_count": 1,
   "metadata": {
    "deletable": false,
    "editable": false
   },
   "outputs": [],
   "source": [
    "# Initialize Otter\n",
    "import otter\n",
    "grader = otter.Notebook(\"HW_4_pinball.ipynb\")"
   ]
  },
  {
   "cell_type": "markdown",
   "metadata": {},
   "source": [
    "# HWK 4 pinball simulation\n",
    "\n",
    "The full pinball simulation: slides https://docs.google.com/presentation/d/1fNTOc_4YXfBkQ_ko9X8eQqAgK3Opnn9c02i72sVDqKU/edit?usp=sharing\n",
    "\n",
    "Full pinball \n",
    " - position and velocity with Euler simulation (lecture activity, compute_next_step)\n",
    " - stop when ball passes below y=0 (lab, simulate_pinball version 1)\n",
    " - \"Bouncing\" off of the top and side walls (lab, outside_xx_wall, handle bounce, simulate_pinball version 1)\n",
    " - \"Bouncing\" off of bumpers (homework)\n",
    "\n",
    "Week 1: \n",
    "- Circular \"bumpers\" OR a wall at an angle (circular bumpers add extra credit)\n",
    "- [optional] Some bumpers will impart an acceleration to the pinball\n",
    "- [optional] Add damping\n",
    "\n",
    "Week 2: Some simple calculations\n",
    "- Length of path pinball travels\n",
    "- Integral of vx and vy\n"
   ]
  },
  {
   "cell_type": "code",
   "execution_count": 2,
   "metadata": {},
   "outputs": [],
   "source": [
    "# The usual imports\n",
    "import numpy as np\n",
    "import matplotlib.pyplot as plt"
   ]
  },
  {
   "cell_type": "code",
   "execution_count": 3,
   "metadata": {},
   "outputs": [],
   "source": [
    "# These commands will force JN to actually re-load the external file when you re-execute the import command\n",
    "%load_ext autoreload\n",
    "%autoreload 2"
   ]
  },
  {
   "cell_type": "markdown",
   "metadata": {
    "deletable": false,
    "editable": false
   },
   "source": [
    "<!-- BEGIN QUESTION -->\n",
    "\n",
    "## Circular bumper or angled wall: How to implement?\n",
    "\n",
    "TODO: Write code to handle a circular bumper OR an angled wall\n",
    "\n",
    "- decide which functions/what the format of the functions should be written to handle a bumper or angled wall\n",
    "- decide how you will represent a bumper or an angled wall\n",
    "\n",
    "Note: You'll add tests and simulation and plotting in the following questions\n",
    "\n",
    "This is a manually graded question"
   ]
  },
  {
   "cell_type": "markdown",
   "metadata": {},
   "source": [
    "**TODO:** \n",
    "\n",
    "Use this cell to describe how you are implementing your bumper or angled wall routines\n",
    "- How are you representing the bumper/angled wall?\n",
    "- What functions are you creating and why? What are the function inputs and outputs?\n",
    "\n",
    "The first function I am making is crossed_angled which just checks if the ball passes the angled wall. This functions differently from the top, bottom, left, right checks because the angled wall isn't set as being left, right, above below the ball's position.\n",
    "Because of this it has to check two position of the ball temporally and then check if it has intersected with the angled wall.\n",
    "\n",
    "Once it determines if it has intersected it can use the reflect_angled function which operates similar to how the slideshow instructs. It normalizes the angled wall and then does the calculations and then resets the positions and velocities to be with the \n",
    "original coordinate system."
   ]
  },
  {
   "cell_type": "code",
   "execution_count": 4,
   "metadata": {
    "tags": []
   },
   "outputs": [],
   "source": [
    "# Imports from week 5\n",
    "# This bit of code tells Jupyter notebooks to also look in the week_6_optimization folder for files\n",
    "import os\n",
    "import sys\n",
    "\n",
    "# If you want them...\n",
    "sys.path.insert(0, os.path.abspath('../Week_5_matrices'))"
   ]
  },
  {
   "cell_type": "code",
   "execution_count": 5,
   "metadata": {
    "tags": []
   },
   "outputs": [],
   "source": [
    "# TODO: Write additional routines here\n",
    "# You can write them here or put them in pinball_routines.py and import them here\n",
    "# Add one cell for each function\n",
    "def crossed_angled(prev_pos, cur_pos, a_b_c):\n",
    "    a, b, c = a_b_c\n",
    "    f_prev = a*prev_pos[0]+b*prev_pos[1]+c\n",
    "    f_cur = a*cur_pos[0]+b*cur_pos[1]+c\n",
    "    return f_prev*f_cur < 0\n",
    "\n",
    "def reflect_angled(state, a_b_c):\n",
    "    a, b, c = a_b_c\n",
    "\n",
    "    wall_normal = np.array([a, b], dtype=float)\n",
    "    norm_len = np.linalg.norm(wall_normal)\n",
    "    if norm_len < 1e-12:\n",
    "        return state\n",
    "    wall_normal /= norm_len\n",
    "\n",
    "    pos = state[0]\n",
    "    vel = state[1]\n",
    "\n",
    "    dist = np.dot(pos, wall_normal) + c\n",
    "    if dist < 0.0:\n",
    "        wall_normal = -wall_normal\n",
    "        dist = -dist\n",
    "\n",
    "    v_dot_n = np.dot(vel, wall_normal)\n",
    "    if v_dot_n < 0.0:\n",
    "        vel = vel - 2.0 * v_dot_n * wall_normal\n",
    "        state[1] = vel\n",
    "\n",
    "    return state\n",
    "\n"
   ]
  },
  {
   "cell_type": "code",
   "execution_count": 6,
   "metadata": {
    "tags": []
   },
   "outputs": [],
   "source": [
    "# TODO: Add tests here to test your functions\n",
    "..."
   ]
  },
  {
   "cell_type": "markdown",
   "metadata": {
    "deletable": false,
    "editable": false
   },
   "source": [
    "<!-- END QUESTION -->\n",
    "\n",
    "<!-- BEGIN QUESTION -->\n",
    "\n",
    "## Simulation routine\n",
    "\n",
    "TODO: Copy over the simulation routine from your lab\n",
    "\n",
    "- Change the function's parameters so that they take in the bumpers/angled wall as well\n",
    "- Optional: If you implement acceleration or drag then describe it here \n",
    "\n",
    "This question is manually graded. Describe what you did, why, and how"
   ]
  },
  {
   "cell_type": "markdown",
   "metadata": {},
   "source": [
    "TODO: Describe your solution here\n",
    "\n",
    "I just added the angled_wall as an input with the same format as in lecture activity 10 with ax+by+c=0. It then just calls the previously explained functions if the angled_wall is defined. All that I did is add one more if statement."
   ]
  },
  {
   "cell_type": "code",
   "execution_count": 7,
   "metadata": {
    "tags": []
   },
   "outputs": [],
   "source": [
    "# Pinball_routines imports\n",
    "from pinball_routines import acceleration_due_to_gravity, compute_next_step, outside_top_wall, outside_left_wall, outside_right_wall"
   ]
  },
  {
   "cell_type": "code",
   "execution_count": 8,
   "metadata": {
    "tags": []
   },
   "outputs": [],
   "source": [
    "# Simulate pinball routine\n",
    "#. TODO Copy your lab solution here\n",
    "#       Change the parameters to support your circular bumpers or angled wall\n",
    "def simulate_pinball(starting_state, top_wall=5, left_wall=-3, right_wall=3, delta_t=0.1, angled_wall=None):\n",
    "    \"\"\" Call compute one time step multiple times and store it in a numpy array\n",
    "    @param starting_state - the starting positino, velocity, acceleration\n",
    "    @param delta_t - the time step to use. Define a default t value that you've determined works well\n",
    "    @return position values as a 2xtimesteps numpy array\n",
    "    \"\"\"\n",
    "\n",
    "    # The returned array.We do not know the size, so do not pre-allocate\n",
    "    ret_pose_all = []\n",
    "    ret_vels = []\n",
    "\n",
    "    # TODO (question 1) Use a while loop instead of the for loop\n",
    "    # Set the stopping criteria based on current state y value\n",
    "    current_state = starting_state\n",
    "    ret_pose_all.append(current_state[0, :])\n",
    "    ret_vels.append(current_state[1, :])\n",
    "    prev_position = current_state[0, :].copy()\n",
    "\n",
    "    while current_state[0, 1] >= 0:\n",
    "        current_state = compute_next_step(current_state, delta_t)\n",
    "\n",
    "    # TODO (question 2)\n",
    "    # Add in each wall/top at a time (there are test routines for reach below)\n",
    "    # Use if statements, not if-else statements, because it is possible to be outside of the top and side wall...\n",
    "        if current_state[0, 1] > top_wall:\n",
    "            current_state[1, 1] = -current_state[1, 1]\n",
    "            current_state[0, 1] = top_wall\n",
    "\n",
    "        if current_state[0, 0] < left_wall:\n",
    "            current_state[1, 0] = -current_state[1, 0]\n",
    "            current_state[0, 0] = left_wall\n",
    "\n",
    "        if current_state[0, 0] > right_wall:\n",
    "            current_state[1, 0] = -current_state[1, 0]\n",
    "            current_state[0, 0] = right_wall\n",
    "\n",
    "        if angled_wall is not None:\n",
    "             if crossed_angled(prev_position, current_state[0], angled_wall):\n",
    "                current_state = reflect_angled(current_state, angled_wall)\n",
    "                \n",
    "        prev_position = current_state[0, :].copy()\n",
    "        ret_pose_all.append(current_state[0, :])\n",
    "        ret_vels.append(current_state[1, :])\n",
    "    # All done - return the numpy array\n",
    "    #  Why does this look like this? Because when you do the append you've made a very long\n",
    "    # list of lists with 2 elements (x,y) in them. When you give this list to numpy to convert\n",
    "    # into an array it will make an n x 2 numpy array for you. So if you want it back in\n",
    "    # our format from the lecture activity, you need to do what's called a transpose, which\n",
    "    # swaps the rows and columns, and gives you a 2 x n array instead.\n",
    "\n",
    "    return np.array(ret_pose_all).transpose(), np.array(ret_vels).transpose()"
   ]
  },
  {
   "cell_type": "code",
   "execution_count": 9,
   "metadata": {
    "tags": []
   },
   "outputs": [],
   "source": [
    "# Time step\n",
    "delta_t = 0.01\n",
    "\n",
    "# Test 1 - do you stop when you hit the floor?\n",
    "starting_state = np.zeros([3, 2])  # location, velocity, acceleration\n",
    "starting_state[0, :] = [0, 0] # Start at zero, zero\n",
    "starting_state[1, :] = [2.4, 8.5]\n",
    "starting_state[2, :] = [0.0, acceleration_due_to_gravity()]\n",
    "\n",
    "# Define your bumper/angled wall here\n",
    "# Default is top wall at y=5, left/right walls at +- 3.0\n",
    "angled_wall = [-5, 2, 5]\n",
    "\n",
    "top_wall = 5.0\n",
    "left_wall = -3.0\n",
    "right_wall = 3.0\n",
    "\n"
   ]
  },
  {
   "cell_type": "code",
   "execution_count": 10,
   "metadata": {
    "tags": []
   },
   "outputs": [],
   "source": [
    "# Test the simulate_pinball function, with at least setup\n",
    "ret_poses = simulate_pinball(starting_state, top_wall=top_wall, left_wall=left_wall, right_wall=right_wall, delta_t=0.1, angled_wall=angled_wall)"
   ]
  },
  {
   "cell_type": "markdown",
   "metadata": {
    "deletable": false,
    "editable": false
   },
   "source": [
    "<!-- END QUESTION -->\n",
    "\n",
    "<!-- BEGIN QUESTION -->\n",
    "\n",
    "## Plot bumpers or angled wall, walls, and path\n",
    "\n",
    "TODO: Start with the plotting code from the lab\n",
    " - add plotting the bumpers or angled wall\n",
    " - pass the data structure you use to define the bumpers and walls to the plot routine\n",
    " \n",
    "TODO: Generate at least 2 plots showing the pinball doing different behaviors (must include reflection off of wall, bumper[s]/angled wall)\n",
    "\n",
    "This question is manually graded"
   ]
  },
  {
   "cell_type": "code",
   "execution_count": 11,
   "metadata": {
    "tags": []
   },
   "outputs": [],
   "source": [
    "# TODO: Create a function to plot the pinball track, walls, and bumpers\n",
    "#  Start with the lab plot\n",
    "# Plot the walls and the pinball path\n",
    "def plot_pinball_lab(axs, ret_poses, walls, angled_wall, total_time):\n",
    "    \"\"\" plot the results of running the system AND the \"correct\" closed form result\n",
    "    @param ret_poses - x y position values in a 2xn numpy array\n",
    "    @param walls - The walls and ceiling locations (top, left, right)\n",
    "    @param total_time - the total time the system ran (for closed form solution, delta_t * n time steps)\n",
    "    @return Nothing\n",
    "    \"\"\"\n",
    "    # The values we calculated in calculate_n_time_steps\n",
    "    axs.plot([walls[1], walls[2]], [walls[0], walls[0]], '-m', label=f\"Top wall {top_wall}\")\n",
    "    axs.plot([walls[1], walls[2]], [0, 0], '-k', label=\"Floor wall\")\n",
    "    axs.plot([walls[1], walls[1]], [0, walls[0]], '-g', label=\"Left wall\")\n",
    "    axs.plot([walls[2], walls[2]], [0, walls[0]], '-g', label=\"Right wall\")\n",
    "\n",
    "    if angled_wall is not None:\n",
    "        a, b, c = angled_wall\n",
    "        x_vals = np.linspace(walls[1] -1, walls[2] +1, 500)\n",
    "        y_vals = (-a * x_vals -c) / b\n",
    "        y_vals2 = np.clip(y_vals, 0, walls[0])\n",
    "        axs.plot(x_vals, y_vals2, '-r', label='Angled Wall')\n",
    "\n",
    "    axs.plot(ret_poses[0, 0], ret_poses[1, 0], 'xr', label=\"Start\")\n",
    "    axs.plot(ret_poses[0, :], ret_poses[1, :], '.-k', label=\"Poses\")\n",
    "\n",
    "    axs.axis('equal')\n",
    "    axs.set_title(f\"Boring pinball, 0-{total_time} s\")\n",
    "    axs.legend()"
   ]
  },
  {
   "cell_type": "code",
   "execution_count": 12,
   "metadata": {
    "tags": []
   },
   "outputs": [
    {
     "data": {
      "image/png": "[encoded data removed]",
      "text/plain": [
       "<Figure size 1600x400 with 3 Axes>"
      ]
     },
     "metadata": {},
     "output_type": "display_data"
    }
   ],
   "source": [
    "# TODO: set up different starting positions and/or pinball setups and plot them\n",
    "nrows = 1\n",
    "ncols = 3\n",
    "_, axs = plt.subplots(nrows, ncols, figsize=(16, 4))\n",
    "\n",
    "ret_poses = simulate_pinball(starting_state, top_wall=top_wall, left_wall=left_wall, right_wall=right_wall, delta_t=0.01, angled_wall=angled_wall)\n",
    "total_time = delta_t * ret_poses[0].shape[1]\n",
    "plot_pinball_lab(axs[0], ret_poses[0], [top_wall, left_wall, right_wall], angled_wall, total_time)\n",
    "\n",
    "starting_state_new = np.array([[-3, 5], [20.0, -2.0], [0.0, acceleration_due_to_gravity()]])\n",
    "\n",
    "ret_poses = simulate_pinball(starting_state=starting_state_new, top_wall=top_wall, left_wall=left_wall, right_wall=right_wall, delta_t=0.01, angled_wall=angled_wall)\n",
    "total_time = delta_t * ret_poses[0].shape[1]\n",
    "plot_pinball_lab(axs[1], ret_poses[0], [top_wall, left_wall, right_wall], angled_wall, total_time)\n",
    "\n",
    "starting_state_newer = np.array([[1, 5], [8, -10.0], [0.0, acceleration_due_to_gravity()]])\n",
    "\n",
    "ret_poses = simulate_pinball(starting_state=starting_state_newer, top_wall=top_wall, left_wall=left_wall, right_wall=right_wall, delta_t=0.01, angled_wall=angled_wall)\n",
    "total_time = delta_t * ret_poses[0].shape[1]\n",
    "plot_pinball_lab(axs[2], ret_poses[0], [top_wall, left_wall, right_wall], angled_wall, total_time)"
   ]
  },
  {
   "cell_type": "code",
   "execution_count": 13,
   "metadata": {
    "tags": []
   },
   "outputs": [
    {
     "name": "stdout",
     "output_type": "stream",
     "text": [
      "This is a manually-graded question; there is no grader.check() function. See rubric and slides for more information on expected output.\n"
     ]
    }
   ],
   "source": [
    "# Manual grade\n",
    "print(\"This is a manually-graded question; there is no grader.check() function. See rubric and slides for more information on expected output.\")"
   ]
  },
  {
   "cell_type": "markdown",
   "metadata": {
    "deletable": false,
    "editable": false
   },
   "source": [
    "<!-- END QUESTION -->\n",
    "\n",
    "## Week 2 - Use integration to calculate length of path\n",
    "\n",
    "TODO: Calculate the length of the pinball path using euclidian distances"
   ]
  },
  {
   "cell_type": "code",
   "execution_count": 14,
   "metadata": {
    "tags": []
   },
   "outputs": [],
   "source": [
    "def length_of_pinball_path(poses):\n",
    "    \"\"\" Calculate the length of the pinball path using euclidian distances\n",
    "    @param poses - the x,y poses\n",
    "    @return length\"\"\"\n",
    "    # TODO: Sum up the distance between all of the pose points\n",
    "    # Reminder: Distance is sqrt(x^2 + y^2)\n",
    "    diffs = np.diff(poses, axis=1)\n",
    "    dist = np.sqrt(diffs[0]**2 + diffs[1]**2)\n",
    "    total = np.sum(dist)\n",
    "    return total"
   ]
  },
  {
   "cell_type": "code",
   "execution_count": 15,
   "metadata": {
    "tags": []
   },
   "outputs": [],
   "source": [
    "# TODO For these tests use this starting state\n",
    "#  - do NOT place a bumper/wall in the path - it should just go up and down\n",
    "#  - Use the given starting position and velocity\n",
    "#  - Use a delta t of 0.01\n",
    "#  - Do NOT do damping\n",
    "starting_state = np.zeros([3, 2])  # location, velocity, acceleration\n",
    "starting_state[0, :] = [0, 0] # Start at zero, zero\n",
    "# Velocity - mostly up with a bit of x noise\n",
    "starting_state[1, :] = [0.5, 3.5]\n",
    "starting_state[2, :] = [0.0, acceleration_due_to_gravity()]\n",
    "\n",
    "# TODO: call your simulate routine with  delta_t = 0.01 and the above starting state\n",
    "\n",
    "ret_poses = simulate_pinball(starting_state, top_wall=top_wall, left_wall=left_wall, right_wall=right_wall, delta_t=0.01)\n"
   ]
  },
  {
   "cell_type": "code",
   "execution_count": 16,
   "metadata": {
    "tags": []
   },
   "outputs": [
    {
     "name": "stdout",
     "output_type": "stream",
     "text": [
      "Distance traveled 1.3862984861585559, expected 1.386298\n"
     ]
    }
   ],
   "source": [
    "# poses check - \n",
    "len_path = (length_of_pinball_path(ret_poses[0]))\n",
    "print(f\"Distance traveled {len_path}, expected 1.386298\")"
   ]
  },
  {
   "cell_type": "code",
   "execution_count": 17,
   "metadata": {
    "deletable": false,
    "editable": false
   },
   "outputs": [
    {
     "data": {
      "text/html": [
       "<p><strong><pre style='display: inline;'>integrate_path</pre></strong> passed! 🎉</p>"
      ],
      "text/plain": [
       "integrate_path results: All test cases passed!"
      ]
     },
     "execution_count": 17,
     "metadata": {},
     "output_type": "execute_result"
    }
   ],
   "source": [
    "grader.check(\"integrate_path\")"
   ]
  },
  {
   "cell_type": "markdown",
   "metadata": {
    "deletable": false,
    "editable": false
   },
   "source": [
    "## Integrate x velocity and y velocity\n",
    "\n",
    "TODO: Calculate the total relative distance the pinball traveled in x and y by integrating the velocity in x and y\n",
    "- TODO: Change your simulation code so it returns velocities in addition to poses\n",
    "- Call trapz with the vx values, using a fixed dx (delta_t) (this is the integral)"
   ]
  },
  {
   "cell_type": "code",
   "execution_count": 18,
   "metadata": {
    "tags": []
   },
   "outputs": [],
   "source": [
    "# EXAMPLE CODE\n",
    "# To return the velocities in addition to the poses you want to\n",
    "#   1) replicate your code for storing the positions, only this time, store the velocities\n",
    "#   2) return the velocities as well as the positions\n",
    "#   3) extract the velocities out\n",
    "\n",
    "# There's two ways to do this, either as a 4xn array (get the velocities out afterwards, or two 2xn arrays)\n",
    "n = 10\n",
    "ret_vals = np.zeros((4, n))  # storing x, y, vx, vy in each column\n",
    "x = 0\n",
    "y = 0\n",
    "vx = 0.1\n",
    "vy = 0.2\n",
    "state = np.zeros((2, 2))\n",
    "state[0, :] = [x, y]    # First row is position\n",
    "state[1, :] = [vx, vy]  # Second row is velocity\n",
    "for i in range(0, n):\n",
    "    ret_vals[0:2, i] = state[0, :]   # put the current state position in the first two rows\n",
    "    ret_vals[2:4, i] = state[1, :]   # put the current state position in the 3rd and fourth rows\n",
    "\n",
    "    # Increment state\n",
    "    state[0, :] = state[0, :] + state[1, :] * 0.1\n",
    "# return ret_vals\n",
    "    \n",
    "# Calling function\n",
    "poses = ret_vals[0:2, :]\n",
    "vels = ret_vals[2:4, :]\n",
    "\n",
    "# OR\n",
    "ret_poses = np.zeros((2, n))  # storing x, y in each column\n",
    "ret_vels = np.zeros((2, n))  # storing vx, vy in each column\n",
    "x = 0\n",
    "y = 0\n",
    "vx = 0.1\n",
    "vy = 0.2\n",
    "state = np.zeros((2, 2))\n",
    "state[0, :] = [x, y]    # First row is position\n",
    "state[1, :] = [vx, vy]  # Second row is velocity\n",
    "for i in range(0, n):\n",
    "    ret_poses[0:2, i] = state[0, :]   # put the current state position in the first two rows\n",
    "    ret_vels[0:2, i] = state[1, :]   # put the current state position in the 3rd and fourth rows\n",
    "\n",
    "    # Increment state\n",
    "    state[0, :] = state[0, :] + state[1, :] * 0.1\n",
    "\n",
    "# return ret_poses, ret_vels\n",
    "# poses, vels = func()\n"
   ]
  },
  {
   "cell_type": "code",
   "execution_count": 19,
   "metadata": {
    "tags": []
   },
   "outputs": [],
   "source": [
    "def integral_of_path_velocity(velocities, delta_t):\n",
    "    \"\"\" Calculate the x and y distance traveled of the pinball path by integrating the velocities\n",
    "    @param velocities - the vx,vy velocities at each time step\n",
    "    @param delta_t - the sampling used to generate the velocities\n",
    "    @return integral of vx, integral of vy\"\"\"\n",
    "    # TODO: Calculate the integral of vx and vy\n",
    "    # Note: You'll want trapz because these are samples of the velocity function\n",
    "    integral_x = np.trapz(velocities[0, :], dx=delta_t)\n",
    "    integral_y = np.trapz(velocities[1, :], dx=delta_t)\n",
    "    return integral_x, integral_y"
   ]
  },
  {
   "cell_type": "code",
   "execution_count": 20,
   "metadata": {
    "tags": []
   },
   "outputs": [
    {
     "name": "stdout",
     "output_type": "stream",
     "text": [
      "Integral of x velocity 0.365, expected 0.365\n",
      "Integral of y velocity -0.05620999999999904, expected -0.056209\n"
     ]
    }
   ],
   "source": [
    "# This needs to be a 2xn array of the velocities at each time step\n",
    "ret_velocities = (simulate_pinball(starting_state, top_wall=top_wall, left_wall=left_wall, right_wall=right_wall, delta_t=0.01))[1]\n",
    "\n",
    "# Note - make sure you're using the starting state given in the path integration\n",
    "integral_x, integral_y = integral_of_path_velocity(ret_velocities, delta_t)\n",
    "print(f\"Integral of x velocity {integral_x}, expected 0.365\")\n",
    "print(f\"Integral of y velocity {integral_y}, expected -0.056209\")"
   ]
  },
  {
   "cell_type": "code",
   "execution_count": 21,
   "metadata": {
    "deletable": false,
    "editable": false
   },
   "outputs": [
    {
     "data": {
      "text/html": [
       "<p><strong><pre style='display: inline;'>integrate_velocity</pre></strong> passed! 🌈</p>"
      ],
      "text/plain": [
       "integrate_velocity results: All test cases passed!"
      ]
     },
     "execution_count": 21,
     "metadata": {},
     "output_type": "execute_result"
    }
   ],
   "source": [
    "grader.check(\"integrate_velocity\")"
   ]
  },
  {
   "cell_type": "markdown",
   "metadata": {
    "deletable": false,
    "editable": false
   },
   "source": [
    "## Hours and collaborators\n",
    "Required for every assignment - fill out before you hand-in.\n",
    "\n",
    "Listing names and websites helps you to document who you worked with and what internet help you received in the case of any plagiarism issues. You should list names of anyone (in class or not) who has substantially helped you with an assignment - or anyone you have *helped*. You do not need to list TAs.\n",
    "\n",
    "Listing hours helps us track if the assignments are too long."
   ]
  },
  {
   "cell_type": "code",
   "execution_count": 22,
   "metadata": {
    "tags": []
   },
   "outputs": [],
   "source": [
    "\n",
    "# List of names (creates a set)\n",
    "worked_with_names = {\"N/A\"}\n",
    "# List of URLS I25 (creates a set)\n",
    "websites = {\"https://numpy.org/\"}\n",
    "# Approximate number of hours, including lab/in-class time\n",
    "hours = 5"
   ]
  },
  {
   "cell_type": "code",
   "execution_count": 23,
   "metadata": {
    "deletable": false,
    "editable": false
   },
   "outputs": [
    {
     "data": {
      "text/html": [
       "<p><strong><pre style='display: inline;'>hours_collaborators</pre></strong> passed! 🌟</p>"
      ],
      "text/plain": [
       "hours_collaborators results: All test cases passed!"
      ]
     },
     "execution_count": 23,
     "metadata": {},
     "output_type": "execute_result"
    }
   ],
   "source": [
    "grader.check(\"hours_collaborators\")"
   ]
  },
  {
   "cell_type": "markdown",
   "metadata": {},
   "source": [
    "### To submit\n",
    "\n",
    "Double check your plots. Don't forget **pinball_routines.py**. We will include **matrix_routines.py**; but it won't hurt if you include it as well.\n",
    "\n",
    "- Submit this .ipynb file  and pinball_routines.py to homework 4 (pinball)\n",
    "\n",
    "If the Gradescope autograder fails, please check here first for common reasons for it to fail\n",
    "    https://docs.google.com/presentation/d/1tYa5oycUiG4YhXUq5vHvPOpWJ4k_xUPp2rUNIL7Q9RI/edit?usp=sharing\n",
    "\n",
    "Congratulations, and enjoy being done with this class for the term!"
   ]
  }
 ],
 "metadata": {
  "kernelspec": {
   "display_name": "base",
   "language": "python",
   "name": "python3"
  },
  "language_info": {
   "codemirror_mode": {
    "name": "ipython",
    "version": 3
   },
   "file_extension": ".py",
   "mimetype": "text/x-python",
   "name": "python",
   "nbconvert_exporter": "python",
   "pygments_lexer": "ipython3",
   "version": "3.12.7"
  },
  "otter": {
   "OK_FORMAT": true,
   "tests": {
    "hours_collaborators": {
     "name": "hours_collaborators",
     "points": 1,
     "suites": [
      {
       "cases": [
        {
         "code": ">>> assert not 'not filled out' in worked_with_names\n",
         "hidden": false,
         "locked": false
        },
        {
         "code": ">>> assert not 'not filled out' in websites\n",
         "hidden": false,
         "locked": false
        },
        {
         "code": ">>> assert hours > 0\n",
         "hidden": false,
         "locked": false
        }
       ],
       "scored": true,
       "setup": "",
       "teardown": "",
       "type": "doctest"
      }
     ]
    },
    "integrate_path": {
     "name": "integrate_path",
     "points": 4,
     "suites": [
      {
       "cases": [
        {
         "code": ">>> assert np.isclose(len_path, 1.386298, atol=0.001)\n",
         "hidden": false,
         "locked": false
        }
       ],
       "scored": true,
       "setup": "",
       "teardown": "",
       "type": "doctest"
      }
     ]
    },
    "integrate_velocity": {
     "name": "integrate_velocity",
     "points": 4,
     "suites": [
      {
       "cases": [
        {
         "code": ">>> assert np.isclose(integral_x, 0.365, atol=0.001)\n",
         "hidden": false,
         "locked": false
        },
        {
         "code": ">>> assert np.isclose(integral_y, -0.056209, atol=0.001)\n",
         "hidden": false,
         "locked": false
        }
       ],
       "scored": true,
       "setup": "",
       "teardown": "",
       "type": "doctest"
      }
     ]
    }
   }
  }
 },
 "nbformat": 4,
 "nbformat_minor": 2
}
