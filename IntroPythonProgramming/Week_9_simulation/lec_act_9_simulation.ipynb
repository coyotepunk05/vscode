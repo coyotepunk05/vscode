{
 "cells": [
  {
   "cell_type": "code",
   "execution_count": 1,
   "metadata": {
    "deletable": false,
    "editable": false
   },
   "outputs": [],
   "source": [
    "# Initialize Otter\n",
    "import otter\n",
    "grader = otter.Notebook(\"lec_act_9_simulation.ipynb\")"
   ]
  },
  {
   "cell_type": "markdown",
   "metadata": {},
   "source": [
    "# Iterative systems part II\n",
    "\n",
    "This is a continuation/extension of week 5's simulation with some slight modifications (Week_5_systems/c_tutorial_iterative_systems.ipynb)\n",
    "\n",
    "\n",
    "- Full 2D - position and velocity of a point in space\n",
    "- Integrate velocity as well as position\n",
    "\n",
    "Slides: https://docs.google.com/presentation/d/1ruu1Lq9MpYSHiVa5RNrvyxap4yXpTpiXf_VTzHKAFb8/edit?usp=sharing\n",
    "\n",
    "Code structure: I've broken the code up in to several pieces: Code that is shared across the lecture activity, lab, and homework is in **pinball_routines.py**. Code that is specific to just the one assignment (running the simulation, plotting) is in the JN."
   ]
  },
  {
   "cell_type": "code",
   "execution_count": 2,
   "metadata": {},
   "outputs": [],
   "source": [
    "# The usual imports\n",
    "import numpy as np\n",
    "import matplotlib.pyplot as plt"
   ]
  },
  {
   "cell_type": "code",
   "execution_count": 3,
   "metadata": {},
   "outputs": [],
   "source": [
    "# These commands will force JN to actually re-load the external file when you re-execute the import command\n",
    "%load_ext autoreload\n",
    "%autoreload 2"
   ]
  },
  {
   "cell_type": "code",
   "execution_count": 4,
   "metadata": {},
   "outputs": [],
   "source": [
    "# Do the import of your pinball routines\n",
    "# \n",
    "from pinball_routines import acceleration_due_to_gravity, compute_next_step"
   ]
  },
  {
   "cell_type": "markdown",
   "metadata": {
    "deletable": false,
    "editable": false
   },
   "source": [
    "# One time step\n",
    "TODO Compute one time step of the simulation (edit **compute_next_step** in pinball_routines.py)"
   ]
  },
  {
   "cell_type": "code",
   "execution_count": 5,
   "metadata": {
    "tags": []
   },
   "outputs": [
    {
     "name": "stdout",
     "output_type": "stream",
     "text": [
      "Checking first time step [[-0.025  0.5  ]\n",
      " [-0.25   4.02 ]\n",
      " [ 0.    -9.8  ]]\n"
     ]
    }
   ],
   "source": [
    "# Time step\n",
    "delta_t = 0.1\n",
    "\n",
    "starting_state = np.zeros((3, 2))  # meters\n",
    "starting_state[0, :] = [0, 0] # Start at zero, zero\n",
    "# Velocity - mostly up with a bit of x \n",
    "starting_state[1, :] = [-0.25, 5.0]\n",
    "# Acceleration is really boring\n",
    "starting_state[2, :] = [0.0, acceleration_due_to_gravity()]\n",
    "\n",
    "first_time_step = compute_next_step(starting_state, delta_t=delta_t)\n",
    "print(f\"Checking first time step {first_time_step}\")\n",
    "\n",
    "assert(np.all(np.isclose(first_time_step[0, :], starting_state[0, :] + delta_t * starting_state[1, :])))\n",
    "assert(np.all(np.isclose(first_time_step[1, :], starting_state[1, :] + delta_t * starting_state[2, :])))"
   ]
  },
  {
   "cell_type": "code",
   "execution_count": 6,
   "metadata": {
    "deletable": false,
    "editable": false
   },
   "outputs": [
    {
     "data": {
      "text/html": [
       "<p><strong><pre style='display: inline;'>compute_next_time_step</pre></strong> passed! 🎉</p>"
      ],
      "text/plain": [
       "compute_next_time_step results: All test cases passed!"
      ]
     },
     "execution_count": 6,
     "metadata": {},
     "output_type": "execute_result"
    }
   ],
   "source": [
    "grader.check(\"compute_next_time_step\")"
   ]
  },
  {
   "cell_type": "markdown",
   "metadata": {
    "deletable": false,
    "editable": false
   },
   "source": [
    "# Simulation\n",
    "\n",
    "Note that you could use either the number of time steps OR total time for the last parameter\n",
    "\n",
    "Timesteps is a bit safer because at least you know it will only go for so many time steps...\n",
    "\n",
    "In this activity we'll just loop over n time steps; we'll do something \"smarter\" in the lab\n",
    "\n",
    "TODO: Fill in ret_pose_all"
   ]
  },
  {
   "cell_type": "code",
   "execution_count": 7,
   "metadata": {
    "tags": []
   },
   "outputs": [],
   "source": [
    "# EXAMPLE CODE\n",
    "# See Iterate n times in Lab 5 ODE systems for an example of how to store values in an array during a simulation time step\n",
    "\n",
    "# If you have a 2 x n array this works\n",
    "new_xy = np.array([0.1, 0.2])\n",
    "\n",
    "array_to_store_in = np.zeros((2, 10))\n",
    "\n",
    "# Copies both x and y into the first column of array_to_store_in\n",
    "array_to_store_in[:, 0] = new_xy\n",
    "\n",
    "next_xy = np.array([0.3, 0.4])\n",
    "# ... and into the second column\n",
    "array_to_store_in[:, 1] = new_xy\n"
   ]
  },
  {
   "cell_type": "code",
   "execution_count": 8,
   "metadata": {
    "tags": []
   },
   "outputs": [],
   "source": [
    "def calculate_n_time_steps(starting_state, delta_t=0.1, n_time_steps=100):\n",
    "    \"\"\" Call compute one time step multiple times and store it in a numpy array\n",
    "    @param starting_state - the starting positino, velocity, acceleration\n",
    "    @param delta_t - the time step to use. Define a default t value that you've determined works well\n",
    "    @param n_time_steps - how many time steps to take. Again, default to a reasonable number\n",
    "    @return position values as a 2xtimesteps numpy array\n",
    "    \"\"\"\n",
    "\n",
    "    # The returned array. We know the size, so we can pre-allocate it\n",
    "    ret_pose_all = np.zeros((2, n_time_steps))\n",
    "\n",
    "    # TODO: for the given number of time steps, call compute_next_step and save the position\n",
    "    # Note: compute_next_step is in pinball_routines.py\n",
    "    current_state = starting_state\n",
    "    for t in range(n_time_steps):\n",
    "        ret_pose_all[:, t] = current_state[0, :]\n",
    "        current_state = compute_next_step(current_state, delta_t)\n",
    "    # All done - return the numpy array\n",
    "    return ret_pose_all"
   ]
  },
  {
   "cell_type": "code",
   "execution_count": 9,
   "metadata": {
    "tags": []
   },
   "outputs": [
    {
     "name": "stdout",
     "output_type": "stream",
     "text": [
      "Last pose: [-0.35  -1.918]\n",
      "[[ 0.    -0.025 -0.05  -0.075 -0.1   -0.125 -0.15  -0.175 -0.2   -0.225\n",
      "  -0.25  -0.275 -0.3   -0.325 -0.35 ]\n",
      " [ 0.     0.5    0.902  1.206  1.412  1.52   1.53   1.442  1.256  0.972\n",
      "   0.59   0.11  -0.468 -1.144 -1.918]]\n"
     ]
    }
   ],
   "source": [
    "# Actually run the simulation\n",
    "# Time step\n",
    "\n",
    "ret_poses = calculate_n_time_steps(starting_state, delta_t=delta_t, n_time_steps=15)\n",
    "print(f\"Last pose: {ret_poses[:, -1]}\")\n",
    "assert(np.isclose(ret_poses[0, -1], -0.35))\n",
    "assert(np.isclose(ret_poses[1, -1], -1.918))\n",
    "print(f\"{ret_poses}\")"
   ]
  },
  {
   "cell_type": "code",
   "execution_count": 10,
   "metadata": {
    "deletable": false,
    "editable": false
   },
   "outputs": [
    {
     "data": {
      "text/html": [
       "<p><strong><pre style='display: inline;'>simulate</pre></strong> passed! 🌈</p>"
      ],
      "text/plain": [
       "simulate results: All test cases passed!"
      ]
     },
     "execution_count": 10,
     "metadata": {},
     "output_type": "execute_result"
    }
   ],
   "source": [
    "grader.check(\"simulate\")"
   ]
  },
  {
   "cell_type": "markdown",
   "metadata": {
    "deletable": false,
    "editable": false
   },
   "source": [
    "# Plotted result\n",
    "\n",
    "TODO: Change delta t and number of time steps so the spacing is closer together and the simulation is stopped shortly after the ball passes the y = 0 line (we'll do this \"right\" in the lab)"
   ]
  },
  {
   "cell_type": "code",
   "execution_count": 11,
   "metadata": {
    "tags": []
   },
   "outputs": [],
   "source": [
    "# This is pretty arbitrary - but I chose to ask the person calling the function to pass in the poses returned from\n",
    "#  the interation and the initial velocity (so we can see it).\n",
    "def plot_results(axs, ret_poses, initial_vel, total_time):\n",
    "    \"\"\" plot the results of running the system AND the \"correct\" closed form result\n",
    "    @param ret_poses - x y position values in a 2xn numpy array\n",
    "    @param initial_vel - Show the initial velocity\n",
    "    @param total_time - the total time the system ran (for closed form solution, delta_t * n time steps)\n",
    "    @return Nothing\n",
    "    \"\"\"\n",
    "    # The values we calculated in calculate_n_time_steps\n",
    "    axs.plot((ret_poses[0, 0], ret_poses[0, 0] + initial_vel[0]),\n",
    "             (ret_poses[1, 0], ret_poses[1, 0] + initial_vel[1]),\n",
    "             '-m', label=\"Initial vel\")\n",
    "    axs.plot(ret_poses[0, 0], ret_poses[1, 0], 'xr', markersize=10, label=\"Start\")\n",
    "    axs.plot(ret_poses[0, :], ret_poses[1, :], '-Xk', label=\"Poses\")\n",
    "\n",
    "    axs.axis('equal')\n",
    "    axs.set_title(f\"Path of pinball, 0-{total_time} s\")\n",
    "    axs.legend()"
   ]
  },
  {
   "cell_type": "code",
   "execution_count": 12,
   "metadata": {
    "tags": []
   },
   "outputs": [
    {
     "data": {
      "image/png": "[encoded data removed]",
      "text/plain": [
       "<Figure size 400x400 with 1 Axes>"
      ]
     },
     "metadata": {},
     "output_type": "display_data"
    }
   ],
   "source": [
    "nrows = 1\n",
    "ncols = 1\n",
    "fig, axs = plt.subplots(nrows, ncols, figsize=(4, 4))\n",
    "\n",
    "# TODO change delta_t and n_time_steps so the simulation ends shortly after it crosses the y = 0 line\n",
    "#   You will need to over-ride the default parameters for delta t and n time steps\n",
    "n_time_steps = 20\n",
    "delta_t = 0.06\n",
    "\n",
    "ret_poses_stopped = calculate_n_time_steps(starting_state, delta_t=delta_t, n_time_steps=n_time_steps)\n",
    "\n",
    "# TODO Fix this so that you pass the remaining correct variables (replace each _ with the correct variable)\n",
    "\n",
    "plot_results(axs, ret_poses_stopped, starting_state[1, :], n_time_steps*delta_t)"
   ]
  },
  {
   "cell_type": "code",
   "execution_count": 13,
   "metadata": {
    "deletable": false,
    "editable": false
   },
   "outputs": [
    {
     "data": {
      "text/html": [
       "<p><strong><pre style='display: inline;'>Plot</pre></strong> passed! 💯</p>"
      ],
      "text/plain": [
       "Plot results: All test cases passed!"
      ]
     },
     "execution_count": 13,
     "metadata": {},
     "output_type": "execute_result"
    }
   ],
   "source": [
    "grader.check(\"Plot\")"
   ]
  },
  {
   "cell_type": "markdown",
   "metadata": {
    "deletable": false,
    "editable": false
   },
   "source": [
    "## Hours and collaborators\n",
    "Required for every assignment - fill out before you hand-in.\n",
    "\n",
    "Listing names and websites helps you to document who you worked with and what internet help you received in the case of any plagiarism issues. You should list names of anyone (in class or not) who has substantially helped you with an assignment - or anyone you have *helped*. You do not need to list TAs.\n",
    "\n",
    "Listing hours helps us track if the assignments are too long."
   ]
  },
  {
   "cell_type": "code",
   "execution_count": 14,
   "metadata": {
    "tags": []
   },
   "outputs": [],
   "source": [
    "\n",
    "# List of names (creates a set)\n",
    "worked_with_names = {\"N/A\"}\n",
    "# List of URLS I25 (creates a set)\n",
    "websites = {\"N/A\"}\n",
    "# Approximate number of hours, including lab/in-class time\n",
    "hours = 0.5"
   ]
  },
  {
   "cell_type": "code",
   "execution_count": 15,
   "metadata": {
    "deletable": false,
    "editable": false
   },
   "outputs": [
    {
     "data": {
      "text/html": [
       "<p><strong><pre style='display: inline;'>hours_collaborators</pre></strong> passed! ✨</p>"
      ],
      "text/plain": [
       "hours_collaborators results: All test cases passed!"
      ]
     },
     "execution_count": 15,
     "metadata": {},
     "output_type": "execute_result"
    }
   ],
   "source": [
    "grader.check(\"hours_collaborators\")"
   ]
  },
  {
   "cell_type": "markdown",
   "metadata": {},
   "source": [
    "### To submit\n",
    "\n",
    "Double check your plots. Don't forget **pinball_routines.py**. We will include **matrix_routines.py**; but it won't hurt if you include it as well.\n",
    "\n",
    "- Submit this .ipynb file  and pinball_routines.py to lecture activity 9 (simulate)\n",
    "\n",
    "If the Gradescope autograder fails, please check here first for common reasons for it to fail\n",
    "    https://docs.google.com/presentation/d/1tYa5oycUiG4YhXUq5vHvPOpWJ4k_xUPp2rUNIL7Q9RI/edit?usp=sharing\n",
    "\n",
    "Failures: See above for files to include."
   ]
  }
 ],
 "metadata": {
  "kernelspec": {
   "display_name": "base",
   "language": "python",
   "name": "python3"
  },
  "language_info": {
   "codemirror_mode": {
    "name": "ipython",
    "version": 3
   },
   "file_extension": ".py",
   "mimetype": "text/x-python",
   "name": "python",
   "nbconvert_exporter": "python",
   "pygments_lexer": "ipython3",
   "version": "3.12.7"
  },
  "otter": {
   "OK_FORMAT": true,
   "tests": {
    "Plot": {
     "name": "Plot",
     "points": 1,
     "suites": [
      {
       "cases": [
        {
         "code": ">>> assert ret_poses_stopped[1, -1] < 0.0\n",
         "hidden": false,
         "locked": false
        },
        {
         "code": ">>> assert ret_poses_stopped.shape[1] > 15\n",
         "hidden": false,
         "locked": false
        }
       ],
       "scored": true,
       "setup": "",
       "teardown": "",
       "type": "doctest"
      }
     ]
    },
    "compute_next_time_step": {
     "name": "compute_next_time_step",
     "points": 1,
     "suites": [
      {
       "cases": [
        {
         "code": ">>> assert np.all(np.isclose(first_time_step[0, :], starting_state[0, :] + delta_t * starting_state[1, :]))\n",
         "hidden": false,
         "locked": false
        },
        {
         "code": ">>> assert np.all(np.isclose(first_time_step[1, :], starting_state[1, :] + delta_t * starting_state[2, :]))\n",
         "hidden": false,
         "locked": false
        },
        {
         "code": ">>> assert np.all(np.isclose(first_time_step[2, :], starting_state[2, :]))\n",
         "hidden": false,
         "locked": false
        }
       ],
       "scored": true,
       "setup": "",
       "teardown": "",
       "type": "doctest"
      }
     ]
    },
    "hours_collaborators": {
     "name": "hours_collaborators",
     "points": 1,
     "suites": [
      {
       "cases": [
        {
         "code": ">>> assert not 'not filled out' in worked_with_names\n",
         "hidden": false,
         "locked": false
        },
        {
         "code": ">>> assert not 'not filled out' in websites\n",
         "hidden": false,
         "locked": false
        },
        {
         "code": ">>> assert hours > 0\n",
         "hidden": false,
         "locked": false
        }
       ],
       "scored": true,
       "setup": "",
       "teardown": "",
       "type": "doctest"
      }
     ]
    },
    "simulate": {
     "name": "simulate",
     "points": 2,
     "suites": [
      {
       "cases": [
        {
         "code": ">>> assert np.isclose(ret_poses[0, -1], -0.35, atol=0.1)\n",
         "hidden": false,
         "locked": false
        },
        {
         "code": ">>> assert np.isclose(ret_poses[1, -1], -1.918, atol=0.1)\n",
         "hidden": false,
         "locked": false
        }
       ],
       "scored": true,
       "setup": "",
       "teardown": "",
       "type": "doctest"
      }
     ]
    }
   }
  }
 },
 "nbformat": 4,
 "nbformat_minor": 2
}
