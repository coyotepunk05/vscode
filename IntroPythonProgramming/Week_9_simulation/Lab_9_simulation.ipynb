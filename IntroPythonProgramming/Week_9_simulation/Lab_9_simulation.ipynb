{
 "cells": [
  {
   "cell_type": "code",
   "execution_count": 1,
   "metadata": {
    "deletable": false,
    "editable": false
   },
   "outputs": [],
   "source": [
    "# Initialize Otter\n",
    "import otter\n",
    "grader = otter.Notebook(\"Lab_9_simulation.ipynb\")"
   ]
  },
  {
   "cell_type": "markdown",
   "metadata": {},
   "source": [
    "# Iterative systems part II \n",
    "\n",
    "We'll add two things here:\n",
    " - Stop when the \"ball\" drops below the y = 0 line\n",
    " - \"Bouncing\" off of the top and side walls\n",
    "\n",
    "See Slides for how to handle crossing a wall (naive versus smart fix)"
   ]
  },
  {
   "cell_type": "code",
   "execution_count": 2,
   "metadata": {},
   "outputs": [],
   "source": [
    "# The usual imports\n",
    "import numpy as np\n",
    "import matplotlib.pyplot as plt"
   ]
  },
  {
   "cell_type": "code",
   "execution_count": 3,
   "metadata": {},
   "outputs": [],
   "source": [
    "# These commands will force JN to actually re-load the external file when you re-execute the import command\n",
    "%load_ext autoreload\n",
    "%autoreload 2"
   ]
  },
  {
   "cell_type": "code",
   "execution_count": 4,
   "metadata": {},
   "outputs": [],
   "source": [
    "# Do the import of your pinball routines\n",
    "# \n",
    "from pinball_routines import acceleration_due_to_gravity, compute_next_step, outside_top_wall, outside_left_wall, outside_right_wall"
   ]
  },
  {
   "cell_type": "markdown",
   "metadata": {
    "deletable": false,
    "editable": false
   },
   "source": [
    "# Stop when at bottom\n",
    "\n",
    "Switch from going a set number of time steps to going until the ball passes through **y = 0**\n",
    "\n",
    "TODO: New simulation routine: set it up to return when passing through floor\n",
    "\n",
    "Ignore walls - we'll handle that in the next problem\n",
    "\n",
    "Keep the pose just after the ball passes through **y=0** - so the second to last pose should be above, the last below"
   ]
  },
  {
   "cell_type": "code",
   "execution_count": 5,
   "metadata": {
    "tags": []
   },
   "outputs": [],
   "source": [
    "def simulate_pinball(starting_state, top_wall=7, left_wall=-3, right_wall=3, delta_t=0.1):\n",
    "    \"\"\" Call compute one time step multiple times and store it in a numpy array\n",
    "    @param starting_state - the starting positino, velocity, acceleration\n",
    "    @param delta_t - the time step to use. Define a default t value that you've determined works well\n",
    "    @return position values as a 2xtimesteps numpy array\n",
    "    \"\"\"\n",
    "\n",
    "    # The returned array.We do not know the size, so do not pre-allocate\n",
    "    ret_pose_all = []\n",
    "\n",
    "    # TODO (question 1) Use a while loop instead of the for loop\n",
    "    # Set the stopping criteria based on current state y value\n",
    "    current_state = starting_state\n",
    "    ret_pose_all.append(current_state[0, :])\n",
    "    while current_state[0, 1] >= 0:\n",
    "        current_state = compute_next_step(current_state, delta_t)\n",
    "\n",
    "    # TODO (question 2)\n",
    "    # Add in each wall/top at a time (there are test routines for reach below)\n",
    "    # Use if statements, not if-else statements, because it is possible to be outside of the top and side wall...\n",
    "        if current_state[0, 1] > top_wall:\n",
    "            current_state[1, 1] = -current_state[1, 1]\n",
    "            current_state[0, 1] = top_wall\n",
    "\n",
    "        if current_state[0, 0] < left_wall:\n",
    "            current_state[1, 0] = -current_state[1, 0]\n",
    "            current_state[0, 0] = left_wall\n",
    "\n",
    "        if current_state[0, 0] > right_wall:\n",
    "            current_state[1, 0] = -current_state[1, 0]\n",
    "            current_state[0, 0] = right_wall\n",
    "            \n",
    "        ret_pose_all.append(current_state[0, :])\n",
    "    # All done - return the numpy array\n",
    "    #  Why does this look like this? Because when you do the append you've made a very long\n",
    "    # list of lists with 2 elements (x,y) in them. When you give this list to numpy to convert\n",
    "    # into an array it will make an n x 2 numpy array for you. So if you want it back in\n",
    "    # our format from the lecture activity, you need to do what's called a transpose, which\n",
    "    # swaps the rows and columns, and gives you a 2 x n array instead.\n",
    "\n",
    "    return np.array(ret_pose_all).transpose()"
   ]
  },
  {
   "cell_type": "code",
   "execution_count": 6,
   "metadata": {
    "tags": []
   },
   "outputs": [
    {
     "name": "stdout",
     "output_type": "stream",
     "text": [
      "-0.6 -0.6000000000000001 (2, 13)\n"
     ]
    }
   ],
   "source": [
    "# Time step\n",
    "delta_t_stop = 0.1\n",
    "\n",
    "# walls: top, left, right\n",
    "top_wall = 5.0\n",
    "left_wall = -3.0\n",
    "right_wall = 3.0\n",
    "\n",
    "# Test 1 - do you stop when you hit the floor?\n",
    "starting_state = np.zeros([3, 2])  # location, velocity, acceleration\n",
    "starting_state[0, :] = [0, 0] # Start at zero, zero\n",
    "# Check stopping condition only\n",
    "starting_state[1, :] = [-0.5, 5.0]\n",
    "starting_state[2, :] = [0.0, acceleration_due_to_gravity()]\n",
    "ret_poses = simulate_pinball(starting_state, top_wall=top_wall, left_wall=left_wall, right_wall=right_wall, delta_t=delta_t_stop)\n",
    "\n",
    "# Check stopping condition\n",
    "assert(ret_poses[1, -1] < 0.0)\n",
    "assert(ret_poses[1, -2] > 0.0)\n",
    "\n",
    "# Check x travel\n",
    "x_travel = starting_state[0, 0] + starting_state[1, 0] * delta_t_stop * (ret_poses.shape[1] - 1)\n",
    "assert(np.isclose(ret_poses[0, -1], x_travel))\n",
    "print(f\"{ret_poses[0, -1]} {x_travel} {ret_poses.shape}\")\n",
    "\n",
    "\n",
    "\n"
   ]
  },
  {
   "cell_type": "code",
   "execution_count": 7,
   "metadata": {
    "deletable": false,
    "editable": false
   },
   "outputs": [
    {
     "data": {
      "text/html": [
       "<p><strong><pre style='display: inline;'>stop_bottom</pre></strong> passed! 🙌</p>"
      ],
      "text/plain": [
       "stop_bottom results: All test cases passed!"
      ]
     },
     "execution_count": 7,
     "metadata": {},
     "output_type": "execute_result"
    }
   ],
   "source": [
    "grader.check(\"stop_bottom\")"
   ]
  },
  {
   "cell_type": "markdown",
   "metadata": {
    "deletable": false,
    "editable": false
   },
   "source": [
    "# Reflect off top wall\n",
    "\n",
    "TODO 2: Add in reflecting off of top wall\n",
    " - negate the velocity\n",
    " - reposition on the wall\n",
    " \n",
    "Fancy - actually calculate the intersection and reflect the remaining vector back\n",
    "\n",
    "Semi-fancy - set the y value to be the top wall value, reflect the y vector\n",
    "Not fancy - just flip the y value\n",
    "\n",
    "Note: The outside wall function(s) are in **pinball_routines.py**\n",
    "\n",
    "Options, from easy to hard: \n",
    "- Put the fix in the **simulate_pinball** routine above\n",
    "- add a reflect_top_wall function to pinball_routines.py (don't forget to add a check/test for that function and include it in the import)\n",
    "- Create a general-purpose outside wall/reflect wall function using the **ax + by + c = 0** equation. "
   ]
  },
  {
   "cell_type": "code",
   "execution_count": 8,
   "metadata": {
    "tags": []
   },
   "outputs": [],
   "source": [
    "# Checks for outside_top_wall routine - make sure these work before running simulate_pinball\n",
    "assert outside_top_wall([0, top_wall - 0.5], y_height=top_wall) == False\n",
    "assert outside_top_wall([0, top_wall + 0.5], y_height=top_wall) == True"
   ]
  },
  {
   "cell_type": "code",
   "execution_count": 9,
   "metadata": {
    "tags": []
   },
   "outputs": [],
   "source": [
    "# Add enough velocity to hit the top wall, but not the side walls\n",
    "starting_state[1, :] = [-0.2, 10.0]\n",
    "\n",
    "# Do the simulation\n",
    "ret_poses_top = simulate_pinball(starting_state, top_wall=top_wall, left_wall=left_wall, right_wall=right_wall, delta_t=delta_t_stop)\n",
    "\n",
    "# TODO Write yourself 3 checks\n",
    "# Checks for outside_top_wall (in pinball_routines.py)\n",
    "#    Check that a position just outside of the top wall returns True\n",
    "#.   Check that a position just inide the top wall returns False\n",
    "assert outside_top_wall([0, top_wall - 0.0000001], y_height=top_wall) == False \n",
    "assert outside_top_wall([0, top_wall + 0.0000001], y_height=top_wall) == True\n",
    "\n",
    "# Check that you never went (far) outside the top wall, i.e., the y value was never more than 0.5 + 0.01\n",
    "for item in ret_poses_top[1, :]:\n",
    "    assert item < top_wall + 0.01"
   ]
  },
  {
   "cell_type": "code",
   "execution_count": 10,
   "metadata": {
    "deletable": false,
    "editable": false
   },
   "outputs": [
    {
     "data": {
      "text/html": [
       "<p><strong><pre style='display: inline;'>top_wall</pre></strong> passed! 🙌</p>"
      ],
      "text/plain": [
       "top_wall results: All test cases passed!"
      ]
     },
     "execution_count": 10,
     "metadata": {},
     "output_type": "execute_result"
    }
   ],
   "source": [
    "grader.check(\"top_wall\")"
   ]
  },
  {
   "cell_type": "markdown",
   "metadata": {
    "deletable": false,
    "editable": false
   },
   "source": [
    "# Left and right walls\n",
    "\n",
    "TODO: Now add in the left and right walls\n",
    "\n",
    "Reminder: outside_??_walls are in pinball_routines.py\n",
    "\n",
    "Edit **simulate_pinball** above\n",
    "\n",
    "Starting position in code below is set up to have the ball bounce off of all walls and a corner"
   ]
  },
  {
   "cell_type": "code",
   "execution_count": 11,
   "metadata": {
    "tags": []
   },
   "outputs": [],
   "source": [
    "# Time step \n",
    "# All other parameters set in previous problem(s)\n",
    "delta_t_bounce = 0.01\n",
    "\n",
    "starting_state[1, :] = [-10.2, 10.0]\n",
    "\n",
    "# Do the simulation\n",
    "ret_poses_bounce = simulate_pinball(starting_state, top_wall=top_wall, left_wall=left_wall, right_wall=right_wall, delta_t=delta_t_bounce)\n"
   ]
  },
  {
   "cell_type": "code",
   "execution_count": 12,
   "metadata": {
    "tags": []
   },
   "outputs": [],
   "source": [
    "# TODO: Add in checks for outside_left_wall and outside_right_wall\n",
    "# Add in check for poses not going outside of left/right walls\n",
    "\n",
    "assert outside_left_wall([left_wall - 0.0000001, 0], left_wall) == True\n",
    "assert outside_left_wall([left_wall + 0.0000001, 0], left_wall) == False\n",
    "\n",
    "assert outside_right_wall([right_wall + 0.0000001, 0], right_wall) == True\n",
    "assert outside_right_wall([right_wall - 0.0000001, 0], right_wall) == False\n",
    "\n",
    "for item in ret_poses_top[0, :]:\n",
    "    assert item < right_wall + 0.01\n",
    "    assert item > left_wall - 0.01"
   ]
  },
  {
   "cell_type": "code",
   "execution_count": 13,
   "metadata": {
    "deletable": false,
    "editable": false
   },
   "outputs": [
    {
     "data": {
      "text/html": [
       "<p><strong><pre style='display: inline;'>side_walls</pre></strong> passed! 🌟</p>"
      ],
      "text/plain": [
       "side_walls results: All test cases passed!"
      ]
     },
     "execution_count": 13,
     "metadata": {},
     "output_type": "execute_result"
    }
   ],
   "source": [
    "grader.check(\"side_walls\")"
   ]
  },
  {
   "cell_type": "markdown",
   "metadata": {
    "deletable": false,
    "editable": false
   },
   "source": [
    "<!-- BEGIN QUESTION -->\n",
    "\n",
    "# Plot simulation\n",
    "\n",
    "I've provided the plot routine; you can run this at any point to check your current ret_poses as you're debugging"
   ]
  },
  {
   "cell_type": "code",
   "execution_count": 14,
   "metadata": {
    "tags": []
   },
   "outputs": [],
   "source": [
    "# Plot the walls and the pinball path\n",
    "def plot_pinball_lab(axs, ret_poses, walls, total_time):\n",
    "    \"\"\" plot the results of running the system AND the \"correct\" closed form result\n",
    "    @param ret_poses - x y position values in a 2xn numpy array\n",
    "    @param walls - The walls and ceiling locations (top, left, right)\n",
    "    @param total_time - the total time the system ran (for closed form solution, delta_t * n time steps)\n",
    "    @return Nothing\n",
    "    \"\"\"\n",
    "    # The values we calculated in calculate_n_time_steps\n",
    "    axs.plot([walls[1], walls[2]], [walls[0], walls[0]], '-m', label=f\"Top wall {top_wall}\")\n",
    "    axs.plot([walls[1], walls[2]], [0, 0], '-k', label=\"Floor wall\")\n",
    "    axs.plot([walls[1], walls[1]], [0, walls[0]], '-g', label=\"Left wall\")\n",
    "    axs.plot([walls[2], walls[2]], [0, walls[0]], '-g', label=\"Right wall\")\n",
    "\n",
    "    axs.plot(ret_poses[0, 0], ret_poses[1, 0], 'xr', label=\"Start\")\n",
    "    axs.plot(ret_poses[0, :], ret_poses[1, :], '.-k', label=\"Poses\")\n",
    "\n",
    "    axs.axis('equal')\n",
    "    axs.set_title(f\"Boring pinball, 0-{total_time} s\")\n",
    "    axs.legend()"
   ]
  },
  {
   "cell_type": "code",
   "execution_count": 15,
   "metadata": {
    "tags": []
   },
   "outputs": [
    {
     "data": {
      "image/png": "[encoded data removed]",
      "text/plain": [
       "<Figure size 400x400 with 1 Axes>"
      ]
     },
     "metadata": {},
     "output_type": "display_data"
    }
   ],
   "source": [
    "nrows = 1\n",
    "ncols = 1\n",
    "_, axs = plt.subplots(nrows, ncols, figsize=(4, 4))\n",
    "\n",
    "\n",
    "# Pass the walls into the plot as a list\n",
    "total_time = delta_t_bounce * ret_poses_bounce.shape[1]\n",
    "plot_pinball_lab(axs, ret_poses_bounce, [top_wall, left_wall, right_wall], total_time)"
   ]
  },
  {
   "cell_type": "code",
   "execution_count": 16,
   "metadata": {
    "tags": []
   },
   "outputs": [
    {
     "name": "stdout",
     "output_type": "stream",
     "text": [
      "This is a manually-graded question; there is no grader.check() function. See rubric and slides for more information on expected output.\n"
     ]
    }
   ],
   "source": [
    "# Manual grade\n",
    "print(\"This is a manually-graded question; there is no grader.check() function. See rubric and slides for more information on expected output.\")"
   ]
  },
  {
   "cell_type": "markdown",
   "metadata": {
    "deletable": false,
    "editable": false
   },
   "source": [
    "<!-- END QUESTION -->\n",
    "\n",
    "## Hours and collaborators\n",
    "Required for every assignment - fill out before you hand-in.\n",
    "\n",
    "Listing names and websites helps you to document who you worked with and what internet help you received in the case of any plagiarism issues. You should list names of anyone (in class or not) who has substantially helped you with an assignment - or anyone you have *helped*. You do not need to list TAs.\n",
    "\n",
    "Listing hours helps us track if the assignments are too long."
   ]
  },
  {
   "cell_type": "code",
   "execution_count": 17,
   "metadata": {
    "tags": []
   },
   "outputs": [],
   "source": [
    "\n",
    "# List of names (creates a set)\n",
    "worked_with_names = {\"N/A\"}\n",
    "# List of URLS I25 (creates a set)\n",
    "websites = {\"N/A\"}\n",
    "# Approximate number of hours, including lab/in-class time\n",
    "hours = 1.5"
   ]
  },
  {
   "cell_type": "code",
   "execution_count": 18,
   "metadata": {
    "deletable": false,
    "editable": false
   },
   "outputs": [
    {
     "data": {
      "text/html": [
       "<p><strong><pre style='display: inline;'>hours_collaborators</pre></strong> passed! ✨</p>"
      ],
      "text/plain": [
       "hours_collaborators results: All test cases passed!"
      ]
     },
     "execution_count": 18,
     "metadata": {},
     "output_type": "execute_result"
    }
   ],
   "source": [
    "grader.check(\"hours_collaborators\")"
   ]
  },
  {
   "cell_type": "markdown",
   "metadata": {},
   "source": [
    "### To submit\n",
    "\n",
    "Double check your plots. Don't forget **pinball_routines.py**. We will include **matrix_routines.py**; but it won't hurt if you include it as well.\n",
    "\n",
    "- Submit this .ipynb file  and pinball_routines.py to lecture activity 9 (simulate)\n",
    "\n",
    "If the Gradescope autograder fails, please check here first for common reasons for it to fail\n",
    "    https://docs.google.com/presentation/d/1tYa5oycUiG4YhXUq5vHvPOpWJ4k_xUPp2rUNIL7Q9RI/edit?usp=sharing\n",
    "\n",
    "Failures: See above for files to include."
   ]
  }
 ],
 "metadata": {
  "kernelspec": {
   "display_name": "base",
   "language": "python",
   "name": "python3"
  },
  "language_info": {
   "codemirror_mode": {
    "name": "ipython",
    "version": 3
   },
   "file_extension": ".py",
   "mimetype": "text/x-python",
   "name": "python",
   "nbconvert_exporter": "python",
   "pygments_lexer": "ipython3",
   "version": "3.12.7"
  },
  "otter": {
   "OK_FORMAT": true,
   "tests": {
    "hours_collaborators": {
     "name": "hours_collaborators",
     "points": 1,
     "suites": [
      {
       "cases": [
        {
         "code": ">>> assert not 'not filled out' in worked_with_names\n",
         "hidden": false,
         "locked": false
        },
        {
         "code": ">>> assert not 'not filled out' in websites\n",
         "hidden": false,
         "locked": false
        },
        {
         "code": ">>> assert hours > 0\n",
         "hidden": false,
         "locked": false
        }
       ],
       "scored": true,
       "setup": "",
       "teardown": "",
       "type": "doctest"
      }
     ]
    },
    "side_walls": {
     "name": "side_walls",
     "points": 6,
     "suites": [
      {
       "cases": [
        {
         "code": ">>> assert outside_left_wall([left_wall + 0.5, 0.0], left_wall) == False\n",
         "hidden": false,
         "locked": false
        },
        {
         "code": ">>> assert outside_left_wall([left_wall - 0.5, 0.0], left_wall) == True\n",
         "hidden": false,
         "locked": false
        },
        {
         "code": ">>> assert outside_right_wall([right_wall - 0.5, 0.0], right_wall) == False\n",
         "hidden": false,
         "locked": false
        },
        {
         "code": ">>> assert outside_right_wall([right_wall + 0.5, 0.0], right_wall) == True\n",
         "hidden": false,
         "locked": false
        },
        {
         "code": ">>> assert np.all(ret_poses_bounce[0, :] < right_wall + 0.01)\n",
         "hidden": false,
         "locked": false
        },
        {
         "code": ">>> assert np.all(ret_poses_bounce[0, :] > left_wall - 0.01)\n",
         "hidden": false,
         "locked": false
        }
       ],
       "scored": true,
       "setup": "",
       "teardown": "",
       "type": "doctest"
      }
     ]
    },
    "stop_bottom": {
     "name": "stop_bottom",
     "points": 5,
     "suites": [
      {
       "cases": [
        {
         "code": ">>> assert ret_poses[1, -1] < 0.0\n",
         "hidden": false,
         "locked": false
        },
        {
         "code": ">>> assert ret_poses[1, -2] > 0.0\n",
         "hidden": false,
         "locked": false
        },
        {
         "code": ">>> assert np.isclose(ret_poses[0, -1], x_travel, atol=0.01)\n",
         "hidden": false,
         "locked": false
        }
       ],
       "scored": true,
       "setup": "",
       "teardown": "",
       "type": "doctest"
      }
     ]
    },
    "top_wall": {
     "name": "top_wall",
     "points": 3,
     "suites": [
      {
       "cases": [
        {
         "code": ">>> assert outside_top_wall([0, top_wall - 0.5], y_height=top_wall) == False\n",
         "hidden": false,
         "locked": false
        },
        {
         "code": ">>> assert outside_top_wall([0, top_wall + 0.5], y_height=top_wall) == True\n",
         "hidden": false,
         "locked": false
        },
        {
         "code": ">>> assert np.all(ret_poses_top[1, :] < top_wall + 0.01)\n",
         "hidden": false,
         "locked": false
        }
       ],
       "scored": true,
       "setup": "",
       "teardown": "",
       "type": "doctest"
      }
     ]
    }
   }
  }
 },
 "nbformat": 4,
 "nbformat_minor": 2
}
