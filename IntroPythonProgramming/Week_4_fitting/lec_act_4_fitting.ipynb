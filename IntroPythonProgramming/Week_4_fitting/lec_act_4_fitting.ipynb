{
 "cells": [
  {
   "cell_type": "code",
   "execution_count": 3,
   "metadata": {
    "deletable": false,
    "editable": false
   },
   "outputs": [],
   "source": [
    "# Initialize Otter\n",
    "import otter\n",
    "grader = otter.Notebook(\"lec_act_4_fitting.ipynb\")"
   ]
  },
  {
   "cell_type": "markdown",
   "metadata": {},
   "source": [
    "# Fit a line to the middle part of the finger 1 motor positions\n",
    "\n",
    "Slides for this lecture activity: https://docs.google.com/presentation/d/1NtoXYbl2nq1dkIU0KQE8ogjSCfb22wgLigY3JJpHHGI/edit?usp=sharing\n",
    "\n",
    "Lecture goals:\n",
    "- Extract a subset of data based on conditions\n",
    "- Use linregress to approximate linear data\n",
    "\n",
    "The data we're using is from a robot grasping trial. It is the motor position from the start of the grasp to the end for one finger. If the grasp was successful, then the motor tends to stop early (since the finger does not close all the way). If the grasp was unsuccessful, the finger (usually, but not always) closes all the way. The data analysis question is: can we tell the difference between the two? \n",
    "\n",
    "To do this, we're going to find where the motor starts closing the finger, and where it stops, then fit a line to that \"middle\" bit of data. We'll then plot the data for successful versus unsuccessful grasps and see if it looks different."
   ]
  },
  {
   "cell_type": "code",
   "execution_count": 5,
   "metadata": {},
   "outputs": [],
   "source": [
    "# Doing the imports for you\n",
    "import numpy as np\n",
    "import json as json\n",
    "from scipy.stats import linregress\n",
    "import matplotlib.pyplot as plt"
   ]
  },
  {
   "cell_type": "markdown",
   "metadata": {
    "deletable": false,
    "editable": false
   },
   "source": [
    "## Read the motor position data in\n",
    "\n",
    "The motor position data is in **Motor position f1.csv** in the Data directory. \n",
    "\n",
    "The shape of the data should be (660, 40). The \"successful\" ones are the first 355, the unsuccesful ones are from 355 to 660.\n",
    "\n",
    "The data was sampled at 30Hz. Each column is the motor position value at each time step.\n",
    "\n",
    "Each row is a grasp.\n",
    "\n",
    "TODO: Read the data in and make a plot of a couple examples to see what it looks like\n"
   ]
  },
  {
   "cell_type": "code",
   "execution_count": 9,
   "metadata": {
    "tags": []
   },
   "outputs": [],
   "source": [
    "\n",
    "# TODO Read in Motor position f1.csv file. Reminder that loadtxt can take an optional delimiter parameter\n",
    "#  Make sure you capitalize the Data directory and the filename the same as they are in the explorer pane on the left\n",
    "data_all = np.loadtxt('Data/Motor position f1.csv', dtype='float', delimiter=',')  # Motor position f1.csv\n",
    "\n",
    "# TODO: Check that the data is 660 by 40\n",
    "assert data_all.shape == (660, 40)"
   ]
  },
  {
   "cell_type": "code",
   "execution_count": 12,
   "metadata": {
    "tags": []
   },
   "outputs": [],
   "source": [
    "# We need t values to go with the y values; the t values are all the same for every row, so just make once\n",
    "#   Reminder: the data is sampled at 30Hz. So each sample should be 1/30th of a second apart\n",
    "\n",
    "# TODO: Create ts, a numpy array that starts at 0, has the same number of elements as data_all's columns, and \n",
    "#   is of the form: 0, 1/30, 2/30 etc\n",
    "\n",
    "# Know time step\n",
    "time_step = 1/30\n",
    "\n",
    "# TODO Create ts. numpy's arange is handy here...\n",
    "ts = np.arange(data_all.shape[1])/30\n",
    "\n",
    "# Check that ts is correct\n",
    "assert ts.size == data_all.shape[1]\n",
    "assert ts[0] == 0\n",
    "assert ts[-1] == (data_all.shape[1] - 1) * time_step"
   ]
  },
  {
   "cell_type": "code",
   "execution_count": 27,
   "metadata": {
    "tags": []
   },
   "outputs": [
    {
     "data": {
      "image/png": "[encoded data removed]",
      "text/plain": [
       "<Figure size 800x200 with 4 Axes>"
      ]
     },
     "metadata": {},
     "output_type": "display_data"
    }
   ],
   "source": [
    "# Plot a few of the rows to see what the data looks like\n",
    "n_rows = 1\n",
    "n_cols = 4\n",
    "fig1, axs1 = plt.subplots(n_rows, n_cols, figsize=(8, 2))\n",
    "\n",
    "\n",
    "# TODO Pick 4 examples to plot. Use your ts values from above. You do not need to\n",
    "#   use the ones from the slides, but you should but the example number in the title\n",
    "# Don't forget to label the x and y axes\n",
    "axs1[0].plot(ts, data_all[101, :])\n",
    "axs1[0].set_title('Row 101')\n",
    "axs1[0].set_xlabel('t(sec)')\n",
    "axs1[0].set_ylabel('Effort')\n",
    "axs1[1].plot(ts, data_all[204, :])\n",
    "axs1[1].set_title('Row 204')\n",
    "axs1[1].set_xlabel('t(sec)')\n",
    "axs1[1].set_ylabel('Effort')\n",
    "axs1[2].plot(ts, data_all[405, :])\n",
    "axs1[2].set_title('Row 405')\n",
    "axs1[2].set_xlabel('t(sec)')\n",
    "axs1[2].set_ylabel('Effort')\n",
    "axs1[3].plot(ts, data_all[501, :])\n",
    "axs1[3].set_title('Row 501')\n",
    "axs1[3].set_xlabel('t(sec)')\n",
    "axs1[3].set_ylabel('Effort')\n",
    "\n",
    "\n",
    "plt.tight_layout()\n"
   ]
  },
  {
   "cell_type": "code",
   "execution_count": 28,
   "metadata": {
    "deletable": false,
    "editable": false
   },
   "outputs": [
    {
     "data": {
      "text/html": [
       "<p><strong><pre style='display: inline;'>Read data</pre></strong> passed! 🎉</p>"
      ],
      "text/plain": [
       "Read data results: All test cases passed!"
      ]
     },
     "execution_count": 28,
     "metadata": {},
     "output_type": "execute_result"
    }
   ],
   "source": [
    "grader.check(\"Read data\")"
   ]
  },
  {
   "cell_type": "markdown",
   "metadata": {
    "deletable": false,
    "editable": false
   },
   "source": [
    "## Fit a line to the middle points\n",
    "\n",
    "Doing this as a function so you can re-use the code\n",
    "\n",
    "Some decisions:\n",
    "- Pass in the data as two arrays, the t and y values\n",
    "-    Use **fit_line_to_middle_bit** function to pull out the \"middle\" bit\n",
    "- Returns the points of intersection with the min/max values, the slope, and error of the fit because in the long run that's what we care about (where the motor started and stopped)\n",
    "- The eps is a \"fudge factor\" so that you can clip out data above/below a threshhold\n",
    "\n",
    "How to do this:\n",
    "- Clip with a fudge factor, use np.logical_and fudge factor should be d_y = eps * (y_max - y_min), \n",
    "   take all points y_min + d_y < y < y_max - dy\n",
    "- Use np.where to find the first index where y > y_min + d_y (or < y_max - d_y)\n",
    "-    np.where returns a tuple of arrays; use index[0][0] to get the value out\n",
    "-       index[0] gets the array out of the tuple, index[0][0] gets the first element of the array\n",
    "- Then use start:end to get the values out of ts, ys\n",
    "- Reminder that there is a tutorial on np.where in week 2\n",
    "\n",
    "Alternative \"fancy\" approach (requires use of logical and):\n",
    "- Get a boolean array with true where y > y_min + d_y AND y < y_max - d_y\n",
    "- Use the boolean array to index the ts and the ys\n"
   ]
  },
  {
   "cell_type": "code",
   "execution_count": 29,
   "metadata": {
    "tags": []
   },
   "outputs": [
    {
     "name": "stdout",
     "output_type": "stream",
     "text": [
      "Found first value -0.4999999999999998 at index 3, t value 2.0943951023931953\n"
     ]
    }
   ],
   "source": [
    "# EXAMPLE CODE\n",
    "#  Using np.where to find an index in another array\n",
    "#  Using np.logical_and to get \"this and that\"\n",
    "\n",
    "n_data_pts = 10\n",
    "# t values\n",
    "ts_example = np.linspace(0, np.pi * 2, n_data_pts)\n",
    "# Cosine - is negative in the middle\n",
    "ys_example = np.cos(ts_example)\n",
    "\n",
    "# Find the y values that are between -0.1 and -1.0 - ok, we know cosine values don't go below -1, but this is just an example...\n",
    "b_is_below_first_value = ys_example < -0.1     # first condition\n",
    "b_is_above_second_value = ys_example >= -1.0   # second condition\n",
    "b_is_both = np.logical_and(b_is_below_first_value, b_is_above_second_value)  # Does the same thing as the line below\n",
    "b_is_both = b_is_below_first_value & b_is_above_second_value  # Is true only for middle points (check in variable window)\n",
    "res_where = np.where(b_is_both)\n",
    "\n",
    "# Remember that res_where is a tuple - get the first element of the tuple (the indices)\n",
    "res_where_indices = res_where[0]\n",
    "\n",
    "# Now get the *first* index where the condition is true\n",
    "first_index = res_where_indices[0]\n",
    "\n",
    "# Now get the corresponding t value\n",
    "first_t = ts_example[first_index]\n",
    "\n",
    "# Note that for the function you'll do a linear regression and use the slope to find the corresponding t value\n",
    "\n",
    "print(f\"Found first value {ys_example[first_index]} at index {first_index}, t value {first_t}\")"
   ]
  },
  {
   "cell_type": "code",
   "execution_count": 31,
   "metadata": {
    "tags": []
   },
   "outputs": [
    {
     "name": "stdout",
     "output_type": "stream",
     "text": [
      "X values are [0.    0.125 0.25  0.375 0.5   0.625 0.75  0.875 1.   ]\n",
      "Y values are [0.   0.   0.   0.25 0.5  0.75 1.   1.   1.  ]\n"
     ]
    }
   ],
   "source": [
    "# SCRATCH CELL\n",
    "# Write the code here before putting it in the function\n",
    "\n",
    "# This bit of code will test your function with known values - should print out ((0.25, 0.0), (0.75, 1.0))\n",
    "# The index slice to use is 3:6 (the y values 0.25, 0.5, 0.75  and t values of 0.375, 0.5, 0.625)\n",
    "#   Check the indices you get back from np.where - should select the three values that are NOT 0 or 1\n",
    "# Slope is 2.0, intercept is -0.5\n",
    "xs = np.linspace(0, 1, 9)\n",
    "ys = np.array([0, 0, 0, 0.25, 0.5, 0.75, 1, 1, 1])\n",
    "\n",
    "print(f\"X values are {xs}\")\n",
    "print(f\"Y values are {ys}\")\n",
    "\n",
    "# Get the min and max of the ys array\n",
    "# Find the indices you want to fit to using np.where\n",
    "# Do the linear regression with just those data points\n",
    "# Use the y = mx + b equation to find the x value given y is the min (or the max)\n",
    "#   Note: Use y=max and solve for x\n",
    "\n",
    "\n",
    "# Should print out ((0.25, 0.0), (0.75, 1.0))\n"
   ]
  },
  {
   "cell_type": "code",
   "execution_count": 32,
   "metadata": {
    "tags": []
   },
   "outputs": [
    {
     "name": "stdout",
     "output_type": "stream",
     "text": [
      "No clipping: LinregressResult(slope=np.float64(1.2666666666666668), intercept=np.float64(-0.13333333333333341), rvalue=np.float64(0.9621023987294834), pvalue=np.float64(3.361761699194806e-05), stderr=np.float64(0.13569339855976173), intercept_stderr=np.float64(0.08075372450335648))\n",
      "Clipping: LinregressResult(slope=np.float64(2.0), intercept=np.float64(-0.5), rvalue=np.float64(1.0), pvalue=np.float64(9.003163161571059e-11), stderr=np.float64(0.0), intercept_stderr=np.float64(0.0))\n",
      "Error of the clipped version is 0.0\n"
     ]
    }
   ],
   "source": [
    "# SCRATCH CELL TWO\n",
    "# An example of calling linregress and deciphering what it returns\n",
    "\n",
    "res_example_no_clip = linregress(xs, ys)\n",
    "res_example_clip = linregress(xs[3:6], ys[3:6])\n",
    "\n",
    "print(f\"No clipping: {res_example_no_clip}\")\n",
    "print(f\"Clipping: {res_example_clip}\")\n",
    "\n",
    "# TODO: Things to notice about this output\n",
    "#   All of the errors for the clipped version are zero (because the data *is* a line)\n",
    "#   There are multiple error values returned; we'll want the stderr, which is the error of the line fit\n",
    "#   The latest versions of scipy routines return a class, so you can get out the values you want with an\n",
    "#    actual name instead of, eg, res_example_no_clip[3]\n",
    "err_clip = res_example_clip.stderr\n",
    "print(f\"Error of the clipped version is {err_clip}\")"
   ]
  },
  {
   "cell_type": "code",
   "execution_count": 55,
   "metadata": {
    "tags": []
   },
   "outputs": [],
   "source": [
    "def fit_line_to_middle_bit(ts, ys, eps=1e-2):\n",
    "    \"\"\" Fit a line to the sloped middle bit of the data\n",
    "      Return the line as a pair of points, one where the fitted line crosses the y min value, one where the line crosses\n",
    "      the y max value (see slides for picture)\n",
    "    @param ts - the time values for the data (x-axis)\n",
    "    @param ys - the function values (y-axis)\n",
    "    @param eps - a fudge factor for clipping the middle bit (min + eps and max - eps)\n",
    "    @returns (x_min, y_min), (x_max, y_max), std_err  (two tuples and the error of the fit)\"\"\"\n",
    "\n",
    "\n",
    "    # TODO: \n",
    "    #.  Get y min and y max from the data\n",
    "    #.  Use np.where to find the indices of the points that are between\n",
    "    #.    ymin + eps * (ymax - ymin) and ymax - eps * (ymax - ymin)\n",
    "    #   Get out just the data between those two indices (remember that 3:5 gets items 3 and 4, but not 5, use 3:6 to get 3,4,5)\n",
    "    #.  Do a linear regression on just that data\n",
    "    #.  Use the fitted line to get out the corresponding x values for y max and y min\n",
    "    #.   x = (y - intercept) / slope\n",
    "    #  Note: Use y_max and y_min, not the y values from the array, to find the x values\n",
    "    y_min = np.min(ys)\n",
    "    y_max = np.max(ys)\n",
    "\n",
    "\n",
    "    low = y_min+eps*(y_max-y_min)\n",
    "    high = y_max-eps*(y_max-y_min)\n",
    "\n",
    "    middle = np.where((ys >= low)&(ys <= high))\n",
    "\n",
    "    ts_middle = ts[middle]\n",
    "    ys_middle = ys[middle]\n",
    "\n",
    "    slope, intercept, _, _, std_err = linregress(ts_middle, ys_middle)\n",
    "\n",
    "    err_fit = std_err\n",
    "\n",
    "    x_min = (y_min-intercept)/slope\n",
    "    x_max = (y_max-intercept)/slope\n",
    "\n",
    "    return (x_min, y_min), (x_max, y_max), err_fit\n"
   ]
  },
  {
   "cell_type": "code",
   "execution_count": 56,
   "metadata": {
    "tags": []
   },
   "outputs": [
    {
     "name": "stdout",
     "output_type": "stream",
     "text": [
      "((np.float64(0.25), np.float64(0.0)), (np.float64(0.75), np.float64(1.0)), np.float64(0.0))\n"
     ]
    }
   ],
   "source": [
    "# Now call the function with the test values we set up in the scratch cell\n",
    "\n",
    "# Should print out ((0.25, 0.0), (0.75, 1.0), 0.0)\n",
    "#    ymin is zero, ymax is 1, the bit to use goes from 0.25 to 0.75\n",
    "print(f\"{fit_line_to_middle_bit(xs, ys, eps=0.1)}\")\n",
    "\n"
   ]
  },
  {
   "cell_type": "code",
   "execution_count": 57,
   "metadata": {
    "deletable": false,
    "editable": false
   },
   "outputs": [
    {
     "data": {
      "text/html": [
       "<p><strong><pre style='display: inline;'>Fit middle</pre></strong> passed! 🌈</p>"
      ],
      "text/plain": [
       "Fit middle results: All test cases passed!"
      ]
     },
     "execution_count": 57,
     "metadata": {},
     "output_type": "execute_result"
    }
   ],
   "source": [
    "grader.check(\"Fit middle\")"
   ]
  },
  {
   "cell_type": "markdown",
   "metadata": {
    "deletable": false,
    "editable": false
   },
   "source": [
    "## Use the function on some examples\n",
    "\n",
    "Call the function twice to check your results. Reminder that you made t values in the first problem.\n",
    "\n",
    "TODO\n",
    "- Call the **fit_line_to_middle_bits** function twice, once for row 22 and once for row 445\n",
    "\n"
   ]
  },
  {
   "cell_type": "code",
   "execution_count": 62,
   "metadata": {
    "tags": []
   },
   "outputs": [
    {
     "name": "stdout",
     "output_type": "stream",
     "text": [
      "Last time step 1.3\n",
      "Successful: (np.float64(0.2330073115337753), np.float64(179.9599915)) (np.float64(0.46405870605229665), np.float64(329.6480103)) 1.8290933731414798\n",
      "Failed: (np.float64(0.1831183279312589), np.float64(299.9920044)) (np.float64(0.3815053787449148), np.float64(429.8800049)) 3.708489769243218\n"
     ]
    }
   ],
   "source": [
    "# Which rows to use\n",
    "rows_to_use = (22, 445)\n",
    "\n",
    "\n",
    "# rows_to_use[0] (successful) and rows_to_use[1] (unsuccessful)\n",
    "pt_start_successful, pt_end_successful, err_successful = fit_line_to_middle_bit(ts, data_all[rows_to_use[0], :], eps = 1e-2)\n",
    "pt_start_failed, pt_end_failed, err_failed = fit_line_to_middle_bit(ts, data_all[rows_to_use[1], :], eps = 1e-2)\n",
    "\n",
    "print(f\"Last time step {ts[-1]}\")\n",
    "print(f\"Successful: {pt_start_successful} {pt_end_successful} {err_successful}\")\n",
    "print(f\"Failed: {pt_start_failed} {pt_end_failed} {err_failed}\")"
   ]
  },
  {
   "cell_type": "code",
   "execution_count": 63,
   "metadata": {
    "deletable": false,
    "editable": false
   },
   "outputs": [
    {
     "data": {
      "text/html": [
       "<p><strong><pre style='display: inline;'>data_for_each</pre></strong> passed! 🚀</p>"
      ],
      "text/plain": [
       "data_for_each results: All test cases passed!"
      ]
     },
     "execution_count": 63,
     "metadata": {},
     "output_type": "execute_result"
    }
   ],
   "source": [
    "grader.check(\"data_for_each\")"
   ]
  },
  {
   "cell_type": "markdown",
   "metadata": {
    "deletable": false,
    "editable": false
   },
   "source": [
    "# Plot the results\n",
    "\n",
    "Plot the successful data on the left, the failed on the right.\n",
    "\n",
    "For each plot, plot the data, the fitted line, and red X's for the start/stop end points of the line (see slides)\n",
    "\n",
    "For the title: Put the error (rounded to two digits) in the title"
   ]
  },
  {
   "cell_type": "code",
   "execution_count": 70,
   "metadata": {
    "tags": []
   },
   "outputs": [
    {
     "data": {
      "image/png": "[encoded data removed]",
      "text/plain": [
       "<Figure size 800x200 with 2 Axes>"
      ]
     },
     "metadata": {},
     "output_type": "display_data"
    }
   ],
   "source": [
    "n_rows = 1\n",
    "n_cols = 2\n",
    "fig2, axs2 = plt.subplots(n_rows, n_cols, figsize=(8, 2))\n",
    "\n",
    "\n",
    "# TODO Plot original data and fitted line (see slides)\n",
    "#  TODO: Put the end time value and error in the title\n",
    "axs2[0].plot(ts, data_all[rows_to_use[0], :])\n",
    "axs2[0].set_title(f'Row {rows_to_use[0]}')\n",
    "axs2[0].set_ylabel('Effort')\n",
    "axs2[0].set_xlabel('t(sec)')\n",
    "\n",
    "axs2[1].plot(ts, data_all[rows_to_use[0], :])\n",
    "\n",
    "\n",
    "\n",
    "plt.tight_layout()\n"
   ]
  },
  {
   "cell_type": "code",
   "execution_count": null,
   "metadata": {
    "deletable": false,
    "editable": false
   },
   "outputs": [],
   "source": [
    "grader.check(\"Plot\")"
   ]
  },
  {
   "cell_type": "markdown",
   "metadata": {
    "deletable": false,
    "editable": false
   },
   "source": [
    "## Hours and collaborators\n",
    "Required for every assignment - fill out before you hand-in.\n",
    "\n",
    "Listing names and websites helps you to document who you worked with and what internet help you received in the case of any plagiarism issues. You should list names of anyone (in class or not) who has substantially helped you with an assignment - or anyone you have *helped*. You do not need to list TAs.\n",
    "\n",
    "Listing hours helps us track if the assignments are too long."
   ]
  },
  {
   "cell_type": "code",
   "execution_count": null,
   "metadata": {
    "tags": []
   },
   "outputs": [],
   "source": [
    "\n",
    "# List of names (creates a set)\n",
    "worked_with_names = {\"not filled out\"}\n",
    "# List of URLS I25 (creates a set)\n",
    "websites = {\"not filled out\"}\n",
    "# Approximate number of hours, including lab/in-class time\n",
    "hours = -1.5"
   ]
  },
  {
   "cell_type": "code",
   "execution_count": null,
   "metadata": {
    "deletable": false,
    "editable": false
   },
   "outputs": [],
   "source": [
    "grader.check(\"hours_collaborators\")"
   ]
  },
  {
   "cell_type": "markdown",
   "metadata": {},
   "source": [
    "### To submit\n",
    "\n",
    "- Do a restart then run all to make sure everything runs ok and that the plots are showing\n",
    "- Save the file (no black dot to the right of the name)\n",
    "- Submit just this .ipynb file through gradescope, Lecture activity 4, fitting\n",
    "- You do NOT need to submit the data file - we will supply it\n",
    "- Where there are given variable/file names (eg, foo = ...) DON'T change those, or the autograder will fail\n",
    "\n",
    "If the Gradescope autograder fails, please check here first for common reasons for it to fail\n",
    "    https://docs.google.com/presentation/d/1tYa5oycUiG4YhXUq5vHvPOpWJ4k_xUPp2rUNIL7Q9RI/edit?usp=sharing\n",
    "\n",
    "Most likely failure for this assignment is not naming the data directory and files correctly; capitalization matters for the Gradescope grader. \n",
    "\n",
    "Second most likely cause for failure is reading in any files but Data/Motor position f1.csv. (Make sure when you copied your code over you didn't accidentally include code that reads in other files).\n",
    "\n",
    "Third most likely cause is re-using the variable names used by the autograder (eg, reusing ts = )\n"
   ]
  }
 ],
 "metadata": {
  "kernelspec": {
   "display_name": "Python 3",
   "language": "python",
   "name": "python3"
  },
  "language_info": {
   "codemirror_mode": {
    "name": "ipython",
    "version": 3
   },
   "file_extension": ".py",
   "mimetype": "text/x-python",
   "name": "python",
   "nbconvert_exporter": "python",
   "pygments_lexer": "ipython3",
   "version": "3.12.7"
  },
  "otter": {
   "OK_FORMAT": true,
   "tests": {
    "Fit middle": {
     "name": "Fit middle",
     "points": 2,
     "suites": [
      {
       "cases": [
        {
         "code": ">>> assert fit_line_to_middle_bit(np.linspace(0, 1, 9), np.array([0, 0, 0, 0.25, 0.5, 0.75, 1, 1, 1]), eps=0.001) == ((0.25, 0.0), (0.75, 1.0), 0.0)\n",
         "hidden": false,
         "locked": false
        }
       ],
       "scored": true,
       "setup": "",
       "teardown": "",
       "type": "doctest"
      }
     ]
    },
    "Plot": {
     "name": "Plot",
     "points": 1,
     "suites": [
      {
       "cases": [
        {
         "code": ">>> assert len(axs2[0].lines) == 3 and len(axs2[1].lines) == 3\n",
         "hidden": false,
         "locked": false
        },
        {
         "code": ">>> assert '1.8' in axs2[0].get_title()\n",
         "hidden": false,
         "locked": false
        },
        {
         "code": ">>> assert '3.7' in axs2[1].get_title()\n",
         "hidden": false,
         "locked": false
        }
       ],
       "scored": true,
       "setup": "",
       "teardown": "",
       "type": "doctest"
      }
     ]
    },
    "Read data": {
     "name": "Read data",
     "points": 1,
     "suites": [
      {
       "cases": [
        {
         "code": ">>> assert data_all.shape == (660, 40)\n",
         "hidden": false,
         "locked": false
        },
        {
         "code": ">>> assert ts[0] == 0\n",
         "hidden": false,
         "locked": false
        },
        {
         "code": ">>> assert ts[-1] == (data_all.shape[1] - 1) * time_step\n",
         "hidden": false,
         "locked": false
        },
        {
         "code": ">>> assert ts.size == data_all.shape[1]\n",
         "hidden": false,
         "locked": false
        }
       ],
       "scored": true,
       "setup": "",
       "teardown": "",
       "type": "doctest"
      }
     ]
    },
    "data_for_each": {
     "name": "data_for_each",
     "points": 2,
     "suites": [
      {
       "cases": [
        {
         "code": ">>> assert np.all(np.isclose(pt_start_successful, (0.2330073115337753, 179.9599915), rtol=0.1))\n",
         "hidden": false,
         "locked": false
        },
        {
         "code": ">>> assert np.all(np.isclose(pt_end_successful, (0.46405870605229665, 329.6480103), rtol=0.1))\n",
         "hidden": false,
         "locked": false
        },
        {
         "code": ">>> assert np.isclose(err_successful, 1.8290933731414798, rtol=0.1)\n",
         "hidden": false,
         "locked": false
        },
        {
         "code": ">>> assert np.all(np.isclose(pt_start_failed, (0.1831183279312589, 299.9920044), rtol=0.1))\n",
         "hidden": false,
         "locked": false
        },
        {
         "code": ">>> assert np.all(np.isclose(pt_end_failed, (0.3815053787449148, 429.8800049), rtol=0.1))\n",
         "hidden": false,
         "locked": false
        },
        {
         "code": ">>> assert np.isclose(err_failed, 3.708489769243218, atol=0.1)\n",
         "hidden": false,
         "locked": false
        }
       ],
       "scored": true,
       "setup": "",
       "teardown": "",
       "type": "doctest"
      }
     ]
    },
    "hours_collaborators": {
     "name": "hours_collaborators",
     "points": 1,
     "suites": [
      {
       "cases": [
        {
         "code": ">>> assert not 'not filled out' in worked_with_names\n",
         "hidden": false,
         "locked": false
        },
        {
         "code": ">>> assert not 'not filled out' in websites\n",
         "hidden": false,
         "locked": false
        },
        {
         "code": ">>> assert hours > 0\n",
         "hidden": false,
         "locked": false
        }
       ],
       "scored": true,
       "setup": "",
       "teardown": "",
       "type": "doctest"
      }
     ]
    }
   }
  }
 },
 "nbformat": 4,
 "nbformat_minor": 2
}
