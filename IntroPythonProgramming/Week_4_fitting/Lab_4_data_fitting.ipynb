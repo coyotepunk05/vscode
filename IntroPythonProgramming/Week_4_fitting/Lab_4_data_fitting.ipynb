{
 "cells": [
  {
   "cell_type": "code",
   "execution_count": null,
   "metadata": {
    "deletable": false,
    "editable": false
   },
   "outputs": [],
   "source": [
    "# Initialize Otter\n",
    "import otter\n",
    "grader = otter.Notebook(\"Lab_4_data_fitting.ipynb\")"
   ]
  },
  {
   "cell_type": "markdown",
   "metadata": {},
   "source": [
    "# Lab week 4: Data fitting to see if we can detect a grasp success y/n\n",
    "\n",
    "Can you use the finger 1 stop time and max value to tell the difference between a successful and a failed grasp?\n",
    "\n",
    "Lab slides: https://docs.google.com/presentation/d/1NtoXYbl2nq1dkIU0KQE8ogjSCfb22wgLigY3JJpHHGI/edit?usp=sharing\n"
   ]
  },
  {
   "cell_type": "code",
   "execution_count": null,
   "metadata": {},
   "outputs": [],
   "source": [
    "# Install a pip package in the current Jupyter kernel\n",
    "# Note: this is a safety check in case your JN install was not in the same place as your libraries\n",
    "import sys\n",
    "!{sys.executable} -m pip install scipy"
   ]
  },
  {
   "cell_type": "code",
   "execution_count": null,
   "metadata": {},
   "outputs": [],
   "source": [
    "# Doing the imports for you\n",
    "import numpy as np\n",
    "import json as json\n",
    "from scipy.stats import linregress\n",
    "import matplotlib.pyplot as plt\n",
    "from numpy.polynomial import polynomial"
   ]
  },
  {
   "cell_type": "markdown",
   "metadata": {
    "deletable": false,
    "editable": false
   },
   "source": [
    "## Read the data in "
   ]
  },
  {
   "cell_type": "code",
   "execution_count": null,
   "metadata": {
    "tags": []
   },
   "outputs": [],
   "source": [
    "# TODO: Read the same data in as for the lecture activity and put it in the data_motor_position variable and make\n",
    "#   your ts values\n",
    "\n",
    "time_step = 1/30\n",
    "\n",
    "\n",
    "data_motor_position = ...  # Motor position f1.csv\n",
    "ts = ...\n",
    "\n",
    "# "
   ]
  },
  {
   "cell_type": "code",
   "execution_count": null,
   "metadata": {
    "deletable": false,
    "editable": false
   },
   "outputs": [],
   "source": [
    "grader.check(\"Read data\")"
   ]
  },
  {
   "cell_type": "markdown",
   "metadata": {
    "deletable": false,
    "editable": false
   },
   "source": [
    "## Box plot of fitted lines for all data\n",
    "\n",
    "In the lecture activity you fit a line to just one row (each) of the successful versus failed grasps. In this lab you'll fit the line to ALL of the grasps. For each grasp, save the end point (time at the **y_max** value and the **y_max** value and the error of the fit). You'll be making a box plot of this data to see if either look different for successful versus failed grasps.\n",
    "\n",
    "Why a box plot? Box plots are better for visually showing multiple distributions in the same plot, where they can be compared side-by-side.\n",
    "\n",
    "See lab slides for what this should look like when you're done."
   ]
  },
  {
   "cell_type": "code",
   "execution_count": null,
   "metadata": {
    "tags": []
   },
   "outputs": [],
   "source": [
    "# TODO: Copy over fit_line_to_middle from the lecture activity"
   ]
  },
  {
   "cell_type": "code",
   "execution_count": null,
   "metadata": {
    "tags": []
   },
   "outputs": [],
   "source": [
    "# TEST CELL\n",
    "# TODO: Check that it works\n"
   ]
  },
  {
   "cell_type": "code",
   "execution_count": null,
   "metadata": {
    "tags": []
   },
   "outputs": [],
   "source": [
    "# EXAMPLE CODE\n",
    "# This bit of code shows how to do the nx2 array part\n",
    "\n",
    "# Make the nx2 array - one row for each element\n",
    "np_array_for_res = np.zeros((data_motor_position.shape[0], 2))\n",
    "# For each row\n",
    "for row in range(0, data_motor_position.shape[0]):\n",
    "    # Put the min value in the first column, the max in the second\n",
    "    np_array_for_res[row, 0] = np.min(data_motor_position[row, :])    \n",
    "    np_array_for_res[row, 1] = np.max(data_motor_position[row, :])\n",
    "\n",
    "    # This also works\n",
    "    min_value = np.min(data_motor_position[row, :]) \n",
    "    max_value = np.max(data_motor_position[row, :])\n",
    "    np_array_for_res[row, :] = [min_value, max_value]\n",
    "\n",
    "print(np_array_for_res)"
   ]
  },
  {
   "cell_type": "code",
   "execution_count": null,
   "metadata": {
    "tags": []
   },
   "outputs": [],
   "source": [
    "def fit_middle_all(ts, data):\n",
    "    \"\"\" Fit the middle for every row of data\n",
    "    @param ts - the t values to use\n",
    "    @param data - n picks X timesteps\n",
    "    @returns all end times, max values, and errors as one numpy array (n rows X 3)\"\"\"\n",
    "\n",
    "\n",
    "    # TODO:\n",
    "    #.    make numpy array to put data in (nx3)\n",
    "    #.    for each row in data\n",
    "    #.       start_pt, end_pt, err_fit = fit_line_to_middle_bit(ts, current row)\n",
    "    #        copy end_pt and err_fit information into appropriate row in nx3 output\n",
    "    #. return nx3 numpy array\n",
    "    ..."
   ]
  },
  {
   "cell_type": "code",
   "execution_count": null,
   "metadata": {
    "tags": []
   },
   "outputs": [],
   "source": [
    "# TEST CELL\n",
    "# Write the code to call the function here\n",
    "\n",
    "# The successful rows go from 0 to 354\n",
    "last_row_successful = 355\n",
    "\n",
    "# The unsuccessful rows are the remaining ones\n",
    "\n",
    "\n",
    "# TODO:\n",
    "#. Call your function twice, once with the successful data, once with the failed\n",
    "fit_data_successful = ...\n",
    "fit_data_failed = ...\n",
    "\n",
    "# Note for both of these: Small changes in how you index can result in slightly different numbers,\n",
    "#  but the overall magnitude should be correct\n",
    "\n",
    "# Note: Doing np.mean(nx3 array, 0) tells numpy to do the mean over each column (instead of the mean\n",
    "#  over the entire nx3 array). So it should return 3 numbers - the mean of the times, the mean\n",
    "#  of the max y values, and the mean of the fit error\n",
    "\n",
    "# Should print the following, although the actual decimal places may differ\n",
    "#  Mean successful [3.98791579e-01 4.07402569e+02 4.21582062e+00] and failed [  0.40810473 392.76044707   5.51566179]\n",
    "print(f\"Mean successful {np.mean(fit_data_successful, 0)} and failed {np.mean(fit_data_failed, 0)}\")"
   ]
  },
  {
   "cell_type": "code",
   "execution_count": null,
   "metadata": {
    "deletable": false,
    "editable": false
   },
   "outputs": [],
   "source": [
    "grader.check(\"Fitted_line_code\")"
   ]
  },
  {
   "cell_type": "markdown",
   "metadata": {
    "deletable": false,
    "editable": false
   },
   "source": [
    "<!-- BEGIN QUESTION -->\n",
    "\n",
    "## Do the box plots\n",
    "\n",
    "- Left window: t values of y_max point (the first column of fit_data_*)\n",
    "\n",
    "- Middle window: y_max values (the second column of fit_data_*)\n",
    "\n",
    "- Right window: fit error values (the third column of fit_data_*)\n",
    "\n",
    "Note that boxplot uses labels for labeling the x axis of the box plot.\n",
    "\n",
    "Implementation order: for plotting, try calling box plot with just one column of data. Then add the second. "
   ]
  },
  {
   "cell_type": "code",
   "execution_count": null,
   "metadata": {
    "tags": []
   },
   "outputs": [],
   "source": [
    "# Three plots\n",
    "n_rows = 1\n",
    "n_cols = 3\n",
    "fig, axs = plt.subplots(n_rows, n_cols, figsize=(8, 3))\n",
    "\n",
    "...\n",
    "\n",
    "# Do the box plots..."
   ]
  },
  {
   "cell_type": "code",
   "execution_count": null,
   "metadata": {
    "tags": []
   },
   "outputs": [],
   "source": [
    "# Manual grade\n",
    "print(\"This is a manually-graded question; there is no grader.check() function. See rubric and slides for more information on expected output.\")"
   ]
  },
  {
   "cell_type": "markdown",
   "metadata": {
    "deletable": false,
    "editable": false
   },
   "source": [
    "<!-- END QUESTION -->\n",
    "\n",
    "# Part 2: Fitting a curve to the wrist force data\n",
    "\n",
    "## First step: Getting the data\n",
    "\n",
    "Along with the motor data we also have force data at the wrist. The wrist force data has three channels (x,y,z). For this assignment, we want to get out the total magnitude of the force at the wrist, rather than the force in each direction individually:\n",
    "\n",
    "Equation: **sqrt (sum x,y,z (wrist force data)^2)**\n",
    "\n",
    "The data is stored in **Wrist_force_data.csv** in the Data directory. "
   ]
  },
  {
   "cell_type": "code",
   "execution_count": null,
   "metadata": {
    "tags": []
   },
   "outputs": [],
   "source": [
    "\n",
    "# TODO: Read in the data; should be 660 x 120 (x,y,z data for 40 time steps)\n",
    "data_wrist_force_xyz = ...\n"
   ]
  },
  {
   "cell_type": "code",
   "execution_count": null,
   "metadata": {
    "tags": []
   },
   "outputs": [],
   "source": [
    "# TODO: Calculate the total force (see equation above)\n",
    "\n",
    "# TODO: Calculate the magnitude of the force\n",
    "data_wrist_force_magnitude = ...\n",
    "\n",
    "assert data_wrist_force_magnitude.shape == (660, 40)\n",
    "assert np.isclose(data_wrist_force_magnitude[0, 0], 6.5389367, atol=0.001)\n",
    "assert np.isclose(np.max(data_wrist_force_magnitude), 20.46059305836466, atol=0.001)"
   ]
  },
  {
   "cell_type": "code",
   "execution_count": null,
   "metadata": {
    "tags": []
   },
   "outputs": [],
   "source": [
    "# Plot a few of the rows to see what the data looks like\n",
    "n_rows = 1\n",
    "n_cols = 4\n",
    "fig, axs = plt.subplots(n_rows, n_cols, figsize=(8, 2))\n",
    "\n",
    "\n",
    "# TODO Pick 4 examples to plot. Use your ts values from above. You do not need to\n",
    "#   use the ones from the slides, but you should but the example number in the title\n",
    "# Don't forget to label the x and y axes\n",
    "plt.tight_layout()"
   ]
  },
  {
   "cell_type": "code",
   "execution_count": null,
   "metadata": {
    "deletable": false,
    "editable": false
   },
   "outputs": [],
   "source": [
    "grader.check(\"Fit_curve\")"
   ]
  },
  {
   "cell_type": "markdown",
   "metadata": {},
   "source": [
    "## Write a function to fit a polynomial to one row of the data\n",
    "\n",
    "Since we aren't sure what a \"good\" polynomial fit might be, make that a parameter"
   ]
  },
  {
   "cell_type": "code",
   "execution_count": null,
   "metadata": {
    "tags": []
   },
   "outputs": [],
   "source": [
    "def fit_poly(ts, data, deg):\n",
    "    \"\"\" Fit a polynomial to the data\n",
    "    @param ts - the x values\n",
    "    @param data - the y values\n",
    "    @param degree of the polynomial. Should be an integer\n",
    "    @return a list of polynomial coefficients (see polynomial.polyfit)\"\"\"\n",
    "    ... # Call polynomial.polyfit\n"
   ]
  },
  {
   "cell_type": "code",
   "execution_count": null,
   "metadata": {
    "tags": []
   },
   "outputs": [],
   "source": [
    "# Test\n",
    "\n",
    "check_poly = fit_poly(ts, data_wrist_force_magnitude[10], deg=2)\n",
    "\n",
    "\n",
    "assert np.all(np.isclose(check_poly, [10.0970104, -13.91458045, 10.73089215], atol=0.01))"
   ]
  },
  {
   "cell_type": "code",
   "execution_count": null,
   "metadata": {
    "deletable": false,
    "editable": false
   },
   "outputs": [],
   "source": [
    "grader.check(\"fit_cubic\")"
   ]
  },
  {
   "cell_type": "markdown",
   "metadata": {
    "deletable": false,
    "editable": false
   },
   "source": [
    "<!-- BEGIN QUESTION -->\n",
    "\n",
    "## Check the fit\n",
    "\n",
    "It's not always clear what a \"good\" fit is. In this part of the code we'll plot a rset of examples, with increasing degrees of polynomials.\n",
    "\n",
    "Sometimes you just want to plot some examples but don't really care which ones; this problem also has a solution to the \"I have space for n plots, I want to skip over some of the data\" problem"
   ]
  },
  {
   "cell_type": "code",
   "execution_count": null,
   "metadata": {
    "tags": []
   },
   "outputs": [],
   "source": [
    "# EXAMPLE CODE - row column indexing, how to put n things into a grid\n",
    "\n",
    "# If you have n things, and you want to put them in r rows, first figure out how many columns you'll need\n",
    "#  Integer division: \n",
    "#    n // r  gives the number of times r can go into n\n",
    "#    n % r gives the left over - it is always in the range 0 to n-1\n",
    "n = 15\n",
    "r = 4\n",
    "c = n // r  # this gives the floor of n / r, which in this case will be 15/4 is 3\n",
    "if n % r != 0:  # % is modulus - unless r goes exactly into n we need to add a bit (some of the last columns will be empty)\n",
    "    c += 1   # Make c one bigger\n",
    "\n",
    "# Go through all of n\n",
    "for i in range(0, n):\n",
    "    row = i // r   # Which row we're on\n",
    "    col = i % r    # Which column we're on\n",
    "    end_str = \" \"       # Use a space at the end of the pring\n",
    "    if col == r-1:\n",
    "        end_str = \"\\n\"  # ... except at the end of the row\n",
    "    print(f\"n{i}r{row}c{col} \", end=end_str)  # No return\n"
   ]
  },
  {
   "cell_type": "code",
   "execution_count": null,
   "metadata": {
    "tags": []
   },
   "outputs": [],
   "source": [
    "# EXAMPLE CODE - zip\n",
    "# These two pieces of code do the same thing\n",
    "a_str = (\"foo\", \"bar\")\n",
    "b_number = (3, 10)\n",
    "for i in range(len(a_str)):\n",
    "    a = a_str[i]\n",
    "    b = b_number[i]\n",
    "    print(f\"Loop iteration {i} has {a} and {b}\")\n",
    "\n",
    "# Look, no i!\n",
    "for a, b in zip(a_str, b_number):\n",
    "    print(f\"Loop iteration... um... has {a} and {b}\")"
   ]
  },
  {
   "cell_type": "code",
   "execution_count": null,
   "metadata": {
    "tags": []
   },
   "outputs": [],
   "source": [
    "# SCRATCH CELL\n",
    "# Practice the plot for one row of data"
   ]
  },
  {
   "cell_type": "code",
   "execution_count": null,
   "metadata": {
    "tags": []
   },
   "outputs": [],
   "source": [
    "# Note: This code will all work even if you change the number of rows/columns\n",
    "n_rows = 4\n",
    "n_cols = 6\n",
    "fig, axs = plt.subplots(n_rows, n_cols, figsize=(n_cols * 3, n_rows * 3))\n",
    "\n",
    "n_total_plots = n_rows * n_cols\n",
    "# take every nth\n",
    "n_skip = data_wrist_force_magnitude.shape[0] // n_total_plots\n",
    "\n",
    "color_deg = (\"maroon\", \"steelblue\", \"olivedrab\")\n",
    "deg_fit = (1, 3, 6)\n",
    "lstyle = ('dashed', 'dotted', 'dashdot')\n",
    "# This loops over the total number of plots we can fit\n",
    "for i in range(0, n_total_plots):\n",
    "    # Yes, this works - it's the same as doing r = row_offset + p // ncols on one line,\n",
    "    #   and c = p % n_cols on the second line\n",
    "    r, c = i // n_cols, i % n_cols\n",
    "    data_row_indx = i * n_skip\n",
    "\n",
    "    # Plot 4 things in this figure:\n",
    "    #   the original data (in black)\n",
    "    #   polynomial fits of degree 1, 3, 6\n",
    "    # Note: use axs[r, c]\n",
    "    # Note 2: The data row you want is in data_row_indx...\n",
    "    # Note 3: Use polynomial.polyval(ts, ret_poly) to create y values for your t values\n",
    "    ...\n",
    "\n",
    "plt.tight_layout()"
   ]
  },
  {
   "cell_type": "code",
   "execution_count": null,
   "metadata": {
    "tags": []
   },
   "outputs": [],
   "source": [
    "# Manual grade\n",
    "print(\"This is a manually-graded question; there is no grader.check() function. See rubric and slides for more information on expected output.\")"
   ]
  },
  {
   "cell_type": "markdown",
   "metadata": {
    "deletable": false,
    "editable": false
   },
   "source": [
    "<!-- END QUESTION -->\n",
    "\n",
    "## Hours and collaborators\n",
    "Required for every assignment - fill out before you hand-in.\n",
    "\n",
    "Listing names and websites helps you to document who you worked with and what internet help you received in the case of any plagiarism issues. You should list names of anyone (in class or not) who has substantially helped you with an assignment - or anyone you have *helped*. You do not need to list TAs.\n",
    "\n",
    "Listing hours helps us track if the assignments are too long."
   ]
  },
  {
   "cell_type": "code",
   "execution_count": null,
   "metadata": {
    "tags": []
   },
   "outputs": [],
   "source": [
    "\n",
    "# List of names (creates a set)\n",
    "worked_with_names = {\"not filled out\"}\n",
    "# List of URLS I25 (creates a set)\n",
    "websites = {\"not filled out\"}\n",
    "# Approximate number of hours, including lab/in-class time\n",
    "hours = -1.5"
   ]
  },
  {
   "cell_type": "code",
   "execution_count": null,
   "metadata": {
    "deletable": false,
    "editable": false
   },
   "outputs": [],
   "source": [
    "grader.check(\"hours_collaborators\")"
   ]
  },
  {
   "cell_type": "markdown",
   "metadata": {},
   "source": [
    "### To submit\n",
    "\n",
    "- Do a restart then run all to make sure everything runs ok and the plots are showing\n",
    "- Save the file\n",
    "- Submit just this .ipynb file through gradescope, Lab 4, fitting\n",
    "- You do NOT need to submit the data files - we will supply those\n",
    "- Where there are given variable/file names (eg, foo = ...) DON'T change those, or the autograder will fail\n",
    "\n",
    "If the Gradescope autograder fails, please check here first for common reasons for it to fail\n",
    "    https://docs.google.com/presentation/d/1tYa5oycUiG4YhXUq5vHvPOpWJ4k_xUPp2rUNIL7Q9RI/edit?usp=sharing\n",
    "\n",
    "Most likely failure for this assignment is not naming the data directory and files correctly; capitalization matters for the Gradescope grader. \n",
    "\n",
    "A gentle reminder that you should NOT be copying and pasting code (let alone sending files) to other people in the class."
   ]
  }
 ],
 "metadata": {
  "kernelspec": {
   "display_name": "base",
   "language": "python",
   "name": "python3"
  },
  "language_info": {
   "codemirror_mode": {
    "name": "ipython",
    "version": 3
   },
   "file_extension": ".py",
   "mimetype": "text/x-python",
   "name": "python",
   "nbconvert_exporter": "python",
   "pygments_lexer": "ipython3",
   "version": "3.11.7"
  },
  "otter": {
   "OK_FORMAT": true,
   "tests": {
    "Fit_curve": {
     "name": "Fit_curve",
     "points": 2,
     "suites": [
      {
       "cases": [
        {
         "code": ">>> assert data_wrist_force_xyz.shape[0] == 660\n",
         "hidden": false,
         "locked": false
        },
        {
         "code": ">>> assert data_wrist_force_xyz.shape[1] == 120\n",
         "hidden": false,
         "locked": false
        },
        {
         "code": ">>> assert np.isclose(np.max(data_wrist_force_xyz), 20.03, atol=0.1)\n",
         "hidden": false,
         "locked": false
        },
        {
         "code": ">>> assert data_wrist_force_magnitude.shape == (660, 40)\n",
         "hidden": false,
         "locked": false
        },
        {
         "code": ">>> assert np.isclose(data_wrist_force_magnitude[0, 0], 6.5389367, atol=0.001)\n",
         "hidden": false,
         "locked": false
        },
        {
         "code": ">>> assert np.isclose(np.max(data_wrist_force_magnitude), 20.46059305836466, atol=0.001)\n",
         "hidden": false,
         "locked": false
        }
       ],
       "scored": true,
       "setup": "",
       "teardown": "",
       "type": "doctest"
      }
     ]
    },
    "Fitted_line_code": {
     "name": "Fitted_line_code",
     "points": 2,
     "suites": [
      {
       "cases": [
        {
         "code": ">>> assert np.all(np.isclose(np.mean(fit_data_successful, 0), [0.398791579, 407.402569, 4.21582062], rtol=0.1))\n",
         "hidden": false,
         "locked": false
        },
        {
         "code": ">>> assert np.all(np.isclose(np.mean(fit_data_failed, 0), [0.40810473, 392.76044707, 5.51566179], rtol=0.1))\n",
         "hidden": false,
         "locked": false
        }
       ],
       "scored": true,
       "setup": "",
       "teardown": "",
       "type": "doctest"
      }
     ]
    },
    "Read data": {
     "name": "Read data",
     "points": 1,
     "suites": [
      {
       "cases": [
        {
         "code": ">>> assert data_motor_position.shape == (660, 40) and ts.size == 40\n",
         "hidden": false,
         "locked": false
        }
       ],
       "scored": true,
       "setup": "",
       "teardown": "",
       "type": "doctest"
      }
     ]
    },
    "fit_cubic": {
     "name": "fit_cubic",
     "points": 3,
     "suites": [
      {
       "cases": [
        {
         "code": ">>> assert np.all(np.isclose(check_poly, [10.0970104, -13.91458045, 10.73089215], atol=0.01))\n",
         "hidden": false,
         "locked": false
        }
       ],
       "scored": true,
       "setup": "",
       "teardown": "",
       "type": "doctest"
      }
     ]
    },
    "hours_collaborators": {
     "name": "hours_collaborators",
     "points": 1,
     "suites": [
      {
       "cases": [
        {
         "code": ">>> assert not 'not filled out' in worked_with_names\n",
         "hidden": false,
         "locked": false
        },
        {
         "code": ">>> assert not 'not filled out' in websites\n",
         "hidden": false,
         "locked": false
        },
        {
         "code": ">>> assert hours > 0\n",
         "hidden": false,
         "locked": false
        }
       ],
       "scored": true,
       "setup": "",
       "teardown": "",
       "type": "doctest"
      }
     ]
    }
   }
  }
 },
 "nbformat": 4,
 "nbformat_minor": 2
}
