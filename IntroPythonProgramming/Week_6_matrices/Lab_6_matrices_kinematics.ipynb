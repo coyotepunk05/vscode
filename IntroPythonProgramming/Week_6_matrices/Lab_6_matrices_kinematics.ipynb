{
 "cells": [
  {
   "cell_type": "code",
   "execution_count": 1,
   "metadata": {
    "deletable": false,
    "editable": false
   },
   "outputs": [],
   "source": [
    "# Initialize Otter\n",
    "import otter\n",
    "grader = otter.Notebook(\"Lab_6_matrices_kinematics.ipynb\")"
   ]
  },
  {
   "cell_type": "markdown",
   "metadata": {},
   "source": [
    "# Using matrices to position parts of a robot arm\n",
    "\n",
    "The goal of this part of the assignment is to use matrices to position a robot arm in space. In the lab we'll just\n",
    "position each component independently and rotate them by angles. In the homework we'll pose all of the links.\n",
    "\n",
    "\n",
    "Slides: https://docs.google.com/presentation/d/1Ut5RnIKU8DF8k_joGXp4tJ1FzBKNIX8JYRE9wkIP_qE/edit?\n",
    "\n",
    "Moving from the lecture activity to the lab:\n",
    "- Each component of the arm is stored as an instance of a class (sort of a glorified dictionary). These will be put into a list in the homework\n",
    "- The points for the objects are stored in the class - check out the __init__ routine in arm_component.py  \n",
    "- The class stores the points, the matrix_shape_X and matrix_pose_X matrices from the lecture activity, and some additional stuff (name, color, lengths, angles)\n",
    "- The plot routine in ArmComponent.py can plot either JUST the shaped points or the shaped points moved by the pose matrix"
   ]
  },
  {
   "cell_type": "markdown",
   "metadata": {
    "vscode": {
     "languageId": "raw"
    }
   },
   "source": [
    "## More info\n",
    "\n",
    "Use a matrix to take two basic shapes (a square and a wedge) and re-shape them into the geometry for the arm, gripper.\n",
    "\n",
    "Yes, you could just create these basic shapes with the \"correct\" XYs, but we'll use a matrix to transform the\n",
    "basic shape (square, wedge) to the correct size and shape. This way, we only have to make a square and a wedge and then just use matrices to shape them.\n",
    "\n",
    "This is actually what most packages (eg, solidworks) do when you make a model. Each part of the model is defined in a \"canonical\" location, then transformed to the desired position/scale/rotation using a matarix. This is\n",
    " *before* calculating the matrix that positions the part based on the, eg, joint angles\n",
    "\n",
    "For all of the shaping, you should be creating a matrix that consists of a scale followed by a rotate (maybe) followed by a translate\n",
    "\n",
    "See slides for what the resulting re-positioned shapes look like; there is a plot function for each to check, as well as a numerical check on the matrix. You can do these checks here OR do them directly in arm_components.py\n",
    "\n",
    "Note that the TODOs in arm_components are also labeled with a STEP 1 etc so you can find them easier\n",
    "\n",
    "TODO step 1: Copy your code to make the square points into **points_in_a_square** in **arm_component.py** (the wedge is done for you).\n",
    "\n",
    "TODO step 2: Edit **matrix_shape_base, matrix_shape_link, matrix_shape_palm, and matrix_shape_finger**. Don't forget to edit the methods to return the matrices\n",
    "\n",
    "TODO step 3: Edit **matrix_shape_base, matrix_shape_link, matrix_shape_palm, and matrix_shape_finger**. Don't forget to edit the methods to return the matrices\n",
    "\n",
    "TODO step 4: Check that you can set a pose matrix for each shape\n",
    "\n",
    "These functions do the equivalent of what we did with **mmatrix_shape_** in the lecture activity."
   ]
  },
  {
   "cell_type": "code",
   "execution_count": 2,
   "metadata": {},
   "outputs": [],
   "source": [
    "# The usual imports\n",
    "import numpy as np\n",
    "import matplotlib.pyplot as plt\n",
    "\n",
    "# These are the routines used in the lecture activity - we'll re-use them here\n",
    "import matrix_routines as mt\n",
    "\n",
    "# Print all matrices/floating point data with 4 decimal places\n",
    "np.set_printoptions(formatter={'float': lambda x: \"{0:0.4f}\".format(x)})\n"
   ]
  },
  {
   "cell_type": "code",
   "execution_count": 3,
   "metadata": {},
   "outputs": [],
   "source": [
    "# This is the class you'll edit for the lab. You can edit (and check) them in the.py by executing arm_component.py OR write\n",
    "#  the code here (with checks) then copy the code into the .py file\n",
    "from arm_component import ArmComponent"
   ]
  },
  {
   "cell_type": "code",
   "execution_count": 4,
   "metadata": {},
   "outputs": [],
   "source": [
    "# These commands will force JN to actually re-load the external file when you re-execute the import command\n",
    "%load_ext autoreload\n",
    "%autoreload 2"
   ]
  },
  {
   "cell_type": "markdown",
   "metadata": {},
   "source": [
    "## Step 1: points in a square\n",
    "\n",
    "TODO: Take the code you wrote in lecture activity to make a square and put it in the **points_in_a_square** method in **arm_components.py**. See **points_in_a_wedge** in the same file to see what this looks like"
   ]
  },
  {
   "cell_type": "code",
   "execution_count": 5,
   "metadata": {
    "tags": []
   },
   "outputs": [],
   "source": [
    "# Once you've copied your code over, and re-run the import line above and this should work\n",
    "#   NOTE: Doing Run all will also do the import again and will save you scrolling up and down\n",
    "\n",
    "pts_in_a_square = ArmComponent.points_in_a_square()"
   ]
  },
  {
   "cell_type": "code",
   "execution_count": 6,
   "metadata": {
    "deletable": false,
    "editable": false
   },
   "outputs": [
    {
     "data": {
      "text/html": [
       "<p><strong><pre style='display: inline;'>square_points</pre></strong> passed! 💯</p>"
      ],
      "text/plain": [
       "square_points results: All test cases passed!"
      ]
     },
     "execution_count": 6,
     "metadata": {},
     "output_type": "execute_result"
    }
   ],
   "source": [
    "grader.check(\"square_points\")"
   ]
  },
  {
   "cell_type": "markdown",
   "metadata": {},
   "source": [
    "## Step 2: __init__ and get_XX methods\n",
    "\n",
    "In this step you're just going to set up the **__init__** and **get_** methods in the class so they initialize variables correctly (and return the matrices you created using a method).\n",
    "\n",
    "Some likely things to go wrong: Don't forget that all variables that you want to \"keep\" in the class should have self. in front of them (this tells Python that the variable belongs to the class and should be kept)\n",
    "\n",
    "Make sure to initialize your matrices to be the identity"
   ]
  },
  {
   "cell_type": "code",
   "execution_count": 7,
   "metadata": {
    "tags": []
   },
   "outputs": [],
   "source": [
    "# Don't forget to re-import arm_component.py if you changed it\n",
    "from arm_component import ArmComponent\n",
    "\n",
    "# Step 2: Check that variable names created correctly and get_* methods correct\n",
    "arm_component_blank = ArmComponent(\"check_name\", \"Grey\", shape_to_use=\"wedge\")\n",
    "\n",
    "assert arm_component_blank.name == \"check_name\"\n",
    "assert arm_component_blank.color == \"Grey\"\n",
    "\\\n",
    "# Check that returning a 3x3 identity matrix\n",
    "mat_shape = arm_component_blank.get_shape_matrix()\n",
    "mat_pose = arm_component_blank.get_pose_matrix()\n",
    "\n",
    "assert np.all(np.isclose(mat_shape, np.identity(3)))\n",
    "assert np.all(np.isclose(mat_pose, np.identity(3)))\n"
   ]
  },
  {
   "cell_type": "code",
   "execution_count": 8,
   "metadata": {
    "tags": []
   },
   "outputs": [
    {
     "name": "stdout",
     "output_type": "stream",
     "text": [
      "Class name: check_name, color: Grey, shape: wedge\n",
      "Key: pts, Value:\n",
      "[[-1.000000 1.000000 0.800000 -0.800000 -1.000000]\n",
      " [-1.000000 -1.000000 1.000000 1.000000 -1.000000]\n",
      " [1.000000 1.000000 1.000000 1.000000 1.000000]]\n",
      "Key: shape_matrix, Value:\n",
      "[[1.000000 0.000000 0.000000]\n",
      " [0.000000 1.000000 0.000000]\n",
      " [0.000000 0.000000 1.000000]]\n",
      "Key: pose_matrix, Value:\n",
      "[[1.000000 0.000000 0.000000]\n",
      " [0.000000 1.000000 0.000000]\n",
      " [0.000000 0.000000 1.000000]]\n",
      "\n"
     ]
    }
   ],
   "source": [
    "# I set up a convert-the-class-to-a-string method for you, which you can use to print out the class in a sort-of readable form\n",
    "print(arm_component_blank)"
   ]
  },
  {
   "cell_type": "code",
   "execution_count": 9,
   "metadata": {
    "deletable": false,
    "editable": false
   },
   "outputs": [
    {
     "data": {
      "text/html": [
       "<p><strong><pre style='display: inline;'>init_method</pre></strong> passed! 🍀</p>"
      ],
      "text/plain": [
       "init_method results: All test cases passed!"
      ]
     },
     "execution_count": 9,
     "metadata": {},
     "output_type": "execute_result"
    }
   ],
   "source": [
    "grader.check(\"init_method\")"
   ]
  },
  {
   "cell_type": "markdown",
   "metadata": {},
   "source": [
    "## Step 3a: Shape the base\n",
    "\n",
    "See **matrix_shape_base** for specifics on how to shape the base; I've set this up so you can first create the matrix here (and check the result) then copy it over to the class."
   ]
  },
  {
   "cell_type": "code",
   "execution_count": 10,
   "metadata": {
    "tags": []
   },
   "outputs": [],
   "source": [
    "# The size of the base \n",
    "base_width = 1.0\n",
    "base_height = 0.5\n",
    "\n",
    "# SCRATCH code - make the matrix here that shapes the base (a scale followed by a translate)\n",
    "# mat_my_base = np.identity(3)\n",
    "# mat_my_base[0, 0] = base_width/2\n",
    "# mat_my_base[1, 2] = base_height/2\n",
    "# mat_my_base[1, 1] = base_height/2\n",
    "\n",
    "mat_my_base = np.identity(3)\n",
    "\n",
    "S = mt.make_scale_matrix(base_width/2, base_height/2)\n",
    "T = mt.make_translation_matrix(0, base_height/2)\n",
    "\n",
    "mat_my_base = T @ S\n",
    "\n",
    "# TEST - with the above width/height, this is the matrix you should get out. Do NOT just set your matrix\n",
    "#  to this one - we will be changing base sizes later\n",
    "mat_base_check = np.array([[0.5, 0.0, 0], [0.0, 0.25, 0.25], [0.0, 0.0, 1.0]])\n",
    "\n",
    "# Once this passes, copy the code into matrix_shape_base in arm component\n",
    "assert np.all(np.isclose(mat_my_base, mat_base_check))"
   ]
  },
  {
   "cell_type": "code",
   "execution_count": 11,
   "metadata": {
    "tags": []
   },
   "outputs": [],
   "source": [
    "# This checks that you copied the code over correctly - don't forget to run all or re-do the import after you save arm_components.py\n",
    "from arm_component import ArmComponent\n",
    "arm_component_base = ArmComponent(name=\"Base\", color=\"black\", shape_to_use=\"wedge\")\n",
    "arm_component_base.matrix_shape_base(base_width=base_width, base_height=base_height)\n",
    "\n",
    "# If the matrix in the previous cell is correct, but this does not pass, check the following:\n",
    "#   Is mat_my_base_check the identity()? Then you probably did not save the matrix by doing a\n",
    "#      self.[your matrix name] = [calculated matrix]\n",
    "#   OR you miss-spelled the name - should be the same as the one in get_shape_matrix\n",
    "mat_my_base_check = arm_component_base.get_shape_matrix()\n",
    "assert np.all(np.isclose(arm_component_base.get_shape_matrix(), mat_base_check))\n",
    "\n",
    "# Note: If the autograder below does not bass, it's probably because you hard-wired the width/height"
   ]
  },
  {
   "cell_type": "code",
   "execution_count": 12,
   "metadata": {
    "tags": []
   },
   "outputs": [
    {
     "data": {
      "image/png": "[encoded data removed]",
      "text/plain": [
       "<Figure size 200x200 with 1 Axes>"
      ]
     },
     "metadata": {},
     "output_type": "display_data"
    }
   ],
   "source": [
    "# Plot the result - see slides\n",
    "# Draw the base in the plot window - see slides for correct answer\n",
    "fig, axs = plt.subplots(1, 1, figsize=(2, 2))\n",
    "\n",
    "# A framing window\n",
    "mt.plot_axes_and_big_box(axs, box_size=1.1)\n",
    "arm_component_base.plot(axs)"
   ]
  },
  {
   "cell_type": "code",
   "execution_count": 13,
   "metadata": {
    "deletable": false,
    "editable": false
   },
   "outputs": [
    {
     "data": {
      "text/html": [
       "<p><strong><pre style='display: inline;'>shape_base</pre></strong> passed! 🌟</p>"
      ],
      "text/plain": [
       "shape_base results: All test cases passed!"
      ]
     },
     "execution_count": 13,
     "metadata": {},
     "output_type": "execute_result"
    }
   ],
   "source": [
    "grader.check(\"shape_base\")"
   ]
  },
  {
   "cell_type": "markdown",
   "metadata": {},
   "source": [
    "## Step 3b: Shape the link(s)\n",
    "\n",
    "The same code will be used for all the link shapes, btw - this just tests with one size.\n",
    "\n",
    "Again, there's \"scratch\" code to test your matrix works. Feel free to delete the SCRATCH TEST if you want to jump straight to putting the code in the class"
   ]
  },
  {
   "cell_type": "code",
   "execution_count": 14,
   "metadata": {
    "tags": []
   },
   "outputs": [],
   "source": [
    "# The size of the link \n",
    "link1_length = 0.5\n",
    "link1_width = 0.25\n",
    "\n",
    "# SCRATCH code - make the matrix here that shapes the base (a scale followed by a translate)\n",
    "mat_my_link1 = np.identity(3)\n",
    "\n",
    "S = mt.make_scale_matrix(link1_length/2, link1_width/2)\n",
    "T = mt.make_translation_matrix(link1_length/2, 0)\n",
    "\n",
    "mat_my_link1 = T @ S\n",
    "\n",
    "# TEST - with the above width/height, this is the matrix you should get out. Do NOT just set your matrix\n",
    "#  to this one - we will be changing link sizes later\n",
    "mat_link1_check = np.array([[0.25, 0.0, 0.25], [0.0, 0.125, 0.0], [0.0, 0.0, 1.0]])\n",
    "\n",
    "# Once this passes, copy the code into matrix_shape_link in arm component\n",
    "#   OR just put the code straight in and uncomment this\n",
    "assert np.all(np.isclose(mat_my_link1, mat_link1_check))"
   ]
  },
  {
   "cell_type": "code",
   "execution_count": 15,
   "metadata": {
    "tags": []
   },
   "outputs": [],
   "source": [
    "# This checks that you copied the code over correctly - don't forget to run all or re-do the import after you save arm_components.py\n",
    "arm_component_link1 = ArmComponent(name=\"Link1\", color=\"blue\", shape_to_use=\"square\")\n",
    "arm_component_link1.matrix_shape_link(link_length=link1_length, link_width=link1_width)\n",
    "\n",
    "# See matrix base if this does not work for debugging tips\n",
    "assert np.all(np.isclose(arm_component_link1.get_shape_matrix(), mat_link1_check))\n",
    "\n",
    "# Note: If the autograder below does not bass, it's probably because you hard-wired the width/length"
   ]
  },
  {
   "cell_type": "code",
   "execution_count": 16,
   "metadata": {
    "tags": []
   },
   "outputs": [
    {
     "data": {
      "image/png": "[encoded data removed]",
      "text/plain": [
       "<Figure size 200x200 with 1 Axes>"
      ]
     },
     "metadata": {},
     "output_type": "display_data"
    }
   ],
   "source": [
    "# Plot the result - see slides\n",
    "# Draw the link in the plot window - see slides for correct answer\n",
    "fig, axs = plt.subplots(1, 1, figsize=(2, 2))\n",
    "\n",
    "# A framing window\n",
    "mt.plot_axes_and_big_box(axs, box_size=1.1)\n",
    "arm_component_link1.plot(axs)"
   ]
  },
  {
   "cell_type": "code",
   "execution_count": 17,
   "metadata": {
    "deletable": false,
    "editable": false
   },
   "outputs": [
    {
     "data": {
      "text/html": [
       "<p><strong><pre style='display: inline;'>link_shape</pre></strong> passed! 🎉</p>"
      ],
      "text/plain": [
       "link_shape results: All test cases passed!"
      ]
     },
     "execution_count": 17,
     "metadata": {},
     "output_type": "execute_result"
    }
   ],
   "source": [
    "grader.check(\"link_shape\")"
   ]
  },
  {
   "cell_type": "markdown",
   "metadata": {},
   "source": [
    "## Step 3c: Gripper (fingers plus palm)\n",
    "\n",
    "The \"gripper\" is put together from three pieces - the palm, and two fingers. You will need to edit both **matrix_shape_palm** and **matrix_shape_fingers**"
   ]
  },
  {
   "cell_type": "code",
   "execution_count": 18,
   "metadata": {
    "tags": []
   },
   "outputs": [],
   "source": [
    "# The sizes for all of the components\n",
    "palm_width = 0.1\n",
    "finger_length = 0.075\n",
    "finger_width = 0.025\n"
   ]
  },
  {
   "cell_type": "code",
   "execution_count": 19,
   "metadata": {
    "tags": []
   },
   "outputs": [],
   "source": [
    "# SCRATCH CELL - if need be, you can write the code here then check it against the answers given in the next cell\n"
   ]
  },
  {
   "cell_type": "code",
   "execution_count": 20,
   "metadata": {
    "tags": []
   },
   "outputs": [],
   "source": [
    "# Create the three components\n",
    "arm_component_palm = ArmComponent(name=\"Palm\", color=\"tomato\", shape_to_use=\"square\")\n",
    "arm_component_finger_top = ArmComponent(name=\"Finger top\", color=\"green\", shape_to_use=\"wedge\")\n",
    "arm_component_finger_bot = ArmComponent(name=\"Finger bot\", color=\"green\", shape_to_use=\"wedge\")\n",
    "\n",
    "# Set the shape matrix\n",
    "arm_component_palm.matrix_shape_palm(palm_width=palm_width)\n",
    "arm_component_finger_top.matrix_shape_finger(palm_width=palm_width, finger_length=finger_length, finger_width=finger_width, b_is_top=True)\n",
    "arm_component_finger_bot.matrix_shape_finger(palm_width=palm_width, finger_length=finger_length, finger_width=finger_width, b_is_top=False)\n",
    "\n",
    "# Check matrices\n",
    "mat_palm_check = np.array([[0.005, 0.0, 0.0], [0.0, 0.05, 0.0], [0.0, 0.0, 1.0]])\n",
    "mat_finger_top_check = np.array([[0.0, 0.0375, 0.0375], [-0.0125, 0.0, 0.05], [0.0, 0.0, 1.0]])\n",
    "mat_finger_bot_check = np.array([[0.0, 0.0375, 0.0375], [-0.0125, 0.0, -0.05], [0.0, 0.0, 1.0]])\n",
    "\n",
    "# Feel free to add asserts here"
   ]
  },
  {
   "cell_type": "code",
   "execution_count": 21,
   "metadata": {
    "tags": []
   },
   "outputs": [
    {
     "data": {
      "image/png": "[encoded data removed]",
      "text/plain": [
       "<Figure size 200x200 with 1 Axes>"
      ]
     },
     "metadata": {},
     "output_type": "display_data"
    }
   ],
   "source": [
    "# Plot the result - see slides\n",
    "# Draw the gripper in the plot window - see slides for correct answer\n",
    "fig, axs = plt.subplots(1, 1, figsize=(2, 2))\n",
    "\n",
    "# A framing window\n",
    "mt.plot_axes_and_big_box(axs, box_size=0.25)\n",
    "arm_component_palm.plot(axs)\n",
    "arm_component_finger_top.plot(axs)\n",
    "arm_component_finger_bot.plot(axs)"
   ]
  },
  {
   "cell_type": "code",
   "execution_count": 22,
   "metadata": {
    "deletable": false,
    "editable": false
   },
   "outputs": [
    {
     "data": {
      "text/html": [
       "<p><strong><pre style='display: inline;'>gripper_matrices</pre></strong> passed! 🍀</p>"
      ],
      "text/plain": [
       "gripper_matrices results: All test cases passed!"
      ]
     },
     "execution_count": 22,
     "metadata": {},
     "output_type": "execute_result"
    }
   ],
   "source": [
    "grader.check(\"gripper_matrices\")"
   ]
  },
  {
   "cell_type": "markdown",
   "metadata": {},
   "source": [
    "## Step 4: Rotate each component\n",
    "\n",
    "TODO: Edit **set_pose_matrix** and **set_pose_rotation** so that it creates a matrix that rotates the component by the given amount. **set_pose_rotation** should call **set_pose_matrix** which set the pose matrix in the class. The plot routine will then use that matrix (by calling **get_pose_matrix**).\n",
    "\n",
    "Some things that can go wrong: \n",
    "- if the code produces an error, the most likely error will be some version of \"variable undefined\". Read through the error to figure out where\n",
    "- if your code does not produce an error, but doesn't rotate the shape either, then you are not setting your variable correctly (see the next two bullet items)\n",
    "- if you do: your_pose_matrix_name = .. instead of self.your_pose_matrix_name then it won't save the pose matrix in the class\n",
    "- the variable name you use in **set_pose_matrix** and **get_pose_matrix** must be the same (and should be the same as the one you used in the __init__ method). \n",
    "\n",
    "This is mostly a check that you have set up the pose matrix; in the homework this will be replaced with **set_pose_matrix**"
   ]
  },
  {
   "cell_type": "code",
   "execution_count": 23,
   "metadata": {
    "tags": []
   },
   "outputs": [],
   "source": [
    "# SCRATCH CELL\n",
    "# Use this cell to call the rotation method on one component (say the link1 component) and then check the result.\n",
    "#  I've given you check matrices for the shapes and for the fingers.\n",
    "\n",
    "rot_amt = -np.pi/4\n",
    "mat_pose_check = mt.make_rotation_matrix(rot_amt)\n",
    "\n",
    "# Note - only accurate out to 4 decminal places\n",
    "mat_pose_check_top_finger = np.array([[np.cos(rot_amt), -np.sin(rot_amt), -0.035355], [ np.sin(rot_amt), np.cos(rot_amt), 0.014645], [0, 0, 1]])\n",
    "mat_pose_check_bot_finger = np.array([[np.cos(rot_amt),  np.sin(rot_amt), -0.035355], [-np.sin(rot_amt), np.cos(rot_amt), -0.014645], [0, 0, 1]])\n"
   ]
  },
  {
   "cell_type": "code",
   "execution_count": 24,
   "metadata": {
    "tags": []
   },
   "outputs": [
    {
     "data": {
      "image/png": "[encoded data removed]",
      "text/plain": [
       "<Figure size 1200x600 with 6 Axes>"
      ]
     },
     "metadata": {},
     "output_type": "display_data"
    }
   ],
   "source": [
    "\n",
    "# TODO: Edit set_pose_rotation and set_pose_matrix in arm_components.py\n",
    "# Yes, it's a little silly to call set_pose_matrix from set_pose_rotation, but in the homework you'll just be calling\n",
    "#   set_pose_matrix, so this is partly to make sure that you set that up correctly\n",
    "# The test rotates everything clockwise by pi over 4\n",
    "#   Note: Rotating the fingers correctly is optional. \n",
    "\n",
    "fig, axs = plt.subplots(2, 3, figsize=(12, 6))\n",
    "\n",
    "ncols = 3\n",
    "box_sizes = [1.0, 1.0, 0.2, 0.2, 0.2]\n",
    "for i, ac in enumerate((arm_component_base, arm_component_link1, arm_component_palm, arm_component_finger_top, arm_component_finger_bot)):\n",
    "    irow = i // ncols\n",
    "    icol = i % ncols\n",
    "\n",
    "    mt.plot_axes_and_big_box(axs[irow, icol], box_size=box_sizes[i])\n",
    "    # Set the rotation matrix on the arm component\n",
    "    ac.set_pose_rotation(rot_amt)\n",
    "\n",
    "    # Is your pose matrix a 3x3 rotation matrix?\n",
    "    #   Note: Not checking that the rotation is correct - just that you're returning a 3x3 matrix...\n",
    "    assert ac.get_pose_matrix().shape == (3, 3)\n",
    "\n",
    "    # This will plot with both pose and shape matrix \n",
    "    ac.plot(axs[irow, icol], b_do_pose_matrix=True)\n",
    "    axs[irow, icol].set_title(ac.name)\n",
    "\n",
    "# Plot just the gripper components in the bottom right corner\n",
    "for i, ac in enumerate((arm_component_palm, arm_component_finger_top, arm_component_finger_bot)):\n",
    "    mt.plot_axes_and_big_box(axs[-1, -1], box_size=box_sizes[-1])\n",
    "\n",
    "    # This will plot with both pose and shape matrix \n",
    "    ac.plot(axs[-1, -1], b_do_pose_matrix=True)\n",
    "\n",
    "axs[-1, -1].set_title(\"gripper\")\n",
    "fig.tight_layout()\n"
   ]
  },
  {
   "cell_type": "code",
   "execution_count": 25,
   "metadata": {
    "deletable": false,
    "editable": false
   },
   "outputs": [
    {
     "data": {
      "text/html": [
       "<p><strong><pre style='display: inline;'>rotate_pose_matrices</pre></strong> passed! 🌟</p>"
      ],
      "text/plain": [
       "rotate_pose_matrices results: All test cases passed!"
      ]
     },
     "execution_count": 25,
     "metadata": {},
     "output_type": "execute_result"
    }
   ],
   "source": [
    "grader.check(\"rotate_pose_matrices\")"
   ]
  },
  {
   "cell_type": "markdown",
   "metadata": {
    "deletable": false,
    "editable": false
   },
   "source": [
    "## Extra credit check for fingers\n",
    "\n",
    "If you have done the finger rotations the fancy way (rotating them at their bases), then this test will pass. "
   ]
  },
  {
   "cell_type": "code",
   "execution_count": 26,
   "metadata": {
    "deletable": false,
    "editable": false
   },
   "outputs": [
    {
     "data": {
      "text/html": [
       "<p><strong style='color: red;'><pre style='display: inline;'>extra_credit_finger_rotations</pre> results:</strong></p><p><strong><pre style='display: inline;'>extra_credit_finger_rotations - 1</pre> result:</strong></p><pre>    ❌ Test case failed\n",
       "    Trying:\n",
       "        assert np.all(np.isclose(arm_component_finger_top.get_pose_matrix(), mat_pose_check_top_finger, 0.001))\n",
       "    Expecting nothing\n",
       "    **********************************************************************\n",
       "    Line 1, in extra_credit_finger_rotations 0\n",
       "    Failed example:\n",
       "        assert np.all(np.isclose(arm_component_finger_top.get_pose_matrix(), mat_pose_check_top_finger, 0.001))\n",
       "    Exception raised:\n",
       "        Traceback (most recent call last):\n",
       "          File \"c:\\Users\\Cody\\anaconda3\\Lib\\doctest.py\", line 1368, in __run\n",
       "            exec(compile(example.source, filename, \"single\",\n",
       "          File \"<doctest extra_credit_finger_rotations 0[0]>\", line 1, in <module>\n",
       "            assert np.all(np.isclose(arm_component_finger_top.get_pose_matrix(), mat_pose_check_top_finger, 0.001))\n",
       "                   ^^^^^^^^^^^^^^^^^^^^^^^^^^^^^^^^^^^^^^^^^^^^^^^^^^^^^^^^^^^^^^^^^^^^^^^^^^^^^^^^^^^^^^^^^^^^^^^^\n",
       "        AssertionError\n",
       "</pre><p><strong><pre style='display: inline;'>extra_credit_finger_rotations - 2</pre> result:</strong></p><pre>    ❌ Test case failed\n",
       "    Trying:\n",
       "        assert np.all(np.isclose(arm_component_finger_bot.get_pose_matrix(), mat_pose_check_bot_finger, 0.001))\n",
       "    Expecting nothing\n",
       "    **********************************************************************\n",
       "    Line 1, in extra_credit_finger_rotations 1\n",
       "    Failed example:\n",
       "        assert np.all(np.isclose(arm_component_finger_bot.get_pose_matrix(), mat_pose_check_bot_finger, 0.001))\n",
       "    Exception raised:\n",
       "        Traceback (most recent call last):\n",
       "          File \"c:\\Users\\Cody\\anaconda3\\Lib\\doctest.py\", line 1368, in __run\n",
       "            exec(compile(example.source, filename, \"single\",\n",
       "          File \"<doctest extra_credit_finger_rotations 1[0]>\", line 1, in <module>\n",
       "            assert np.all(np.isclose(arm_component_finger_bot.get_pose_matrix(), mat_pose_check_bot_finger, 0.001))\n",
       "                   ^^^^^^^^^^^^^^^^^^^^^^^^^^^^^^^^^^^^^^^^^^^^^^^^^^^^^^^^^^^^^^^^^^^^^^^^^^^^^^^^^^^^^^^^^^^^^^^^\n",
       "        AssertionError\n",
       "</pre>"
      ],
      "text/plain": [
       "extra_credit_finger_rotations results:\n",
       "    extra_credit_finger_rotations - 1 result:\n",
       "        ❌ Test case failed\n",
       "        Trying:\n",
       "            assert np.all(np.isclose(arm_component_finger_top.get_pose_matrix(), mat_pose_check_top_finger, 0.001))\n",
       "        Expecting nothing\n",
       "        **********************************************************************\n",
       "        Line 1, in extra_credit_finger_rotations 0\n",
       "        Failed example:\n",
       "            assert np.all(np.isclose(arm_component_finger_top.get_pose_matrix(), mat_pose_check_top_finger, 0.001))\n",
       "        Exception raised:\n",
       "            Traceback (most recent call last):\n",
       "              File \"c:\\Users\\Cody\\anaconda3\\Lib\\doctest.py\", line 1368, in __run\n",
       "                exec(compile(example.source, filename, \"single\",\n",
       "              File \"<doctest extra_credit_finger_rotations 0[0]>\", line 1, in <module>\n",
       "                assert np.all(np.isclose(arm_component_finger_top.get_pose_matrix(), mat_pose_check_top_finger, 0.001))\n",
       "                       ^^^^^^^^^^^^^^^^^^^^^^^^^^^^^^^^^^^^^^^^^^^^^^^^^^^^^^^^^^^^^^^^^^^^^^^^^^^^^^^^^^^^^^^^^^^^^^^^\n",
       "            AssertionError\n",
       "\n",
       "    extra_credit_finger_rotations - 2 result:\n",
       "        ❌ Test case failed\n",
       "        Trying:\n",
       "            assert np.all(np.isclose(arm_component_finger_bot.get_pose_matrix(), mat_pose_check_bot_finger, 0.001))\n",
       "        Expecting nothing\n",
       "        **********************************************************************\n",
       "        Line 1, in extra_credit_finger_rotations 1\n",
       "        Failed example:\n",
       "            assert np.all(np.isclose(arm_component_finger_bot.get_pose_matrix(), mat_pose_check_bot_finger, 0.001))\n",
       "        Exception raised:\n",
       "            Traceback (most recent call last):\n",
       "              File \"c:\\Users\\Cody\\anaconda3\\Lib\\doctest.py\", line 1368, in __run\n",
       "                exec(compile(example.source, filename, \"single\",\n",
       "              File \"<doctest extra_credit_finger_rotations 1[0]>\", line 1, in <module>\n",
       "                assert np.all(np.isclose(arm_component_finger_bot.get_pose_matrix(), mat_pose_check_bot_finger, 0.001))\n",
       "                       ^^^^^^^^^^^^^^^^^^^^^^^^^^^^^^^^^^^^^^^^^^^^^^^^^^^^^^^^^^^^^^^^^^^^^^^^^^^^^^^^^^^^^^^^^^^^^^^^\n",
       "            AssertionError"
      ]
     },
     "execution_count": 26,
     "metadata": {},
     "output_type": "execute_result"
    }
   ],
   "source": [
    "grader.check(\"extra_credit_finger_rotations\")"
   ]
  },
  {
   "cell_type": "markdown",
   "metadata": {
    "deletable": false,
    "editable": false
   },
   "source": [
    "## Hours and collaborators\n",
    "Required for every assignment - fill out before you hand-in.\n",
    "\n",
    "Listing names and websites helps you to document who you worked with and what internet help you received in the case of any plagiarism issues. You should list names of anyone (in class or not) who has substantially helped you with an assignment - or anyone you have *helped*. You do not need to list TAs.\n",
    "\n",
    "Listing hours helps us track if the assignments are too long."
   ]
  },
  {
   "cell_type": "code",
   "execution_count": 27,
   "metadata": {
    "tags": []
   },
   "outputs": [],
   "source": [
    "\n",
    "# List of names (creates a set)\n",
    "worked_with_names = {\"Luc Dale\"}\n",
    "# List of URLS I25 (creates a set)\n",
    "websites = {\"N/A\"}\n",
    "# Approximate number of hours, including lab/in-class time\n",
    "hours = 7"
   ]
  },
  {
   "cell_type": "code",
   "execution_count": 28,
   "metadata": {
    "deletable": false,
    "editable": false
   },
   "outputs": [
    {
     "data": {
      "text/html": [
       "<p><strong><pre style='display: inline;'>hours_collaborators</pre></strong> passed! 🌟</p>"
      ],
      "text/plain": [
       "hours_collaborators results: All test cases passed!"
      ]
     },
     "execution_count": 28,
     "metadata": {},
     "output_type": "execute_result"
    }
   ],
   "source": [
    "grader.check(\"hours_collaborators\")"
   ]
  },
  {
   "cell_type": "markdown",
   "metadata": {},
   "source": [
    "### To submit\n",
    "\n",
    "Read me!!!   **Read me!!!**\n",
    "\n",
    "- Submit this .ipynb file **AND** arm_routines.py. If you don't include arm_routines.py Gradescope cannot magically reach out to your computer and find your arm_routines.py file.\n",
    "- We will supply matrix_routines.py for you (it won't break anything if you do include it)\n",
    "\n",
    "If the Gradescope autograder fails, please check here first for common reasons for it to fail\n",
    "    https://docs.google.com/presentation/d/1tYa5oycUiG4YhXUq5vHvPOpWJ4k_xUPp2rUNIL7Q9RI/edit?usp=sharing\n",
    "\n",
    "Lots of people forget arm_routines.py. "
   ]
  }
 ],
 "metadata": {
  "kernelspec": {
   "display_name": "base",
   "language": "python",
   "name": "python3"
  },
  "language_info": {
   "codemirror_mode": {
    "name": "ipython",
    "version": 3
   },
   "file_extension": ".py",
   "mimetype": "text/x-python",
   "name": "python",
   "nbconvert_exporter": "python",
   "pygments_lexer": "ipython3",
   "version": "3.12.7"
  },
  "otter": {
   "OK_FORMAT": true,
   "tests": {
    "extra_credit_finger_rotations": {
     "name": "extra_credit_finger_rotations",
     "points": 0,
     "suites": [
      {
       "cases": [
        {
         "code": ">>> assert np.all(np.isclose(arm_component_finger_top.get_pose_matrix(), mat_pose_check_top_finger, 0.001))\n",
         "hidden": false,
         "locked": false
        },
        {
         "code": ">>> assert np.all(np.isclose(arm_component_finger_bot.get_pose_matrix(), mat_pose_check_bot_finger, 0.001))\n",
         "hidden": false,
         "locked": false
        }
       ],
       "scored": true,
       "setup": "",
       "teardown": "",
       "type": "doctest"
      }
     ]
    },
    "gripper_matrices": {
     "name": "gripper_matrices",
     "points": 2,
     "suites": [
      {
       "cases": [
        {
         "code": ">>> assert np.all(np.isclose(arm_component_palm.get_shape_matrix(), mat_palm_check))\n",
         "hidden": false,
         "locked": false
        },
        {
         "code": ">>> assert np.all(np.isclose(arm_component_finger_top.get_shape_matrix(), mat_finger_top_check))\n",
         "hidden": false,
         "locked": false
        },
        {
         "code": ">>> assert np.all(np.isclose(arm_component_finger_bot.get_shape_matrix(), mat_finger_bot_check))\n",
         "hidden": false,
         "locked": false
        }
       ],
       "scored": true,
       "setup": "",
       "teardown": "",
       "type": "doctest"
      }
     ]
    },
    "hours_collaborators": {
     "name": "hours_collaborators",
     "points": 1,
     "suites": [
      {
       "cases": [
        {
         "code": ">>> assert not 'not filled out' in worked_with_names\n",
         "hidden": false,
         "locked": false
        },
        {
         "code": ">>> assert not 'not filled out' in websites\n",
         "hidden": false,
         "locked": false
        },
        {
         "code": ">>> assert hours > 0\n",
         "hidden": false,
         "locked": false
        }
       ],
       "scored": true,
       "setup": "",
       "teardown": "",
       "type": "doctest"
      }
     ]
    },
    "init_method": {
     "name": "init_method",
     "points": 2,
     "suites": [
      {
       "cases": [
        {
         "code": ">>> assert np.all(np.isclose(arm_component_blank.get_shape_matrix(), np.identity(3)))\n",
         "hidden": false,
         "locked": false
        },
        {
         "code": ">>> assert np.all(np.isclose(arm_component_blank.get_pose_matrix(), np.identity(3)))\n",
         "hidden": false,
         "locked": false
        }
       ],
       "scored": true,
       "setup": "",
       "teardown": "",
       "type": "doctest"
      }
     ]
    },
    "link_shape": {
     "name": "link_shape",
     "points": 2,
     "suites": [
      {
       "cases": [
        {
         "code": ">>> assert np.all(np.isclose(arm_component_link1.get_shape_matrix(), mat_link1_check))\n",
         "hidden": false,
         "locked": false
        }
       ],
       "scored": true,
       "setup": "",
       "teardown": "",
       "type": "doctest"
      }
     ]
    },
    "rotate_pose_matrices": {
     "name": "rotate_pose_matrices",
     "points": 2,
     "suites": [
      {
       "cases": [
        {
         "code": ">>> assert np.all(np.isclose(arm_component_palm.get_pose_matrix(), mat_pose_check))\n",
         "hidden": false,
         "locked": false
        }
       ],
       "scored": true,
       "setup": "",
       "teardown": "",
       "type": "doctest"
      }
     ]
    },
    "shape_base": {
     "name": "shape_base",
     "points": 1,
     "suites": [
      {
       "cases": [
        {
         "code": ">>> assert np.all(np.isclose(arm_component_base.get_shape_matrix(), mat_base_check))\n",
         "hidden": false,
         "locked": false
        },
        {
         "code": ">>> arm_component_base.matrix_shape_base(base_width=0.5 * base_width, base_height=0.5 * base_height)\n>>> mat_base_check2 = np.identity(3)\n>>> mat_base_check2[0:2, 0:3] = mat_base_check[0:2, 0:3] * 0.5\n>>> assert np.all(np.isclose(arm_component_base.get_shape_matrix(), mat_base_check2))\n>>> arm_component_base.matrix_shape_base(base_width=base_width, base_height=base_height)\n",
         "hidden": false,
         "locked": false
        }
       ],
       "scored": true,
       "setup": "",
       "teardown": "",
       "type": "doctest"
      }
     ]
    },
    "square_points": {
     "name": "square_points",
     "points": 1,
     "suites": [
      {
       "cases": [
        {
         "code": ">>> assert pts_in_a_square.shape == (3, 4) or pts_in_a_square.shape == (3, 5)\n",
         "hidden": false,
         "locked": false
        },
        {
         "code": ">>> assert np.count_nonzero(pts_in_a_square[0:2, 0:4] == -1) == 4\n",
         "hidden": false,
         "locked": false
        },
        {
         "code": ">>> assert np.count_nonzero(pts_in_a_square[0:2, 0:4] == 1) == 4\n",
         "hidden": false,
         "locked": false
        }
       ],
       "scored": true,
       "setup": "",
       "teardown": "",
       "type": "doctest"
      }
     ]
    }
   }
  }
 },
 "nbformat": 4,
 "nbformat_minor": 2
}
