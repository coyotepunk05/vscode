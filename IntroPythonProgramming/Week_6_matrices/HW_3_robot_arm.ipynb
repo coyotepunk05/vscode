{
 "cells": [
  {
   "cell_type": "code",
   "execution_count": 1,
   "metadata": {
    "deletable": false,
    "editable": false
   },
   "outputs": [],
   "source": [
    "# Initialize Otter\n",
    "import otter\n",
    "grader = otter.Notebook(\"HW_3_robot_arm.ipynb\")"
   ]
  },
  {
   "cell_type": "markdown",
   "metadata": {},
   "source": [
    "# Robot arm\n",
    "\n",
    "Week 1: Building the robot arm and forward kinematics\n",
    "\n",
    "Part 2: Optimization\n",
    "\n",
    "Slides: https://docs.google.com/presentation/d/17aiTBmPZidR6op7TvqYRzYatuc_NETYA1BhgpSHQ-FM/edit?usp=sharing"
   ]
  },
  {
   "cell_type": "code",
   "execution_count": 2,
   "metadata": {},
   "outputs": [],
   "source": [
    "# The usual imports\n",
    "import numpy as np\n",
    "import matplotlib.pyplot as plt\n",
    "from scipy.optimize import fmin"
   ]
  },
  {
   "cell_type": "code",
   "execution_count": 3,
   "metadata": {},
   "outputs": [],
   "source": [
    "# TODO If you wrote your ArmComponent class in the Lab JN then copy the class back to arm_component.py at this point. \n",
    "#  Otherwise, nothing will work."
   ]
  },
  {
   "cell_type": "code",
   "execution_count": 4,
   "metadata": {},
   "outputs": [],
   "source": [
    "# matrix_rouintes.py functions\n",
    "import matrix_routines as mt\n",
    "\n",
    "# This is the class you wrote/are writing in the lab\n",
    "from arm_component import ArmComponent"
   ]
  },
  {
   "cell_type": "code",
   "execution_count": 5,
   "metadata": {},
   "outputs": [],
   "source": [
    "# These commands will force JN to actually re-load the external file when you re-execute the import command\n",
    "%load_ext autoreload\n",
    "%autoreload 2"
   ]
  },
  {
   "cell_type": "markdown",
   "metadata": {},
   "source": [
    "# Week 1: Building an arm and doing forward kinematics\n",
    "\n",
    "Two parts to this problem: The first is creating all of the components and storing them in a data structure (rather than having each one named individually, as was done in the lab). This way, you can have an arbitrary number of links in the arm.\n",
    "\n",
    "The second part of this assignment is computing the pose matrices for each link, given the angles for each link/finger/gripper.\n",
    "\n",
    "TODO: Decide how you will store all of the arm components. The simplest approach is to use a list, optionally keeping the gripper components in a list at the end. You can also use a class. "
   ]
  },
  {
   "cell_type": "markdown",
   "metadata": {},
   "source": [
    "## Week 1, Part 1: Put all the components together\n",
    "\n",
    "For this you need to write two things: the first is a function to create all of the components and put them into a data structure (a list, a class, a dictionary - your choice).\n",
    "\n",
    "The second thing you will need to write is some functions to get the components back out again - that way the autograder can test your results. "
   ]
  },
  {
   "cell_type": "code",
   "execution_count": 6,
   "metadata": {
    "tags": []
   },
   "outputs": [],
   "source": [
    "\n",
    "def create_arm_geometry(base_size, link_sizes, palm_width, finger_sizes):\n",
    "    \"\"\" Function to create arm geometry. See next cell for example inputs.\n",
    "    @param base_size - base width and height as a tuple\n",
    "    @param link_sizes - link sizes as a list of tuples, one for each link (length, width)\n",
    "    @param palm_width - single value for palm width\n",
    "    @param finger_sizes - (length, width) of the finger as a tuple\n",
    "    @returns Your data structure that has one ArmComponent instance for the base, links, and gripper parts\"\"\"\n",
    "    geometry = {'base_size':base_size,\n",
    "                'link_sizes':link_sizes,\n",
    "                'palm_width':palm_width,\n",
    "                'finger_sizes':finger_sizes}\n",
    "\n",
    "    return geometry              \n",
    "\n",
    "    "
   ]
  },
  {
   "cell_type": "code",
   "execution_count": 7,
   "metadata": {
    "tags": []
   },
   "outputs": [],
   "source": [
    "def get_n_links(arm_geometry):\n",
    "    \"\"\" Return the number of links\n",
    "    @param arm_geometry - the entire arm\n",
    "    @return the number of arm links (excluding the base and the gripper)\"\"\"\n",
    "\n",
    "    n_links = len(arm_geometry['link_sizes'])\n",
    "\n",
    "    return n_links"
   ]
  },
  {
   "cell_type": "code",
   "execution_count": 8,
   "metadata": {
    "tags": []
   },
   "outputs": [],
   "source": [
    "def get_base(arm_geometry):\n",
    "    \"\"\" Return the base component\n",
    "    @param arm_geometry - the entire arm\n",
    "    @return the base component)\"\"\"\n",
    "    \n",
    "    base = arm_geometry['base_size']\n",
    "\n",
    "    arm_component_base = ArmComponent(name=\"Base\", shape_to_use=\"wedge\")\n",
    "    arm_component_base.matrix_shape_base(base_width=base[1], base_height=base[0])\n",
    "\n",
    "    return arm_component_base"
   ]
  },
  {
   "cell_type": "code",
   "execution_count": 9,
   "metadata": {
    "tags": []
   },
   "outputs": [],
   "source": [
    "def get_link(arm_geometry, which_link):\n",
    "    \"\"\" Return the link component\n",
    "    @param arm_geometry - the entire arm\n",
    "    @param which_link - which link\n",
    "    @return the ArmComponent for the link\"\"\"\n",
    "    \n",
    "    link = arm_geometry['link_sizes']\n",
    "\n",
    "    arm_component_link = ArmComponent(name=f'Link_{which_link}', shape_to_use='square')\n",
    "    arm_component_link.matrix_shape_link(link[which_link][0], link[which_link][1])\n",
    "\n",
    "    return arm_component_link"
   ]
  },
  {
   "cell_type": "code",
   "execution_count": 10,
   "metadata": {
    "tags": []
   },
   "outputs": [],
   "source": [
    "def get_gripper(arm_geometry):\n",
    "    \"\"\" Return the palm and two fingers\n",
    "    @param arm_geometry - the entire arm\n",
    "    @return a triplet (palm, top finger, bottom finger)\"\"\"\n",
    "\n",
    "    fingers = arm_geometry['finger_sizes']\n",
    "    palm = arm_geometry['palm_width']\n",
    "\n",
    "    finger_length = fingers[0]\n",
    "    finger_width = fingers[1]\n",
    "\n",
    "    arm_component_palm = ArmComponent(name='Palm', shape_to_use='square')\n",
    "    arm_component_palm.matrix_shape_palm(palm_width=palm)\n",
    "\n",
    "    arm_component_finger_top = ArmComponent(name='Finger top', shape_to_use='wedge')\n",
    "    arm_component_finger_top.matrix_shape_finger(palm_width=palm, finger_length=finger_length, finger_width=finger_width, b_is_top=True)\n",
    "\n",
    "    arm_component_finger_bot = ArmComponent(name='Finger bot', shape_to_use='wedge')\n",
    "    arm_component_finger_bot.matrix_shape_finger(palm_width=palm, finger_length=finger_length, finger_width=finger_width, b_is_top=False)\n",
    "\n",
    "    return (arm_component_palm, arm_component_finger_top, arm_component_finger_bot)"
   ]
  },
  {
   "cell_type": "code",
   "execution_count": 11,
   "metadata": {
    "tags": []
   },
   "outputs": [],
   "source": [
    "# These are the inputs to your create function. \n",
    "base_size_param = (0.5, 1.0)\n",
    "link_sizes_param = [(0.5, 0.25), (0.3, 0.1), (0.2, 0.05)]\n",
    "palm_width_param = 0.1\n",
    "finger_size_param = (0.075, 0.025)\n",
    "\n",
    "# This function should make an instance of ArmComponent (and call the correct matrix_shape_X function) for\n",
    "#   the base, one component for each of the links, and another three for the gripper (palm and fingers)\n",
    "arm_geometry_fk = create_arm_geometry(base_size_param, link_sizes_param, palm_width_param, finger_size_param)"
   ]
  },
  {
   "cell_type": "code",
   "execution_count": 12,
   "metadata": {
    "tags": []
   },
   "outputs": [],
   "source": [
    "# Correct shape matrices\n",
    "mat_base_check = np.array([[0.5, 0.0, 0], [0.0, 0.25, 0.25], [0.0, 0.0, 1.0]])\n",
    "mat_link1_check = np.array([[0.25, 0.0, 0.25], [0.0, 0.125, 0.0], [0.0, 0.0, 1.0]])\n",
    "mat_link2_check = np.array([[0.15, 0.0, 0.15], [0.0, 0.05, 0.0], [0.0, 0.0, 1.0]])\n",
    "mat_link3_check = np.array([[0.1, 0.0, 0.1], [0.0, 0.025, 0.0], [0.0, 0.0, 1.0]])\n",
    "mat_palm_check = np.array([[0.005, 0.0, 0.0], [0.0, 0.05, 0.0], [0.0, 0.0, 1.0]])\n",
    "mat_finger_top_check = np.array([[0.0, 0.0375, 0.0375], [-0.0125, 0.0, 0.05], [0.0, 0.0, 1.0]])\n",
    "mat_finger_bot_check = np.array([[0.0, 0.0375, 0.0375], [-0.0125, 0.0, -0.05], [0.0, 0.0, 1.0]])"
   ]
  },
  {
   "cell_type": "code",
   "execution_count": 13,
   "metadata": {
    "tags": []
   },
   "outputs": [],
   "source": [
    "# This checks the base shape matrix. Notice:\n",
    "#   Using get_base to get the instance of the base matrix\n",
    "#   Calling get_shape_matrix() on that instance to get the shape matrix\n",
    "#   Doing the comparison using np.all(np.isclose())\n",
    "assert np.all(np.isclose(get_base(arm_geometry_fk).get_shape_matrix(), mat_base_check))\n",
    "\n",
    "# TODO: Use the get methods and the correct shape matrices above to check the rest of your matrices and\n",
    "#   your get functions\n",
    "\n",
    "assert np.all(np.isclose(get_link(arm_geometry_fk, 0).get_shape_matrix(), mat_link1_check))\n",
    "assert np.all(np.isclose(get_link(arm_geometry_fk, 1).get_shape_matrix(), mat_link2_check))\n",
    "assert np.all(np.isclose(get_link(arm_geometry_fk, 2).get_shape_matrix(), mat_link3_check))\n",
    "\n",
    "assert np.all(np.isclose(get_gripper(arm_geometry_fk)[0].get_shape_matrix(), mat_palm_check))\n",
    "assert np.all(np.isclose(get_gripper(arm_geometry_fk)[1].get_shape_matrix(), mat_finger_top_check))\n",
    "assert np.all(np.isclose(get_gripper(arm_geometry_fk)[2].get_shape_matrix(), mat_finger_bot_check))"
   ]
  },
  {
   "cell_type": "code",
   "execution_count": 14,
   "metadata": {
    "deletable": false,
    "editable": false
   },
   "outputs": [
    {
     "data": {
      "text/html": [
       "<p><strong><pre style='display: inline;'>build_arm</pre></strong> passed! 🚀</p>"
      ],
      "text/plain": [
       "build_arm results: All test cases passed!"
      ]
     },
     "execution_count": 14,
     "metadata": {},
     "output_type": "execute_result"
    }
   ],
   "source": [
    "grader.check(\"build_arm\")"
   ]
  },
  {
   "cell_type": "markdown",
   "metadata": {},
   "source": [
    "### Week 1, part 2: Forward kinematics\n",
    "\n",
    "Although only one function is supplied here (**set_matrices_all_components**) you'll probably want to make some additional ones.\n",
    "\n",
    "(See homework slides) Each component has a \"chain\" of matrices that takes the link to the right location. This chain consists of alternating rotation and translation matrices. Each chain consists of all of the translations and rotations for the previous links plus a translation and rotation matrix for the current link. The gripper has the longest chain - it consists of all of the rotations and translation for every link. The fingers have one more (optional).\n",
    "\n",
    "One confusing thing is that the *last* matrix to be applied is the first one in the chain, reading from left to right in the code (see slides for why). \n",
    "\n",
    "There is one \"special\" matrix - this is the one that takes the first link to the top of the base, pointed up. This is the *last* matrix in the chain. \n",
    "\n",
    "Building the chain is the same for all of the links, so you can do this in a **for** loop. This loop is a bit tricky because you don't *quite* take the matrix from the previous link and just add the next rotation/translation pair in the chain. So your code will look like:\n",
    "\n",
    "**matrix_chain =** special base matrix\n",
    "\n",
    "-Set the matrix pose for the current link using the matrix_chain and the link's rotation\n",
    "-Add the right rotation/translation pair to the chain in **matrix_chain**\n",
    "\n",
    "The palm and fingers can be treated as just another link. If you're doing the optional finger rotation you'll just want to rotate the fingers by the right amount and then add that matrix to the end of the matrix you used for the palm (as done in the lab).\n",
    "\n",
    "If the **for** loop is challenging, just set each matrix in turn and then look for the pattern.\n",
    "\n",
    "For full credit this has to work no matter what the link lengths are and how many links there are (hence the **for** loop)\n",
    "\n",
    "Reminder that you should be using the **set_pose_matrix** method to set the matrices for the components (so it plots properly)."
   ]
  },
  {
   "cell_type": "code",
   "execution_count": 15,
   "metadata": {
    "tags": []
   },
   "outputs": [
    {
     "name": "stdout",
     "output_type": "stream",
     "text": [
      "Angle rotated by 1.5707963267948966\n"
     ]
    },
    {
     "data": {
      "image/png": "[encoded data removed]",
      "text/plain": [
       "<Figure size 600x300 with 2 Axes>"
      ]
     },
     "metadata": {},
     "output_type": "display_data"
    }
   ],
   "source": [
    "# EXAMPLE CODE\n",
    "# Getting out where the base of the matrix is and what rotation to use.\n",
    "\n",
    "# This is the matrix that transforms the base\n",
    "#  The first item in the arm geometry list is the base\n",
    "arm_component_base = get_base(arm_geometry_fk)\n",
    "arm_component_no_transform = ArmComponent(name=\"Base No transform\", color=\"grey\", shape_to_use=\"wedge\")\n",
    "\n",
    "# Draw the wedge in it's original location, with the point we're interested in (and direction)\n",
    "pt_on_top = np.array([0, 1, 1]).transpose()\n",
    "vec_on_top = np.array([0, 1, 0]).transpose()\n",
    "\n",
    "fig, axs = plt.subplots(1, 2, figsize=(6, 3))\n",
    "axs[0].set_title(\"Wedge with pt\")\n",
    "arm_component_no_transform.plot(axs[0], b_do_pose_matrix=False)\n",
    "axs[0].plot(pt_on_top[0], pt_on_top[1], 'Xk')\n",
    "axs[0].arrow(x=pt_on_top[0], y=pt_on_top[1], dx=vec_on_top[0], dy=vec_on_top[1], color=\"red\")\n",
    "\n",
    "# Multiply the point and the vector by the matrix base's matrix\n",
    "pt_on_top_moved = arm_component_base.get_shape_matrix() @ pt_on_top\n",
    "vec_on_top_moved = arm_component_base.get_shape_matrix() @ vec_on_top\n",
    "axs[1].set_title(\"Wedge with pt moved\")\n",
    "arm_component_base.plot(axs[1], b_do_pose_matrix=False)\n",
    "axs[1].plot(pt_on_top_moved[0], pt_on_top_moved[1], 'Xk')\n",
    "axs[1].arrow(x=pt_on_top_moved[0], y=pt_on_top_moved[1], dx=vec_on_top_moved[0], dy=vec_on_top_moved[1], color=\"red\")\n",
    "\n",
    "# arctan2 gets the arc tangent of the y, x, and correctly handles the quadrants\n",
    "angle_of_rotation = np.arctan2(vec_on_top_moved[1], vec_on_top_moved[0])\n",
    "\n",
    "print(f\"Angle rotated by {angle_of_rotation}\")"
   ]
  },
  {
   "cell_type": "code",
   "execution_count": 16,
   "metadata": {
    "tags": []
   },
   "outputs": [],
   "source": [
    "# Add one cell for each additional function you add\n",
    "def get_base_link(base_matrix):\n",
    "    base_top = base_matrix @ np.transpose(np.array([0.0, 1.0, 1.0]))\n",
    "\n",
    "    R = mt.make_rotation_matrix(np.pi/2)\n",
    "    T = mt.make_translation_matrix(base_top[0], base_top[1])\n",
    "\n",
    "    return T @ R"
   ]
  },
  {
   "cell_type": "code",
   "execution_count": null,
   "metadata": {
    "tags": []
   },
   "outputs": [
    {
     "ename": "NameError",
     "evalue": "name 'angles_none' is not defined",
     "output_type": "error",
     "traceback": [
      "\u001b[0;31m---------------------------------------------------------------------------\u001b[0m",
      "\u001b[0;31mNameError\u001b[0m                                 Traceback (most recent call last)",
      "Cell \u001b[0;32mIn[17], line 54\u001b[0m\n\u001b[1;32m     48\u001b[0m     \u001b[38;5;66;03m# TODO (optional):\u001b[39;00m\n\u001b[1;32m     49\u001b[0m     \u001b[38;5;66;03m#   Translate the base of the finger back to the origin, rotate it, then translate it back out\u001b[39;00m\n\u001b[1;32m     50\u001b[0m     \u001b[38;5;66;03m#   Reminder: The middle of the finger can be found using mt.get_dx_dy_from_matrix\u001b[39;00m\n\u001b[1;32m     51\u001b[0m     \u001b[38;5;66;03m#    Note: You want to move the base of the finger, NOT the middle, to the origin before you do the rotate\u001b[39;00m\n\u001b[1;32m     52\u001b[0m     \u001b[38;5;241m.\u001b[39m\u001b[38;5;241m.\u001b[39m\u001b[38;5;241m.\u001b[39m\n\u001b[0;32m---> 54\u001b[0m \u001b[38;5;28mprint\u001b[39m(set_matrices_all_components(arm_geometry_fk, \u001b[43mangles_none\u001b[49m))\n",
      "\u001b[0;31mNameError\u001b[0m: name 'angles_none' is not defined"
     ]
    }
   ],
   "source": [
    "\n",
    "def set_matrices_all_components(arm_geometry, angles_list):\n",
    "    \"\"\" For each component, set the matrix that takes the link to its final location.\n",
    "    In other words, call set_pose_matrix() for each component with the appropriate matrix\n",
    "    \n",
    "    The base matrix should be the identity\n",
    "    @param arm_geometry - the arm geometry data structure you created\n",
    "    @param angles_list - a list of angles, one for each link, one for the palm, and one for the fingers\n",
    "    \"\"\"\n",
    "\n",
    "    # TODO: Set the pose matrix for each arm component\n",
    "\n",
    "    # The base link - it doesn't move, so this is the identity matrix. Setting here just to show the syntax of it\n",
    "    get_base(arm_geometry).set_pose_matrix(np.identity(3))\n",
    "\n",
    "\n",
    "\n",
    "    # TODO:\n",
    "    #  The first link matrix needs to rotate the link, then translate it to the top of the base, pointing up\n",
    "    #  Build the latter part of that matrix by figuring out where (0.0, 1.0) on the base wedge went in the world coordinate. (see Example code in JN)\n",
    "    #    Remember that the shape matrix can be gotten by get_shape_matrix\n",
    "    #  Step 1: Get the matrix from the base link\n",
    "    #  Step 2: Find the point in the world coordinate, which is (0.0,1.0) in the base wedge coordinate.\n",
    "    #          (point_in_world = matrix @ point_in_local, Remember that the matrix is 3x3.)\n",
    "    #  Step 3: Rotate first to point up, then translate (Point in step 2)\n",
    "    base_matrix = get_base_link(get_base(arm_geometry).get_shape_matrix())\n",
    "\n",
    "    # Double checking that the geometry has the same number of links as the angles\n",
    "    assert get_n_links(arm_geometry) == len(angles_list) - 1\n",
    "    \n",
    "    for ilink, ang in enumerate(angles_list[0:-1]):\n",
    "        # TODO \n",
    "        # Keep a matrix that does all of the transforms up to that point (getting the link\n",
    "        #  to the end of the last link and then rotating by that link) then append the rotation matrix for the link\n",
    "        # See Homework slides\n",
    "        # This is the current link\n",
    "        link_to_edit = get_link(arm_geometry, ilink)\n",
    "        link_to_edit.set_pose_matrix(base_matrix @ mt.make_rotation_matrix(ang))\n",
    "        R = mt.make_rotation_matrix(ang)\n",
    "        T = mt.make_translation_matrix(link_to_edit.link_length)\n",
    "\n",
    "        link_to_edit.angle = ang\n",
    "\n",
    "        base_matrix = base_matrix @ R @ T\n",
    "\n",
    "    # Now do the gripper (palm) - the fingers are optional\n",
    "    # If you don't do the fingers, just use the same matrix for the palm AND the fingers\n",
    "    palm_obj, top_finger_obj, bot_finger_obj = get_gripper(arm_geometry)\n",
    "    palm_angle = angles_list[-1][0]\n",
    "    finger_angle = angles_list[-1][1]\n",
    "\n",
    "    # TODO Set the matrix pose for the palm. This is exactly the same as setting the link pose\n",
    "    palm_obj.angle = palm_angle\n",
    "    palm_obj.set_pose_matrix(base_matrix)\n",
    "\n",
    "    # TODO (optional):\n",
    "    #   Translate the base of the finger back to the origin, rotate it, then translate it back out\n",
    "    #   Reminder: The middle of the finger can be found using mt.get_dx_dy_from_matrix\n",
    "    #    Note: You want to move the base of the finger, NOT the middle, to the origin before you do the rotate\n",
    "    ...\n",
    "\n",
    "print(set_matrices_all_components(arm_geometry_fk, angles_none))"
   ]
  },
  {
   "cell_type": "code",
   "execution_count": null,
   "metadata": {
    "tags": []
   },
   "outputs": [],
   "source": [
    "## Check the combined link/gripper/finger rotations\n",
    "# Several different angles to check your routines with \n",
    "# Pass the one you want to check into set_matrices_all_components in the cell below\n",
    "#  Feel free to change these\n",
    "angles_none = [0.0, 0.0, 0.0, [0.0, 0.0]]\n",
    "angles_check_link_0 = [np.pi/4, 0.0, 0.0, [0.0, 0.0]]\n",
    "angles_check_link_0_1 = [np.pi/4, -np.pi/4, 0.0, [0.0, 0.0]]\n",
    "angles_check_wrist = [np.pi/2, -np.pi/4, -3.0 * np.pi/4, [np.pi/3.0, 0.0]]\n",
    "angles_check_fingers = [np.pi/2, -np.pi/4, -3.0 * np.pi/4, [0.0, np.pi/4.0]]\n",
    "\n",
    "# Don't change this one\n",
    "angles_check = [np.pi/2, -np.pi/4, -3.0 * np.pi/4, [np.pi/3.0, np.pi/4.0]]\n"
   ]
  },
  {
   "cell_type": "code",
   "execution_count": null,
   "metadata": {
    "tags": []
   },
   "outputs": [],
   "source": [
    "# Plotting function - this just uses the get_xx functions and the plot function on each component\n",
    "def plot_complete_arm(axs, arm_geometry):\n",
    "    \"\"\" Plot all arm components in the same window\n",
    "    @param axs are the axes of the plot window\n",
    "    @param arm is your data structure\"\"\"\n",
    "\n",
    "    # Put the box around the figure\n",
    "    box_pts = mt.make_scale_matrix(0.75, 0.75) @ ArmComponent.points_in_a_square()\n",
    "    axs.plot(box_pts[0, :], box_pts[1, :], color=\"lightgrey\", linestyle='solid')\n",
    "\n",
    "    # The base and links\n",
    "    get_base(arm_geometry).plot(axs, b_do_pose_matrix=True)\n",
    "    for ilink in range(0, get_n_links(arm_geometry)):\n",
    "        get_link(arm_geometry, ilink).plot(axs, b_do_pose_matrix=True)\n",
    "\n",
    "    # The gripper\n",
    "    for component in get_gripper(arm_geometry):\n",
    "        component.plot(axs, b_do_pose_matrix=True)\n",
    "\n",
    "    axs.set_title(\"Arm\")\n",
    "    axs.axis(\"equal\")\n",
    "    axs.legend(loc=\"lower left\")\n"
   ]
  },
  {
   "cell_type": "code",
   "execution_count": null,
   "metadata": {
    "tags": []
   },
   "outputs": [
    {
     "ename": "AttributeError",
     "evalue": "'tuple' object has no attribute 'get_pose_matrix'",
     "output_type": "error",
     "traceback": [
      "\u001b[0;31m---------------------------------------------------------------------------\u001b[0m",
      "\u001b[0;31mAttributeError\u001b[0m                            Traceback (most recent call last)",
      "Cell \u001b[0;32mIn[141], line 4\u001b[0m\n\u001b[1;32m      1\u001b[0m \u001b[38;5;66;03m# Use this cell to visually check the results\u001b[39;00m\n\u001b[1;32m      2\u001b[0m \u001b[38;5;66;03m# With angles_none it should point straight up\u001b[39;00m\n\u001b[1;32m      3\u001b[0m \u001b[38;5;66;03m# TODO: Change angles_check to be the angles above to check various pieces\u001b[39;00m\n\u001b[0;32m----> 4\u001b[0m \u001b[43mset_matrices_all_components\u001b[49m\u001b[43m(\u001b[49m\u001b[43marm_geometry_fk\u001b[49m\u001b[43m,\u001b[49m\u001b[43m \u001b[49m\u001b[43mangles_check\u001b[49m\u001b[43m)\u001b[49m\n\u001b[1;32m      6\u001b[0m fig, axs \u001b[38;5;241m=\u001b[39m plt\u001b[38;5;241m.\u001b[39msubplots(\u001b[38;5;241m1\u001b[39m, \u001b[38;5;241m1\u001b[39m, figsize\u001b[38;5;241m=\u001b[39m(\u001b[38;5;241m6\u001b[39m, \u001b[38;5;241m6\u001b[39m))\n\u001b[1;32m      7\u001b[0m plot_complete_arm(axs, arm_geometry_fk)\n",
      "Cell \u001b[0;32mIn[136], line 17\u001b[0m, in \u001b[0;36mset_matrices_all_components\u001b[0;34m(arm_geometry, angles_list)\u001b[0m\n\u001b[1;32m     13\u001b[0m get_base(arm_geometry)\u001b[38;5;241m.\u001b[39mset_pose_matrix(np\u001b[38;5;241m.\u001b[39midentity(\u001b[38;5;241m3\u001b[39m))\n\u001b[1;32m     15\u001b[0m link_matrices \u001b[38;5;241m=\u001b[39m link_pose_matrix(arm_geometry)\n\u001b[0;32m---> 17\u001b[0m \u001b[38;5;28mprint\u001b[39m(\u001b[43mget_gripper\u001b[49m\u001b[43m(\u001b[49m\u001b[43marm_geometry\u001b[49m\u001b[43m)\u001b[49m\u001b[38;5;241;43m.\u001b[39;49m\u001b[43mget_pose_matrix\u001b[49m())\n\u001b[1;32m     22\u001b[0m \u001b[38;5;66;03m# TODO:\u001b[39;00m\n\u001b[1;32m     23\u001b[0m \u001b[38;5;66;03m#  The first link matrix needs to rotate the link, then translate it to the top of the base, pointing up\u001b[39;00m\n\u001b[1;32m     24\u001b[0m \u001b[38;5;66;03m#  Build the latter part of that matrix by figuring out where (0.0, 1.0) on the base wedge went in the world coordinate. (see Example code in JN)\u001b[39;00m\n\u001b[0;32m   (...)\u001b[0m\n\u001b[1;32m     33\u001b[0m \n\u001b[1;32m     34\u001b[0m \u001b[38;5;66;03m# Double checking that the geometry has the same number of links as the angles\u001b[39;00m\n\u001b[1;32m     35\u001b[0m \u001b[38;5;28;01massert\u001b[39;00m get_n_links(arm_geometry) \u001b[38;5;241m==\u001b[39m \u001b[38;5;28mlen\u001b[39m(angles_list) \u001b[38;5;241m-\u001b[39m \u001b[38;5;241m1\u001b[39m\n",
      "\u001b[0;31mAttributeError\u001b[0m: 'tuple' object has no attribute 'get_pose_matrix'"
     ]
    }
   ],
   "source": [
    "# Use this cell to visually check the results\n",
    "# With angles_none it should point straight up\n",
    "# TODO: Change angles_check to be the angles above to check various pieces\n",
    "set_matrices_all_components(arm_geometry_fk, angles_check)\n",
    "\n",
    "fig, axs = plt.subplots(1, 1, figsize=(6, 6))\n",
    "plot_complete_arm(axs, arm_geometry_fk)"
   ]
  },
  {
   "cell_type": "code",
   "execution_count": null,
   "metadata": {
    "tags": []
   },
   "outputs": [
    {
     "ename": "AttributeError",
     "evalue": "'tuple' object has no attribute 'get_pose_matrix'",
     "output_type": "error",
     "traceback": [
      "\u001b[0;31m---------------------------------------------------------------------------\u001b[0m",
      "\u001b[0;31mAttributeError\u001b[0m                            Traceback (most recent call last)",
      "Cell \u001b[0;32mIn[142], line 3\u001b[0m\n\u001b[1;32m      1\u001b[0m \u001b[38;5;66;03m# Don't change this one - the cells below assume these are the angles\u001b[39;00m\n\u001b[1;32m      2\u001b[0m angles_check \u001b[38;5;241m=\u001b[39m [np\u001b[38;5;241m.\u001b[39mpi\u001b[38;5;241m/\u001b[39m\u001b[38;5;241m2\u001b[39m, \u001b[38;5;241m-\u001b[39mnp\u001b[38;5;241m.\u001b[39mpi\u001b[38;5;241m/\u001b[39m\u001b[38;5;241m4\u001b[39m, \u001b[38;5;241m-\u001b[39m\u001b[38;5;241m3.0\u001b[39m \u001b[38;5;241m*\u001b[39m np\u001b[38;5;241m.\u001b[39mpi\u001b[38;5;241m/\u001b[39m\u001b[38;5;241m4\u001b[39m, [np\u001b[38;5;241m.\u001b[39mpi\u001b[38;5;241m/\u001b[39m\u001b[38;5;241m3.0\u001b[39m, np\u001b[38;5;241m.\u001b[39mpi\u001b[38;5;241m/\u001b[39m\u001b[38;5;241m4.0\u001b[39m]]\n\u001b[0;32m----> 3\u001b[0m \u001b[43mset_matrices_all_components\u001b[49m\u001b[43m(\u001b[49m\u001b[43marm_geometry_fk\u001b[49m\u001b[43m,\u001b[49m\u001b[43m \u001b[49m\u001b[43mangles_check\u001b[49m\u001b[43m)\u001b[49m\n",
      "Cell \u001b[0;32mIn[136], line 17\u001b[0m, in \u001b[0;36mset_matrices_all_components\u001b[0;34m(arm_geometry, angles_list)\u001b[0m\n\u001b[1;32m     13\u001b[0m get_base(arm_geometry)\u001b[38;5;241m.\u001b[39mset_pose_matrix(np\u001b[38;5;241m.\u001b[39midentity(\u001b[38;5;241m3\u001b[39m))\n\u001b[1;32m     15\u001b[0m link_matrices \u001b[38;5;241m=\u001b[39m link_pose_matrix(arm_geometry)\n\u001b[0;32m---> 17\u001b[0m \u001b[38;5;28mprint\u001b[39m(\u001b[43mget_gripper\u001b[49m\u001b[43m(\u001b[49m\u001b[43marm_geometry\u001b[49m\u001b[43m)\u001b[49m\u001b[38;5;241;43m.\u001b[39;49m\u001b[43mget_pose_matrix\u001b[49m())\n\u001b[1;32m     22\u001b[0m \u001b[38;5;66;03m# TODO:\u001b[39;00m\n\u001b[1;32m     23\u001b[0m \u001b[38;5;66;03m#  The first link matrix needs to rotate the link, then translate it to the top of the base, pointing up\u001b[39;00m\n\u001b[1;32m     24\u001b[0m \u001b[38;5;66;03m#  Build the latter part of that matrix by figuring out where (0.0, 1.0) on the base wedge went in the world coordinate. (see Example code in JN)\u001b[39;00m\n\u001b[0;32m   (...)\u001b[0m\n\u001b[1;32m     33\u001b[0m \n\u001b[1;32m     34\u001b[0m \u001b[38;5;66;03m# Double checking that the geometry has the same number of links as the angles\u001b[39;00m\n\u001b[1;32m     35\u001b[0m \u001b[38;5;28;01massert\u001b[39;00m get_n_links(arm_geometry) \u001b[38;5;241m==\u001b[39m \u001b[38;5;28mlen\u001b[39m(angles_list) \u001b[38;5;241m-\u001b[39m \u001b[38;5;241m1\u001b[39m\n",
      "\u001b[0;31mAttributeError\u001b[0m: 'tuple' object has no attribute 'get_pose_matrix'"
     ]
    }
   ],
   "source": [
    "# Don't change this one - the cells below assume these are the angles\n",
    "angles_check = [np.pi/2, -np.pi/4, -3.0 * np.pi/4, [np.pi/3.0, np.pi/4.0]]\n",
    "set_matrices_all_components(arm_geometry_fk, angles_check)\n"
   ]
  },
  {
   "cell_type": "code",
   "execution_count": null,
   "metadata": {
    "tags": []
   },
   "outputs": [
    {
     "name": "stdout",
     "output_type": "stream",
     "text": [
      "[[1.0000 0.0000 0.0000]\n",
      " [0.0000 1.0000 0.0000]\n",
      " [0.0000 0.0000 1.0000]]\n"
     ]
    }
   ],
   "source": [
    "# Check the returned values\n",
    "np.set_printoptions(precision=4, floatmode='fixed')  # Print out with 4 digits of precision\n",
    "\n",
    "mat_check_base = np.identity(3)\n",
    "print(get_base(arm_geometry_fk).get_pose_matrix())\n",
    "assert np.all(np.isclose(get_base(arm_geometry_fk).get_pose_matrix(), mat_check_base, atol=0.01))"
   ]
  },
  {
   "cell_type": "code",
   "execution_count": null,
   "metadata": {
    "tags": []
   },
   "outputs": [
    {
     "name": "stdout",
     "output_type": "stream",
     "text": [
      "[[1.0000 0.0000 0.0000]\n",
      " [0.0000 1.0000 0.0000]\n",
      " [0.0000 0.0000 1.0000]]\n"
     ]
    },
    {
     "ename": "AssertionError",
     "evalue": "",
     "output_type": "error",
     "traceback": [
      "\u001b[0;31m---------------------------------------------------------------------------\u001b[0m",
      "\u001b[0;31mAssertionError\u001b[0m                            Traceback (most recent call last)",
      "Cell \u001b[0;32mIn[144], line 15\u001b[0m\n\u001b[1;32m     13\u001b[0m \u001b[38;5;28;01mfor\u001b[39;00m ilink, m \u001b[38;5;129;01min\u001b[39;00m \u001b[38;5;28menumerate\u001b[39m((mat_check_link_1, mat_check_link_2, mat_check_link_3)):\n\u001b[1;32m     14\u001b[0m     \u001b[38;5;28mprint\u001b[39m(get_link(arm_geometry_fk, ilink)\u001b[38;5;241m.\u001b[39mget_pose_matrix())\n\u001b[0;32m---> 15\u001b[0m     \u001b[38;5;28;01massert\u001b[39;00m(np\u001b[38;5;241m.\u001b[39mall(np\u001b[38;5;241m.\u001b[39misclose(get_link(arm_geometry_fk, ilink)\u001b[38;5;241m.\u001b[39mget_pose_matrix(), m, atol\u001b[38;5;241m=\u001b[39m\u001b[38;5;241m0.01\u001b[39m)))\n",
      "\u001b[0;31mAssertionError\u001b[0m: "
     ]
    }
   ],
   "source": [
    "mat_check_link_1 = np.array([[ -1.0,  0.0,  0.0], \\\n",
    "                             [  0.0, -1.0,  0.5], \\\n",
    "                             [  0.0,  0.0,  1.0]])\n",
    "                             \n",
    "mat_check_link_2 = np.array([[ -0.7071, -0.7071, -0.5], \\\n",
    "                             [  0.7071, -0.7071,  0.5], \\\n",
    "                             [  0.0,     0.0,  1.0]])\n",
    "\n",
    "mat_check_link_3 = np.array([[ 1.0, 0.0, -0.71213], \\\n",
    "                             [ 0.0, 1.0,  0.71213], \\\n",
    "                             [ 0.0, 0.0,  1.0]])\n",
    "\n",
    "for ilink, m in enumerate((mat_check_link_1, mat_check_link_2, mat_check_link_3)):\n",
    "    print(get_link(arm_geometry_fk, ilink).get_pose_matrix())\n",
    "    assert(np.all(np.isclose(get_link(arm_geometry_fk, ilink).get_pose_matrix(), m, atol=0.01)))"
   ]
  },
  {
   "cell_type": "code",
   "execution_count": null,
   "metadata": {
    "tags": []
   },
   "outputs": [
    {
     "name": "stdout",
     "output_type": "stream",
     "text": [
      "[[1.0000 0.0000 0.0000]\n",
      " [0.0000 1.0000 0.0000]\n",
      " [0.0000 0.0000 1.0000]]\n"
     ]
    },
    {
     "ename": "AssertionError",
     "evalue": "",
     "output_type": "error",
     "traceback": [
      "\u001b[0;31m---------------------------------------------------------------------------\u001b[0m",
      "\u001b[0;31mAssertionError\u001b[0m                            Traceback (most recent call last)",
      "Cell \u001b[0;32mIn[145], line 5\u001b[0m\n\u001b[1;32m      1\u001b[0m mat_check_wrist \u001b[38;5;241m=\u001b[39m np\u001b[38;5;241m.\u001b[39marray([[ \u001b[38;5;241m0.5\u001b[39m, \u001b[38;5;241m-\u001b[39m\u001b[38;5;241m0.8660\u001b[39m,  \u001b[38;5;241m-\u001b[39m\u001b[38;5;241m0.5121\u001b[39m], \\\n\u001b[1;32m      2\u001b[0m                             [ \u001b[38;5;241m0.8660\u001b[39m,  \u001b[38;5;241m0.5\u001b[39m,   \u001b[38;5;241m0.7121\u001b[39m], \\\n\u001b[1;32m      3\u001b[0m                             [ \u001b[38;5;241m0.0\u001b[39m,  \u001b[38;5;241m0.0\u001b[39m,  \u001b[38;5;241m1.0\u001b[39m]])\n\u001b[1;32m      4\u001b[0m \u001b[38;5;28mprint\u001b[39m(get_gripper(arm_geometry_fk)[\u001b[38;5;241m0\u001b[39m]\u001b[38;5;241m.\u001b[39mget_pose_matrix())\n\u001b[0;32m----> 5\u001b[0m \u001b[38;5;28;01massert\u001b[39;00m np\u001b[38;5;241m.\u001b[39mall(np\u001b[38;5;241m.\u001b[39misclose(get_gripper(arm_geometry_fk)[\u001b[38;5;241m0\u001b[39m]\u001b[38;5;241m.\u001b[39mget_pose_matrix(), mat_check_wrist, atol\u001b[38;5;241m=\u001b[39m\u001b[38;5;241m0.01\u001b[39m))\n",
      "\u001b[0;31mAssertionError\u001b[0m: "
     ]
    }
   ],
   "source": [
    "mat_check_wrist = np.array([[ 0.5, -0.8660,  -0.5121], \\\n",
    "                            [ 0.8660,  0.5,   0.7121], \\\n",
    "                            [ 0.0,  0.0,  1.0]])\n",
    "print(get_gripper(arm_geometry_fk)[0].get_pose_matrix())\n",
    "assert np.all(np.isclose(get_gripper(arm_geometry_fk)[0].get_pose_matrix(), mat_check_wrist, atol=0.01))"
   ]
  },
  {
   "cell_type": "code",
   "execution_count": null,
   "metadata": {
    "deletable": false,
    "editable": false
   },
   "outputs": [
    {
     "data": {
      "text/html": [
       "<p><strong style='color: red;'><pre style='display: inline;'>forward_ik</pre> results:</strong></p><p><strong><pre style='display: inline;'>forward_ik - 1</pre> result:</strong></p><pre>    ✅ Test case passed</pre><p><strong><pre style='display: inline;'>forward_ik - 2</pre> result:</strong></p><pre>    ✅ Test case passed</pre><p><strong><pre style='display: inline;'>forward_ik - 3</pre> result:</strong></p><pre>    ❌ Test case failed\n",
       "    Trying:\n",
       "        for ilink, m in enumerate((mat_check_link_1, mat_check_link_2, mat_check_link_3)):\n",
       "            assert np.all(np.isclose(get_link(arm_geometry_fk, ilink).get_pose_matrix(), m, atol=0.01))\n",
       "    Expecting nothing\n",
       "    **********************************************************************\n",
       "    Line 1, in forward_ik 2\n",
       "    Failed example:\n",
       "        for ilink, m in enumerate((mat_check_link_1, mat_check_link_2, mat_check_link_3)):\n",
       "            assert np.all(np.isclose(get_link(arm_geometry_fk, ilink).get_pose_matrix(), m, atol=0.01))\n",
       "    Exception raised:\n",
       "        Traceback (most recent call last):\n",
       "          File \"/home/cody/.pyenv/versions/3.12.7/lib/python3.12/doctest.py\", line 1368, in __run\n",
       "            exec(compile(example.source, filename, \"single\",\n",
       "          File \"<doctest forward_ik 2[0]>\", line 2, in <module>\n",
       "            assert np.all(np.isclose(get_link(arm_geometry_fk, ilink).get_pose_matrix(), m, atol=0.01))\n",
       "                   ^^^^^^^^^^^^^^^^^^^^^^^^^^^^^^^^^^^^^^^^^^^^^^^^^^^^^^^^^^^^^^^^^^^^^^^^^^^^^^^^^^^^\n",
       "        AssertionError\n",
       "</pre><p><strong><pre style='display: inline;'>forward_ik - 4</pre> result:</strong></p><pre>    ❌ Test case failed\n",
       "    Trying:\n",
       "        assert np.all(np.isclose(get_gripper(arm_geometry_fk)[0].get_pose_matrix(), mat_check_wrist, atol=0.01))\n",
       "    Expecting nothing\n",
       "    **********************************************************************\n",
       "    Line 1, in forward_ik 3\n",
       "    Failed example:\n",
       "        assert np.all(np.isclose(get_gripper(arm_geometry_fk)[0].get_pose_matrix(), mat_check_wrist, atol=0.01))\n",
       "    Exception raised:\n",
       "        Traceback (most recent call last):\n",
       "          File \"/home/cody/.pyenv/versions/3.12.7/lib/python3.12/doctest.py\", line 1368, in __run\n",
       "            exec(compile(example.source, filename, \"single\",\n",
       "          File \"<doctest forward_ik 3[0]>\", line 1, in <module>\n",
       "            assert np.all(np.isclose(get_gripper(arm_geometry_fk)[0].get_pose_matrix(), mat_check_wrist, atol=0.01))\n",
       "                   ^^^^^^^^^^^^^^^^^^^^^^^^^^^^^^^^^^^^^^^^^^^^^^^^^^^^^^^^^^^^^^^^^^^^^^^^^^^^^^^^^^^^^^^^^^^^^^^^^\n",
       "        AssertionError\n",
       "</pre>"
      ],
      "text/plain": [
       "forward_ik results:\n",
       "    forward_ik - 1 result:\n",
       "        ✅ Test case passed\n",
       "\n",
       "    forward_ik - 2 result:\n",
       "        ✅ Test case passed\n",
       "\n",
       "    forward_ik - 3 result:\n",
       "        ❌ Test case failed\n",
       "        Trying:\n",
       "            for ilink, m in enumerate((mat_check_link_1, mat_check_link_2, mat_check_link_3)):\n",
       "                assert np.all(np.isclose(get_link(arm_geometry_fk, ilink).get_pose_matrix(), m, atol=0.01))\n",
       "        Expecting nothing\n",
       "        **********************************************************************\n",
       "        Line 1, in forward_ik 2\n",
       "        Failed example:\n",
       "            for ilink, m in enumerate((mat_check_link_1, mat_check_link_2, mat_check_link_3)):\n",
       "                assert np.all(np.isclose(get_link(arm_geometry_fk, ilink).get_pose_matrix(), m, atol=0.01))\n",
       "        Exception raised:\n",
       "            Traceback (most recent call last):\n",
       "              File \"/home/cody/.pyenv/versions/3.12.7/lib/python3.12/doctest.py\", line 1368, in __run\n",
       "                exec(compile(example.source, filename, \"single\",\n",
       "              File \"<doctest forward_ik 2[0]>\", line 2, in <module>\n",
       "                assert np.all(np.isclose(get_link(arm_geometry_fk, ilink).get_pose_matrix(), m, atol=0.01))\n",
       "                       ^^^^^^^^^^^^^^^^^^^^^^^^^^^^^^^^^^^^^^^^^^^^^^^^^^^^^^^^^^^^^^^^^^^^^^^^^^^^^^^^^^^^\n",
       "            AssertionError\n",
       "\n",
       "    forward_ik - 4 result:\n",
       "        ❌ Test case failed\n",
       "        Trying:\n",
       "            assert np.all(np.isclose(get_gripper(arm_geometry_fk)[0].get_pose_matrix(), mat_check_wrist, atol=0.01))\n",
       "        Expecting nothing\n",
       "        **********************************************************************\n",
       "        Line 1, in forward_ik 3\n",
       "        Failed example:\n",
       "            assert np.all(np.isclose(get_gripper(arm_geometry_fk)[0].get_pose_matrix(), mat_check_wrist, atol=0.01))\n",
       "        Exception raised:\n",
       "            Traceback (most recent call last):\n",
       "              File \"/home/cody/.pyenv/versions/3.12.7/lib/python3.12/doctest.py\", line 1368, in __run\n",
       "                exec(compile(example.source, filename, \"single\",\n",
       "              File \"<doctest forward_ik 3[0]>\", line 1, in <module>\n",
       "                assert np.all(np.isclose(get_gripper(arm_geometry_fk)[0].get_pose_matrix(), mat_check_wrist, atol=0.01))\n",
       "                       ^^^^^^^^^^^^^^^^^^^^^^^^^^^^^^^^^^^^^^^^^^^^^^^^^^^^^^^^^^^^^^^^^^^^^^^^^^^^^^^^^^^^^^^^^^^^^^^^^\n",
       "            AssertionError"
      ]
     },
     "execution_count": 146,
     "metadata": {},
     "output_type": "execute_result"
    }
   ],
   "source": [
    "grader.check(\"forward_ik\")"
   ]
  },
  {
   "cell_type": "markdown",
   "metadata": {
    "deletable": false,
    "editable": false
   },
   "source": [
    "# Week 2: Gripper location\n",
    "\n",
    "TODO: edit **get_gripper_location** to return the x,y location of the gripper.\n",
    "\n",
    "A reminder that the grasp location is offset from the palm by a bit"
   ]
  },
  {
   "cell_type": "code",
   "execution_count": null,
   "metadata": {
    "tags": []
   },
   "outputs": [],
   "source": [
    "def get_gripper_location(arm_geometry, perc_along_fingers):\n",
    "    \"\"\" Get the gripper grasp location (between the fingers) given the arm\n",
    "    Assumes the matrices for each component have been set already\n",
    "    Assumes the distance off the palm has been already been stored\n",
    "    @param arm_geometry\n",
    "    @param perc_along_fingers - percentage along the length of the fingers to use as the grasp location\n",
    "    @return x,y as a tuple - the location of the \"grasp\" point in the gripper\n",
    "    \"\"\"\n",
    "\n",
    "    # TODO:\n",
    "    # Step 1: Calculate the grasp distance off of the palm using the length of the fingers\n",
    "    # Step 1: Get the pose matrix for the palm\n",
    "    # Step 2: Multiply the palm matrix by [grasp_dist, 0] to get the location of the grasp\n",
    "    ...\n",
    "    # Format for returning a tuple\n",
    "    return (0, 0)\n"
   ]
  },
  {
   "cell_type": "code",
   "execution_count": null,
   "metadata": {
    "tags": []
   },
   "outputs": [],
   "source": [
    "# Check the gripper location function\n",
    "# As in the previous problem, you can use the \"simpler\" angles to check your function\n",
    "angles_check_gripper = [np.pi/3, -np.pi/6, 3.0 * np.pi/6, [-np.pi/4, np.pi/4.0]]\n",
    "\n",
    "# Making another copy of the arm geometry to use in these problems\n",
    "arm_geometry_gripper_check = create_arm_geometry(base_size_param, link_sizes_param, palm_width_param, finger_size_param)\n",
    "\n",
    "# Actually set the matrices\n",
    "set_matrices_all_components(arm_geometry_gripper_check, angles_check_gripper)\n",
    "\n",
    "# Check the trasp location is correct (there is plotting code in the next cell)\n",
    "grasp_loc = get_gripper_location(arm_geometry_gripper_check, 0.75)\n",
    "assert(np.isclose(grasp_loc[0], -0.8106, atol=0.01) and np.isclose(grasp_loc[1], 0.92437, atol=0.01))\n"
   ]
  },
  {
   "cell_type": "code",
   "execution_count": null,
   "metadata": {
    "tags": []
   },
   "outputs": [],
   "source": [
    "\n",
    "# Now actually plot - the grasp grip location should show up as a green cross\n",
    "fig2, axs2 = plt.subplots(1, 1, figsize=(6, 6))\n",
    "plot_complete_arm(axs2, arm_geometry_gripper_check)\n",
    "\n",
    "axs2.plot(grasp_loc[0], grasp_loc[1], '+g', label=\"Grasp location\")\n"
   ]
  },
  {
   "cell_type": "code",
   "execution_count": null,
   "metadata": {
    "tags": []
   },
   "outputs": [],
   "source": [
    "# Do NOT change these or the autograder tests won't work\n",
    "angles_check_gripper = [np.pi/3, -np.pi/6, 3.0 * np.pi/6, [-np.pi/4, np.pi/4.0]]\n",
    "\n",
    "# Actually set the matrices\n",
    "set_matrices_all_components(arm_geometry_gripper_check, angles_check_gripper)\n",
    "\n",
    "grasp_loc_check = get_gripper_location(arm_geometry_gripper_check, 0.75)"
   ]
  },
  {
   "cell_type": "code",
   "execution_count": null,
   "metadata": {
    "deletable": false,
    "editable": false
   },
   "outputs": [],
   "source": [
    "grader.check(\"gripper_loc\")"
   ]
  },
  {
   "cell_type": "markdown",
   "metadata": {},
   "source": [
    "## Generalization check\n",
    "\n",
    "If nothing has been \"hardwired\" in, this should just work - changing the geometry, the starting angles, the target point. However, if you've hardwired something in, it probably won't..."
   ]
  },
  {
   "cell_type": "code",
   "execution_count": null,
   "metadata": {
    "tags": []
   },
   "outputs": [],
   "source": [
    "# Create another arm geometry\n",
    "base_size_longer_param = (0.5, 0.25) # squished\n",
    "link_sizes_longer_param = [(0.3, 0.15), (0.2, 0.09), (0.1, 0.05), (0.075, 0.03)]\n",
    "palm_width_longer_param = 0.15\n",
    "finger_size_longer_param = (0.085, 0.015)\n",
    "\n",
    "\n",
    "# This function calls each of the set_transform_xxx functions, and puts the results\n",
    "# in a list (the gripper - the last element - is a list)\n",
    "arm_longer = create_arm_geometry(base_size_longer_param, link_sizes_longer_param, palm_width_longer_param, finger_size_longer_param)\n",
    "\n",
    "# Set the angles of the arm\n",
    "angles_start_longer = [-np.pi/4.0, -np.pi/4, 1.2 * np.pi/4, -1 * np.pi/8, [-np.pi/3.0, np.pi/6.0]]\n",
    "set_matrices_all_components(arm_longer, angles_start_longer)\n",
    "\n",
    "grasp_loc_longer_check = get_gripper_location(arm_longer, 0.5)\n",
    "\n",
    "\n",
    "assert np.all(np.isclose(grasp_loc_longer_check, (0.57220, 0.811941), atol=0.01))"
   ]
  },
  {
   "cell_type": "code",
   "execution_count": null,
   "metadata": {
    "tags": []
   },
   "outputs": [],
   "source": [
    "# Now actually plot - the grasp grip location should show up as a green cross\n",
    "fig3, axs3 = plt.subplots(1, 1, figsize=(6, 6))\n",
    "plot_complete_arm(axs3, arm_longer)\n",
    "\n",
    "axs3.plot(grasp_loc_longer_check[0], grasp_loc_longer_check[1], '+g', label=\"Grasp location\")\n"
   ]
  },
  {
   "cell_type": "code",
   "execution_count": null,
   "metadata": {
    "deletable": false,
    "editable": false
   },
   "outputs": [],
   "source": [
    "grader.check(\"generalization_check\")"
   ]
  },
  {
   "cell_type": "markdown",
   "metadata": {
    "deletable": false,
    "editable": false
   },
   "source": [
    "# FMin optimization\n",
    "\n",
    "In this problem you're going to write a function **distance_from_angles_for_fmin** that you will pass to fmin in order to have **fmin** find the angles that bring the gripper location to the target points\n",
    "\n",
    "TODO: Edit **do_fmin** to call **func_for_fmin** with the appropriate angles, etc\n"
   ]
  },
  {
   "cell_type": "code",
   "execution_count": null,
   "metadata": {
    "tags": []
   },
   "outputs": [],
   "source": [
    "def distance_from_angles_for_fmin(angles, arm_geometry, perc_along_fingers, target):\n",
    "    \"\"\" Compute the distance from the grasp point to the target\n",
    "    @param angles as a numpy array, one angle for each joint\n",
    "    @param arm_geometry - your data structure that stores the arm\n",
    "    @param perc_along_fingers - the distance from the palm that is the grasp (as a percentage of finger length)\n",
    "    @param target - a tuple with the desired x,y location\n",
    "    @return The distance between the target and the gripper grasp point\"\"\"\n",
    "\n",
    "    # TODO: step 1, convert the numpy array into the format we've been using for the angles\n",
    "    #  [a1, a2, a3, ... [ap, af]]\n",
    "    #  Set the angles of the fingers (af) to be zero\n",
    "    #  If there are 3 links, then angles will have four values (the last angle is the wrist/palm angle, ap)\n",
    "\n",
    "    angles_as_list = []\n",
    "    ...\n",
    "\n",
    "    # TODO: Call set_matrices_all_components with the arm_geometry and the angles you just created\n",
    "    #    This sets the Matrix_pose's to the correct values for these angles\n",
    "    ...\n",
    "\n",
    "    # TODO - call get_gripper_location to get gx, gy (the gripper location with these angles)\n",
    "    ...\n",
    "\n",
    "    # TODO - return any one of the above distance values. This should be a single number\n",
    "    return abs(gx - target[0]) + abs(gy - target[1])"
   ]
  },
  {
   "cell_type": "code",
   "execution_count": null,
   "metadata": {
    "tags": []
   },
   "outputs": [],
   "source": [
    "# Make a new copy of the arm\n",
    "arm_geometry_reach = create_arm_geometry(base_size_param, link_sizes_param, palm_width_param, finger_size_param)\n",
    "perc_along_fingers_reach = 0.75\n",
    "\n",
    "# Set the starting angles of the arm\n",
    "angles_start = [np.pi/6.0, -np.pi/4, 1.5 * np.pi/4, [np.pi/3.0, -np.pi/8.0]]\n",
    "set_matrices_all_components(arm_geometry_reach, angles_start)\n",
    "\n",
    "# Get the gripper location\n",
    "gx, gy = get_gripper_location(arm_geometry_reach, perc_along_fingers_reach)\n",
    "\n",
    "# Check that your function returns zero\n",
    "#   This converts the start angles to a numpy array\n",
    "angles_start_flat_list = [a for a in angles_start[0:-1]]\n",
    "angles_start_flat_list.append(angles_start[-1][0])                          \n",
    "angles_start_as_np_array = np.array(angles_start_flat_list)\n",
    "dist = distance_from_angles_for_fmin(angles=angles_start_as_np_array, \n",
    "                                     arm_geometry=arm_geometry_reach, \n",
    "                                     perc_along_fingers=perc_along_fingers_reach, \n",
    "                                     target=(gx, gy))\n",
    "\n",
    "assert(np.isclose(dist, 0.0))\n",
    "\n",
    "# Try some angles that should be further away\n",
    "angles_not_start_as_np_array = angles_start_as_np_array * 0.5\n",
    "dist_far_away = distance_from_angles_for_fmin(angles=angles_not_start_as_np_array, \n",
    "                                              arm_geometry=arm_geometry_reach, \n",
    "                                              perc_along_fingers=perc_along_fingers_reach, \n",
    "                                              target=(gx, gy))\n",
    "\n",
    "assert(dist_far_away > 0.0)"
   ]
  },
  {
   "cell_type": "code",
   "execution_count": null,
   "metadata": {
    "deletable": false,
    "editable": false
   },
   "outputs": [],
   "source": [
    "grader.check(\"optimization_dist_func\")"
   ]
  },
  {
   "cell_type": "markdown",
   "metadata": {
    "deletable": false,
    "editable": false
   },
   "source": [
    "## Do the fmin call\n",
    "\n",
    "Here you're going to set up the **fmin** call. As always, you can write this outside of the function call then put it in the function after it's working\n",
    "\n",
    "- First, convert the starting angles to a numpy array (see previous question)\n",
    "- Next, call fmin with the function distance_from_angles_for_fmin and a tuple that has the arm_geometry and the target in it\n"
   ]
  },
  {
   "cell_type": "code",
   "execution_count": null,
   "metadata": {
    "tags": []
   },
   "outputs": [],
   "source": [
    "def do_fmin(angles_start, arm_geometry, perc_along_fingers, target):\n",
    "    \"\"\" Set the angles/matrices of arm_geometry so they reach the target point\n",
    "    @param - angles to start with\n",
    "    @param - your arm geometry\n",
    "    @param - perc_along_fingers distance of the grasp point from palm\n",
    "    @param - the target as a tuple (x,y)\n",
    "    @return the arm geometry with the angles set to the result of calling fmin\n",
    "    \"\"\"\n",
    "    # TODO - convert the list of angles to a numpy array (see above)\n",
    "    angles_as_nparray = np.array([0, 0])\n",
    "    ...\n",
    "\n",
    "    # TODO - now call fmin with your function, the starting angles, and the remaining paramters in args\n",
    "    ...\n",
    "    # TODO - set arm_geometry's Matrix_pose to have the ones for these joint angles\n",
    "    #   You can either convert the angles back to a list or just call distance_from_angles_for_fmin\n",
    "    ...\n",
    "    return arm_geometry"
   ]
  },
  {
   "cell_type": "code",
   "execution_count": null,
   "metadata": {
    "tags": []
   },
   "outputs": [],
   "source": [
    "# You must start with these angles\n",
    "angles_start = [np.pi/6.0, -np.pi/4, 1.5 * np.pi/4, [np.pi/3.0, -np.pi/8.0]]\n",
    "# The target\n",
    "target = np.array([0.55, 1.15])\n",
    "\n",
    "arm_geometry_optimized = do_fmin(angles_start, arm_geometry_reach, perc_along_fingers_reach, target)"
   ]
  },
  {
   "cell_type": "code",
   "execution_count": null,
   "metadata": {
    "tags": []
   },
   "outputs": [],
   "source": [
    "assert(np.isclose(get_gripper_location(arm_geometry_optimized, perc_along_fingers_reach)[0], target[0], atol=0.01))\n",
    "assert(np.isclose(get_gripper_location(arm_geometry_optimized, perc_along_fingers_reach)[1], target[1], atol=0.01))"
   ]
  },
  {
   "cell_type": "code",
   "execution_count": null,
   "metadata": {
    "tags": []
   },
   "outputs": [],
   "source": [
    "# Plot arm with target\n",
    "fig, axs = plt.subplots(1, 1, figsize=(6, 6))\n",
    "plot_complete_arm(axs, arm_geometry_optimized)\n",
    "axs.plot(target[0], target[1], '+g', markersize=20)"
   ]
  },
  {
   "cell_type": "code",
   "execution_count": null,
   "metadata": {
    "deletable": false,
    "editable": false
   },
   "outputs": [],
   "source": [
    "grader.check(\"do_fmin\")"
   ]
  },
  {
   "cell_type": "markdown",
   "metadata": {
    "deletable": false,
    "editable": false
   },
   "source": [
    "# Generalization\n",
    "\n",
    "If nothing has been \"hardwired\" in, this should just work - changing the geometry, the starting angles, the target point. However, if you've hardwired something in, it probably won't..."
   ]
  },
  {
   "cell_type": "code",
   "execution_count": null,
   "metadata": {
    "tags": []
   },
   "outputs": [],
   "source": [
    "# Create the arm geometry\n",
    "base_size_param = (0.5, 0.25) # squished\n",
    "link_sizes_param = [(0.3, 0.15), (0.2, 0.09), (0.1, 0.05), (0.075, 0.03)]\n",
    "palm_width_param = 0.15\n",
    "finger_size_param = (0.085, 0.015)\n",
    "longer_finger_grasp_perc = 0.75\n",
    "\n",
    "\n",
    "# This function calls each of the set_transform_xxx functions, and puts the results\n",
    "# in a list (the gripper - the last element - is a list)\n",
    "arm_longer = create_arm_geometry(base_size_param, link_sizes_param, palm_width_param, finger_size_param)\n",
    "\n",
    "# Set the angles of the arm\n",
    "angles_start_longer = [-np.pi/4.0, -np.pi/4, 1.2 * np.pi/4, -1 * np.pi/8, [-np.pi/3.0, np.pi/6.0, -np.pi/6.0]]\n",
    "set_matrices_all_components(arm_longer, angles_start_longer)\n",
    "\n",
    "target_longer = np.array([0.3, -0.15])"
   ]
  },
  {
   "cell_type": "code",
   "execution_count": null,
   "metadata": {
    "tags": []
   },
   "outputs": [],
   "source": [
    "# Plot arm with target\n",
    "fig, axs = plt.subplots(1, 1, figsize=(8, 8))\n",
    "plot_complete_arm(axs, arm_longer)\n",
    "axs.plot(target_longer[0], target_longer[1], '+g', markersize=20)"
   ]
  },
  {
   "cell_type": "code",
   "execution_count": null,
   "metadata": {
    "tags": []
   },
   "outputs": [],
   "source": [
    "# Do the optimization\n",
    "arm_longer_optimized = do_fmin(angles_start_longer, arm_longer, longer_finger_grasp_perc, target_longer)"
   ]
  },
  {
   "cell_type": "code",
   "execution_count": null,
   "metadata": {
    "tags": []
   },
   "outputs": [],
   "source": [
    "# Plot arm with target\n",
    "fig, axs = plt.subplots(1, 1, figsize=(8, 8))\n",
    "plot_complete_arm(axs, arm_longer_optimized)\n",
    "axs.plot(target_longer[0], target_longer[1], '+g', markersize=20)"
   ]
  },
  {
   "cell_type": "code",
   "execution_count": null,
   "metadata": {
    "tags": []
   },
   "outputs": [],
   "source": [
    "assert(np.isclose(get_gripper_location(arm_longer_optimized, longer_finger_grasp_perc)[0], target_longer[0], atol=0.01))\n",
    "assert(np.isclose(get_gripper_location(arm_longer_optimized, longer_finger_grasp_perc)[1], target_longer[1], atol=0.01))"
   ]
  },
  {
   "cell_type": "code",
   "execution_count": null,
   "metadata": {
    "deletable": false,
    "editable": false
   },
   "outputs": [],
   "source": [
    "grader.check(\"generalization\")"
   ]
  },
  {
   "cell_type": "markdown",
   "metadata": {
    "deletable": false,
    "editable": false
   },
   "source": [
    "## Hours and collaborators\n",
    "Required for every assignment - fill out before you hand-in.\n",
    "\n",
    "Listing names and websites helps you to document who you worked with and what internet help you received in the case of any plagiarism issues. You should list names of anyone (in class or not) who has substantially helped you with an assignment - or anyone you have *helped*. You do not need to list TAs.\n",
    "\n",
    "Listing hours helps us track if the assignments are too long."
   ]
  },
  {
   "cell_type": "code",
   "execution_count": null,
   "metadata": {
    "tags": []
   },
   "outputs": [],
   "source": [
    "\n",
    "# List of names (creates a set)\n",
    "worked_with_names = {\"Zander Ray, \"}\n",
    "# List of URLS TAF4 (creates a set)\n",
    "websites = {\"not filled out\"}\n",
    "# Approximate number of hours, including lab/in-class time\n",
    "hours = -1.5"
   ]
  },
  {
   "cell_type": "code",
   "execution_count": null,
   "metadata": {
    "deletable": false,
    "editable": false
   },
   "outputs": [],
   "source": [
    "grader.check(\"hours_collaborators\")"
   ]
  },
  {
   "cell_type": "markdown",
   "metadata": {},
   "source": [
    "### To submit\n",
    "\n",
    "(Did you read me?)\n",
    "\n",
    "- Submit this .ipynb file AND arm_component.py. If you don't include arm_component.py Gradescope cannot magically reach out to your computer and find our it.\n",
    "- We will supply matrix_routines.py for you (it won't break anything if you do include it)\n",
    "\n",
    "If the Gradescope autograder fails, please check here first for common reasons for it to fail\n",
    "    https://docs.google.com/presentation/d/1tYa5oycUiG4YhXUq5vHvPOpWJ4k_xUPp2rUNIL7Q9RI/edit?usp=sharing\n",
    "\n",
    "Lots of people forget arm_component.py. Please check your autograder score to see if you are one of them.\n",
    "\n",
    "Make sure you remove all the print statements you put in that print out lots of stuff."
   ]
  }
 ],
 "metadata": {
  "kernelspec": {
   "display_name": "Python 3",
   "language": "python",
   "name": "python3"
  },
  "language_info": {
   "codemirror_mode": {
    "name": "ipython",
    "version": 3
   },
   "file_extension": ".py",
   "mimetype": "text/x-python",
   "name": "python",
   "nbconvert_exporter": "python",
   "pygments_lexer": "ipython3",
   "version": "3.12.7"
  },
  "otter": {
   "OK_FORMAT": true,
   "tests": {
    "build_arm": {
     "name": "build_arm",
     "points": 3,
     "suites": [
      {
       "cases": [
        {
         "code": ">>> assert get_n_links(arm_geometry_fk) == 3\n",
         "hidden": false,
         "locked": false
        },
        {
         "code": ">>> assert np.all(np.isclose(get_base(arm_geometry_fk).get_shape_matrix(), mat_base_check))\n",
         "hidden": false,
         "locked": false
        },
        {
         "code": ">>> for i, m in enumerate([mat_link1_check, mat_link2_check, mat_link3_check]):\n...     assert np.all(np.isclose(get_link(arm_geometry_fk, i).get_shape_matrix(), m))\n",
         "hidden": false,
         "locked": false
        },
        {
         "code": ">>> for i, m in enumerate([mat_palm_check, mat_finger_top_check, mat_finger_bot_check]):\n...     assert np.all(np.isclose(get_gripper(arm_geometry_fk)[i].get_shape_matrix(), m))\n",
         "hidden": false,
         "locked": false
        }
       ],
       "scored": true,
       "setup": "",
       "teardown": "",
       "type": "doctest"
      }
     ]
    },
    "do_fmin": {
     "name": "do_fmin",
     "points": 0,
     "suites": [
      {
       "cases": [
        {
         "code": ">>> assert np.isclose(get_gripper_location(arm_geometry_optimized, perc_along_fingers_reach)[0], target[0], atol=0.01)\n",
         "hidden": false,
         "locked": false
        },
        {
         "code": ">>> assert np.isclose(get_gripper_location(arm_geometry_optimized, perc_along_fingers_reach)[1], target[1], atol=0.01)\n",
         "hidden": false,
         "locked": false
        }
       ],
       "scored": true,
       "setup": "",
       "teardown": "",
       "type": "doctest"
      }
     ]
    },
    "forward_ik": {
     "name": "forward_ik",
     "points": 4,
     "suites": [
      {
       "cases": [
        {
         "code": ">>> assert get_n_links(arm_geometry_fk) == 3\n",
         "hidden": false,
         "locked": false
        },
        {
         "code": ">>> assert np.all(np.isclose(get_base(arm_geometry_fk).get_pose_matrix(), mat_check_base, atol=0.01))\n",
         "hidden": false,
         "locked": false
        },
        {
         "code": ">>> for ilink, m in enumerate((mat_check_link_1, mat_check_link_2, mat_check_link_3)):\n...     assert np.all(np.isclose(get_link(arm_geometry_fk, ilink).get_pose_matrix(), m, atol=0.01))\n",
         "hidden": false,
         "locked": false
        },
        {
         "code": ">>> assert np.all(np.isclose(get_gripper(arm_geometry_fk)[0].get_pose_matrix(), mat_check_wrist, atol=0.01))\n",
         "hidden": false,
         "locked": false
        }
       ],
       "scored": true,
       "setup": "",
       "teardown": "",
       "type": "doctest"
      }
     ]
    },
    "generalization": {
     "name": "generalization",
     "points": 4,
     "suites": [
      {
       "cases": [
        {
         "code": ">>> assert np.isclose(get_gripper_location(arm_longer_optimized, longer_finger_grasp_perc)[0], target_longer[0], atol=0.01)\n",
         "hidden": false,
         "locked": false
        },
        {
         "code": ">>> assert np.isclose(get_gripper_location(arm_longer_optimized, longer_finger_grasp_perc)[1], target_longer[1], atol=0.01)\n",
         "hidden": false,
         "locked": false
        }
       ],
       "scored": true,
       "setup": "",
       "teardown": "",
       "type": "doctest"
      }
     ]
    },
    "generalization_check": {
     "name": "generalization_check",
     "points": 5,
     "suites": [
      {
       "cases": [
        {
         "code": ">>> assert np.all(np.isclose(grasp_loc_longer_check, (0.5722, 0.811941), atol=0.01))\n",
         "hidden": false,
         "locked": false
        }
       ],
       "scored": true,
       "setup": "",
       "teardown": "",
       "type": "doctest"
      }
     ]
    },
    "gripper_loc": {
     "name": "gripper_loc",
     "points": 2,
     "suites": [
      {
       "cases": [
        {
         "code": ">>> assert np.isclose(grasp_loc_check[0], -0.8106, atol=0.01) and np.isclose(grasp_loc_check[1], 0.92437, atol=0.01)\n",
         "hidden": false,
         "locked": false
        }
       ],
       "scored": true,
       "setup": "",
       "teardown": "",
       "type": "doctest"
      }
     ]
    },
    "hours_collaborators": {
     "name": "hours_collaborators",
     "points": 1,
     "suites": [
      {
       "cases": [
        {
         "code": ">>> assert not 'not filled out' in worked_with_names\n",
         "hidden": false,
         "locked": false
        },
        {
         "code": ">>> assert not 'not filled out' in websites\n",
         "hidden": false,
         "locked": false
        },
        {
         "code": ">>> assert hours > 0\n",
         "hidden": false,
         "locked": false
        }
       ],
       "scored": true,
       "setup": "",
       "teardown": "",
       "type": "doctest"
      }
     ]
    },
    "optimization_dist_func": {
     "name": "optimization_dist_func",
     "points": 5,
     "suites": [
      {
       "cases": [
        {
         "code": ">>> assert np.isclose(dist, 0.0, atol=0.01)\n",
         "hidden": false,
         "locked": false
        },
        {
         "code": ">>> assert dist_far_away > 0.0\n",
         "hidden": false,
         "locked": false
        }
       ],
       "scored": true,
       "setup": "",
       "teardown": "",
       "type": "doctest"
      }
     ]
    }
   }
  }
 },
 "nbformat": 4,
 "nbformat_minor": 2
}
