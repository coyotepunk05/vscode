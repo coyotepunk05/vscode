{
 "cells": [
  {
   "cell_type": "markdown",
   "metadata": {},
   "source": [
    "# Circle class\n",
    "\n",
    "Create a class named Circle that takes as input a radius when it is created, and has two methods, one that returns the area of the circle, the other that returns the perimeter. "
   ]
  },
  {
   "cell_type": "code",
   "execution_count": null,
   "metadata": {},
   "outputs": [],
   "source": [
    "import numpy as np"
   ]
  },
  {
   "cell_type": "code",
   "execution_count": null,
   "metadata": {},
   "outputs": [],
   "source": [
    "# Define the class with two methods"
   ]
  },
  {
   "cell_type": "markdown",
   "metadata": {},
   "source": [
    "Write code to create two circles, one with radius 1 and one with radius 2 and print out their area and circumference"
   ]
  },
  {
   "cell_type": "code",
   "execution_count": null,
   "metadata": {},
   "outputs": [],
   "source": [
    "# Create two instances here and print"
   ]
  },
  {
   "cell_type": "markdown",
   "metadata": {},
   "source": [
    "[optional-fancy] If you stick the two class instances in a list, you can print them both out with a **for** loop..."
   ]
  },
  {
   "cell_type": "code",
   "execution_count": null,
   "metadata": {},
   "outputs": [],
   "source": [
    "# Print with for loop"
   ]
  },
  {
   "cell_type": "markdown",
   "metadata": {},
   "source": [
    "# Answers"
   ]
  },
  {
   "cell_type": "code",
   "execution_count": null,
   "metadata": {},
   "outputs": [],
   "source": [
    "class Circle:\n",
    "    \"\"\"\n",
    "    A 2d circle.\n",
    "    \"\"\"\n",
    "\n",
    "    def __init__(self, radius):\n",
    "        \"\"\"\n",
    "        Constructor.\n",
    "        :param radius: The circle radius.\n",
    "        \"\"\"\n",
    "        # We're not going to allow a negative radius.\n",
    "        if radius < 0:\n",
    "            raise ValueError('Circle: Radius must be non-negative')\n",
    "\n",
    "        self.radius = radius\n",
    "\n",
    "    def __str__(self):\n",
    "        return 'Circle({0})'.format(self.radius)\n",
    "\n",
    "    def area(self):\n",
    "        \"\"\"\n",
    "        Circle radius.\n",
    "        :return: The radius of the circle.\n",
    "        \"\"\"\n",
    "        return np.pi * self.radius ** 2\n",
    "\n",
    "    def circumference(self):\n",
    "        \"\"\"\n",
    "        The circumference of the circle.\n",
    "        :return: The circle circumference.\n",
    "        \"\"\"\n",
    "        return 2 * np.pi * self.radius\n"
   ]
  },
  {
   "cell_type": "markdown",
   "metadata": {},
   "source": [
    "# Create the two instances"
   ]
  },
  {
   "cell_type": "code",
   "execution_count": null,
   "metadata": {},
   "outputs": [],
   "source": [
    "c1 = Circle(1.0)\n",
    "c2 = Circle(2.0)"
   ]
  },
  {
   "cell_type": "markdown",
   "metadata": {},
   "source": [
    "Fancyness"
   ]
  },
  {
   "cell_type": "code",
   "execution_count": null,
   "metadata": {},
   "outputs": [],
   "source": [
    "# Since the circles are just... objects, we can stick them in a list\n",
    "shapes = [c1, c2]\n",
    "for s in shapes:\n",
    "    print(f\"{s}: area is {s.area():0.2f}, circumference is {s.circumference():0.2f}\")"
   ]
  }
 ],
 "metadata": {
  "kernelspec": {
   "display_name": "Python 3",
   "language": "python",
   "name": "python3"
  },
  "language_info": {
   "codemirror_mode": {
    "name": "ipython",
    "version": 3
   },
   "file_extension": ".py",
   "mimetype": "text/x-python",
   "name": "python",
   "nbconvert_exporter": "python",
   "pygments_lexer": "ipython3",
   "version": "3.7.3"
  }
 },
 "nbformat": 4,
 "nbformat_minor": 2
}
