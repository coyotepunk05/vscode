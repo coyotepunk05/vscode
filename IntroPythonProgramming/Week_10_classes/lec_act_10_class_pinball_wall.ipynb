{
 "cells": [
  {
   "cell_type": "code",
   "execution_count": null,
   "metadata": {
    "deletable": false,
    "editable": false
   },
   "outputs": [],
   "source": [
    "# Initialize Otter\n",
    "import otter\n",
    "grader = otter.Notebook(\"lec_act_10_class_pinball_wall.ipynb\")"
   ]
  },
  {
   "cell_type": "markdown",
   "metadata": {},
   "source": [
    "# Creating a pinball wall class\n",
    "\n",
    "Extend the wall class from the tutorial to do two new things\n",
    "- Reflect off of the wall [vertical/horizontal, general is optional]\n",
    "- Plot self\n",
    "\n",
    "The code is in **pinball_wall.py**"
   ]
  },
  {
   "cell_type": "code",
   "execution_count": null,
   "metadata": {},
   "outputs": [],
   "source": [
    "# Doing the imports for you\n",
    "import numpy as np\n",
    "import matplotlib.pyplot as plt"
   ]
  },
  {
   "cell_type": "code",
   "execution_count": null,
   "metadata": {},
   "outputs": [],
   "source": [
    "# These commands will force JN to actually re-load the external file when you re-execute the import command\n",
    "%load_ext autoreload\n",
    "%autoreload 2"
   ]
  },
  {
   "cell_type": "markdown",
   "metadata": {
    "deletable": false,
    "editable": false
   },
   "source": [
    "# Add reflect to wall code\n",
    "\n",
    "In this problem, fill in **reflect** method in **PinballWall** in **pinball_wall.py**.\n",
    "\n",
    "You're welcome to create more class variables in the **__init__** function or add more methods\n",
    "\n",
    "TODO: \n",
    "- reflect (this question)\n",
    "- test_reflect (next question)\n",
    "- plot (last question)"
   ]
  },
  {
   "cell_type": "code",
   "execution_count": null,
   "metadata": {
    "tags": []
   },
   "outputs": [],
   "source": [
    "# You can import classes just like you import functions\n",
    "from pinball_wall import PinballWall"
   ]
  },
  {
   "cell_type": "code",
   "execution_count": null,
   "metadata": {
    "tags": []
   },
   "outputs": [],
   "source": [
    "# Create instances and call test functions\n",
    "# Now create two instances of the class\n",
    "# Notice that we do NOT pass in a self variable\n",
    "my_vert_wall = PinballWall(wall_type=\"Vertical\", intercept_value=.2)\n",
    "my_horiz_wall = PinballWall(wall_type=\"Horizontal\", intercept_value=.2)\n",
    "\n",
    "# Print them both - this will call the string function\n",
    "print(f\"Vertical wall: {my_vert_wall}\")\n",
    "print(f\"Horizontal wall: {my_horiz_wall}\")\n",
    "\n",
    "# TODO check your reflect function here"
   ]
  },
  {
   "cell_type": "code",
   "execution_count": null,
   "metadata": {
    "deletable": false,
    "editable": false
   },
   "outputs": [],
   "source": [
    "grader.check(\"class_defn\")"
   ]
  },
  {
   "cell_type": "markdown",
   "metadata": {
    "deletable": false,
    "editable": false
   },
   "source": [
    "# Write a test reflect function\n",
    "\n",
    "TODO: Create some tests in the **test_reflect** method. "
   ]
  },
  {
   "cell_type": "code",
   "execution_count": null,
   "metadata": {
    "tags": []
   },
   "outputs": [],
   "source": [
    "# Call the test function\n",
    "assert my_vert_wall.test_reflect()"
   ]
  },
  {
   "cell_type": "code",
   "execution_count": null,
   "metadata": {
    "deletable": false,
    "editable": false
   },
   "outputs": [],
   "source": [
    "grader.check(\"test_reflect\")"
   ]
  },
  {
   "cell_type": "markdown",
   "metadata": {
    "deletable": false,
    "editable": false
   },
   "source": [
    "# Fill in the plot function \n",
    "\n",
    "TODO: Fill in the plot function\n",
    "\n",
    "Slanted lines are optional for this assignment"
   ]
  },
  {
   "cell_type": "code",
   "execution_count": null,
   "metadata": {
    "tags": []
   },
   "outputs": [],
   "source": [
    "def plot_check(axs):\n",
    "    # The values we calculated in calculate_n_time_steps\n",
    "    left = -4.0\n",
    "    right = 4.0\n",
    "    height = 10.0\n",
    "\n",
    "    axs.plot([left, right], [height, height], color='grey', linestyle=\"dotted\")\n",
    "    axs.plot([left, right], [0, 0], color='grey', linestyle=\"dotted\")\n",
    "    axs.plot([left, left], [0, height], color='grey', linestyle=\"dotted\")\n",
    "    axs.plot([right, right], [0, height], color='grey', linestyle=\"dotted\")\n",
    "\n",
    "    walls = []\n",
    "    walls.append(PinballWall(\"Vertical\", -3.0))\n",
    "    walls.append(PinballWall(\"Vertical\", 3.0))\n",
    "    walls.append(PinballWall(\"Horizontal\", 8.0))\n",
    "    walls.append(PinballWall(\"General\", a_b_c=[0.5, 0.5, 1.0]))\n",
    "    walls.append(PinballWall(\"General\", a_b_c=[-0.5, 0.5, 1.0]))\n",
    "    for w in walls:\n",
    "        w.plot(axs, left, right, height)\n",
    "\n",
    "    axs.axis('equal')\n",
    "    axs.set_title(f\"Pinball walls\")"
   ]
  },
  {
   "cell_type": "code",
   "execution_count": null,
   "metadata": {
    "tags": []
   },
   "outputs": [],
   "source": [
    "nrows = 1\n",
    "ncols = 1\n",
    "fig, axs = plt.subplots(nrows, ncols, figsize=(4, 4))\n",
    "\n",
    "plot_check(axs)"
   ]
  },
  {
   "cell_type": "code",
   "execution_count": null,
   "metadata": {
    "deletable": false,
    "editable": false
   },
   "outputs": [],
   "source": [
    "grader.check(\"Plot_wall\")"
   ]
  },
  {
   "cell_type": "markdown",
   "metadata": {
    "deletable": false,
    "editable": false
   },
   "source": [
    "## Hours and collaborators\n",
    "Required for every assignment - fill out before you hand-in.\n",
    "\n",
    "Listing names and websites helps you to document who you worked with and what internet help you received in the case of any plagiarism issues. You should list names of anyone (in class or not) who has substantially helped you with an assignment - or anyone you have *helped*. You do not need to list TAs.\n",
    "\n",
    "Listing hours helps us track if the assignments are too long."
   ]
  },
  {
   "cell_type": "code",
   "execution_count": null,
   "metadata": {
    "tags": []
   },
   "outputs": [],
   "source": [
    "\n",
    "# List of names (creates a set)\n",
    "worked_with_names = {\"not filled out\"}\n",
    "# List of URLS I25 (creates a set)\n",
    "websites = {\"not filled out\"}\n",
    "# Approximate number of hours, including lab/in-class time\n",
    "hours = -1.5"
   ]
  },
  {
   "cell_type": "code",
   "execution_count": null,
   "metadata": {
    "deletable": false,
    "editable": false
   },
   "outputs": [],
   "source": [
    "grader.check(\"hours_collaborators\")"
   ]
  },
  {
   "cell_type": "markdown",
   "metadata": {},
   "source": [
    "### To submit\n",
    "\n",
    "Make sure you include any .py files you are importing (pinball_wall.py).\n",
    "\n",
    "- Submit this .ipynb file and all .py files you are using to Lecture activity 10: Classes\n",
    "\n",
    "If the Gradescope autograder fails, please check here first for common reasons for it to fail\n",
    "    https://docs.google.com/presentation/d/1tYa5oycUiG4YhXUq5vHvPOpWJ4k_xUPp2rUNIL7Q9RI/edit?usp=sharing\n",
    "\n",
    "The primary problem with this submission is forgetting the .py files..."
   ]
  }
 ],
 "metadata": {
  "kernelspec": {
   "display_name": "Python 3",
   "language": "python",
   "name": "python3"
  },
  "language_info": {
   "codemirror_mode": {
    "name": "ipython",
    "version": 3
   },
   "file_extension": ".py",
   "mimetype": "text/x-python",
   "name": "python",
   "nbconvert_exporter": "python",
   "pygments_lexer": "ipython3",
   "version": "3.11.7"
  },
  "otter": {
   "OK_FORMAT": true,
   "tests": {
    "Plot_wall": {
     "name": "Plot_wall",
     "points": 1,
     "suites": [
      {
       "cases": [
        {
         "code": ">>> plot_check(axs)\n",
         "hidden": false,
         "locked": false
        }
       ],
       "scored": true,
       "setup": "",
       "teardown": "",
       "type": "doctest"
      }
     ]
    },
    "class_defn": {
     "name": "class_defn",
     "points": 2,
     "suites": [
      {
       "cases": [
        {
         "code": ">>> assert my_vert_wall.inside(my_vert_wall.reflect([0.25, 0.0], [1, 0])[0])\n",
         "hidden": false,
         "locked": false
        },
        {
         "code": ">>> assert my_vert_wall.reflect([0.25, 0.0], [1, 0])[1][0] < 0\n",
         "hidden": false,
         "locked": false
        }
       ],
       "scored": true,
       "setup": "",
       "teardown": "",
       "type": "doctest"
      }
     ]
    },
    "hours_collaborators": {
     "name": "hours_collaborators",
     "points": 1,
     "suites": [
      {
       "cases": [
        {
         "code": ">>> assert not 'not filled out' in worked_with_names\n",
         "hidden": false,
         "locked": false
        },
        {
         "code": ">>> assert not 'not filled out' in websites\n",
         "hidden": false,
         "locked": false
        },
        {
         "code": ">>> assert hours > 0\n",
         "hidden": false,
         "locked": false
        }
       ],
       "scored": true,
       "setup": "",
       "teardown": "",
       "type": "doctest"
      }
     ]
    },
    "test_reflect": {
     "name": "test_reflect",
     "points": 2,
     "suites": [
      {
       "cases": [
        {
         "code": ">>> assert my_vert_wall.test_reflect()\n",
         "hidden": false,
         "locked": false
        }
       ],
       "scored": true,
       "setup": "",
       "teardown": "",
       "type": "doctest"
      }
     ]
    }
   }
  }
 },
 "nbformat": 4,
 "nbformat_minor": 2
}
